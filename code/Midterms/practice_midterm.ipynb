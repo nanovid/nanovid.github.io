{
 "cells": [
  {
   "cell_type": "markdown",
   "metadata": {},
   "source": [
    "# NE111 Midterm \n",
    "\n",
    "**Aids:** None\n",
    "\n",
    "**Length**: 60 minutes\n",
    "\n",
    "**Instructions**\n",
    "\n",
    "1. Complete exam identification information in the following cell.\n",
    "2. Complete exam problems by assigning solutions to variable `problemX` where `X` is the problem number. **Placeholder values have been included which need to be replaced by your answers!**\n",
    "3. Periodically save your result to disk (CTRL-S).\n",
    "4. When finished export to a Python script (File->Download as->Python (.py))\n",
    "5. Upload your Python script file `practice_midterm.py` using the following link [https://ne111.uwaterloo.ca/upload/?exam=1](https://ne111.uwaterloo.ca/upload/?exam=1)"
   ]
  },
  {
   "cell_type": "code",
   "execution_count": 2,
   "metadata": {},
   "outputs": [],
   "source": [
    "# Enter your full name and student ID as strings\n",
    "Student_Name = \"\"\n",
    "Student_ID = \"\"\n"
   ]
  },
  {
   "cell_type": "markdown",
   "metadata": {},
   "source": [
    "#### Problem 1 (True or False, 2 points) \n",
    "\n",
    "The following code contains a bug:\n",
    "\n",
    "```python\n",
    "def is_positive_number(value):\n",
    "    # checks if the argument is both numeric and positive\n",
    "    if  (type(value) == int) and (num > 0):\n",
    "        return(True)\n",
    "        \n",
    "    return(False)\n",
    "    \n",
    "result = is_positive_integer(-1)\n",
    "```"
   ]
  },
  {
   "cell_type": "code",
   "execution_count": null,
   "metadata": {},
   "outputs": [],
   "source": [
    "problem1 =  None # True or False"
   ]
  },
  {
   "cell_type": "markdown",
   "metadata": {},
   "source": [
    "#### Problem 2 (Multiple Choice, 2 points)\n",
    "\n",
    "Which of the following numeric type conversions are *inexact* -- the type conversion will possibly result in loss of information/precision (select all that apply).\n",
    "\n",
    "a. `int` to `float`\n",
    "\n",
    "b. `float` to `int`\n",
    "\n",
    "c. `complex` to `int` \n",
    "\n",
    "d. `complex` to `float`\n",
    "\n",
    "e. `float` to `complex`"
   ]
  },
  {
   "cell_type": "code",
   "execution_count": null,
   "metadata": {},
   "outputs": [],
   "source": [
    "problem2 =  '' # 'a', 'b', 'cd', 'ace', etc"
   ]
  },
  {
   "cell_type": "markdown",
   "metadata": {},
   "source": [
    "#### Problem 3 (True or False, 2 points) \n",
    "\n",
    "The following code does not contain errors:\n",
    "\n",
    "```python\n",
    "input_value = input(\"Input a numeric value: \")\n",
    "\n",
    "if type(input_value) == float:\n",
    "    numeric_value = float(input_value)\n",
    "else:\n",
    "    print(\"Input value was not numeric!\")\n",
    "```"
   ]
  },
  {
   "cell_type": "code",
   "execution_count": null,
   "metadata": {},
   "outputs": [],
   "source": [
    "problem3 =  None # True or False"
   ]
  },
  {
   "cell_type": "markdown",
   "metadata": {},
   "source": [
    "#### Problem 4 (Multiple Choice, 2 points)\n",
    "\n",
    "When a function is called a new namespace is created. Prior to the interpreter executing the function's code body, its namespace is populated with:\n",
    "\n",
    "a. Variables referencing each object passed as function arguments.\n",
    "\n",
    "b. Variables referencing each object passed as function arguments and any variables present in the namespace in which the function was declared.\n",
    "\n",
    "c. Nothing"
   ]
  },
  {
   "cell_type": "code",
   "execution_count": null,
   "metadata": {},
   "outputs": [],
   "source": [
    "problem4 = '' # 'a', 'b', or 'c'"
   ]
  },
  {
   "cell_type": "markdown",
   "metadata": {},
   "source": [
    "#### Problem 5 (True or False, 2 points)\n",
    "\n",
    "`if` statements in Python that include an `elif` clause *must* include an `else` clause."
   ]
  },
  {
   "cell_type": "code",
   "execution_count": null,
   "metadata": {},
   "outputs": [],
   "source": [
    "problem5 = None # True or False"
   ]
  },
  {
   "cell_type": "markdown",
   "metadata": {},
   "source": [
    "#### Problem 6 (2 points)\n",
    "\n",
    "Given the boolean variables `bool1`, `bool2`, and `bool3`, assign the result of a logical expression:\n",
    "\n",
    "\"Either `bool1` or `bool2` is True and `bool3` is False\"\n",
    "\n",
    "to `problem6`. Use the *exclusive or* in the above statement."
   ]
  },
  {
   "cell_type": "code",
   "execution_count": null,
   "metadata": {},
   "outputs": [],
   "source": [
    "problem6 = None"
   ]
  },
  {
   "cell_type": "markdown",
   "metadata": {},
   "source": [
    "#### Problem 7 (4 points)\n",
    "\n",
    "Create a function `problem7(num1, num2, flag)` that returns the result of multiplying `num1` by `num2` if `flag` is `True`, returns the the result of dividing `num1` by `num2` if `flag` is `False`, and returns `None` if `flag` is not of type `bool`."
   ]
  },
  {
   "cell_type": "code",
   "execution_count": null,
   "metadata": {},
   "outputs": [],
   "source": [
    "def problem7(num1, num2, flag):\n",
    "    # your code here, no docstring needed\n",
    "    pass"
   ]
  },
  {
   "cell_type": "markdown",
   "metadata": {},
   "source": [
    "#### Problem 8 (4 points)\n",
    "\n",
    "Create a function `problem8(input_value)` that returns the `True` if `input_value` is a string which contains any of the special characters:\n",
    "\n",
    "|**Escape Sequence**|**Description**|\n",
    "|-------------------|---------------|\n",
    "|\\'                 |single quote   |\n",
    "|\\\"                 |double quote   |\n",
    "|\\\\\\                 |backslash      |\n",
    "|\\t                 |tab            |\n",
    "|\\n                 |newline        |\n",
    "|\\r                 |carriage return|\n",
    "\n",
    "returns `False` if it does not, and returns `None` if `input_value` is invalid input."
   ]
  },
  {
   "cell_type": "code",
   "execution_count": null,
   "metadata": {},
   "outputs": [],
   "source": [
    "def problem8(input_value):\n",
    "    # your code here, no docstring needed\n",
    "    pass"
   ]
  }
 ],
 "metadata": {
  "kernelspec": {
   "display_name": "Python 3",
   "language": "python",
   "name": "python3"
  },
  "language_info": {
   "codemirror_mode": {
    "name": "ipython",
    "version": 3
   },
   "file_extension": ".py",
   "mimetype": "text/x-python",
   "name": "python",
   "nbconvert_exporter": "python",
   "pygments_lexer": "ipython3",
   "version": "3.7.3"
  }
 },
 "nbformat": 4,
 "nbformat_minor": 1
}
