{
 "cells": [
  {
   "cell_type": "markdown",
   "metadata": {},
   "source": [
    "# NE111 Final Fall 2016\n",
    "\n",
    "\n",
    "**Aids:** Paper, pen or pencil\n",
    "\n",
    "**Instructions (in addition to those on LEARN)**\n",
    "\n",
    "\n",
    "1. Complete exam identification information in the following cell.\n",
    "2. Complete exam problems by assigning solutions to variable `problemX` where `X` is the problem number.\n",
    "3. Periodically save your result to disk (CTRL-S).\n",
    "4. When finished export to a Python script (File->Download as->Python (.py)) into your current working directory.\n",
    "5. Validate the exam submission by executing the Python script file in your working directory from Step 4:\n",
    "`python final.py`\n",
    "6. If successful, upload your Python script file `final.py` using the following link [https://ne111.uwaterloo.ca/upload?exam=2]( https://ne111.uwaterloo.ca/upload?exam=2) and confirm the upload was successful (exercise output page).\n",
    "7. Save the completed final files (*.ipynb and *.py) in your network drive (N: drive)."
   ]
  },
  {
   "cell_type": "code",
   "execution_count": null,
   "metadata": {
    "collapsed": false
   },
   "outputs": [],
   "source": [
    "# Enter your full name and student ID as strings\n",
    "Student_Name = \"\"\n",
    "Student_ID = \"\"\n",
    "\n",
    "# you may modify this line if your prefer to import numpy\n",
    "# in a different way\n",
    "import numpy\n",
    "\n",
    "# do not modify these lines, *execute this code block prior to solving the exam*\n",
    "import validate_final"
   ]
  },
  {
   "cell_type": "markdown",
   "metadata": {},
   "source": [
    "#### Problem 1 (multiple choice, 10 points, 1 point each) \n",
    "\n",
    "I. Which of the following types are examples of collections?\n",
    "\n",
    "   (a) `list`    (b) `str`     (c) `bool`     (d) `tuple`     (e) `dict`\n",
    "\n",
    "II. (True or False) Given a `list` of length `N`, the minimum index that can be used to access an item of the list is $-(N-1)$. \n",
    "\n",
    "III. (True or False) The NumPy module's `save()` function accepts as input both `ndarray` and `matrix` objects.\n",
    "\n",
    "IV. Given the `shape` attributes of various pairs of NumPy arrays, select those\n",
    "for which binary operators can broadcast:\n",
    "\n",
    "   (a) `(1, 2)` and `(2, 1)`    (b) `(4, 5, 6)` and `(6, 5)`     (c) `(4, 5)` and `(5,)`\n",
    "\n",
    "V. (True or False) The following code contains a semantic error:\n",
    "```python\n",
    "def print_n_times(message, n):\n",
    "\n",
    "    if type(message) != str or n <=0:\n",
    "        print(\"Invalid argument(s).\")\n",
    "    \n",
    "    return\n",
    "    \n",
    "    for i in range(n):\n",
    "        print(message)\n",
    "```\n",
    "        \n",
    "VI. (True or False) Binary search is always more efficient than linear search for both sorted and unsorted lists.\n",
    "\n",
    "VII. Select the Python operators (if any) which can be used to implement *exclusive or* behaviour for two boolean variables `x` and `y`:\n",
    "\n",
    "   (a) `x == y`    (b) `x != y`   (c) `not (x or y)`    (d) `x xor y`\n",
    "\n",
    "VIII. Which of the following types are immutable?\n",
    "\n",
    "   (a) `list`    (b) `str`     (c) `float`     (d) `tuple`     (e) `dict`\n",
    "\n",
    "IX. (True or False) For a list `mylist`, calling `mylist.sort()` and `sorted(mylist)` are equivalent.\n",
    "\n",
    "X. Select the cases where it would be advantageous to store the data in a vector image format (as opposed to a bitmap image format):\n",
    "\n",
    "   (a) Flowcharts   (b) One-dimensional plots   (c) Satellite images   (d) Text"
   ]
  },
  {
   "cell_type": "code",
   "execution_count": null,
   "metadata": {
    "collapsed": false
   },
   "outputs": [],
   "source": [
    "problem1I =    # 'a', 'ab', 'abc', etc\n",
    "problem1II =   # True or False\n",
    "problem1III =  # True or False\n",
    "problem1IV =   # 'a', 'ab', 'abc', etc\n",
    "problem1V =    # True or False\n",
    "problem1VI =    # True or False\n",
    "problem1VII =   # 'a', 'ab', 'abc', etc\n",
    "problem1VIII =  # 'a', 'ab', 'abc', etc\n",
    "problem1IX =   # True or False\n",
    "problem1X =    # 'a', 'ab', 'abc', etc\n",
    "\n",
    "# do not modify below this line\n",
    "problem1 = [problem1I, problem1II, problem1III, problem1IV, problem1V, problem1VI, problem1VII, problem1VIII, problem1IX, problem1X]"
   ]
  },
  {
   "cell_type": "markdown",
   "metadata": {},
   "source": [
    "#### Problem 2 (5 points)\n",
    "\n",
    "Write a function `problem2(array1, array2)` that accepts two `ndarray` arguments and returns `True` if `array1` and `array2` are views of the same data in memory, `False` otherwise.\n",
    "\n",
    "```python\n",
    "> array1 = numpy.array([[1,2],[3,4]])\n",
    "> array2 = numpy.array([[1,2],[3,4]])\n",
    "> array3 = array1[:, 0]\n",
    "> problem2(array1, array2)\n",
    "False\n",
    "> problem2(array1, array3)\n",
    "True\n",
    "```\n",
    "\n",
    "Your should check for valid input arguments, return `None` if invalid arguments are provided."
   ]
  },
  {
   "cell_type": "code",
   "execution_count": null,
   "metadata": {
    "collapsed": false
   },
   "outputs": [],
   "source": [
    "# delete the whole code block if not solving this problem\n",
    "\n",
    "def problem2(array1, array2):\n",
    "    # no docstring needed\n"
   ]
  },
  {
   "cell_type": "markdown",
   "metadata": {},
   "source": [
    "#### Problem 3 (5 points) \n",
    "\n",
    "Write a function `problem3(test_string)` that accepts one `str` object, queries the user for input, and returns `True` if `test_string` is present in the string inputted by the user, else `False`.\n",
    "\n",
    "```python\n",
    "> test_string = \"METALLICA\"\n",
    "> problem3(test_string)\n",
    "# user inputs string \"ANIMALS AS LEADERS!\"\n",
    "False\n",
    "> problem3(test_string)\n",
    "# user inputs string \"METALLICA!\"\n",
    "True\n",
    "```\n",
    "\n",
    "Your should check for valid input arguments, return `None` if an invalid argument is provided."
   ]
  },
  {
   "cell_type": "code",
   "execution_count": null,
   "metadata": {
    "collapsed": false
   },
   "outputs": [],
   "source": [
    "# delete the whole code block if not solving this problem\n",
    "\n",
    "def problem3(test_string):\n",
    "    # no docstring needed\n"
   ]
  },
  {
   "cell_type": "markdown",
   "metadata": {},
   "source": [
    "#### Problem 4 (5 points)\n",
    "\n",
    "Write a function `problem4(pair_list, dictionary)` that accepts a `list` object `pair_list` where each item is a tuple `(key, value)` and a `dict` object `dictionary`. The function should return `True` if every `(key, value)` pair in `pair_list` is present in `dictionary`, `False` otherwise.\n",
    "\n",
    "```python\n",
    "> pair_list1 = [('key2', 'METALLICA'), ('key3', -1)]\n",
    "> pair_list2 = [('key1', 2), ('key4', '!!!!')]\n",
    "> dictionary = {'key1' : 1, 'key2' : 'METALLICA', 'key3' : -1}\n",
    "> problem4(pair_list1, dictionary)\n",
    "True\n",
    "> problem4(pair_list2, dictionary)\n",
    "False\n",
    "```\n",
    "\n",
    "Your should check for valid input arguments, specifically that the input arguments have the correct type, and return `None` if an invalid argument is provided. "
   ]
  },
  {
   "cell_type": "code",
   "execution_count": null,
   "metadata": {
    "collapsed": false
   },
   "outputs": [],
   "source": [
    "# delete the whole code block if not solving this problem\n",
    "\n",
    "def problem4(pair_list, dictionary):\n",
    "    # no docstring needed\n",
    "    "
   ]
  },
  {
   "cell_type": "markdown",
   "metadata": {},
   "source": [
    "#### Problem 5 (5 points)\n",
    "\n",
    "Any square matrix $\\mathbf{A}_{N\\times N}$ may be decomposed into the sum of three components:\n",
    "\n",
    "- $p \\mathbf{I}$ where $p$ is a scalar and $\\mathbf{I}_{N\\times N}$ is the identity matrix\n",
    "- $\\mathbf{S}_{N\\times N}$ which is a symmetric matrix, where $S_{ij} = S_{ji}$\n",
    "- $\\mathbf{W}_{N\\times N}$ which is an anti-symmetric matrix, where $W_{ij} = -W_{ji}$, which requires that the diagonal elements must equal zero $W_{ii} = 0$\n",
    "\n",
    "such that\n",
    "\n",
    "$\\mathbf{A} = p \\mathbf{I} + \\mathbf{S} + \\mathbf{W}$\n",
    "\n",
    "Given input arguments:\n",
    "\n",
    "- `A` a NumPy `matrix` object with shape `(N, N)`\n",
    "- `p` a `float` \n",
    "- `S` a NumPy `matrix` object with shape `(N, N)`\n",
    "- `W` a NumPy `matrix` object with shape `(N, N)`\n",
    "\n",
    "create a function `problem5(A, p, S, W)` which returns `True` if input arguments obey *all* of the properties above, else `False`.\n",
    "\n",
    "You also should check for valid input arguments (type and shape). Return `None` if an invalid argument is provided.\n",
    "\n",
    "```python\n",
    "> p = 1.\n",
    "> S = matrix([[0, -1], [-1, 0]])\n",
    "> W = matrix([[0, 1], [-1, 0]])\n",
    "> A = matrix([[ 1,  0], [-2,  1]])\n",
    "> problem5(A, p, S, W)\n",
    "True\n",
    "> problem5(A, p, W, S)\n",
    "False\n",
    "```"
   ]
  },
  {
   "cell_type": "code",
   "execution_count": null,
   "metadata": {
    "collapsed": false
   },
   "outputs": [],
   "source": [
    "# delete the whole code block if not solving this problem\n",
    "\n",
    "def problem5(A, p, S, W):\n",
    "    # no docstring needed\n"
   ]
  }
 ],
 "metadata": {
  "kernelspec": {
   "display_name": "Python 3",
   "language": "python",
   "name": "python3"
  },
  "language_info": {
   "codemirror_mode": {
    "name": "ipython",
    "version": 3
   },
   "file_extension": ".py",
   "mimetype": "text/x-python",
   "name": "python",
   "nbconvert_exporter": "python",
   "pygments_lexer": "ipython3",
   "version": "3.5.2"
  }
 },
 "nbformat": 4,
 "nbformat_minor": 0
}
