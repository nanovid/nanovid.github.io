{
 "cells": [
  {
   "cell_type": "markdown",
   "metadata": {},
   "source": [
    "# NE111 Final Fall 2017\n",
    "\n",
    "**Aids:** None. You may use tools such as Jupyter Notebook (without opening other files) and iPython, but access to the lecture/exercise content or the Internet is forbidden.\n",
    "\n",
    "**Length**: 2 hours and 30 minutes\n",
    "\n",
    "**Instructions**:\n",
    "\n",
    "*YOU ARE ASSUMED TO HAVE READ THE INSTRUCTIONS ON THE LEARN ANNOUNCEMENT AND ARE NOW ON STEP 6.*\n",
    "\n",
    "1. Complete exam identification information in the following cell.\n",
    "2. Complete exam problems. Each problem will give you instructions on how to complete it properly. **Periodically save your file to disk (CTRL+S).**\n",
    "3. When you are finished, in this notebook, go to File -> Download As -> Python (.py). \n",
    "4. Move the downloaded file from the Downloads folder to N: (in the same folder that you placed `validate_final.py` earlier).\n",
    "5. Validate your exam submission by opening a Command Prompt again, navigating to the N: drive (refer back to steps 2 and 3 on LEARN), and executing (replace the `[name_of_final_file.py]` with your file, probably *final.py*):\n",
    "> `python validate_final.py [name_of_final_file.py]`\n",
    "6. If your submission validated successfully (please *read* the output), proceed to Step 7 on the LEARN announcement."
   ]
  },
  {
   "cell_type": "code",
   "execution_count": null,
   "metadata": {
    "collapsed": true
   },
   "outputs": [],
   "source": [
    "# Enter your full name and student ID as strings\n",
    "Student_Name = \"\"\n",
    "Student_ID = \"\""
   ]
  },
  {
   "cell_type": "markdown",
   "metadata": {},
   "source": [
    "**Please remember to import NumPy before proceeding.** You are allowed to modify the import statement however you prefer."
   ]
  },
  {
   "cell_type": "code",
   "execution_count": null,
   "metadata": {
    "collapsed": true
   },
   "outputs": [],
   "source": [
    "import numpy"
   ]
  },
  {
   "cell_type": "markdown",
   "metadata": {},
   "source": [
    "### Problem 1 (Multiple choice, 15 points, 1 point each) \n",
    "\n",
    "*Please answer the following questions by filling in the variables below (using the same format as done in the exercises for multiple choice and true/false).*"
   ]
  },
  {
   "cell_type": "markdown",
   "metadata": {},
   "source": [
    "#### (Definitions)\n",
    "\n",
    "You are given a table of terms used in the course.\n",
    "\n",
    "|     |     |     |     |     |\n",
    "|-----|-----|-----|-----|-----|\n",
    "| dictionary | boolean | built-in function | operating system | dynamic type |\n",
    "| operator | broadcast | method | docstring | view |\n",
    "| namespace | keyword | random-access memory | memory address | compiler |\n",
    "| interpreter | module | comment | variable | deep copy |\n",
    "\n",
    "\n",
    "Match each blank (`______`) below to its *best / closest* term in the table (there are more terms than definitions). Do not consider the surrounding grammar when choosing your answer. The first answer is filled in for you as a demonstration.\n",
    "\n",
    "**Example.** A/an `______` is used in a function declaration to provide a description of the function's behaviour. (**Answer**: `docstring`.)\n",
    "\n",
    "**I.** The program `python` is a/an `______`: it executes Python source code on the CPU.\n",
    "\n",
    "**II.** `break`, `pass`, and `del`: each of these is a/an `______`.\n",
    "\n",
    "**III.** The variable `__name__` can be used in a way that prevents code in a/an `______` from executing.\n",
    "\n",
    "**IV.** The term `______` is used to describe a function defined within a class.\n",
    "\n",
    "**V.** Slicing a NumPy array returns a/an `______` of that array."
   ]
  },
  {
   "cell_type": "code",
   "execution_count": null,
   "metadata": {
    "collapsed": true
   },
   "outputs": [],
   "source": [
    "def_example = \"docstring\"  # Example. Use the EXACT string given in the table.\n",
    "def_i = \"\"\n",
    "def_ii = \"\"\n",
    "def_iii = \"\"\n",
    "def_iv = \"\"\n",
    "def_v = \"\""
   ]
  },
  {
   "cell_type": "markdown",
   "metadata": {},
   "source": [
    "#### (Multiple Choice)\n",
    "**I.** Which statements are *true* regarding the following block of code?\n",
    "```\n",
    "def print_greeting(name):\n",
    "    return print(\"good morning \" + name)\n",
    "```\n",
    ">**a)** There is a syntax error in this block of code.  \n",
    ">**b)** Calling `print_greeting(\"nasser\")` returns the string `\"good morning nasser\"`.  \n",
    ">**c)** The variable `name` is only defined in the namespace of `print_greeting`.  \n",
    ">**d)** Calling `print_greeting(500)` will produce an error.\n",
    "\n",
    "**II.** Given the shape attributes of various pairs of NumPy arrays, select those for which binary operators can broadcast:\n",
    "\n",
    ">**a)** `(1, 2)` and `(2, 1)`\n",
    ">**b)** `(4, 5, 6)` and `(6, 5)`\n",
    ">**c)** `(4, 5)` and `(5,)`\n",
    ">**d)** `(2, 2, 2)` and `(3, 2)`\n",
    "\n",
    "**III.** Which of the following collection types can be used to create heterogeneous collections? A collection is heterogeneous if it contains more than one type.\n",
    "\n",
    ">**a)** `list`\n",
    ">**b)** `string`\n",
    ">**c)** `set`\n",
    ">**d)** `ndarray`\n",
    ">**e)** `dict`\n",
    "\n",
    "**IV.** Given the matrix $A$, perform the matrix multiplication $B = (A)(A^T)$. What is the sum of all of the elements in the resulting matrix $B$?\n",
    "\n",
    "$$ \n",
    "A = \\left[ \\begin{array}{cccc}\n",
    "5 & 6 & 7 & 8 \\\\\n",
    "9 & 10 & 11 & 12 \\\\\n",
    "13 & 14 & 15 & 16 \\\\\n",
    "17 & 18 & 19 & 20 \\\\\\end{array} \\right], \\quad \n",
    "B = (A)(A^T) \n",
    "$$\n",
    "\n",
    ">**a)** 4\n",
    ">**b)** 2840\n",
    ">**c)** 10080\n",
    ">**d)** 10320\n",
    ">**e)** None of the above\n",
    "\n",
    "**V.** What is the name of the string method which is used to \"pad a numeric string S with zeros on the left, to fill a field of the specified width\"?\n",
    "\n",
    ">**a)** `index`\n",
    ">**b)** `ljust`\n",
    ">**c)** `zfill`\n",
    ">**d)** `endswith`\n",
    ">**e)** None of the above"
   ]
  },
  {
   "cell_type": "code",
   "execution_count": null,
   "metadata": {
    "collapsed": true
   },
   "outputs": [],
   "source": [
    "mc_i = \"\"  # \"\", \"a\", \"ab\", etc.\n",
    "mc_ii = \"\"\n",
    "mc_iii = \"\"\n",
    "mc_iv = \"\"\n",
    "mc_v = \"\""
   ]
  },
  {
   "cell_type": "markdown",
   "metadata": {},
   "source": [
    "#### (True or False)\n",
    "**I.** A loop can only have a single `break` or `continue` statement.\n",
    "\n",
    "**II.** Both `x^y` and `pow(x,y)` can be used to compute $x^y$ (exponentiation).\n",
    "\n",
    "**III.** Boolean variables can have three values: `True`, `False`, or `None`.\n",
    "\n",
    "**IV.** The individual elements of a two-dimensional NumPy array `arr` can be accessed using both the notation `arr[i][j]` and `arr[i,j]` (where `i` and `j` are row/column indices).\n",
    "\n",
    "**V.** `math.pi` provides an exact representation of the number $\\pi$."
   ]
  },
  {
   "cell_type": "code",
   "execution_count": null,
   "metadata": {
    "collapsed": true
   },
   "outputs": [],
   "source": [
    "tf_i = None  # True or False\n",
    "tf_ii = None\n",
    "tf_iii = None\n",
    "tf_iv = None\n",
    "tf_v = None"
   ]
  },
  {
   "cell_type": "markdown",
   "metadata": {},
   "source": [
    "### Problem 2 (short answer, 10 points, value is indicated)\n",
    "\n",
    "*In this section, you will be asked to modify short blocks of code which are pre-populated.*\n",
    "*For each question, you are given a copy of the \"starter code\" for each block as a reference, in case you accidentally delete them or forget what you were given. Do not modify these copies.*"
   ]
  },
  {
   "cell_type": "markdown",
   "metadata": {},
   "source": [
    "**I. (1 point)** Modify `problem2i` so that it no longer uses triple quotation marks (either `\"\"\"` or `'''`) without changing what is printed."
   ]
  },
  {
   "cell_type": "markdown",
   "metadata": {},
   "source": [
    "```\n",
    "problem2i = '''\"It seems very pretty,\"\n",
    "she said when she had finished it,\n",
    "\"but it's rather hard to understand!\"'''\n",
    "print(problem2i)\n",
    "```"
   ]
  },
  {
   "cell_type": "code",
   "execution_count": 1,
   "metadata": {
    "collapsed": false
   },
   "outputs": [
    {
     "name": "stdout",
     "output_type": "stream",
     "text": [
      "\"It seems very pretty,\"\n",
      "she said when she had finished it,\n",
      "\"but it's rather hard to understand!\"\n"
     ]
    }
   ],
   "source": [
    "problem2i = '''\"It seems very pretty,\"\n",
    "she said when she had finished it,\n",
    "\"but it's rather hard to understand!\"'''\n",
    "print(problem2i)"
   ]
  },
  {
   "cell_type": "markdown",
   "metadata": {},
   "source": [
    "**II. (6 points, 2 points each)** Fix the mistakes in the following three functions so that:\n",
    "\n",
    "- they are capable of being executed, and \n",
    "- fulfill the requirements specified in their docstrings.\n",
    "\n",
    "You may modify any part of the function *except* for the function name or its docstring (both of which you can consider to be accurate). \n",
    "\n",
    "The functions are considered correct when their output makes sense for *reasonable* user input/arguments. You may assume that all user input is \"sane\" (do not add any additional checks on inputs or arguments)."
   ]
  },
  {
   "cell_type": "markdown",
   "metadata": {},
   "source": [
    "```\n",
    "def warn_weather(weather):\n",
    "    \"\"\"Prints a message depending on the `weather` argument (string).\n",
    "    \n",
    "    weather = \"cold\" -> print \"Make sure to wear a coat!\"\n",
    "    weather = \"rainy\" -> print \"Make sure to wear a coat!\"\n",
    "    weather = \"sunny\" -> print \"It's a nice day outside!\"\n",
    "    \"\"\"\n",
    "    if weather = \"cold\" or \"rainy\":\n",
    "        print \"Make sure to wear a coat!\"\n",
    "    if weather = \"sunny\":\n",
    "        print \"It's a nice day outside!\"\n",
    "```"
   ]
  },
  {
   "cell_type": "code",
   "execution_count": null,
   "metadata": {
    "collapsed": true
   },
   "outputs": [],
   "source": [
    "def warn_weather(weather):\n",
    "    \"\"\"Prints a message depending on the `weather` argument (string).\n",
    "    \n",
    "    weather = \"cold\" -> print \"Make sure to wear a coat!\"\n",
    "    weather = \"rainy\" -> print \"Make sure to wear a coat!\"\n",
    "    weather = \"sunny\" -> print \"It's a nice day outside!\"\n",
    "    \"\"\"\n",
    "    if weather = \"cold\" or \"rainy\":\n",
    "        print \"Make sure to wear a coat!\"\n",
    "    if weather = \"sunny\":\n",
    "        print \"It's a nice day outside!\""
   ]
  },
  {
   "cell_type": "markdown",
   "metadata": {},
   "source": [
    "```\n",
    "def how_old_are_you():\n",
    "    \"\"\"Query user to input their age, and prints it out to them.\n",
    "    You can assume the user will enter a whole number (integer) for this query.\n",
    "    If the user provides a value below 0 or above 120, print 'You're a liar!' and \n",
    "    repeat the query until they provide a number within that range.\n",
    "    \n",
    "    Examples:\n",
    "    1) \"How old are you? \" -> enter 19 -> \"You are 19 years old.\"\n",
    "    2) \"How old are you? \" -> enter 500 -> \"You're a liar!\", cycle repeats (\"How old are you?\" -> ...)\n",
    "    \"\"\"\n",
    "    age = int(input(\"How old are you? \"))\n",
    "    if age > 120 and age < 0:\n",
    "        print(\"You are \" + age + \" years old.\")\n",
    "    else:\n",
    "        print(\"You're a liar!\")\n",
    "```"
   ]
  },
  {
   "cell_type": "code",
   "execution_count": null,
   "metadata": {
    "collapsed": true
   },
   "outputs": [],
   "source": [
    "def how_old_are_you():\n",
    "    \"\"\"Query user to input their age, and prints it out to them.\n",
    "    You can assume the user will enter a whole number (integer) for this query.\n",
    "    If the user provides a value below 0 or above 120, print 'You're a liar!' and \n",
    "    repeat the query until they provide a number within that range.\n",
    "    \n",
    "    Examples:\n",
    "        1) \"q\" -> enter 19 -> \"You are 19 years old.\"\n",
    "    2) \"How old are you? \" -> enter 500 -> \"You're a liar!\", cycle repeats (\"How old are you?\" -> ...)\n",
    "    \"\"\"\n",
    "    age = int(input(\"How old are you? \"))\n",
    "    if age > 120 and age < 0:\n",
    "        print(\"You are \" + age + \" years old.\")\n",
    "    else:\n",
    "        print(\"You're a liar!\")"
   ]
  },
  {
   "cell_type": "markdown",
   "metadata": {},
   "source": [
    "```\n",
    "def remove_neg(num_list):\n",
    "    \"\"\" (list of number) -> NoneType\n",
    "    Remove the negative numbers from the list num_list.\n",
    "    >>> numbers = [-5, 1, -3, 2]\n",
    "    >>> remove_neg(numbers)\n",
    "    >>> numbers\n",
    "    [1, 2]\n",
    "    \"\"\"\n",
    "    for item in num_list:\n",
    "        if item < 0:\n",
    "            num_list.remove(item)\n",
    "```"
   ]
  },
  {
   "cell_type": "code",
   "execution_count": null,
   "metadata": {
    "collapsed": true
   },
   "outputs": [],
   "source": [
    "def remove_neg(num_list):\n",
    "    \"\"\" (list of number) -> NoneType\n",
    "    Remove the negative numbers from the list num_list.\n",
    "    >>> numbers = [-5, 1, -3, 2]\n",
    "    >>> remove_neg(numbers)\n",
    "    >>> numbers\n",
    "    [1, 2]\n",
    "    \"\"\"\n",
    "    for item in num_list:\n",
    "        if item < 0:\n",
    "            num_list.remove(item)"
   ]
  },
  {
   "cell_type": "markdown",
   "metadata": {},
   "source": [
    "**III. (3 points)** Create a function `plot_sinusoidal` which plots the sinusoidal functions $y = \\sin(t)$ and $y = \\cos(t)$ (on the same plot) on the domain $t \\in [0, 2\\pi]$. Use 75 equally-spaced points for each function. Include a legend and axes labels (use your best judgement here; we are not looking for specific text).\n",
    "\n",
    "The function `plot_sinusoidal` should return the figure object containing the plots. You are given the starting structure below as a guide (and should see a simple plot of a straight line with 6 points below)."
   ]
  },
  {
   "cell_type": "markdown",
   "metadata": {},
   "source": [
    "```\n",
    "from matplotlib.pyplot import *\n",
    "\n",
    "def plot_sinusoidal():\n",
    "    \"\"\"Plot sinusoidal functions and return a figure object.\"\"\"\n",
    "    fig = figure()\n",
    "    plot([0,1,2,3,4,5], [0,1,2,3,4,5], 'o')\n",
    "    return fig\n",
    "\n",
    "plot_sinusoidal()  # You should see your plot when this is run.\n",
    "```"
   ]
  },
  {
   "cell_type": "code",
   "execution_count": 2,
   "metadata": {
    "collapsed": false
   },
   "outputs": [
    {
     "data": {
      "image/png": "[encoded data removed]",
      "text/plain": [
       "<matplotlib.figure.Figure at 0x7f4198c2d8d0>"
      ]
     },
     "execution_count": 2,
     "metadata": {},
     "output_type": "execute_result"
    }
   ],
   "source": [
    "from matplotlib.pyplot import *\n",
    "\n",
    "def plot_sinusoidal():\n",
    "    \"\"\"Plot sinusoidal functions and return a figure object.\"\"\"\n",
    "    fig = figure()\n",
    "    plot([0,1,2,3,4,5], [0,1,2,3,4,5], 'o')\n",
    "    return fig\n",
    "\n",
    "plot_sinusoidal()  # You should see your plot when this is run."
   ]
  },
  {
   "cell_type": "markdown",
   "metadata": {},
   "source": [
    "## Long Answer Questions (15 points, 7.5 points each)\n",
    "\n",
    "*Three long answer questions are given below (Problems 3 to 5).*\n",
    "\n",
    "**!! Your lowest score for these problems will be dropped. !!** *Do your best to answer all of the questions.*\n",
    "\n",
    "*Please read the texts below carefully. In cases where full information is not specified, you are expected to use your best judgement based on material learned in the course.*"
   ]
  },
  {
   "cell_type": "markdown",
   "metadata": {},
   "source": [
    "### Problem 3: Bitcoins\n",
    "\n",
    "A *cryptocurrency* is a virtual or digital currency that uses cryptography to secure its transactions. Unlike traditional currencies, they are not issued by a central bank. Cryptocurrencies such as *Bitcoin* or *Ethereum* (which was developed by a former UW student!) have recently been popularized as high-risk investments due to their tremendous growth over the past few years.\n",
    "\n",
    "Suppose that Professor Abukhdeir holds the following cryptocurrencies in his investment portfolio:\n",
    "\n",
    "| Cryptocurrency | Three-letter Code | Units Held | Value Per Unit (CAD$) |\n",
    "|----------------|-------------------|------------|-----------------------|\n",
    "| Bitcoin        | XBT               | 3.5        | 22,508.40             |\n",
    "| Ethereum       | ETH               | 37.5       | 794.41                |\n",
    "| Litecoin       | LTC               | 125.0      | 434.45                |\n",
    "\n",
    "Using the information above, create a function `convert_crypto_to_cad` which converts the value of *individual* cryptocurrencies to Canadian dollars. The function should accept three arguments:\n",
    "\n",
    "- `code`: which is the three-letter code corresponding to the cryptocurrency being converted\n",
    "- `units`: which is the number of units to convert\n",
    "- `transaction_fee`: an *optional* argument representing a percentage fee for performing the conversion (between 0 and 1). For example, a value of `transaction_fee = 0.05` reduces the value of the investment by 5% upon conversion to Canadian dollars.\n",
    "\n",
    "Return the value in Canadian dollars, rounded to the nearest cent (You can consider numbers with only one decimal place, e.g. `1.1` to be equivalent to $\\$1.10$). The function should return `None` for invalid input."
   ]
  },
  {
   "cell_type": "code",
   "execution_count": null,
   "metadata": {
    "collapsed": true
   },
   "outputs": [],
   "source": []
  },
  {
   "cell_type": "markdown",
   "metadata": {},
   "source": [
    "Using your function above, what is the total value in Canadian dollars of Professor Abukhdeir's investments assuming a 2.5% transaction fee? Assign its value to `problem3`."
   ]
  },
  {
   "cell_type": "code",
   "execution_count": null,
   "metadata": {
    "collapsed": true
   },
   "outputs": [],
   "source": [
    "problem3 = 0.0  # Modify this with your answer."
   ]
  },
  {
   "cell_type": "markdown",
   "metadata": {},
   "source": [
    "### Problem 4: Fizz Buzz\n",
    "\n",
    "A common interview question used to screen programmers is to implement a game called Fizz Buzz, which is used to teach children about division. The question is as follows:\n",
    "\n",
    "*Write a program that prints the numbers from 1 to 100. However, for multiples of three, print `Fizz` instead of the number. Similarity, for the multiples of five, print `Buzz`. For numbers which are multiples of both three and five, print `FizzBuzz`.*\n",
    "\n",
    "For this problem, instead of simply printing Fizz Buzz, construct a function `fizzbuzz` that *returns a string* corresponding to playing Fizz Buzz from $1$ to $N$, where $N$ is an integer greater than 1. For example:\n",
    "\n",
    "```\n",
    ">>> fizzbuzz(5)\n",
    "\"1, 2, Fizz, 4, Buzz\"\n",
    "\n",
    ">>> fizzbuzz(16)\n",
    "\"1, 2, Fizz, 4, Buzz, Fizz, 7, 8, Fizz, Buzz, 11, Fizz, 13, 14, FizzBuzz, 16\"\n",
    "```\n",
    "\n",
    "The function should return `None` for invalid input."
   ]
  },
  {
   "cell_type": "code",
   "execution_count": null,
   "metadata": {
    "collapsed": true
   },
   "outputs": [],
   "source": []
  },
  {
   "cell_type": "markdown",
   "metadata": {},
   "source": [
    "Using your function above, what is the string that results from playing Fizz Buzz up to $N = 1000$? Assign it to `problem4`."
   ]
  },
  {
   "cell_type": "code",
   "execution_count": null,
   "metadata": {
    "collapsed": true
   },
   "outputs": [],
   "source": [
    "problem4 = \"\"  # Modify this with your answer."
   ]
  },
  {
   "cell_type": "markdown",
   "metadata": {},
   "source": [
    "### Problem 5: Caesar Cipher\n",
    "\n",
    "Encryption is the process of encoding data so that only the intended recipients of the data are able to understand it. A *Caesar cipher* is a very simple method for encrypting messages, named after Julius Caesar, who used it to protect messages of military significance.\n",
    "\n",
    "Consider the 26-letter English alphabet. Let's say we now shift the alphabet by one space forwards, so that `B` occupies the `A` space, `C` occupies the `B` space, and so on:\n",
    "```\n",
    "Original Alphabet:          A B C D E F G H I J K L M N O P Q R S T U V W X Y Z\n",
    "Shifted Alphabet (Cipher):  B C D E F G H I J K L M N O P Q R S T U V W X Y Z A\n",
    "```\n",
    "Let's say we want to encrypt a message `Hello`. We look at each letter individually and map it to the shifted alphabet, or *cipher*: `H` maps to `I`, `E` maps to `F`, ... and from `Hello`, we end up getting the encoded message `IFMMP`.\n",
    "\n",
    "Encryption in this manner can be represented by an equation if we map the alphabet to numbers, i.e. `A -> 0`, `B -> 1`, etc:\n",
    "\n",
    "$$ E_n (x) = (x+n) \\mod 26 $$\n",
    "\n",
    "where $x$ is the \"letter\", $n$ is the amount to shift forward (e.g. $n=1$ in the above example, and $n=0$ should return the original input), and $E_n$ is the encrypted result. \n",
    "\n",
    "Create a function `caesar_cipher` which takes two arguments:\n",
    "\n",
    "- `string`: a string to encode (e.g. \"hello\")\n",
    "- `shift`: the shift, $n$, as defined above\n",
    "\n",
    "The function should return the encrypted message in all capital letters (but note that the argument `string` can be either lowercase, uppercase, or a combination). **You do *not* need to check for invalid input for this question.**"
   ]
  },
  {
   "cell_type": "code",
   "execution_count": null,
   "metadata": {
    "collapsed": true
   },
   "outputs": [],
   "source": [
    "alphabet = 'ABCDEFGHIJKLMNOPQRSTUVWXYZ'  # This is here for your convenience, if you choose to use it."
   ]
  },
  {
   "cell_type": "markdown",
   "metadata": {},
   "source": [
    "Using your function, complete the following dictionary `problem5` which maps values of `shift` to the encrypted messages generated for the input string `ATTACKATDAWN`. (You are encouraged to fill in the rest of the dictionary programmatically.)"
   ]
  },
  {
   "cell_type": "code",
   "execution_count": null,
   "metadata": {
    "collapsed": true
   },
   "outputs": [],
   "source": [
    "problem5 = {\n",
    "    0: \"ATTACKATDAWN\",\n",
    "    1: \"BUUBDLBUEBXO\",  # Fill in the rest, up to a shift of 25.\n",
    "}"
   ]
  }
 ],
 "metadata": {
  "kernelspec": {
   "display_name": "Python 3",
   "language": "python",
   "name": "python3"
  },
  "language_info": {
   "codemirror_mode": {
    "name": "ipython",
    "version": 3
   },
   "file_extension": ".py",
   "mimetype": "text/x-python",
   "name": "python",
   "nbconvert_exporter": "python",
   "pygments_lexer": "ipython3",
   "version": "3.6.3"
  }
 },
 "nbformat": 4,
 "nbformat_minor": 2
}
