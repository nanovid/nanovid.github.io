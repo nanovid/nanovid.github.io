{
 "cells": [
  {
   "cell_type": "markdown",
   "metadata": {},
   "source": [
    "# NE111 Final Fall 2018\n",
    "\n",
    "**Aids:** None. You may use tools such as Jupyter Notebook (without opening other files) and iPython, but access to the lecture/exercise content or the Internet is forbidden.\n",
    "\n",
    "**Length**: 2 hours\n",
    "\n",
    "**Instructions**:\n",
    "\n",
    "*YOU ARE ASSUMED TO HAVE READ THE INSTRUCTIONS ON THE LEARN ANNOUNCEMENT AND ARE NOW ON STEP 6.*\n",
    "\n",
    "1. Complete exam identification information in the following cell.\n",
    "2. Complete exam problems. Each problem will give you instructions on how to complete it properly. **Periodically save your file to disk (CTRL+S).**\n",
    "3. When you are finished, in this notebook, go to File -> Download As -> Python (.py). \n",
    "4. Move the downloaded file from the Downloads folder to N: (in the same folder that you placed `validate_final.py` earlier).\n",
    "5. Validate your exam submission by opening a the *Anaconda Prompt*, navigating to the N: drive (refer back to steps 2 and 3 on LEARN), and executing (replace the `[name_of_final_file.py]` with your file, probably *final.py*):\n",
    "> `python validate_final.py [name_of_final_file.py]`\n",
    "6. If your submission validated successfully (please *read* the output), proceed to Step 7 on the LEARN announcement."
   ]
  },
  {
   "cell_type": "code",
   "execution_count": null,
   "metadata": {},
   "outputs": [],
   "source": [
    "# Enter your full name and student ID as strings\n",
    "Student_Name = \"\"\n",
    "Student_ID = \"\""
   ]
  },
  {
   "cell_type": "markdown",
   "metadata": {},
   "source": [
    "**Please remember to import NumPy before proceeding.** You are allowed to modify the import statement however you prefer."
   ]
  },
  {
   "cell_type": "code",
   "execution_count": null,
   "metadata": {},
   "outputs": [],
   "source": [
    "import numpy"
   ]
  },
  {
   "cell_type": "markdown",
   "metadata": {},
   "source": [
    "## Problem 1 (5 points, 1 point each)\n",
    "\n",
    "Fill in the blanks in each statement with a phrase from the table."
   ]
  },
  {
   "cell_type": "markdown",
   "metadata": {},
   "source": [
    "#### (Definitions)\n",
    "\n",
    "You are given a table of terms used in the course.\n",
    "\n",
    "|     |     |     |     |     |\n",
    "|-----|-----|-----|-----|-----|\n",
    "| dictionary | boolean | built-in function | operating system | dynamic |\n",
    "| operator | broadcast | method | docstring | view |\n",
    "| namespace | keyword | random-access memory | memory address | compiler |\n",
    "| interpreter | module | comment | variable | deep copy |\n",
    "\n",
    "\n",
    "Match each blank (`______`) below to its *best / closest* term in the table (there are more terms than definitions). Do not consider the surrounding grammar when choosing your answer. The first answer is filled in for you as a demonstration.\n",
    "\n",
    "**Example.** A/an `______` is used in a function declaration to provide a description of the function's behaviour. (**Answer**: `docstring`.)\n",
    "\n",
    "**I.** The  `Python` programming language supports `______` types.\n",
    "\n",
    "**II.** `______` arguments of functions do not need to be explicitly specified.\n",
    "\n",
    "**III.** A `______` of an `ndarray` creates both a new array object and data.\n",
    "\n",
    "**IV.** The built-in `help()`function allows you to access the `______` of an object.\n",
    "\n",
    "**V.** Using the `asmatrix()` function returns a `______` of an array with type `matrix`."
   ]
  },
  {
   "cell_type": "code",
   "execution_count": null,
   "metadata": {},
   "outputs": [],
   "source": [
    "def_example = \"docstring\"  # Example. Use the EXACT string given in the table.\n",
    "def_i = \"\"\n",
    "def_ii = \"\"\n",
    "def_iii = \"\"\n",
    "def_iv = \"\"\n",
    "def_v = \"\""
   ]
  },
  {
   "cell_type": "markdown",
   "metadata": {},
   "source": [
    "## Problem 2 (5 points, 1 point each)\n",
    "\n",
    "Select the correct answer(s) from the set of choices.\n",
    "\n",
    "**I.** Given the matrix $A$, what is the sum of all of the elements of its invert $A^{-1}$?\n",
    "\n",
    "$$ \n",
    "A = \\left[ \\begin{array}{cccc}\n",
    "5 & 6 & 7 & 8 \\\\\n",
    "9 & 10 & 11 & 12 \\\\\n",
    "13 & 14 & 15 & 16 \\\\\n",
    "17 & 18 & 19 & 20 \\\\\\end{array} \\right], \\quad \n",
    "B = (A)(A^T) \n",
    "$$\n",
    "\n",
    ">**a)** 1.2\n",
    ">**b)** 3.7\n",
    ">**c)** -0.1\n",
    ">**d)** 0.1\n",
    ">**e)** None of the above\n",
    "\n",
    "**II.** Given the shape attributes of various pairs of NumPy arrays, select those for which binary operators can broadcast:\n",
    "\n",
    ">**a)** `(2, 2)` and `(2, 1)`\n",
    ">**b)** `(4, 5, 6)` and `(5, 6)`\n",
    ">**c)** `(1, 4, 5)` and `(5,)`\n",
    ">**d)** `(2, 2, 2)` and `(2, 2)`\n",
    "\n",
    "**III.** Which of the following collection types can be used to create unordered collections?.\n",
    "\n",
    ">**a)** `list`\n",
    ">**b)** `string`\n",
    ">**c)** `set`\n",
    ">**d)** `ndarray`\n",
    ">**e)** `dict`\n",
    "\n",
    "\n",
    "**IV.** What is the name of the `ndarray` method which is used to \"Return indices of the minimum values along the given axis of `a`.\"?\n",
    "\n",
    ">**a)** `mean`\n",
    ">**b)** `min`\n",
    ">**c)** `max`\n",
    ">**d)** `all`\n",
    ">**e)** None of the above\n",
    "\n",
    "\n",
    "**V.** Which statements are *true* regarding the following block of code?\n",
    "```\n",
    "def print_metallica(n):\n",
    "    for i in range(0, N):\n",
    "        print(\"METALLICA\")\n",
    "```\n",
    ">**a)** There is a syntax error in this block of code.  \n",
    ">**b)** Calling `print_metallica(3)` returns the string `\"METALLICA\\nMETALLICA\\nMETALLICA\\n\"`.  \n",
    ">**c)** The variable `i` is only defined in the namespace of the `for` loop.  \n",
    ">**d)** Calling `print_greeting(3)` will produce an error.\n"
   ]
  },
  {
   "cell_type": "code",
   "execution_count": null,
   "metadata": {},
   "outputs": [],
   "source": [
    "mc_i = \"\"  # \"\", \"a\", \"ab\", etc.\n",
    "mc_ii = \"\"\n",
    "mc_iii = \"\"\n",
    "mc_iv = \"\"\n",
    "mc_v = \"\""
   ]
  },
  {
   "cell_type": "markdown",
   "metadata": {},
   "source": [
    "## Problem 3 (5 points, 1 point each)\n",
    "\n",
    "Determine whether the statements are True or False.\n",
    "\n",
    "**I.** An `ndarray` can have an unlimited number of views associated with it.\n",
    "\n",
    "**II.** Given a `str` object `my_string`, both `str.capitalize(my_string)` and `my_string.capitalize()` can be used to capitalize `my_string`.\n",
    "\n",
    "**III.** All `for` loops may be re-written using a `while` loop, but not vice-versa.\n",
    "\n",
    "**IV.** Slicing an `ndarray` has no affect on the data associated with that array.\n",
    "\n",
    "**V.** `matplotlib` is the official plotting library for the Python programming language."
   ]
  },
  {
   "cell_type": "code",
   "execution_count": null,
   "metadata": {},
   "outputs": [],
   "source": [
    "tf_i = None  # True or False\n",
    "tf_ii = None\n",
    "tf_iii = None\n",
    "tf_iv = None\n",
    "tf_v = None"
   ]
  },
  {
   "cell_type": "markdown",
   "metadata": {},
   "source": [
    "## Problem 4 (10 points)"
   ]
  },
  {
   "cell_type": "markdown",
   "metadata": {},
   "source": [
    "Develop a function `pythagorean_triple(a, b)` described by the following docstring:\n",
    "\n",
    "```python\n",
    "\"\"\"(float, float) -> (float, float, float)\n",
    "    \n",
    "Given input arguments (a, b) return the Pythagorean triple (a, b, c) where,\n",
    "\n",
    "a^2 +  b^2 = c^2\n",
    "\n",
    "where if invalid input arguments are provided the function returns None.\n",
    "    \n",
    ">>> pythagorean_triple(3., 4.)\n",
    "(3.0, 4.0, 5.0)\n",
    ">>> pythagorean_triple(3, 4.)\n",
    "None\n",
    ">>> pythagorean_triple(\"METALLICA\", 1.)\n",
    "None\n",
    "\"\"\"  \n",
    "```"
   ]
  },
  {
   "cell_type": "code",
   "execution_count": null,
   "metadata": {},
   "outputs": [],
   "source": [
    "def pythagorean_triple(a, b):\n",
    "    pass # replace this statement with your code"
   ]
  },
  {
   "cell_type": "markdown",
   "metadata": {},
   "source": [
    "## Problem 5 (10 points)"
   ]
  },
  {
   "cell_type": "markdown",
   "metadata": {},
   "source": [
    "Develop a function `input_and_loop()` described by the following docstring:\n",
    "\n",
    "```python\n",
    "\"\"\"(str) -> None\n",
    "    \n",
    "Query the user first for a string to repeat and then for the number of repetitions then print the string for that number of repetitions. Return None of the number of repetitions inputted by the user is not numeric (using str.isnumeric).\n",
    "    \n",
    ">>> input_and_loop()\n",
    "Input loop string: METALLICA\n",
    "Input number of repetitions: 3\n",
    "METALLICA\n",
    "METALLICA\n",
    "METALLICA\n",
    ">>> input_and_loop()\n",
    "Input loop string: METALLICA\n",
    "Input number of repetitions: infinity\n",
    "None\n",
    "\"\"\"  \n",
    "```"
   ]
  },
  {
   "cell_type": "code",
   "execution_count": 1,
   "metadata": {},
   "outputs": [],
   "source": [
    "def input_and_loop():\n",
    "    pass # replace this statement with your code"
   ]
  },
  {
   "cell_type": "markdown",
   "metadata": {},
   "source": [
    "## Problem 6 (15 points)"
   ]
  },
  {
   "cell_type": "markdown",
   "metadata": {},
   "source": [
    "Develop a function `project_to_grid(func, xlim, ylim, N)` described by the following docstring:\n",
    "\n",
    "```python\n",
    "\"\"\"(function, float, float, int) -> (ndarray, ndarray, ndarray)\n",
    "    \n",
    "Returns ndarrays (f, x, y) all of shape (N, N) where x and y are the x- and y-coordinates equally spaced over the intervals [0, xlim] and [0, ylim], respectively. The ndarray f is the result of evaluating the function argument at each of these points assuming the function argument type contract is,\n",
    "\n",
    "(float, float) -> float\n",
    "\n",
    "\n",
    ">>> def func(x, y):\n",
    "    return(x*y)\n",
    "    \n",
    ">>> project_to_grid(func, 10., 10., 3)\n",
    "(array([[  0,   0,   0],\n",
    "       [  0,  25,  50],\n",
    "       [  0,  50, 100]]),\n",
    " array([[ 0,  5, 10],\n",
    "        [ 0,  5, 10],\n",
    "        [ 0,  5, 10]]),\n",
    " array([[ 0,  0,  0],\n",
    "        [ 5,  5,  5],\n",
    "        [10, 10, 10]]))\n",
    "\"\"\"  \n",
    "```"
   ]
  },
  {
   "cell_type": "code",
   "execution_count": null,
   "metadata": {},
   "outputs": [],
   "source": [
    "def func(x, y):\n",
    "    return(x*y)\n",
    "\n",
    "def project_to_grid(func, xlim, ylim, N):\n",
    "    pass # replace this statement with your code"
   ]
  }
 ],
 "metadata": {
  "kernelspec": {
   "display_name": "Python 3",
   "language": "python",
   "name": "python3"
  },
  "language_info": {
   "codemirror_mode": {
    "name": "ipython",
    "version": 3
   },
   "file_extension": ".py",
   "mimetype": "text/x-python",
   "name": "python",
   "nbconvert_exporter": "python",
   "pygments_lexer": "ipython3",
   "version": "3.7.3"
  }
 },
 "nbformat": 4,
 "nbformat_minor": 2
}
