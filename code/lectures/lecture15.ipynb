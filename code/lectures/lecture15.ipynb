{
 "cells": [
  {
   "cell_type": "markdown",
   "metadata": {},
   "source": [
    "## Lecture 15\n",
    "\n",
    "The objectives of this lecture are to:\n",
    "\n",
    "1. Introduce the fundamental package for scientific computing with Python -- `NumPy`.\n",
    "2. Creating `NumPy` n-dimensional arrays.\n",
    "3. Binary and unary operations on arrays.\n",
    "\n",
    "*Much of the lecture is based on this tutorial: [http://wiki.scipy.org/Tentative_NumPy_Tutorial](http://wiki.scipy.org/Tentative_NumPy_Tutorial/)*"
   ]
  },
  {
   "cell_type": "markdown",
   "metadata": {},
   "source": [
    "# Scientific Computing With Python using NumPy\n",
    "\n",
    "The NumPy library provides the necessary functionality to use Python as a powerful scientific computing language. From NumPy's website, it provides,\n",
    "\n",
    "1. a powerful N-dimensional array object\n",
    "2. sophisticated (broadcasting) functions\n",
    "3. tools for integrating C/C++ and Fortran code\n",
    "4. useful linear algebra, discrete Fourier transforms, and random number capabilities\n",
    "\n",
    "In this lecture we will learn about items 1-2 and how to apply them to manipulation of numeric n-dimensional arrays. Note that these are *not* matrices, but instead a more general type of data that contains many scalar values which may be \"addressed\", as in a matrix.\n",
    "\n",
    "We may form n-dimensional arrays, which have type `ndarray`, for any type of numeric data (`int`, `float`, `complex`). By default, NumPy will assume that the datatype is `float` unless otherwise specified.\n",
    "\n",
    "Let's create a 2-dimensional array by importing `NumPy` and using its equivalent function to Python's built-in `range()` function, `arange()`,"
   ]
  },
  {
   "cell_type": "code",
   "execution_count": null,
   "metadata": {
    "collapsed": false
   },
   "outputs": [],
   "source": [
    "# import all of NumPy's objects into the interpreter-level namespace\n",
    "from numpy import *\n",
    "\n",
    "# create an array of float values from 0->14\n",
    "a = arange(15)\n",
    "print(a)\n",
    "\n",
    "# \"reshape\" the array to be 2-dimensional, 3 rows and 5 columns, the number of elements are conserved!\n",
    "a = a.reshape(3, 5)\n",
    "print(a)\n",
    "print(a[0,2]) # \"index\" into the array to display a single item"
   ]
  },
  {
   "cell_type": "markdown",
   "metadata": {},
   "source": [
    "Does the method in which `NumPy` displays the array make sense? It looks like a list of lists where the first index (row) indexes into the top-level list and the second indexes into the sub-list. It should be clear how this could be generalized into higher-dimensional arrays.\n",
    "\n",
    "Before we go into more detail, let's explore the attributes of the `ndarray` object,"
   ]
  },
  {
   "cell_type": "code",
   "execution_count": null,
   "metadata": {
    "collapsed": false
   },
   "outputs": [],
   "source": [
    "type(a)"
   ]
  },
  {
   "cell_type": "code",
   "execution_count": null,
   "metadata": {
    "collapsed": false
   },
   "outputs": [],
   "source": [
    "# the array \"shape\" is a tuple which specifies the size of each dimension\n",
    "a.shape"
   ]
  },
  {
   "cell_type": "code",
   "execution_count": null,
   "metadata": {
    "collapsed": false
   },
   "outputs": [],
   "source": [
    "# the array \"ndim\" is an integer which specifies the dimensionality of the array\n",
    "a.ndim"
   ]
  },
  {
   "cell_type": "code",
   "execution_count": null,
   "metadata": {
    "collapsed": false
   },
   "outputs": [],
   "source": [
    "# the array \"dtype\" is an data-type object which specifies type of data which the array stores\n",
    "a.dtype"
   ]
  },
  {
   "cell_type": "code",
   "execution_count": null,
   "metadata": {
    "collapsed": false
   },
   "outputs": [],
   "source": [
    "# the array \"size\" is an integer which specifies the total number of items in the array\n",
    "a.size"
   ]
  },
  {
   "cell_type": "markdown",
   "metadata": {},
   "source": [
    "These are the array attributes you will find most useful, but for an full listing see the docstring for `ndarray`."
   ]
  },
  {
   "cell_type": "markdown",
   "metadata": {},
   "source": [
    "# Creation and manipulation of `NumPy` n-dimensional arrays\n",
    "\n",
    "There are several approaches to creating an `ndarray`, the most basic of which is using the `array()` function,"
   ]
  },
  {
   "cell_type": "code",
   "execution_count": null,
   "metadata": {
    "collapsed": false
   },
   "outputs": [],
   "source": [
    "# a 1x4 array \n",
    "a = array([1, 2, 3, 4])\n",
    "print(a)"
   ]
  },
  {
   "cell_type": "markdown",
   "metadata": {},
   "source": [
    "As you can see, we are using the same list syntax as we saw in the previous example. A single list of values will create a one-dimensional array of those values.\n",
    "\n",
    "To create higher-dimensional arrays, we can nest lists,"
   ]
  },
  {
   "cell_type": "code",
   "execution_count": null,
   "metadata": {
    "collapsed": false
   },
   "outputs": [],
   "source": [
    "# a 3x4 array\n",
    "a = array([[1, 2, 3, 4], [5, 6, 7, 8], [9, 10, 11, 12]])\n",
    "print(a)"
   ]
  },
  {
   "cell_type": "markdown",
   "metadata": {},
   "source": [
    "The `array()` function takes as input nest *sequences* to create arrays of the same dimension of the degree of nesting. In fact, we do not need to use lists, we can use tuples as well"
   ]
  },
  {
   "cell_type": "code",
   "execution_count": null,
   "metadata": {
    "collapsed": false
   },
   "outputs": [],
   "source": [
    "b = array( [ (1.5,2,3), (4,5,6) ] )\n",
    "b"
   ]
  },
  {
   "cell_type": "markdown",
   "metadata": {},
   "source": [
    "Note what happens when I do not `print()` the array, the object is still displayed in an understandable format. In this case the interpreter converted all integers into floats,\n",
    "\n",
    "The type of the `array` can also be explicitly specified at creation time:"
   ]
  },
  {
   "cell_type": "code",
   "execution_count": null,
   "metadata": {
    "collapsed": false
   },
   "outputs": [],
   "source": [
    "c = array( [ [1,2], [3,4] ], dtype=complex )\n",
    "c"
   ]
  },
  {
   "cell_type": "markdown",
   "metadata": {},
   "source": [
    "The function `zeros()` creates an array full of zeros, the function `ones()` creates an array full of ones, and the function `empty()` creates an array whose initial content is random and depends on the previous state of the memory that was allocated. Why might you want to use `empty()` instead of `ones()` or `zeros()`?\n",
    "\n",
    "By default, the `dtype` of the created array is `float64`."
   ]
  },
  {
   "cell_type": "code",
   "execution_count": null,
   "metadata": {
    "collapsed": false
   },
   "outputs": [],
   "source": [
    "# note that zeros() and ones() input argument is a tuple which specifies the shape of the output\n",
    "# array\n",
    "\n",
    "# create a 3x4 array of zeros using the default datatype (float)\n",
    "zeros( (3, 4) )"
   ]
  },
  {
   "cell_type": "code",
   "execution_count": null,
   "metadata": {
    "collapsed": false
   },
   "outputs": [],
   "source": [
    "# create a 2x3x4 array of ones using the int16 datatype (16-bit integer)\n",
    "ones( (3,3,4), dtype=int16 )"
   ]
  },
  {
   "cell_type": "code",
   "execution_count": null,
   "metadata": {
    "collapsed": false
   },
   "outputs": [],
   "source": [
    "# create a 2x3 array that is uninitialized\n",
    "empty( (2, 3) )"
   ]
  },
  {
   "cell_type": "markdown",
   "metadata": {},
   "source": [
    "To create arrays of *sequences* of numbers, NumPy provides a function analogous to `range()` that returns arrays instead of lists,"
   ]
  },
  {
   "cell_type": "code",
   "execution_count": null,
   "metadata": {
    "collapsed": false
   },
   "outputs": [],
   "source": [
    "# create an array of the sequence of numbers starting with 10 and ending with 30 \n",
    "# (but not including) incremented by 5.\n",
    "arange( 10, 30, 5 )"
   ]
  },
  {
   "cell_type": "code",
   "execution_count": null,
   "metadata": {
    "collapsed": false
   },
   "outputs": [],
   "source": [
    "# what happens when one or more of the arguments is a float?\n",
    "arange( 10, 30, 5.)"
   ]
  },
  {
   "cell_type": "code",
   "execution_count": null,
   "metadata": {
    "collapsed": false
   },
   "outputs": [],
   "source": [
    "# thus a float may be used as any argument!\n",
    "arange( 0, 2, 0.3 )"
   ]
  },
  {
   "cell_type": "markdown",
   "metadata": {},
   "source": [
    "When `arange()` is used with floating point arguments, it is not always possible to predict the length of the resulting array due to floating point precision. For this reason, NumPy provides `linspace()` and `logspace()` that instead require the number of elements instead of the increment,"
   ]
  },
  {
   "cell_type": "code",
   "execution_count": null,
   "metadata": {
    "collapsed": false
   },
   "outputs": [],
   "source": [
    "# Unlike arange(), linspace() outputs arrays with datatype float by default which is more\n",
    "# natural for scientific computing\n",
    "linspace( 0, 2, 10)"
   ]
  },
  {
   "cell_type": "code",
   "execution_count": null,
   "metadata": {
    "collapsed": false
   },
   "outputs": [],
   "source": [
    "# linspace() is very useful for plotting functions, as we will see in the last lecture\n",
    "x = linspace(0, 2*pi, 10)\n",
    "sin(x)"
   ]
  },
  {
   "cell_type": "code",
   "execution_count": null,
   "metadata": {
    "collapsed": false
   },
   "outputs": [],
   "source": [
    "# logspace() outputs a logarithmic scale, by default the base is 10, but any value can be\n",
    "# used, this functionality will be very useful later in your coursework!\n",
    "\n",
    "# the first two arguments are the power to which the base is raised, not the actual value\n",
    "# in the case, the output will be a logarithmic scale sequence starting at 10**0 and ending\n",
    "# (but not including) 10**3 with 10 points.\n",
    "logspace(0, 3, 10)"
   ]
  },
  {
   "cell_type": "markdown",
   "metadata": {},
   "source": [
    "### Printing Arrays\n",
    "\n",
    "Printing small arrays is a relatively simple task, even if they are high dimensional. By default, NumPy decomposes arrays of dimension more than 2 into a two-dimensional representation."
   ]
  },
  {
   "cell_type": "code",
   "execution_count": null,
   "metadata": {
    "collapsed": false
   },
   "outputs": [],
   "source": [
    "# a 2D array example, arange only outputs 1D arrays so we must reshape()\n",
    "b = arange(12)\n",
    "b = b.reshape(4, 3)\n",
    "print(b)"
   ]
  },
  {
   "cell_type": "code",
   "execution_count": null,
   "metadata": {
    "collapsed": false
   },
   "outputs": [],
   "source": [
    "# a 3D array example using a more compact way to immediately reshape\n",
    "# the 1D array returned by arange()\n",
    "c = arange(24).reshape(2,3,4)\n",
    "print(c)"
   ]
  },
  {
   "cell_type": "markdown",
   "metadata": {},
   "source": [
    "Frequently we will be using arrays of large size. In these cases printing the array is infeasible and NumPy automatically skips the central part of the array. We may still inspect large sets of data, but to do this we will need plotting and visualization tools."
   ]
  },
  {
   "cell_type": "code",
   "execution_count": null,
   "metadata": {
    "collapsed": false
   },
   "outputs": [],
   "source": [
    "# a large 1D array\n",
    "print(arange(10000))"
   ]
  },
  {
   "cell_type": "code",
   "execution_count": null,
   "metadata": {
    "collapsed": false
   },
   "outputs": [],
   "source": [
    "# a large 2D array\n",
    "print(arange(10000).reshape(100,100))"
   ]
  },
  {
   "cell_type": "markdown",
   "metadata": {},
   "source": [
    "### Operations - Binary Operations and \"Broadcasting\"\n",
    "\n",
    "Now that we have a basic understanding of creating NumPy arrays, we can now start using arithmetic operators on them. NumPy applies arithmetic operators on arrays *elementwise* and (typically) creates a new array  initialized with the resulting values."
   ]
  },
  {
   "cell_type": "code",
   "execution_count": null,
   "metadata": {
    "collapsed": false
   },
   "outputs": [],
   "source": [
    "a = array( [20,30,40,50] )\n",
    "b = arange( 4 )\n",
    "\n",
    "print(a, b)\n",
    "\n",
    "# this operation will be applied elementwise\n",
    "c = a - b\n",
    "c"
   ]
  },
  {
   "cell_type": "code",
   "execution_count": null,
   "metadata": {
    "collapsed": false
   },
   "outputs": [],
   "source": [
    "# raising an array to a power results in a new array with each element raised to a power\n",
    "a**2"
   ]
  },
  {
   "cell_type": "code",
   "execution_count": null,
   "metadata": {
    "collapsed": false
   },
   "outputs": [],
   "source": [
    "# passing an array to the sin() function returns a new array of the values of the sin() applied\n",
    "# to each element of a\n",
    "sin(a)"
   ]
  },
  {
   "cell_type": "code",
   "execution_count": null,
   "metadata": {
    "collapsed": false
   },
   "outputs": [],
   "source": [
    "# here is an interesting case, now the comparison is applied to each element of `a` and a new\n",
    "# array is created with the results of these comparisons!\n",
    "a < 35"
   ]
  },
  {
   "cell_type": "markdown",
   "metadata": {},
   "source": [
    "When you add, subtract, multiply, or divide arrays of the same shape these operations are performed elementwise. Clearly we need some additional functionality if we want to perform matrix algebra using NumPy."
   ]
  },
  {
   "cell_type": "code",
   "execution_count": null,
   "metadata": {
    "collapsed": false
   },
   "outputs": [],
   "source": [
    "A = array( [[1,1],\n",
    "            [0,1]] )\n",
    "B = array( [[2,-1],\n",
    "            [3,4]] )\n",
    "print(A + B)\n",
    "print(A - B)\n",
    "print(A * B)\n",
    "print(A / B)"
   ]
  },
  {
   "cell_type": "markdown",
   "metadata": {},
   "source": [
    "When arrays have different shapes, things get a bit more complicated. NumPy tries to \"broadcast\" the operation elementwise, where elements can be sub-arrays. This can cause quite a bit of confusion; let's explore this behaviour using examples."
   ]
  },
  {
   "cell_type": "code",
   "execution_count": null,
   "metadata": {
    "collapsed": false
   },
   "outputs": [],
   "source": [
    "# A and B have different shapes, so NumPy tries to find sequences of sub-arrays of the smaller \n",
    "# array in the larger array.\n",
    "A = array( [[1, 1, 1],\n",
    "            [1, 0, 1]] )\n",
    "B = array( [2, 0, 1] )\n",
    "\n",
    "# `A`  is the larger array, thus NumPy determines if there are sub-arrays in `A` with the same\n",
    "# shape as `B` and then applies the subtraction to these subarrays!\n",
    "\n",
    "# The array resulting from these types of arithmetic operations has the shape of the *larger*\n",
    "# array\n",
    "print(A - B)\n",
    "print(B - A)"
   ]
  },
  {
   "cell_type": "markdown",
   "metadata": {},
   "source": [
    "Broadcasting is not always successful,"
   ]
  },
  {
   "cell_type": "code",
   "execution_count": null,
   "metadata": {
    "collapsed": false
   },
   "outputs": [],
   "source": [
    "A = array( [[1, 1, 1],\n",
    "            [1, 0, 1]] )\n",
    "B = array( [2, 0] )\n",
    "\n",
    "A - B"
   ]
  },
  {
   "cell_type": "markdown",
   "metadata": {},
   "source": [
    "Can you formulate the rule that NumPy uses to determine if arithmetic operations broadcast or not? Use the error from the previous evaluation to help your thought process. In the successful evaluation the shapes of the arrays were,\n",
    "\n",
    "`A.shape = (2,3)`  \n",
    "`B.shape = (3,)`  \n",
    "\n",
    "and for the unsuccessful evaluation,\n",
    "\n",
    "`A.shape = (2,3)`  \n",
    "`B.shape = (2,)`  \n",
    "\n",
    "What is the difference between the two sets of arrays? In the first case, NumPy evaluates the arithmetic operation elementwise where the element is a 1D array of size 3! Thus NumPy \"sees\" two elements of size B in array A.\n",
    "\n",
    "In the second case, NumPy cannot find sub-arrays of A of the same shape as B. Thus you might have been able to deduct the general rule that NumPy uses for broadcasting arithmetic operations:\n",
    "\n",
    "**1)** Compare the dimensions of A and B,\n",
    "\n",
    "`A.dim = a`  \n",
    "`B.dim = b`\n",
    "\n",
    "**2)** Assuming a > b, compare the last b values of the shapes of A and B, if they are equal the arithmetic operation broadcasts, else it does not.\n",
    "\n",
    "Let's try a few examples,"
   ]
  },
  {
   "cell_type": "code",
   "execution_count": null,
   "metadata": {
    "collapsed": false
   },
   "outputs": [],
   "source": [
    "# An arithmetic operation should broadcast for arrays of shape (a,b,c) and (b,c)\n",
    "A = arange(12).reshape(2,3,2)\n",
    "B = arange(6).reshape(3,2)\n",
    "\n",
    "print(A)\n",
    "print(\"----------\")\n",
    "print(B)"
   ]
  },
  {
   "cell_type": "code",
   "execution_count": null,
   "metadata": {
    "collapsed": false
   },
   "outputs": [],
   "source": [
    "print(A + B)\n",
    "print(\"-\"*8) # a more compact way of printing a divider!\n",
    "print(A * B)"
   ]
  },
  {
   "cell_type": "markdown",
   "metadata": {},
   "source": [
    "### Operations - Unary Operations\n",
    "\n",
    "Many unary operations, such as computing the sum of all the elements in the array, are implemented as methods of the `ndarray` class,"
   ]
  },
  {
   "cell_type": "code",
   "execution_count": null,
   "metadata": {
    "collapsed": false
   },
   "outputs": [],
   "source": [
    "A = arange(6).reshape((2,3))\n",
    "A"
   ]
  },
  {
   "cell_type": "code",
   "execution_count": null,
   "metadata": {
    "collapsed": false
   },
   "outputs": [],
   "source": [
    "A.sum()"
   ]
  },
  {
   "cell_type": "code",
   "execution_count": null,
   "metadata": {
    "collapsed": false
   },
   "outputs": [],
   "source": [
    "A.min()"
   ]
  },
  {
   "cell_type": "code",
   "execution_count": null,
   "metadata": {
    "collapsed": false
   },
   "outputs": [],
   "source": [
    "A.max()"
   ]
  },
  {
   "cell_type": "markdown",
   "metadata": {},
   "source": [
    "By default, these unary operations are evaluated regardless of the shape of the array, treating it like a collection of numbers. However, by specifying the `axis` parameter you may apply the operation over each a sub-array element resulting from treating the values over each element in the axis specified,"
   ]
  },
  {
   "cell_type": "code",
   "execution_count": null,
   "metadata": {
    "collapsed": false
   },
   "outputs": [],
   "source": [
    "B = arange(12).reshape(3,4)\n",
    "B"
   ]
  },
  {
   "cell_type": "code",
   "execution_count": null,
   "metadata": {
    "collapsed": false
   },
   "outputs": [],
   "source": [
    "# sum over the first axis (3, 4)->(4,)\n",
    "B.sum(axis=0)"
   ]
  },
  {
   "cell_type": "code",
   "execution_count": null,
   "metadata": {
    "collapsed": false
   },
   "outputs": [],
   "source": [
    "# sum over the second axis (3, 4)->(3,)\n",
    "B.sum(axis=1)"
   ]
  },
  {
   "cell_type": "markdown",
   "metadata": {},
   "source": [
    "In addition to unary functions that are methods of NumPy arrays, many other more general functions exist that evaluate frequently used trigonometric and other special functions. Once again, these are evaluated elementwise regardless of the shape of the array,"
   ]
  },
  {
   "cell_type": "code",
   "execution_count": null,
   "metadata": {
    "collapsed": false
   },
   "outputs": [],
   "source": [
    "B = arange(3)\n",
    "print(B)\n",
    "exp(B)"
   ]
  },
  {
   "cell_type": "code",
   "execution_count": null,
   "metadata": {
    "collapsed": false
   },
   "outputs": [],
   "source": [
    "sqrt(B)"
   ]
  }
 ],
 "metadata": {
  "kernelspec": {
   "display_name": "Python 3",
   "language": "python",
   "name": "python3"
  },
  "language_info": {
   "codemirror_mode": {
    "name": "ipython",
    "version": 3
   },
   "file_extension": ".py",
   "mimetype": "text/x-python",
   "name": "python",
   "nbconvert_exporter": "python",
   "pygments_lexer": "ipython3",
   "version": "3.5.2"
  }
 },
 "nbformat": 4,
 "nbformat_minor": 1
}
