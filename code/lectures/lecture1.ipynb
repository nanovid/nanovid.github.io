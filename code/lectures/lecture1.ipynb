{
 "cells": [
  {
   "cell_type": "markdown",
   "metadata": {},
   "source": [
    "## Welcome to **NE 111 Introduction to Programming for Engineers**!\n",
    "\n",
    "The objectives of this lecture are to:\n",
    "\n",
    "1. Introduce the course (see the course outline).\n",
    "2. Provide several motivating examples of programming in engineering.\n",
    "3. Introduce computer programming (PracProg Chapter 1).\n"
   ]
  },
  {
   "cell_type": "markdown",
   "metadata": {},
   "source": [
    "# I. Course Introduction"
   ]
  },
  {
   "cell_type": "markdown",
   "metadata": {},
   "source": [
    "*See Course Outline on LEARN*"
   ]
  },
  {
   "cell_type": "markdown",
   "metadata": {},
   "source": [
    "# II. Introduction to Computer Programming"
   ]
  },
  {
   "cell_type": "markdown",
   "metadata": {},
   "source": [
    "Why study computer programming, or more formally, computer science? I think that the best place to start is the definition of *engineering*:\n",
    "\n",
    "*\"the application of science and mathematics by which the properties of matter and the sources of energy in nature are made useful to people\"*\n",
    "\n",
    "Engineers *apply* science and mathematics and thus you will spend quite a bit of time studying the natural sciences (biology, chemistry, physics) and mathematics (algebra, calculus). Computer science is a very recent development which has increased in significance as computing capacity (computational speed, memory, and storage) has increased. As a result of its recent arrival, it has not yet been well-incorporated into primary and secondary curricula.\n",
    "\n",
    "This course was developed to address this and ensure that for future terms all Nanotechnology engineering students have a uniform background in computer programming and basic concepts of Computer Science. You will be heavily employing these concepts, and learning new ones, throughout your undergraduate engineering experience and future career.\n",
    "\n",
    "Before we \"dive in\" to an overview of computer programming, let's see a few engineering applications of computer programming that you will find relevant to your first-year experience..."
   ]
  },
  {
   "cell_type": "markdown",
   "metadata": {},
   "source": [
    "## Matrix Algebra (using Python and NumPy)"
   ]
  },
  {
   "cell_type": "markdown",
   "metadata": {},
   "source": [
    "Engineers frequently use matrix algebra to compactly represent and manipulate systems of equations. A simple example of a linear system of equations is a discrete dynamical system, as follows (Hardy, Illustration 2.8):\n",
    "\n",
    "$$\n",
    "\\begin{eqnarray}\n",
    "a_{k+1} =  0.6 a_k + 0.1 d_k + 0.2 s_k\\\\\\\n",
    "d_{k+1} =  0.1 a_k + 0.7 d_k + 0.1 s_k\\\\\\\n",
    "s_{k+1} =  0.1 a_k + 0.1 d_k + 0.6 s_k\\\\\\\n",
    "\\end{eqnarray}\n",
    "$$\n",
    "where $a_k$, $d_k$, $s_k$ are the number of cars at time $t_k$ at the three locations (airport, downtown, and suburbs) of a car rental agency. This system of linear equations represents the evolution of the number of cars at each location over time. It may be compactly represented in matrix form as follows:\n",
    "$$\n",
    "\\begin{equation}\n",
    "\\left[\n",
    "\\begin{array}{c}\n",
    "a_{k+1}\\\\\\\n",
    "d_{k+1}\\\\\\\n",
    "s_{k+1}\\\\\\\n",
    "\\end{array}\n",
    "\\right]\n",
    "=\\left[\n",
    "\\begin{array}{c c c}\n",
    "0.6 & 0.1 & 0.2 \\\\\\\n",
    "0.1 & 0.7 & 0.1 \\\\\\\n",
    "0.1 & 0.1 & 0.6 \\\\\\\n",
    "\\end{array}\n",
    "\\right]\n",
    "\\left[\n",
    "\\begin{array}{c}\n",
    "a_{k}\\\\\\\n",
    "d_{k}\\\\\\\n",
    "s_{k}\\\\\\\n",
    "\\end{array}\n",
    "\\right]\n",
    "\\end{equation}\n",
    "$$\n",
    "where\n",
    "$$\n",
    "\\begin{equation}\n",
    "\\left[\n",
    "\\begin{array}{c}\n",
    "a_{0}\\\\\\\n",
    "d_{0}\\\\\\\n",
    "s_{0}\\\\\\\n",
    "\\end{array}\n",
    "\\right]\n",
    "=\n",
    "\\left[\n",
    "\\begin{array}{c}\n",
    "100\\\\\\\n",
    "50\\\\\\\n",
    "10\\\\\\\n",
    "\\end{array}\n",
    "\\right]\n",
    "\\end{equation}\n",
    "$$\n",
    "Determining the distribution of cars at $t_{15}$ by hand is tedious, so we use computer programming instead!"
   ]
  },
  {
   "cell_type": "code",
   "execution_count": 1,
   "metadata": {},
   "outputs": [
    {
     "name": "stdout",
     "output_type": "stream",
     "text": [
      "At t=15 the distribution of cars is:\n",
      "[[ 5.]\n",
      " [ 6.]\n",
      " [ 4.]]\n"
     ]
    }
   ],
   "source": [
    "# Import numerical functionality for Python\n",
    "from numpy import *\n",
    "\n",
    "# set the precision at which numbers are displayed (not stored)\n",
    "set_printoptions(precision=2)\n",
    "\n",
    "# Initialize matrices: 1) the initial distribution and 2) the transition matrix\n",
    "u0 = matrix('100.; 50.; 10.')\n",
    "A = matrix('0.6 0.1 0.2; 0.1 0.7 0.1; 0.1 0.1 0.6')\n",
    "\n",
    "n = 15\n",
    "\n",
    "# Compute the distribution of cars after 15 timesteps\n",
    "u15 = A**n * u0\n",
    "\n",
    "# print the result\n",
    "print('At t=' + str(n) + ' the distribution of cars is:')\n",
    "print(floor(u15))"
   ]
  },
  {
   "cell_type": "markdown",
   "metadata": {},
   "source": [
    "it looks like our area has a car theft problem..."
   ]
  },
  {
   "cell_type": "markdown",
   "metadata": {},
   "source": [
    "## Solving a linear system (using NumPy)"
   ]
  },
  {
   "cell_type": "markdown",
   "metadata": {},
   "source": [
    "Another application of computer programming, also focusing on linear algebra, involves solving a system of linear equations:\n",
    "$$\n",
    "\\mathbf{Ax} = \\mathbf{b}\n",
    "$$\n",
    "which typically represents, approximately, a system we wish to analyze. In this example we will form an interpolant function by \"fitting\" $n$ observed data points (in time) to a polynomial function of time:\n",
    "$$\n",
    "p(t) = \\sum_{i=0}^{n-1} a_i t^i\n",
    "$$\n",
    "In this example, we measure the altitude of an airplane $f(t)$ at $5$ different points in time:\n",
    "$$\n",
    "\\begin{align}\n",
    "f(0) = 10\\\\\\\n",
    "f(0.5) = 15\\\\\\\n",
    "f(1.5) = 18\\\\\\\n",
    "f(2) = 20\\\\\\\n",
    "f(4) = 21\\\\\\\n",
    "\\end{align}\n",
    "$$\n",
    "and wish to fit this to a $4^{th}$ order polynomial. This results in a system of $5$ equations:\n",
    "$$\n",
    "\\begin{align}\n",
    "10 &=& (0)^4 a_4  &+& (0)^3 a_3& &+& (0)^2 a_2 &+& (0)^1 a_1 &+& (0)^0 a_0\\\\\\\n",
    "15 &=& (0.5)^4 a_4 &+& (0.5)^3 a_3& &+& (0.5)^2 a_2 &+& (0.5)^1 a_1 &+& (0.5)^0 a_0\\\\\\\n",
    "18 &=& (1.5)^4 a_4 &+& (1.5)^3 a_3& &+& (1.5)^2 a_2 &+& (1.5)^1 a_1 &+& (1.5)^0 a_0\\\\\\\n",
    "20 &=& (2)^4 a_4 &+& (2)^3 a_3& &+& (2)^2 a_2 &+& (2)^1 a_1 &+& (2)^0 a_0\\\\\\\n",
    "21 &=& (4)^4 a_4 &+& (4)^3 a_3& &+& (4)^2 a_2 &+& (4)^1 a_1 &+& (4)^0 a_0\\\\\\\n",
    "\\end{align}\n",
    "$$\n",
    "which is in matrix form:\n",
    "$$\n",
    "\\begin{equation}\n",
    "\\left[\n",
    "\\begin{array}{c c c c c}\n",
    "(0)^4 & (0)^3 & (0)^2 & (0)^1 & (0)^0\\\\\\\n",
    "(0.5)^4 & (0.5)^3 & (0.5)^2 & (0.5)^1 & (0.5)^0\\\\\\\n",
    "(1.5)^4 & (1.5)^3 & (1.5)^2 & (1.5)^1 & (1.5)^0\\\\\\\n",
    "(2)^4 & (2)^3 & (2)^2 & (2)^1 & (2)^0\\\\\\\n",
    "(4)^4 & (4)^3 & (4)^2 & (4)^1 & (4)^0\\\\\\\n",
    "\\end{array}\n",
    "\\right]\n",
    "\\left[\n",
    "\\begin{array}{c}\n",
    "a_4\\\\\\\n",
    "a_3\\\\\\\n",
    "a_2\\\\\\\n",
    "a_1\\\\\\\n",
    "a_0\\\\\\\n",
    "\\end{array}\n",
    "\\right]\n",
    "=\\left[\n",
    "\\begin{array}{c}\n",
    "10\\\\\\\n",
    "15\\\\\\\n",
    "18\\\\\\\n",
    "20\\\\\\\n",
    "21\\\\\\\n",
    "\\end{array}\n",
    "\\right]\n",
    "\\end{equation}\n",
    "$$\n",
    "which we may solve more easily using computer programming than by hand!"
   ]
  },
  {
   "cell_type": "code",
   "execution_count": null,
   "metadata": {},
   "outputs": [],
   "source": [
    "# Import numerical functionality for Python\n",
    "from numpy import *\n",
    "\n",
    "# set the precision at which numbers are displayed (not stored)\n",
    "set_printoptions(precision=2)\n",
    "\n",
    "\n",
    "# Initialize matrices\n",
    "t = matrix('0.; 0.5; 1.5; 2.; 4.')\n",
    "f = matrix('10.; 15.; 18.; 20.; 21.')\n",
    "\n",
    "n = 5\n",
    "\n",
    "# we may compute the matrix A later, so allocate an\n",
    "# array with all entries zero\n",
    "A = matrix(zeros((5,5)))\n",
    "\n",
    "# now compute the columns of A from t\n",
    "for i in range(n):\n",
    "    A[:,i] = array(t)**(n - i - 1)\n",
    "    \n",
    "# use the linear algebra to solve the linear system\n",
    "# via LU-factorization, NumPy \"wraps\" the library \n",
    "# LAPACK which is written in a low-level language (FORTRAN)\n",
    "p = linalg.solve(A,f)\n",
    "\n",
    "# print the result\n",
    "print('The polynomial of order '+ str(n-1) + ' which fits this data has coefficients:')\n",
    "print(p)"
   ]
  },
  {
   "cell_type": "markdown",
   "metadata": {},
   "source": [
    "In this case, print the raw solution is not sufficient for interpreting our results. We address this in the next example through visualizing our function in the form of a plot."
   ]
  },
  {
   "cell_type": "markdown",
   "metadata": {},
   "source": [
    "## Defining and Plotting a Function (using NumPy and PyLab)"
   ]
  },
  {
   "cell_type": "markdown",
   "metadata": {},
   "source": [
    "Visualizing data is a key, but often neglected, task where computer programming is useful. In the previous example we solved for an interpolating function $p(t)$ which approximates another function $f(t)$ of which we have only a few data points.\n",
    "\n",
    "Now we will definite a function and plot that function in order to interpret our fit; we are particularly interested in the altitude that the airplane approaches after a \"long\" time."
   ]
  },
  {
   "cell_type": "code",
   "execution_count": null,
   "metadata": {},
   "outputs": [],
   "source": [
    "# this first import is not needed in that imports/data \n",
    "# from previous examples persists, but we do need to \n",
    "# import plotting functionality which does not exist\n",
    "# in NumPy\n",
    "from numpy import *\n",
    "from matplotlib import pyplot\n",
    "\n",
    "# we need to define a function that evaluates polynomial\n",
    "# for a given set of coefficients, p, NumPy conveniently\n",
    "# already implements this\n",
    "fi = lambda x: polyval(p,x)\n",
    "\n",
    "# we may now define an arbritrary* number of time points\n",
    "# within the range [0,4] (interpolation) or outside of\n",
    "# the range (extrapolation)\n",
    "ti = linspace(0.,4.,1000)\n",
    "\n",
    "# now we can plot our interpolating function along with\n",
    "# the observed points\n",
    "pyplot.plot(ti,fi(ti),label='Fit')\n",
    "pyplot.plot(t,f,'o',label='Exact')\n",
    "pyplot.xlabel('Time (minutes)')\n",
    "pyplot.ylabel('Altitude (km)')\n",
    "pyplot.legend(loc='lower left')\n",
    "pyplot.show()"
   ]
  },
  {
   "cell_type": "markdown",
   "metadata": {},
   "source": [
    "It seems as if there is a problem with our interpolating polynomial, but we will not explore this further in *this* course!"
   ]
  },
  {
   "cell_type": "markdown",
   "metadata": {},
   "source": [
    "## Solving an Equation Symbolicly (using SymPy)"
   ]
  },
  {
   "cell_type": "markdown",
   "metadata": {},
   "source": [
    "In this application we will use a powerful open-source (and free!) symbolic mathematics library for Python called [SymPy](http://sympy.org/en/index.html). We will start with a fourth order polynomial $f(x)$:\n",
    "$$\n",
    "f(x) = (2 x - 1)(x - 3)(x + 1)(x + 3/2)\n",
    "$$\n",
    "which is in a convenient factored form. Frequently polynomials are found in expanded form, let's use SymPy to work with that tedious case."
   ]
  },
  {
   "cell_type": "code",
   "execution_count": null,
   "metadata": {},
   "outputs": [],
   "source": [
    "# import symbolic math functionality for Python\n",
    "from sympy import *\n",
    "\n",
    "# create a variable\n",
    "x = symbols('x',real=True)\n",
    "\n",
    "# create the polynomial expression and expand\n",
    "f = (2.*x - 1.)*(x - 3.)*(x + 1)*(x + Rational(3,2))\n",
    "f = f.expand()\n",
    "\n",
    "# sample symbolic evaluations\n",
    "print('Function: ', f)\n",
    "print('Roots: ', solve(f,x))\n",
    "print('Derivative: ', diff(f,x))\n",
    "print('Integral: ', integrate(f,x))\n",
    "print('f(5) = ', f.evalf(subs={x : 5.}))\n",
    "\n",
    "print('\\n')\n",
    "\n",
    "# the polynomial example was a bit trivial, let's try \n",
    "# something more complicated\n",
    "f = sin(2*x)*exp(-x)\n",
    "print('Function: ', f)\n",
    "print('Roots: ', solve(f,x))\n",
    "print('Derivative: ', diff(f,x))\n",
    "print('Integral: ', integrate(f,x))\n",
    "print('f(0.1) = ', f.evalf(subs={x : 0.1}))\n"
   ]
  },
  {
   "cell_type": "markdown",
   "metadata": {},
   "source": [
    "Now that we have motivated the use of programming in Engineering, let's go over a formal introduction! "
   ]
  },
  {
   "cell_type": "markdown",
   "metadata": {},
   "source": [
    "## What is Programming?"
   ]
  },
  {
   "cell_type": "markdown",
   "metadata": {},
   "source": [
    "First of all, you will not simply learn \"programming\" in this course. Based upon common interpretations of what the act of programming is, you could learn this on your own without any significant guidance. The same is the case for wood carving - anyone can pick-up tools and proceed to carve wood, but what will be the result of this? Depending on one's training the result could be a beautiful sculpture or a functional piece of furniture (or a combination of both).\n",
    "\n",
    "In this course you will learn basic concepts of Computer Science, one of which is programming using [Python](http://www.python.org). A more general concept which you will learn indirectly is [computational thinking](https://www.cs.cmu.edu/afs/cs/usr/wing/www/publications/Wing06.pdf) which is guided by the following principles:\n",
    "\n",
    "* *Conceptualization* - using multiple levels of abstraction in order to solve a complex problem.\n",
    "* *Natural thought* - solve problems in a natural (human) way before programming.\n",
    "* *Everyone, everywhere* - apply computational thinking to broadly, not just to problems that are conducive to be solved using a computer. \n",
    "\n",
    "###Programs and Programming Language\n",
    "\n",
    "A useful analogy with which to define the concept of a *computer program* is with something you do everyday -- give directions! When you communicate (written, verbal, etc) a set of instructions to someone, you have created a *program*. Your peer *executes* this program by following the instructions.\n",
    "\n",
    "There are three key attributes of a program:\n",
    "1. They are created using a set of basic operations (left, right, straight) to form individual instructions  (\"Turn left onto Weber St.\", \"Proceed straight for five miles.\", etc.).\n",
    "2. They are sequential, that is, the order in which the instructions are executed is significant.\n",
    "3. They are communicated using a language which is understandable to those who execute the program.\n",
    "\n",
    "As opposed to language intended for human/human communication (including programming), *programming languages* refer specifically to languages intended for humans to generate programs which may be executed by a computer. There are many different types of programming languages which are useful for generating different types of programs.\n",
    "\n",
    "For general engineering use, we typically use *high-level* programming languages, as opposed to low-level ones. We will learn the difference soon, but an example should provide a general idea of the difference. Here is sample code that prints the current time in Python (high-level):\n",
    "```python    \n",
    "    #!/usr/bin/python\n",
    "    import time\n",
    "\n",
    "    localtime = time.asctime( time.localtime(time.time()) )\n",
    "    print \"Local current time :\", localtime\n",
    "```\n",
    "\n",
    "Here is a program that does the same thing in C (low-level):\n",
    "```C\n",
    "     #include <time.h>\n",
    "     #include <stdio.h>\n",
    "     \n",
    "     #define SIZE 256\n",
    "     \n",
    "     int main (void)\n",
    "     {\n",
    "       char buffer[SIZE];\n",
    "       time_t curtime;\n",
    "       struct tm *loctime;\n",
    "     \n",
    "       curtime = time (NULL);\n",
    "       loctime = localtime (&curtime);\n",
    "     \n",
    "       fputs (asctime (loctime), stdout);\n",
    "     \n",
    "       return 0;\n",
    "     }\n",
    "```\n",
    "\n",
    "What differences can you identify? Which would you prefer to use for solving engineering problems? The answer might seem obvious and directly correlate to the number of parentheses (), brackets [], and braces {} within each code block. We will shortly learn that the answer is not so obvious; each type of programming language has advantages and disadvantages.\n",
    "\n",
    "At this point the concepts of a *program* and a *programming language* should be clear. Throughout this course and for the rest of your career, you will frequently be creating programs that use a simple set of instructions to do complex tasks. You will find that all programming languages all have in common sets of instructions that fall into these three classifications:\n",
    "\n",
    "1. Arithmetic - instructions for programming mathematical expressions.\n",
    "2. Iterators - instructions for repeating a subroutine (\"sub-program\").\n",
    "3. Conditionals - instructions for executing various subroutines depending on a condition (e.g., if *value* is less than one, execute a special subroutine).\n",
    "\n",
    "In this course we will focus on the [Python programming language](http://www.python.org) for a many reasons including:\n",
    "\n",
    "1. Python has very clear, readable syntax\n",
    "2. It has \"natural\" expression of procedural code\n",
    "3. It has extensive standard libraries and third party modules for virtually every task\n",
    "4. It allows extensions and modules easily written in C, C++ and easy incorporation of FORTRAN routines.\n",
    "\n",
    "Python is an excellent programming language for both teaching and everyday programming. You will find it much easier to learn another programming language once you know the fundamentals of Python!\n",
    "\n",
    "### Programming Bugs\n",
    "\n",
    "A \"bug\" in a program refers to an error in its code which causes unexpected behaviour. Execution of programs with *bugs* can result in any of the following:\n",
    "\n",
    "* an abrupt \"crash\" or termination of your program.\n",
    "* an incorrect result (2+2=5).\n",
    "* a correct result!\n",
    "\n",
    "Many bugs are very obvious (you will notice if your program crashes each time you run it), but some bugs are more subtle, perhaps only causing problems under very specific conditions. These bugs are more insidious, since they can lurk undetected for long periods of time.\n",
    "\n",
    "You will inevitably introduce bugs into your code, so you will learn later in the course how to prevent (design), identify (testing), and fix them when they occur."
   ]
  }
 ],
 "metadata": {
  "kernelspec": {
   "display_name": "Python 3",
   "language": "python",
   "name": "python3"
  },
  "language_info": {
   "codemirror_mode": {
    "name": "ipython",
    "version": 3
   },
   "file_extension": ".py",
   "mimetype": "text/x-python",
   "name": "python",
   "nbconvert_exporter": "python",
   "pygments_lexer": "ipython3",
   "version": "3.5.3"
  }
 },
 "nbformat": 4,
 "nbformat_minor": 1
}
