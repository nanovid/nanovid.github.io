{
 "cells": [
  {
   "cell_type": "markdown",
   "metadata": {},
   "source": [
    "## Lecture 7\n",
    "\n",
    "The objectives of this lecture are to:\n",
    "\n",
    "1. Learn how Python handles text -- the `str` object.\n",
    "2. Printing text -- user output.\n",
    "3. Querying text -- user input."
   ]
  },
  {
   "cell_type": "markdown",
   "metadata": {},
   "source": [
    "# The `str` object\n",
    "\n",
    "Creation and manipulation of text is unavoidable when writing computer programs. One of the strengths of Python, compared to other programming languages, is that these tasks are relatively simple. For example, Python does not distinguish between a single character `'a'` and a \"string\" of characters `\"abc\"`. These are both considered strings and may be represented as values of type `str`,"
   ]
  },
  {
   "cell_type": "code",
   "execution_count": 1,
   "metadata": {
    "collapsed": false
   },
   "outputs": [
    {
     "name": "stdout",
     "output_type": "stream",
     "text": [
      "<class 'str'> <class 'str'>\n"
     ]
    }
   ],
   "source": [
    "char = \"a\"\n",
    "string = \"abc\"\n",
    "\n",
    "print(type(char), type(string))"
   ]
  },
  {
   "cell_type": "markdown",
   "metadata": {},
   "source": [
    "Subsequently, Python allows the use of either single or double quotes to create string values, as long as both are used consistently,"
   ]
  },
  {
   "cell_type": "code",
   "execution_count": 2,
   "metadata": {
    "collapsed": false
   },
   "outputs": [
    {
     "ename": "SyntaxError",
     "evalue": "EOL while scanning string literal (<ipython-input-2-9a5cb8d0a1c8>, line 3)",
     "output_type": "error",
     "traceback": [
      "\u001b[0;36m  File \u001b[0;32m\"<ipython-input-2-9a5cb8d0a1c8>\"\u001b[0;36m, line \u001b[0;32m3\u001b[0m\n\u001b[0;31m    \"This will not work'\u001b[0m\n\u001b[0m                        ^\u001b[0m\n\u001b[0;31mSyntaxError\u001b[0m\u001b[0;31m:\u001b[0m EOL while scanning string literal\n"
     ]
    }
   ],
   "source": [
    "'This will work'\n",
    "\"This will also work\"\n",
    "\"This will not work'"
   ]
  },
  {
   "cell_type": "markdown",
   "metadata": {},
   "source": [
    "The length of a string is not limited, other than by the memory accessible by the interpreter. The shortest string is the *empty string* and we may determine the length (in number of characters) using the built-in `len()`,"
   ]
  },
  {
   "cell_type": "code",
   "execution_count": 3,
   "metadata": {
    "collapsed": false
   },
   "outputs": [
    {
     "name": "stdout",
     "output_type": "stream",
     "text": [
      "0 7\n"
     ]
    }
   ],
   "source": [
    "empty_string = \"\"\n",
    "not_empty_string = \"Hello! \"\n",
    "\n",
    "print(len(empty_string), len(not_empty_string))"
   ]
  },
  {
   "cell_type": "markdown",
   "metadata": {},
   "source": [
    "Strings are *sequences* of characters, which allow us to do many things that we do not have the background to understand, yet. For now we will learn a sub-set of string manipulations that do not require a detailed understanding of sequences.\n",
    "\n",
    "### Operations on Strings\n",
    "\n",
    "Initially, we will learn several basic operations on strings:\n",
    "\n",
    "* Concatenation -- creating a single string out of many.\n",
    "* Repetition -- creating a single string out of multiples of another single string.\n",
    "* Conversion -- converting a string to another value and vice versa.\n",
    "\n",
    "The syntax for addition of strings is intuitive and involves the `+` operator,"
   ]
  },
  {
   "cell_type": "code",
   "execution_count": 4,
   "metadata": {
    "collapsed": false
   },
   "outputs": [
    {
     "data": {
      "text/plain": [
       "'NikolaTesla'"
      ]
     },
     "execution_count": 4,
     "metadata": {},
     "output_type": "execute_result"
    }
   ],
   "source": [
    "\"Nikola\" + \"Tesla\""
   ]
  },
  {
   "cell_type": "markdown",
   "metadata": {},
   "source": [
    "Concatenation maintains the order of the original strings in the newly created one,"
   ]
  },
  {
   "cell_type": "code",
   "execution_count": 5,
   "metadata": {
    "collapsed": false
   },
   "outputs": [
    {
     "data": {
      "text/plain": [
       "'Nikola Tesla'"
      ]
     },
     "execution_count": 5,
     "metadata": {},
     "output_type": "execute_result"
    }
   ],
   "source": [
    "# I forgot a \" \"\n",
    "\"Nikola\" + \" \" + \"Tesla\""
   ]
  },
  {
   "cell_type": "markdown",
   "metadata": {},
   "source": [
    "We may use the `*` operator to repeat a string an integer number of times,"
   ]
  },
  {
   "cell_type": "code",
   "execution_count": 6,
   "metadata": {
    "collapsed": false
   },
   "outputs": [
    {
     "data": {
      "text/plain": [
       "'METALLICA! METALLICA! METALLICA! METALLICA! METALLICA! METALLICA! METALLICA! METALLICA! METALLICA! METALLICA! '"
      ]
     },
     "execution_count": 6,
     "metadata": {},
     "output_type": "execute_result"
    }
   ],
   "source": [
    "\"METALLICA! \" * 10"
   ]
  },
  {
   "cell_type": "markdown",
   "metadata": {},
   "source": [
    "Typically this is done for a positive integer value, but zero and negative integers are allowed but not especially useful,"
   ]
  },
  {
   "cell_type": "code",
   "execution_count": 7,
   "metadata": {
    "collapsed": false
   },
   "outputs": [
    {
     "data": {
      "text/plain": [
       "''"
      ]
     },
     "execution_count": 7,
     "metadata": {},
     "output_type": "execute_result"
    }
   ],
   "source": [
    "\"More cowbell!\" * 0"
   ]
  },
  {
   "cell_type": "code",
   "execution_count": 8,
   "metadata": {
    "collapsed": false
   },
   "outputs": [
    {
     "data": {
      "text/plain": [
       "''"
      ]
     },
     "execution_count": 8,
     "metadata": {},
     "output_type": "execute_result"
    }
   ],
   "source": [
    "\"Mighty Morphin Power Rangers\" * -10"
   ]
  },
  {
   "cell_type": "markdown",
   "metadata": {},
   "source": [
    "Frequently we would like to convert a string to another value or vice versa. This is accomplished using built-in functions for each type we are interested in,"
   ]
  },
  {
   "cell_type": "code",
   "execution_count": 9,
   "metadata": {
    "collapsed": false
   },
   "outputs": [
    {
     "ename": "TypeError",
     "evalue": "Can't convert 'int' object to str implicitly",
     "output_type": "error",
     "traceback": [
      "\u001b[0;31m---------------------------------------------------------------------------\u001b[0m",
      "\u001b[0;31mTypeError\u001b[0m                                 Traceback (most recent call last)",
      "\u001b[0;32m<ipython-input-9-666f85167c0d>\u001b[0m in \u001b[0;36m<module>\u001b[0;34m()\u001b[0m\n\u001b[1;32m      2\u001b[0m \u001b[0;34m\u001b[0m\u001b[0m\n\u001b[1;32m      3\u001b[0m \u001b[0;31m# Wrong way! Why?\u001b[0m\u001b[0;34m\u001b[0m\u001b[0;34m\u001b[0m\u001b[0m\n\u001b[0;32m----> 4\u001b[0;31m \u001b[0mmessage\u001b[0m \u001b[0;34m=\u001b[0m \u001b[0;34m\"There are \"\u001b[0m \u001b[0;34m+\u001b[0m \u001b[0mnumber_of_cookies\u001b[0m \u001b[0;34m+\u001b[0m \u001b[0;34m\" cookies.\"\u001b[0m\u001b[0;34m\u001b[0m\u001b[0m\n\u001b[0m\u001b[1;32m      5\u001b[0m \u001b[0;34m\u001b[0m\u001b[0m\n\u001b[1;32m      6\u001b[0m \u001b[0mprint\u001b[0m\u001b[0;34m(\u001b[0m\u001b[0mmessage\u001b[0m\u001b[0;34m)\u001b[0m\u001b[0;34m\u001b[0m\u001b[0m\n",
      "\u001b[0;31mTypeError\u001b[0m: Can't convert 'int' object to str implicitly"
     ]
    }
   ],
   "source": [
    "number_of_cookies = 3\n",
    "\n",
    "# Wrong way! Why?\n",
    "message = \"There are \" + number_of_cookies + \" cookies.\"\n",
    "\n",
    "print(message)"
   ]
  },
  {
   "cell_type": "code",
   "execution_count": 10,
   "metadata": {
    "collapsed": false
   },
   "outputs": [
    {
     "name": "stdout",
     "output_type": "stream",
     "text": [
      "There are 3 cookies.\n"
     ]
    }
   ],
   "source": [
    "# Correct way, convert from an int to str first!\n",
    "message = \"There are \" + str(number_of_cookies) + \" cookies.\"\n",
    "\n",
    "print(message)"
   ]
  },
  {
   "cell_type": "markdown",
   "metadata": {},
   "source": [
    "The opposite conversion can be done, as well. This is very convenient when inputting data from the user or a file, which will always string-valued,"
   ]
  },
  {
   "cell_type": "code",
   "execution_count": 11,
   "metadata": {
    "collapsed": false
   },
   "outputs": [
    {
     "data": {
      "text/plain": [
       "4.56893"
      ]
     },
     "execution_count": 11,
     "metadata": {},
     "output_type": "execute_result"
    }
   ],
   "source": [
    "input_string = \"4.56893\"\n",
    "\n",
    "input_value = float(input_string)\n",
    "\n",
    "input_value"
   ]
  },
  {
   "cell_type": "markdown",
   "metadata": {},
   "source": [
    "This functionality is not \"smart\", the string must be directly convertible without pre-processing,"
   ]
  },
  {
   "cell_type": "code",
   "execution_count": 14,
   "metadata": {
    "collapsed": false
   },
   "outputs": [
    {
     "ename": "ValueError",
     "evalue": "invalid literal for int() with base 10: 'I want 3 cheeseburgers!'",
     "output_type": "error",
     "traceback": [
      "\u001b[0;31m---------------------------------------------------------------------------\u001b[0m",
      "\u001b[0;31mValueError\u001b[0m                                Traceback (most recent call last)",
      "\u001b[0;32m<ipython-input-14-ca6c66c9f430>\u001b[0m in \u001b[0;36m<module>\u001b[0;34m()\u001b[0m\n\u001b[1;32m      1\u001b[0m \u001b[0minput_string\u001b[0m \u001b[0;34m=\u001b[0m \u001b[0;34m\"I want 3 cheeseburgers!\"\u001b[0m\u001b[0;34m\u001b[0m\u001b[0m\n\u001b[1;32m      2\u001b[0m \u001b[0;34m\u001b[0m\u001b[0m\n\u001b[0;32m----> 3\u001b[0;31m \u001b[0mnumber_of_cheeseburgers\u001b[0m \u001b[0;34m=\u001b[0m \u001b[0mint\u001b[0m\u001b[0;34m(\u001b[0m\u001b[0minput_string\u001b[0m\u001b[0;34m)\u001b[0m\u001b[0;34m\u001b[0m\u001b[0m\n\u001b[0m\u001b[1;32m      4\u001b[0m \u001b[0;34m\u001b[0m\u001b[0m\n\u001b[1;32m      5\u001b[0m \u001b[0mprint\u001b[0m\u001b[0;34m(\u001b[0m\u001b[0mnumber_of_cheeseburgers\u001b[0m\u001b[0;34m)\u001b[0m\u001b[0;34m\u001b[0m\u001b[0m\n",
      "\u001b[0;31mValueError\u001b[0m: invalid literal for int() with base 10: 'I want 3 cheeseburgers!'"
     ]
    }
   ],
   "source": [
    "input_string = \"I want 3 cheeseburgers!\"\n",
    "\n",
    "number_of_cheeseburgers = int(input_string)\n",
    "\n",
    "print(number_of_cheeseburgers)"
   ]
  },
  {
   "cell_type": "markdown",
   "metadata": {},
   "source": [
    "### Special Characters\n",
    "\n",
    "Frequently you will need to create strings that contain characters that are part of Python syntax. This creates a problem for the interpreter to interpret the string properly!,"
   ]
  },
  {
   "cell_type": "code",
   "execution_count": 15,
   "metadata": {
    "collapsed": false
   },
   "outputs": [
    {
     "ename": "SyntaxError",
     "evalue": "invalid syntax (<ipython-input-15-4b1ed0bc5bdf>, line 1)",
     "output_type": "error",
     "traceback": [
      "\u001b[0;36m  File \u001b[0;32m\"<ipython-input-15-4b1ed0bc5bdf>\"\u001b[0;36m, line \u001b[0;32m1\u001b[0m\n\u001b[0;31m    string = \"Have you heard of the book \"Charlotte's Web\" ?\"\u001b[0m\n\u001b[0m                                                  ^\u001b[0m\n\u001b[0;31mSyntaxError\u001b[0m\u001b[0;31m:\u001b[0m invalid syntax\n"
     ]
    }
   ],
   "source": [
    "string = \"Have you heard of the book \"Charlotte's Web\" ?\""
   ]
  },
  {
   "cell_type": "markdown",
   "metadata": {},
   "source": [
    "In this case, we want to use double quotations both to create a string and as character values within the string. When we want to use special characters as values, we must use the *escape character* which is a backslash `\\` in Python,"
   ]
  },
  {
   "cell_type": "code",
   "execution_count": 17,
   "metadata": {
    "collapsed": false
   },
   "outputs": [
    {
     "data": {
      "text/plain": [
       "'Have you heard of the book \"Charlotte\\'s Web\"?'"
      ]
     },
     "execution_count": 17,
     "metadata": {},
     "output_type": "execute_result"
    }
   ],
   "source": [
    "string = \"Have you heard of the book \\\"Charlotte\\'s Web\\\"?\"\n",
    "\n",
    "print(string)"
   ]
  },
  {
   "cell_type": "markdown",
   "metadata": {},
   "source": [
    "When we use the escape character to represent a special character this is called an *escape sequence*. An escape sequence is effectively representing one character and many of them are related to multiline strings (next section):\n",
    "\n",
    "|**Escape Sequence**|**Description**|\n",
    "|-------------------|---------------|\n",
    "|\\'                 |single quote   |\n",
    "|\\\"                 |double quote   |\n",
    "|\\\\\\                 |backslash      |\n",
    "|\\t                 |tab            |\n",
    "|\\n                 |newline        |\n",
    "|\\r                 |carriage return|\n"
   ]
  },
  {
   "cell_type": "code",
   "execution_count": 18,
   "metadata": {
    "collapsed": false
   },
   "outputs": [
    {
     "data": {
      "text/plain": [
       "1"
      ]
     },
     "execution_count": 18,
     "metadata": {},
     "output_type": "execute_result"
    }
   ],
   "source": [
    "# escape sequence for the backslash value\n",
    "string = \"\\\\\"\n",
    "len(string)"
   ]
  },
  {
   "cell_type": "markdown",
   "metadata": {},
   "source": [
    "### Multiline Strings\n",
    "\n",
    "Using the string creation syntax that you learned, you are limited to strings that span one line of text (although the length of the line is not constrained),"
   ]
  },
  {
   "cell_type": "code",
   "execution_count": 19,
   "metadata": {
    "collapsed": false
   },
   "outputs": [
    {
     "ename": "SyntaxError",
     "evalue": "EOL while scanning string literal (<ipython-input-19-264a72bea14f>, line 1)",
     "output_type": "error",
     "traceback": [
      "\u001b[0;36m  File \u001b[0;32m\"<ipython-input-19-264a72bea14f>\"\u001b[0;36m, line \u001b[0;32m1\u001b[0m\n\u001b[0;31m    \"First line\u001b[0m\n\u001b[0m               ^\u001b[0m\n\u001b[0;31mSyntaxError\u001b[0m\u001b[0;31m:\u001b[0m EOL while scanning string literal\n"
     ]
    }
   ],
   "source": [
    "\"First line\n",
    "Second line\""
   ]
  },
  {
   "cell_type": "markdown",
   "metadata": {},
   "source": [
    "In order to create multiline strings, you must use three sets of quotes (single or double) at the beginning and end of the string definition,"
   ]
  },
  {
   "cell_type": "code",
   "execution_count": 23,
   "metadata": {
    "collapsed": false
   },
   "outputs": [
    {
     "data": {
      "text/plain": [
       "'First Line\\nSecond Line'"
      ]
     },
     "execution_count": 23,
     "metadata": {},
     "output_type": "execute_result"
    }
   ],
   "source": [
    "string = \"\"\"First Line\n",
    "Second Line\"\"\"\n",
    "\n",
    "string"
   ]
  },
  {
   "cell_type": "markdown",
   "metadata": {},
   "source": [
    "You should have noticed that Python inserted a *newline* escape sequence in between the two lines of text in the string. This escape sequence intuitively represents a new line in a string. This is an additional point of complexity that programmers must deal with, but is transparent to the user,"
   ]
  },
  {
   "cell_type": "code",
   "execution_count": 24,
   "metadata": {
    "collapsed": false
   },
   "outputs": [
    {
     "name": "stdout",
     "output_type": "stream",
     "text": [
      "First Line\n",
      "Second Line\n"
     ]
    }
   ],
   "source": [
    "print(string)"
   ]
  },
  {
   "cell_type": "markdown",
   "metadata": {},
   "source": [
    "In the past, most operating systems had their own (different) format for indicating new lines. Programmers would need to take these different formatting strings into account depending on where their program was going to be executed. Modern operating systems have converged to the \"\\n\" format for indicating a new line; Windows operating systems still used their own formatting which is the combination escape sequence \"\\r\\n\" (??!?!).\n",
    "\n",
    "These specific details are transparent to Python programmers, which simply use the \"\\n\" escape sequence regardless of the operating system. The Python interpreter takes care of adding OS-specific formatting when printing strings!\n",
    "\n",
    "\n",
    "# Printing Text -- user output\n",
    "\n",
    "The basic user output function in Python is `print()` which you have seen used frequently throughout the course so far. In this section we will learn more about it,"
   ]
  },
  {
   "cell_type": "code",
   "execution_count": 25,
   "metadata": {
    "collapsed": false
   },
   "outputs": [
    {
     "name": "stdout",
     "output_type": "stream",
     "text": [
      "Help on built-in function print in module builtins:\n",
      "\n",
      "print(...)\n",
      "    print(value, ..., sep=' ', end='\\n', file=sys.stdout, flush=False)\n",
      "    \n",
      "    Prints the values to a stream, or to sys.stdout by default.\n",
      "    Optional keyword arguments:\n",
      "    file:  a file-like object (stream); defaults to the current sys.stdout.\n",
      "    sep:   string inserted between values, default a space.\n",
      "    end:   string appended after the last value, default a newline.\n",
      "    flush: whether to forcibly flush the stream.\n",
      "\n"
     ]
    }
   ],
   "source": [
    "help(print)"
   ]
  },
  {
   "cell_type": "markdown",
   "metadata": {},
   "source": [
    "The `file` and `flush` keyword arguments involve concepts that are beyond this course, so for now just understand that their default values result in `print()` printing output to your screen. The `sep` argument specifies the string to insert between arguments that are to be printed,"
   ]
  },
  {
   "cell_type": "code",
   "execution_count": 26,
   "metadata": {
    "collapsed": false
   },
   "outputs": [
    {
     "name": "stdout",
     "output_type": "stream",
     "text": [
      "1, 2, 3\n"
     ]
    }
   ],
   "source": [
    "# an example of using something other than a space as a separator\n",
    "print(1, 2, 3, sep=\", \")"
   ]
  },
  {
   "cell_type": "markdown",
   "metadata": {},
   "source": [
    "The `end` argument specifies the string to append after the last value,"
   ]
  },
  {
   "cell_type": "code",
   "execution_count": 28,
   "metadata": {
    "collapsed": false
   },
   "outputs": [
    {
     "name": "stdout",
     "output_type": "stream",
     "text": [
      "Hello\n",
      " World!\n"
     ]
    }
   ],
   "source": [
    "print(\"Hello\", end=\"\")\n",
    "print(\" World!\")"
   ]
  },
  {
   "cell_type": "markdown",
   "metadata": {},
   "source": [
    "Finally, the value arguments are either strings or a type conversion is attempted to result in a string, which are printed in order separated by `sep` ending in `end`! The arguments do not need to be of the same type!"
   ]
  },
  {
   "cell_type": "code",
   "execution_count": 29,
   "metadata": {
    "collapsed": false
   },
   "outputs": [
    {
     "name": "stdout",
     "output_type": "stream",
     "text": [
      "<built-in function print>; 1; 2; three!; 4\n"
     ]
    }
   ],
   "source": [
    "print(print, 1, 2, \"three!\", 4, sep=\"; \")"
   ]
  },
  {
   "cell_type": "code",
   "execution_count": 30,
   "metadata": {
    "collapsed": false
   },
   "outputs": [
    {
     "name": "stdout",
     "output_type": "stream",
     "text": [
      "60.0, 30.0, and 0.0 degrees Fahrenheit are equal to 15.555555555555555, -1.1111111111111112, -17.77777777777778, respectively.\n",
      "60.0, 30.0, and 0.0 degrees Fahrenheit are equal to 15.555555555555555, -1.1111111111111112, -17.77777777777778, respectively.\n"
     ]
    }
   ],
   "source": [
    "# Let's practice with a more complex example\n",
    "def convert_to_celsius(fahrenheit):\n",
    "    return (fahrenheit - 32.0) * 5.0 / 9.0\n",
    "\n",
    "value1 = 60.0\n",
    "value2 = 30.0\n",
    "value3 = 0.0\n",
    "\n",
    "# Method 1, use print to do the formatting\n",
    "print(value1, \", \", value2, \", and \", value3, \" degrees Fahrenheit are equal to \", sep=\"\", end=\"\")\n",
    "print(convert_to_celsius(value1), convert_to_celsius(value2),convert_to_celsius(value3), sep=\", \", end=\", \")\n",
    "print(\"respectively.\")\n",
    "\n",
    "# Method 2, use string manipulations\n",
    "message = str(value1) + \", \" + str(value2) + \", and \" + str(value3) + \" degrees Fahrenheit are equal to \"\n",
    "message += str(convert_to_celsius(value1)) + \", \" \n",
    "message += str(convert_to_celsius(value2)) + \", \" \n",
    "message += str(convert_to_celsius(value3)) + \", respectively.\"\n",
    "print(message)"
   ]
  },
  {
   "cell_type": "markdown",
   "metadata": {},
   "source": [
    "Both methods are tedious, but using `print()` is a less so because the type conversions are implicit.\n",
    "\n",
    "\n",
    "# Text Input -- user input\n",
    "\n",
    "The function `input()` is the most simple way to query text input from the user. Its usage is very simple, calling the function results in the interpreter waiting on input from you up until a newline (\"Enter\") character, "
   ]
  },
  {
   "cell_type": "code",
   "execution_count": 33,
   "metadata": {
    "collapsed": false
   },
   "outputs": [
    {
     "name": "stdout",
     "output_type": "stream",
     "text": [
      "\"Hello World\"\n",
      "You typed:  \"Hello World\"\n"
     ]
    }
   ],
   "source": [
    "string = input()\n",
    "\n",
    "print(\"You typed: \", string)"
   ]
  },
  {
   "cell_type": "markdown",
   "metadata": {},
   "source": [
    "For convenient you can supply a string as an input argument to \"prompt\" the user,"
   ]
  },
  {
   "cell_type": "code",
   "execution_count": 34,
   "metadata": {
    "collapsed": false
   },
   "outputs": [
    {
     "name": "stdout",
     "output_type": "stream",
     "text": [
      "Input? Hello!\n",
      "You typed: Hello!\n"
     ]
    }
   ],
   "source": [
    "string = input(\"Input? \")\n",
    "\n",
    "print(\"You typed:\", string)"
   ]
  },
  {
   "cell_type": "markdown",
   "metadata": {},
   "source": [
    "The `input()` function always outputs a string, so if you want the user to input number data you must attempt a type conversion,"
   ]
  },
  {
   "cell_type": "code",
   "execution_count": 37,
   "metadata": {
    "collapsed": false
   },
   "outputs": [
    {
     "name": "stdout",
     "output_type": "stream",
     "text": [
      "Input your age: 37.75\n"
     ]
    },
    {
     "ename": "ValueError",
     "evalue": "invalid literal for int() with base 10: '37.75'",
     "output_type": "error",
     "traceback": [
      "\u001b[0;31m---------------------------------------------------------------------------\u001b[0m",
      "\u001b[0;31mValueError\u001b[0m                                Traceback (most recent call last)",
      "\u001b[0;32m<ipython-input-37-3387548c75ae>\u001b[0m in \u001b[0;36m<module>\u001b[0;34m()\u001b[0m\n\u001b[1;32m      1\u001b[0m \u001b[0mage_string\u001b[0m \u001b[0;34m=\u001b[0m \u001b[0minput\u001b[0m\u001b[0;34m(\u001b[0m\u001b[0;34m\"Input your age: \"\u001b[0m\u001b[0;34m)\u001b[0m\u001b[0;34m\u001b[0m\u001b[0m\n\u001b[1;32m      2\u001b[0m \u001b[0;34m\u001b[0m\u001b[0m\n\u001b[0;32m----> 3\u001b[0;31m \u001b[0mage\u001b[0m \u001b[0;34m=\u001b[0m \u001b[0mint\u001b[0m\u001b[0;34m(\u001b[0m\u001b[0mage_string\u001b[0m\u001b[0;34m)\u001b[0m\u001b[0;34m\u001b[0m\u001b[0m\n\u001b[0m\u001b[1;32m      4\u001b[0m \u001b[0mage\u001b[0m\u001b[0;34m\u001b[0m\u001b[0m\n",
      "\u001b[0;31mValueError\u001b[0m: invalid literal for int() with base 10: '37.75'"
     ]
    }
   ],
   "source": [
    "age_string = input(\"Input your age: \")\n",
    "\n",
    "age = int(age_string)\n",
    "age"
   ]
  },
  {
   "cell_type": "markdown",
   "metadata": {},
   "source": [
    "# Exercises\n",
    "\n"
   ]
  },
  {
   "cell_type": "markdown",
   "metadata": {},
   "source": [
    "### PragProg Section 4.7"
   ]
  },
  {
   "cell_type": "markdown",
   "metadata": {},
   "source": [
    "**1.** What value does each of the following expressions evaluate to?"
   ]
  },
  {
   "cell_type": "code",
   "execution_count": null,
   "metadata": {
    "collapsed": false
   },
   "outputs": [],
   "source": [
    "'Computer' + 'Science'"
   ]
  },
  {
   "cell_type": "code",
   "execution_count": null,
   "metadata": {
    "collapsed": false
   },
   "outputs": [],
   "source": [
    "'Darwin\\'s'"
   ]
  },
  {
   "cell_type": "code",
   "execution_count": null,
   "metadata": {
    "collapsed": false
   },
   "outputs": [],
   "source": [
    "'H2O' * 3"
   ]
  },
  {
   "cell_type": "code",
   "execution_count": null,
   "metadata": {
    "collapsed": false
   },
   "outputs": [],
   "source": [
    "'CO2' * 3\n"
   ]
  },
  {
   "cell_type": "markdown",
   "metadata": {},
   "source": [
    "***2.*** Express each of the following phrases as Python strings using the\n",
    "appropriate type of quotation marks (single, double, or triple) and, if\n",
    "necessary, escape sequences. There is more than one correct answer for\n",
    "each of these phrases. \n",
    "a. They’ll hibernate during the winter.\n",
    "\n",
    "b. “Absolutely not,” he said.\n",
    "\n",
    "c. “He said, ‘Absolutely not,’” recalled Mel.\n",
    "\n",
    "d. hydrogen sulfide\n",
    "\n",
    "e. left\\right"
   ]
  },
  {
   "cell_type": "code",
   "execution_count": null,
   "metadata": {
    "collapsed": false
   },
   "outputs": [],
   "source": []
  },
  {
   "cell_type": "markdown",
   "metadata": {},
   "source": [
    "***3.*** Rewrite the following string using single or double quotes instead of triple\n",
    "quotes:"
   ]
  },
  {
   "cell_type": "code",
   "execution_count": null,
   "metadata": {
    "collapsed": false
   },
   "outputs": [],
   "source": [
    "'''A\n",
    "B\n",
    "C'''"
   ]
  },
  {
   "cell_type": "markdown",
   "metadata": {},
   "source": [
    "***4.*** Use the built-in function <i>len</i> to find the length of the empty string."
   ]
  },
  {
   "cell_type": "code",
   "execution_count": null,
   "metadata": {
    "collapsed": false
   },
   "outputs": [],
   "source": []
  },
  {
   "cell_type": "markdown",
   "metadata": {},
   "source": [
    "***5.*** Given variables x and y , which refer to values 3 and 12.5, respectively,\n",
    "use the print function to print the following messages. When numbers\n",
    "appear in the messages, variables x and y should be used."
   ]
  },
  {
   "cell_type": "markdown",
   "metadata": {},
   "source": [
    "a. The rabbit is 3."
   ]
  },
  {
   "cell_type": "code",
   "execution_count": null,
   "metadata": {
    "collapsed": false
   },
   "outputs": [],
   "source": []
  },
  {
   "cell_type": "markdown",
   "metadata": {},
   "source": [
    "b. The rabbit is 3 years old."
   ]
  },
  {
   "cell_type": "code",
   "execution_count": null,
   "metadata": {
    "collapsed": false
   },
   "outputs": [],
   "source": []
  },
  {
   "cell_type": "markdown",
   "metadata": {},
   "source": [
    "c. 12.5 is average."
   ]
  },
  {
   "cell_type": "code",
   "execution_count": null,
   "metadata": {
    "collapsed": false
   },
   "outputs": [],
   "source": []
  },
  {
   "cell_type": "markdown",
   "metadata": {},
   "source": [
    "d. 12.5 * 3"
   ]
  },
  {
   "cell_type": "code",
   "execution_count": null,
   "metadata": {
    "collapsed": false
   },
   "outputs": [],
   "source": []
  },
  {
   "cell_type": "markdown",
   "metadata": {},
   "source": [
    "e. 12.5 * 3 is 37.5."
   ]
  },
  {
   "cell_type": "code",
   "execution_count": null,
   "metadata": {
    "collapsed": false
   },
   "outputs": [],
   "source": [
    "ad"
   ]
  },
  {
   "cell_type": "markdown",
   "metadata": {},
   "source": [
    "***6.*** What is printed by the following code?"
   ]
  },
  {
   "cell_type": "code",
   "execution_count": null,
   "metadata": {
    "collapsed": false
   },
   "outputs": [],
   "source": [
    ">>> first = 'John'\n",
    ">>> last = 'Doe'\n",
    ">>> print(last + ', ' + first)"
   ]
  },
  {
   "cell_type": "markdown",
   "metadata": {},
   "source": [
    "***7.*** Use <i>input</i> to prompt the user for a number, store the number entered as\n",
    "a float in a variable named <i>num</i> , and then print the contents of <i>num</i> ."
   ]
  },
  {
   "cell_type": "code",
   "execution_count": null,
   "metadata": {
    "collapsed": false
   },
   "outputs": [],
   "source": []
  },
  {
   "cell_type": "markdown",
   "metadata": {},
   "source": [
    "***8.*** Complete the examples in the docstring and then write the body of the\n",
    "following function:"
   ]
  },
  {
   "cell_type": "code",
   "execution_count": null,
   "metadata": {
    "collapsed": false
   },
   "outputs": [],
   "source": [
    "def repeat(s, n):\n",
    "\"\"\" (str, int) -> str\n",
    "Return s repeated n times; if n is negative, return the empty string.\n",
    ">>> repeat('yes', 4)\n",
    "'yesyesyesyes'\n",
    ">>> repeat('no', 0)\n",
    ">>> repeat('no', -2)\n",
    ">>> repeat('yesnomaybe', 3)\n",
    "\"\"\""
   ]
  },
  {
   "cell_type": "markdown",
   "metadata": {},
   "source": [
    "***9.*** Complete the examples in the docstring and then write the body of the\n",
    "following function:"
   ]
  },
  {
   "cell_type": "code",
   "execution_count": null,
   "metadata": {
    "collapsed": false
   },
   "outputs": [],
   "source": [
    "def total_length(s1, s2):\n",
    "\"\"\" (str, str) -> int\n",
    "Return the sum of the lengths of s1 and s2.\n",
    ">>> total_length('yes', 'no')\n",
    "5\n",
    ">>> total_length('yes', '')\n",
    ">>> total_length('YES!!!!', 'Noooooo')\n",
    "\"\"\""
   ]
  }
 ],
 "metadata": {
  "kernelspec": {
   "display_name": "Python 3",
   "language": "python",
   "name": "python3"
  },
  "language_info": {
   "codemirror_mode": {
    "name": "ipython",
    "version": 3
   },
   "file_extension": ".py",
   "mimetype": "text/x-python",
   "name": "python",
   "nbconvert_exporter": "python",
   "pygments_lexer": "ipython3",
   "version": "3.5.2"
  }
 },
 "nbformat": 4,
 "nbformat_minor": 1
}
