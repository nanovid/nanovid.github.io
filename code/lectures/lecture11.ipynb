{
 "cells": [
  {
   "cell_type": "markdown",
   "metadata": {},
   "source": [
    "## Lecture 11\n",
    "\n",
    "The objectives of this lecture are to:\n",
    "\n",
    "1. Learn how Python stores collections of objects: lists, tuples, and dictionaries.\n",
    "2. Creation, modify and manipulate `list` collections.\n",
    "3. Collections of collections!"
   ]
  },
  {
   "cell_type": "markdown",
   "metadata": {},
   "source": [
    "# Collections of objects\n",
    "\n",
    "Python, like most programming languages, has built-in data types to store collections of objects. In Python these collections can be either ordered (`list`, `tuple`) or unordered (`set`, `dictionary`). In this introduction to collections, we will focus on lists and later tuples and dictionaries.\n",
    "\n",
    "Before we jump-in to creating and manipulating lists, we need to learn about the concept of *mutability*. All of the datatypes that we have used thus far (`int`, `float`, `str`, etc) have been *immutable*. That is, the value of the object cannot be changed and instead a new object is created. To illustrate this remember that integer values are unique,"
   ]
  },
  {
   "cell_type": "code",
   "execution_count": null,
   "metadata": {
    "collapsed": false
   },
   "outputs": [],
   "source": [
    "i = 1\n",
    "j = 1\n",
    "\n",
    "print(id(i), id(j))"
   ]
  },
  {
   "cell_type": "markdown",
   "metadata": {},
   "source": [
    "If I reassign the value of an immutable object, it changes the value to which the object references"
   ]
  },
  {
   "cell_type": "code",
   "execution_count": null,
   "metadata": {
    "collapsed": false
   },
   "outputs": [],
   "source": [
    "j = 2\n",
    "\n",
    "print(id(i), id(j))"
   ]
  },
  {
   "cell_type": "markdown",
   "metadata": {},
   "source": [
    "Even strings are immutable in Python, remember that in the whole lecture introducing them we never tried to change a single character in the string,"
   ]
  },
  {
   "cell_type": "code",
   "execution_count": null,
   "metadata": {
    "collapsed": false
   },
   "outputs": [],
   "source": [
    "string = \"Hello World!\"\n",
    "\n",
    "string[0] = \"h\""
   ]
  },
  {
   "cell_type": "code",
   "execution_count": null,
   "metadata": {
    "collapsed": false
   },
   "outputs": [],
   "source": [
    "print(id(string))\n",
    "\n",
    "string += \"!!!\"\n",
    "\n",
    "print(id(string))"
   ]
  },
  {
   "cell_type": "markdown",
   "metadata": {},
   "source": [
    "As will be illustrated in this and later lectures, collections in Python can be either immutable (tuples) or *mutable* (lists, dictionaries). This can cause significant issues for the beginner programmer, but hopefully careful study of this lecture (and the textbook) will help you avoid these issues.\n",
    "\n",
    "# Creating and manipulating lists of data\n",
    "\n",
    "Given a sample set of data, a table that shows the number of gray whales observed daily over a 14 day period:\n",
    "\n",
    "\n",
    "<table>\n",
    "    <tr>\n",
    "        <td><b> Day</b></td>\n",
    "        <td><b>Number of Whales</b></td>\n",
    "        <tr>\n",
    "            <td>1</td>\n",
    "            <td>5</td>\n",
    "        </tr>\n",
    "        <tr>\n",
    "            <td>2</td>\n",
    "            <td>4</td>\n",
    "        </tr>\n",
    "        <tr>\n",
    "            <td>3</td>\n",
    "            <td>7</td>\n",
    "        </tr>\n",
    "        <tr>\n",
    "            <td>4</td>\n",
    "            <td>3</td>\n",
    "        </tr>\n",
    "        <tr>\n",
    "            <td>5</td>\n",
    "            <td>2</td>\n",
    "        </tr>\n",
    "        <tr>\n",
    "            <td>6</td>\n",
    "            <td>3</td>\n",
    "        </tr>\n",
    "        <tr>\n",
    "            <td>7</td>\n",
    "            <td>2</td>\n",
    "        </tr>\n",
    "        <tr>\n",
    "            <td>8</td>\n",
    "            <td>6</td>\n",
    "        </tr>\n",
    "        <tr>\n",
    "            <td>9</td>\n",
    "            <td>4</td>\n",
    "        </tr>\n",
    "        <tr>\n",
    "            <td>10</td>\n",
    "            <td>2</td>\n",
    "        </tr>\n",
    "        <tr>\n",
    "            <td>11</td>\n",
    "            <td>1</td>\n",
    "        </tr>\n",
    "        <tr>\n",
    "            <td>12</td>\n",
    "            <td>7</td>\n",
    "        </tr>\n",
    "        <tr>\n",
    "            <td>13</td>\n",
    "            <td>1</td>\n",
    "        </tr>\n",
    "        <tr>\n",
    "            <td>14</td>\n",
    "            <td>3</td>\n",
    "        </tr>\n",
    "        </table>\n",
    "           \n",
    "          \n",
    "           \n",
    "\n",
    "storing that information using our existing knowledge of Python would be tedious. We would need to create a single `int` variable for each data point `day1`, `day2`, ... , and `day14`. As the number of data points increases, so does the infeasibility of our existing approach. This is exactly a situation in which we would use a `list` datatype, which is a built-in or base type in Python and thus has special syntax for its initialization,\n",
    "\n",
    "`list_label = [item1, item2, ...]`\n",
    "\n",
    "Lists are heterogeneous datatypes, each *item* in the list need not be the same type, although typically this is the case. Furthermore, the item can be an expression which is evaluated before the list is created. From our table of data, we can form a list where the order of each item corresponds to the day at which the data was recorded,"
   ]
  },
  {
   "cell_type": "code",
   "execution_count": null,
   "metadata": {
    "collapsed": false
   },
   "outputs": [],
   "source": [
    "# equivalent expressions\n",
    "whales = [5, 4, 7, 3, 2, 3, 2, 6, 4, 2, 1, 7, 1, 3]\n",
    "whales1 = list(whales)\n",
    "print(id(whales), id(whales1))\n",
    "print(whales, whales1)"
   ]
  },
  {
   "cell_type": "markdown",
   "metadata": {},
   "source": [
    "Using our memory model, after executing the code above it would be represented by,\n",
    "\n",
    "\n",
    "<center>\n",
    "<img src='files/./images/lecture11/pg135.jpg'>\n",
    "</center>\n",
    "\n",
    "So a list is essentially a object that allows you to create, assign, and manipulate an ordered set of variables. The convenience of using a list is realized when we access the elements of the list which is achieved through *indexing* into the list,"
   ]
  },
  {
   "cell_type": "code",
   "execution_count": null,
   "metadata": {
    "collapsed": false
   },
   "outputs": [],
   "source": [
    "whales[1]"
   ]
  },
  {
   "cell_type": "markdown",
   "metadata": {},
   "source": [
    "The indexing syntax seems relatively straightforward, except for the fact that index $1$ returned the second list item! Python uses indexing syntax which is consistent with most programming languages (`C`, `C++`, `Java`) where the first item has index $0$, the second item has index $1$, and so on such that the last item has index $l-1$ where $l$ is the number of items in the list,"
   ]
  },
  {
   "cell_type": "code",
   "execution_count": null,
   "metadata": {
    "collapsed": false
   },
   "outputs": [],
   "source": [
    "# first item\n",
    "print(whales[0])\n",
    "\n",
    "# last item\n",
    "print(whales[13])"
   ]
  },
  {
   "cell_type": "markdown",
   "metadata": {},
   "source": [
    "Intuitive, indexing into a list with an index $\\ge l$ will result in an error,"
   ]
  },
  {
   "cell_type": "code",
   "execution_count": null,
   "metadata": {
    "collapsed": false
   },
   "outputs": [],
   "source": [
    "whales[14]"
   ]
  },
  {
   "cell_type": "markdown",
   "metadata": {},
   "source": [
    "Unlike most programming languages, Python provides some useful indexing syntax involving negative indexing. This allows you to index starting from the *end* of a list without knowing how long it is,"
   ]
  },
  {
   "cell_type": "code",
   "execution_count": null,
   "metadata": {
    "collapsed": false
   },
   "outputs": [],
   "source": [
    "# last item\n",
    "print(whales[-1])\n",
    "\n",
    "# third from the last item\n",
    "print(whales[-3])"
   ]
  },
  {
   "cell_type": "markdown",
   "metadata": {},
   "source": [
    "Once again, indexing outside of the list in the reverse direction has the same consequences,"
   ]
  },
  {
   "cell_type": "code",
   "execution_count": null,
   "metadata": {
    "collapsed": false
   },
   "outputs": [],
   "source": [
    "# first item\n",
    "print(whales[-14])\n",
    "\n",
    "print(whales[-15])"
   ]
  },
  {
   "cell_type": "markdown",
   "metadata": {},
   "source": [
    "Since each list item is an object, we may assign a variable to its value, which is frequently convenient,"
   ]
  },
  {
   "cell_type": "code",
   "execution_count": null,
   "metadata": {
    "collapsed": false
   },
   "outputs": [],
   "source": [
    "day2 = whales[1]\n",
    "\n",
    "print(\"The number of whales observed on day 2 was: \", day2)"
   ]
  },
  {
   "cell_type": "markdown",
   "metadata": {},
   "source": [
    "But be careful, since the item type is not mutable and changes to value of the variable we assigned has no affect on the list item value,"
   ]
  },
  {
   "cell_type": "code",
   "execution_count": null,
   "metadata": {
    "collapsed": false
   },
   "outputs": [],
   "source": [
    "day2 = 10\n",
    "\n",
    "whales[1]"
   ]
  },
  {
   "cell_type": "markdown",
   "metadata": {},
   "source": [
    "We will learn how to do that in the next section, but first let's see an example of a list with heterogeneous items,"
   ]
  },
  {
   "cell_type": "code",
   "execution_count": null,
   "metadata": {
    "collapsed": false
   },
   "outputs": [],
   "source": [
    "numbers = [1, \"one\", 2, \"Three\", 4., 5. + 0*1j]\n",
    "\n",
    "type(numbers)"
   ]
  },
  {
   "cell_type": "markdown",
   "metadata": {},
   "source": [
    "A heterogeneous list has the same type as a homogeneous one, there is no difference between them. We may index into the list as before, use negative indices, etc. There are very few scenarios where using heterogeneous lists is justified, so in practice we avoid them. Heterogeneous collections are very useful, though, but we will see that a dictionary collection is a better choice in this case."
   ]
  },
  {
   "cell_type": "code",
   "execution_count": null,
   "metadata": {
    "collapsed": false
   },
   "outputs": [],
   "source": [
    "print(numbers[0], numbers[-1])"
   ]
  },
  {
   "cell_type": "markdown",
   "metadata": {},
   "source": [
    "We may also create a list that contains no items; this is called an *empty list*.  This may seem like a strange thing do to, but it is actually quite convenient when you do not know *a priori* how many items in a list you will need,"
   ]
  },
  {
   "cell_type": "code",
   "execution_count": null,
   "metadata": {
    "collapsed": false
   },
   "outputs": [],
   "source": [
    "l = []\n",
    "\n",
    "type(l)"
   ]
  },
  {
   "cell_type": "markdown",
   "metadata": {},
   "source": [
    "This implies that we can add items to a list, which we will learn about in the next section.\n",
    "\n",
    "\n",
    "### Manipulating lists\n",
    "\n",
    "We have learned how to create lists and some basic concepts about mutability in Python, now let's learn how to modify a list. Given an list of strings of the names of noble gases,"
   ]
  },
  {
   "cell_type": "code",
   "execution_count": null,
   "metadata": {
    "collapsed": false
   },
   "outputs": [],
   "source": [
    "# we purposefully make a mistake when typing \"neon\" and type \"none\" instead\n",
    "nobles = ['helium', 'none', 'argon', 'krypton', 'xenon', 'radon']"
   ]
  },
  {
   "cell_type": "markdown",
   "metadata": {},
   "source": [
    "After executing the code above, the memory model that represents the current state of memory is,\n",
    "\n",
    "\n",
    "<center>\n",
    "<img src='files/./images/lecture11/pg137.jpg'>\n",
    "</center>\n",
    "\n",
    "To correct our mistake we want to reassign the second item in the list, this is accomplished through indexing to the item and using the assignment operator,"
   ]
  },
  {
   "cell_type": "code",
   "execution_count": null,
   "metadata": {
    "collapsed": false
   },
   "outputs": [],
   "source": [
    "# reassign the value of the second item\n",
    "nobles[1] = \"neon\"\n",
    "\n",
    "print(nobles)"
   ]
  },
  {
   "cell_type": "markdown",
   "metadata": {},
   "source": [
    "Remember, the list object is mutable but strings are not. The string object with value \"none\" was not changed, instead a new one was created and second item in the list was referenced to it. The memory model corresponding to this is,\n",
    "\n",
    "\n",
    "<center>\n",
    "<img src='files/./images/lecture11/pg138.jpg'>\n",
    "</center>\n",
    "\n",
    "We have now seen two examples of list indexing with the assignment operator where the indexed list is on the (i) right and (ii) left of the assignment operator."
   ]
  },
  {
   "cell_type": "code",
   "execution_count": null,
   "metadata": {
    "collapsed": false
   },
   "outputs": [],
   "source": [
    "# indexed list on the right side of assignment, create a variable which references the list item object\n",
    "neon_string = nobles[1]\n",
    "\n",
    "# indexed list on the left side of the assignment, reassign the value of a list item\n",
    "nobles[1] = \"none\"\n",
    "\n",
    "# can you predict what the output of this function call will be?\n",
    "print(neon_string, nobles)"
   ]
  },
  {
   "cell_type": "markdown",
   "metadata": {},
   "source": [
    "There are many other ways to manipulate a list and Python provides many built-in functions for this purpose,\n",
    "\n",
    "\n",
    "<table>\n",
    "<tr>\n",
    "    <td><b>Function</b></td>\n",
    "    <td><b>Description</b></td>\n",
    "</tr>\n",
    "<tr>\n",
    "    <td>len(L)</td>\n",
    "    <td>Returns the number of items in list L</td>\n",
    "</tr>\n",
    "<tr>\n",
    "    <td>max(L)</td>\n",
    "    <td>Returns the maximum value in list L</td>\n",
    "</tr>\n",
    "<tr>\n",
    "    <td>min(L)</td>\n",
    "    <td>Returns the minimum value in list L</td>\n",
    "</tr>\n",
    "<tr>\n",
    "    <td>sum(L)</td>\n",
    "    <td>Returns the sum of the values in list L</td>\n",
    "</tr>\n",
    "<tr>\n",
    "    <td>sorted(L)</td>\n",
    "    <td>Returns a copy of list L where the items are in order from smallest to largest (This does not mutate L)</td>\n",
    "</tr>\n",
    "</table>\n",
    "\n",
    "Let's learn how these functions behave by example using a list of strings and of numbers (from above)."
   ]
  },
  {
   "cell_type": "code",
   "execution_count": null,
   "metadata": {
    "collapsed": false
   },
   "outputs": [],
   "source": [
    "# `len()` returns the number of items in a list\n",
    "len(whales), len(nobles)"
   ]
  },
  {
   "cell_type": "code",
   "execution_count": null,
   "metadata": {
    "collapsed": false
   },
   "outputs": [],
   "source": [
    "# `max()`/`min()` returns the maximum/minimum value in a list, this only make sense for\n",
    "# a homogeneous list\n",
    "print(max(whales), max(nobles))\n",
    "print(min(whales), min(nobles))"
   ]
  },
  {
   "cell_type": "code",
   "execution_count": null,
   "metadata": {
    "collapsed": false
   },
   "outputs": [],
   "source": [
    "# `sum()` returns the sum of all of the list items in order of index\n",
    "sum(whales)"
   ]
  },
  {
   "cell_type": "code",
   "execution_count": null,
   "metadata": {
    "collapsed": false
   },
   "outputs": [],
   "source": [
    "# `sorted()` returns a *new* list with item references in order of least to greatest\n",
    "whales_sorted = sorted(whales)\n",
    "nobles_sorted = sorted(nobles)\n",
    "\n",
    "print(whales, whales_sorted)\n",
    "print(nobles, nobles_sorted)"
   ]
  },
  {
   "cell_type": "markdown",
   "metadata": {},
   "source": [
    "The `+`, `*`, and `in` operators are also defined for lists and behave similarly to the same operations on strings,"
   ]
  },
  {
   "cell_type": "code",
   "execution_count": null,
   "metadata": {
    "collapsed": false
   },
   "outputs": [],
   "source": [
    "# concatenate the two lists\n",
    "whales_nobles = whales + nobles\n",
    "\n",
    "print(whales_nobles)"
   ]
  },
  {
   "cell_type": "code",
   "execution_count": null,
   "metadata": {
    "collapsed": false
   },
   "outputs": [],
   "source": [
    "# multiply the list to create a new one\n",
    "twice_the_nobles = nobles * 2\n",
    "\n",
    "print(twice_the_nobles)"
   ]
  },
  {
   "cell_type": "code",
   "execution_count": null,
   "metadata": {
    "collapsed": false
   },
   "outputs": [],
   "source": [
    "# check if a string value is in the list\n",
    "gas = \"neon\"\n",
    "\n",
    "gas in nobles"
   ]
  },
  {
   "cell_type": "code",
   "execution_count": null,
   "metadata": {
    "collapsed": false
   },
   "outputs": [],
   "source": [
    "gas = \"krypton\"\n",
    "\n",
    "gas in nobles"
   ]
  },
  {
   "cell_type": "markdown",
   "metadata": {},
   "source": [
    "The `in` operator performs an itemwise check for a list item, it will not identify sub-lists as it does with strings."
   ]
  },
  {
   "cell_type": "code",
   "execution_count": null,
   "metadata": {
    "collapsed": false
   },
   "outputs": [],
   "source": [
    "string = \"Hello World!\"\n",
    "substring = \"Hello\"\n",
    "\n",
    "l = [1, 2, 3]\n",
    "sl = [1, 2]\n",
    "\n",
    "print(substring in string, sl in l)"
   ]
  },
  {
   "cell_type": "markdown",
   "metadata": {},
   "source": [
    "### \"Slicing\" Lists\n",
    "\n",
    "*Slicing* a list is indexing syntax which allows you to create a sub-list of items from an existing list. You will become very adept at this later in the course in that it is a frequently used operation in scientific computing. The format for slicing a list is,\n",
    "\n",
    "`sublist = list[start:stop:increment]`\n",
    "\n",
    "The expression on the righthand side of the assignment creates a new list including items from the `list` starting with `start` and ending with `stop-1` with increments of `increment`. Let's say we want a list with the observed number of whales every other day instead of every day,"
   ]
  },
  {
   "cell_type": "code",
   "execution_count": null,
   "metadata": {
    "collapsed": false
   },
   "outputs": [],
   "source": [
    "whales_everyother = whales[1:15:2]\n",
    "\n",
    "whales_everyother"
   ]
  },
  {
   "cell_type": "markdown",
   "metadata": {},
   "source": [
    "If `start` or `stop` are excluded the interpreter assumes that `start=0` and `stop=len(list)`,"
   ]
  },
  {
   "cell_type": "code",
   "execution_count": null,
   "metadata": {
    "collapsed": false
   },
   "outputs": [],
   "source": [
    "whales_everyother = whales[1::2]\n",
    "\n",
    "whales_everyother"
   ]
  },
  {
   "cell_type": "markdown",
   "metadata": {},
   "source": [
    "# Exercises\n",
    "\n",
    "\n",
    "### Pragprog "
   ]
  },
  {
   "cell_type": "markdown",
   "metadata": {},
   "source": [
    "**1.** The variable kingdoms refers to the list ['Bacteria', 'Protozoa', 'Chromista', 'Plantae',\n",
    "'Fungi', 'Animalia'] . Using kingdoms and either slicing or indexing with positive\n",
    "indices, write expressions that produce the following:"
   ]
  },
  {
   "cell_type": "code",
   "execution_count": null,
   "metadata": {
    "collapsed": false
   },
   "outputs": [],
   "source": [
    "kingdom=['Bacteria','Protozoa','Chromista','Plantae','Fungi','Animalia']"
   ]
  },
  {
   "cell_type": "markdown",
   "metadata": {},
   "source": [
    "a. The first item of kingdoms"
   ]
  },
  {
   "cell_type": "code",
   "execution_count": null,
   "metadata": {
    "collapsed": false
   },
   "outputs": [],
   "source": []
  },
  {
   "cell_type": "markdown",
   "metadata": {},
   "source": [
    "b. The last item of kingdoms"
   ]
  },
  {
   "cell_type": "code",
   "execution_count": null,
   "metadata": {
    "collapsed": false
   },
   "outputs": [],
   "source": []
  },
  {
   "cell_type": "markdown",
   "metadata": {},
   "source": [
    "c. The list ['Bacteria', 'Protozoa', 'Chromista']"
   ]
  },
  {
   "cell_type": "code",
   "execution_count": null,
   "metadata": {
    "collapsed": false
   },
   "outputs": [],
   "source": []
  },
  {
   "cell_type": "markdown",
   "metadata": {},
   "source": [
    "d. The list ['Chromista', 'Plantae', 'Fungi']"
   ]
  },
  {
   "cell_type": "code",
   "execution_count": null,
   "metadata": {
    "collapsed": false
   },
   "outputs": [],
   "source": []
  },
  {
   "cell_type": "markdown",
   "metadata": {},
   "source": [
    "e. The list ['Fungi', 'Animalia']"
   ]
  },
  {
   "cell_type": "code",
   "execution_count": null,
   "metadata": {
    "collapsed": false
   },
   "outputs": [],
   "source": []
  },
  {
   "cell_type": "markdown",
   "metadata": {},
   "source": [
    "f. The empty list"
   ]
  },
  {
   "cell_type": "code",
   "execution_count": null,
   "metadata": {
    "collapsed": false
   },
   "outputs": [],
   "source": []
  },
  {
   "cell_type": "markdown",
   "metadata": {},
   "source": [
    "**2.** Repeat the previous question using negative indices"
   ]
  },
  {
   "cell_type": "code",
   "execution_count": null,
   "metadata": {
    "collapsed": false
   },
   "outputs": [],
   "source": []
  },
  {
   "cell_type": "markdown",
   "metadata": {},
   "source": [
    "**3.** The variable appointments refers to the list ['9:00', '10:30', '14:00', '15:00', '15:30'] .\n",
    "An appointment is scheduled for 16:30, so '16:30' needs to be added to the\n",
    "list."
   ]
  },
  {
   "cell_type": "code",
   "execution_count": null,
   "metadata": {
    "collapsed": false
   },
   "outputs": [],
   "source": [
    "appointments=['9:00','10:30','15:00','15:30']"
   ]
  },
  {
   "cell_type": "markdown",
   "metadata": {},
   "source": [
    "a. Using the list method append , add '16:30' to the end of the list that\n",
    "appointments refers to."
   ]
  },
  {
   "cell_type": "code",
   "execution_count": null,
   "metadata": {
    "collapsed": false
   },
   "outputs": [],
   "source": []
  },
  {
   "cell_type": "markdown",
   "metadata": {},
   "source": [
    "b. Instead of using append , use the + operator to add '16:30' to the end of\n",
    "the list that appointments refers to."
   ]
  },
  {
   "cell_type": "code",
   "execution_count": null,
   "metadata": {
    "collapsed": false
   },
   "outputs": [],
   "source": []
  },
  {
   "cell_type": "markdown",
   "metadata": {},
   "source": [
    "c. You used two approaches to add '16:30' to the list. Which approach\n",
    "modified the list and which approach created a new list?"
   ]
  },
  {
   "cell_type": "markdown",
   "metadata": {},
   "source": [
    "**4.** The variable ids refers to the list [4353, 2314, 2956, 3382, 9362, 3900] . Using list\n",
    "methods, do the following:"
   ]
  },
  {
   "cell_type": "code",
   "execution_count": null,
   "metadata": {
    "collapsed": false
   },
   "outputs": [],
   "source": [
    "ids=[4353,2314,2956,3382,9362,3900]"
   ]
  },
  {
   "cell_type": "markdown",
   "metadata": {},
   "source": [
    "a. Remove 3382 from the list."
   ]
  },
  {
   "cell_type": "code",
   "execution_count": null,
   "metadata": {
    "collapsed": false
   },
   "outputs": [],
   "source": []
  },
  {
   "cell_type": "markdown",
   "metadata": {},
   "source": [
    "b. Get the index of 9362 ."
   ]
  },
  {
   "cell_type": "code",
   "execution_count": null,
   "metadata": {
    "collapsed": false
   },
   "outputs": [],
   "source": []
  },
  {
   "cell_type": "markdown",
   "metadata": {},
   "source": [
    "c. Insert 4499 in the list after 9362"
   ]
  },
  {
   "cell_type": "code",
   "execution_count": null,
   "metadata": {
    "collapsed": false
   },
   "outputs": [],
   "source": []
  },
  {
   "cell_type": "markdown",
   "metadata": {},
   "source": [
    "d. Extend the list by adding [5566, 1830] to it."
   ]
  },
  {
   "cell_type": "code",
   "execution_count": null,
   "metadata": {
    "collapsed": false
   },
   "outputs": [],
   "source": []
  },
  {
   "cell_type": "markdown",
   "metadata": {},
   "source": [
    "e. Reverse the list."
   ]
  },
  {
   "cell_type": "code",
   "execution_count": null,
   "metadata": {
    "collapsed": false
   },
   "outputs": [],
   "source": []
  },
  {
   "cell_type": "markdown",
   "metadata": {},
   "source": [
    "f. Sort the list."
   ]
  },
  {
   "cell_type": "code",
   "execution_count": null,
   "metadata": {
    "collapsed": false
   },
   "outputs": [],
   "source": []
  },
  {
   "cell_type": "markdown",
   "metadata": {},
   "source": [
    "**5.** a. Assign a list that contains the atomic numbers of the six alkaline\n",
    "earth metals—beryllium (4), magnesium (12), calcium (20), strontium\n",
    "(38), barium (56), and radium (88)—to a variable called alkaline_earth_metals ."
   ]
  },
  {
   "cell_type": "code",
   "execution_count": null,
   "metadata": {
    "collapsed": false
   },
   "outputs": [],
   "source": []
  },
  {
   "cell_type": "markdown",
   "metadata": {},
   "source": [
    "b. Which index contains radium’s atomic number? Write the answer in\n",
    "two ways, one using a positive index and one using a negative index."
   ]
  },
  {
   "cell_type": "code",
   "execution_count": null,
   "metadata": {
    "collapsed": false
   },
   "outputs": [],
   "source": []
  },
  {
   "cell_type": "markdown",
   "metadata": {},
   "source": [
    "c. Which function tells you how many items there are in alkaline_earth_metals ?"
   ]
  },
  {
   "cell_type": "code",
   "execution_count": null,
   "metadata": {
    "collapsed": false
   },
   "outputs": [],
   "source": []
  },
  {
   "cell_type": "markdown",
   "metadata": {},
   "source": [
    "d. Write code that returns the highest atomic number in alkaline_earth_metals ."
   ]
  },
  {
   "cell_type": "code",
   "execution_count": null,
   "metadata": {
    "collapsed": false
   },
   "outputs": [],
   "source": []
  },
  {
   "cell_type": "markdown",
   "metadata": {},
   "source": [
    "**6.** a. Create a list of temperatures in degrees Celsius with the values 25.2,\n",
    "16.8, 31.4, 23.9, 28, 22.5, and 19.6, and assign it to a variable called\n",
    "temps"
   ]
  },
  {
   "cell_type": "code",
   "execution_count": null,
   "metadata": {
    "collapsed": false
   },
   "outputs": [],
   "source": []
  },
  {
   "cell_type": "markdown",
   "metadata": {},
   "source": [
    "b. Using one of the list methods, sort temps in ascending order."
   ]
  },
  {
   "cell_type": "code",
   "execution_count": null,
   "metadata": {
    "collapsed": false
   },
   "outputs": [],
   "source": []
  },
  {
   "cell_type": "markdown",
   "metadata": {},
   "source": [
    "c. Using slicing, create two new lists, cool_temps and warm_temps , which\n",
    "contain the temperatures below and above 20 degrees Celsius,\n",
    "respectively."
   ]
  },
  {
   "cell_type": "code",
   "execution_count": null,
   "metadata": {
    "collapsed": false
   },
   "outputs": [],
   "source": []
  },
  {
   "cell_type": "markdown",
   "metadata": {},
   "source": [
    "d. Using list arithmetic, recombine cool_temps and warm_temps into a new\n",
    "list called temps_in_celsius ."
   ]
  },
  {
   "cell_type": "code",
   "execution_count": null,
   "metadata": {
    "collapsed": false
   },
   "outputs": [],
   "source": []
  },
  {
   "cell_type": "markdown",
   "metadata": {},
   "source": [
    "**7.** Complete the examples in the docstring and then write the body of the\n",
    "following function:"
   ]
  },
  {
   "cell_type": "code",
   "execution_count": null,
   "metadata": {
    "collapsed": false
   },
   "outputs": [],
   "source": [
    "def same_first_last(L):\n",
    "\"\"\" (list) -> bool\n",
    "Precondition: len(L) >= 2\n",
    "Return True if and only if first item of the list is the same as the\n",
    "last.\n",
    ">>> same_first_last([3, 4, 2, 8, 3])\n",
    "True\n",
    ">>> same_first_last(['apple', 'banana', 'pear'])\n",
    ">>> same_first_last([4.0, 4.5])\n",
    "\"\"\""
   ]
  },
  {
   "cell_type": "markdown",
   "metadata": {},
   "source": [
    "**8.** Complete the examples in the docstring and then write the body of the\n",
    "following function:"
   ]
  },
  {
   "cell_type": "code",
   "execution_count": null,
   "metadata": {
    "collapsed": false
   },
   "outputs": [],
   "source": [
    "def is_longer(L1, L2):\n",
    "\"\"\" (list, list) -> bool\n",
    "Return True if and only if the length of L1 is longer than the length\n",
    "of L2.\n",
    ">>> is_longer([1, 2, 3], [4, 5])\n",
    "True\n",
    ">>> is_longer(['abcdef'], ['ab', 'cd', 'ef'])\n",
    ">>> is_longer(['a', 'b', 'c'], [1, 2, 3]\n",
    "\"\"\""
   ]
  },
  {
   "cell_type": "markdown",
   "metadata": {},
   "source": [
    "**9.** Draw a memory model showing the effect of the following statements:\n",
    "values = [0, 1, 2]\n",
    "values[1] = values"
   ]
  },
  {
   "cell_type": "markdown",
   "metadata": {},
   "source": [
    "**10.** The units variable refers to the nested list [['km', 'miles', 'league'], ['kg', 'pound',\n",
    "'stone']] . "
   ]
  },
  {
   "cell_type": "code",
   "execution_count": null,
   "metadata": {
    "collapsed": false
   },
   "outputs": [],
   "source": [
    "units=[['km','miles','league'],['kg','pound','stone']]"
   ]
  },
  {
   "cell_type": "markdown",
   "metadata": {},
   "source": [
    "Using units and either slicing or indexing with positive indices,\n",
    "write expressions that produce the following:"
   ]
  },
  {
   "cell_type": "markdown",
   "metadata": {},
   "source": [
    "a. The first item of units (the first inner list)"
   ]
  },
  {
   "cell_type": "code",
   "execution_count": null,
   "metadata": {
    "collapsed": false
   },
   "outputs": [],
   "source": []
  },
  {
   "cell_type": "markdown",
   "metadata": {},
   "source": [
    "b. The last item of units (the last inner list)"
   ]
  },
  {
   "cell_type": "code",
   "execution_count": null,
   "metadata": {
    "collapsed": false
   },
   "outputs": [],
   "source": []
  },
  {
   "cell_type": "markdown",
   "metadata": {},
   "source": [
    "c. The string 'km'"
   ]
  },
  {
   "cell_type": "code",
   "execution_count": null,
   "metadata": {
    "collapsed": false
   },
   "outputs": [],
   "source": []
  },
  {
   "cell_type": "markdown",
   "metadata": {},
   "source": [
    "d. The string 'kg'"
   ]
  },
  {
   "cell_type": "code",
   "execution_count": null,
   "metadata": {
    "collapsed": false
   },
   "outputs": [],
   "source": []
  },
  {
   "cell_type": "markdown",
   "metadata": {},
   "source": [
    "e. The list ['miles', 'league']"
   ]
  },
  {
   "cell_type": "code",
   "execution_count": null,
   "metadata": {
    "collapsed": false
   },
   "outputs": [],
   "source": []
  },
  {
   "cell_type": "markdown",
   "metadata": {},
   "source": [
    "f. The list ['kg', 'pound']"
   ]
  },
  {
   "cell_type": "code",
   "execution_count": null,
   "metadata": {
    "collapsed": false
   },
   "outputs": [],
   "source": []
  },
  {
   "cell_type": "markdown",
   "metadata": {},
   "source": [
    "**11.** Repeat the previous question using negative indices"
   ]
  },
  {
   "cell_type": "code",
   "execution_count": null,
   "metadata": {
    "collapsed": false
   },
   "outputs": [],
   "source": []
  }
 ],
 "metadata": {
  "kernelspec": {
   "display_name": "Python 3",
   "language": "python",
   "name": "python3"
  },
  "language_info": {
   "codemirror_mode": {
    "name": "ipython",
    "version": 3
   },
   "file_extension": ".py",
   "mimetype": "text/x-python",
   "name": "python",
   "nbconvert_exporter": "python",
   "pygments_lexer": "ipython3",
   "version": "3.5.2"
  }
 },
 "nbformat": 4,
 "nbformat_minor": 1
}
