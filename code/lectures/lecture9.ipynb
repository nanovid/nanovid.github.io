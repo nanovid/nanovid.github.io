{
 "cells": [
  {
   "cell_type": "markdown",
   "metadata": {},
   "source": [
    "## Lecture 9\n",
    "\n",
    "The objectives of this lecture are to:\n",
    "\n",
    "1. Organizing your code -- the Python `module`.\n",
    "2. Designing and creating a module."
   ]
  },
  {
   "cell_type": "markdown",
   "metadata": {},
   "source": [
    "# The Python `module`\n",
    "\n",
    "A *module* in Python is similar to a library in other programming languages. It groups together variables and functions that have some organizational relationship with intent of them being reused in multiple programs. There are literally thousands of Python modules and many more provide Python \"wrappers\" to FORTRAN, C, and C++ code.\n",
    "\n",
    "In this section you will learn how to use built-in modules starting with the `math` modules.\n",
    "\n",
    "### Importing modules\n",
    "\n",
    "In order to access variables and functions in a module you must first *import* it. There are multiple ways of doing this which differ in which namespace the variable and function references will be placed. In the most simple approach an `import` statement results in the creation of a new namespace for the module with a reference to the namespace in the top-level one,"
   ]
  },
  {
   "cell_type": "code",
   "execution_count": null,
   "metadata": {
    "collapsed": false
   },
   "outputs": [],
   "source": [
    "import math\n",
    "\n",
    "type(math)"
   ]
  },
  {
   "cell_type": "markdown",
   "metadata": {},
   "source": [
    "A module is an object like everything else in Python! Like a function, you may access the module documentation using `help()`,"
   ]
  },
  {
   "cell_type": "code",
   "execution_count": null,
   "metadata": {
    "collapsed": false
   },
   "outputs": [],
   "source": [
    "help(math)"
   ]
  },
  {
   "cell_type": "markdown",
   "metadata": {},
   "source": [
    "the module documentation shows that many mathematical functions are contained in the module, along with a few special constants. If we use our memory model (its been a while!), the result of importing the module is represented graphically as,\n",
    "\n",
    "<img src='files/./images/lecture3/pg105.jpg'>\n",
    "\n",
    "In order to access the functions and variables in the `math` module's namespace, we need to introduce a new operator (`.`),"
   ]
  },
  {
   "cell_type": "code",
   "execution_count": null,
   "metadata": {
    "collapsed": false
   },
   "outputs": [],
   "source": [
    "# equivalent expressions\n",
    "math.sqrt(9.0)\n",
    "math . sqrt(9.0)\n",
    "math. sqrt(9.0)\n",
    "math .sqrt(9.0)"
   ]
  },
  {
   "cell_type": "markdown",
   "metadata": {},
   "source": [
    "It is best practice to leave no space in between the module and the variable/function to be accessed, unlike with other binary operators. We learned from the documentation that the `math` module has two variables defined: $\\pi$ and $e$,\n",
    "\n",
    "\n",
    "<img src='files/./images/lecture3/pg107.jpg'>"
   ]
  },
  {
   "cell_type": "code",
   "execution_count": null,
   "metadata": {
    "collapsed": false
   },
   "outputs": [],
   "source": [
    "print(math.pi)\n",
    "print(math.e)"
   ]
  },
  {
   "cell_type": "markdown",
   "metadata": {},
   "source": [
    "We can use these variables like any other `float` as long as we instruct the interpreter to look in the `math` module namespace for them,"
   ]
  },
  {
   "cell_type": "code",
   "execution_count": null,
   "metadata": {
    "collapsed": false
   },
   "outputs": [],
   "source": [
    "# the circumference of a circle of radius 1.0\n",
    "circumference = 2.0 * math.pi * 1.0\n",
    "print(circumference)"
   ]
  },
  {
   "cell_type": "markdown",
   "metadata": {},
   "source": [
    "Just like any other variable, you may reassign the value of those contained in a module,"
   ]
  },
  {
   "cell_type": "code",
   "execution_count": null,
   "metadata": {
    "collapsed": false
   },
   "outputs": [],
   "source": [
    "math.pi = 1.0\n",
    "\n",
    "circumference = 2.0 * math.pi * 1.0\n",
    "print(circumference)"
   ]
  },
  {
   "cell_type": "markdown",
   "metadata": {},
   "source": [
    "While other languages allow you to specify constants, whose value cannot be modified, Python does not have such functionality. This is typically not a problem as long as you follow best practices...do not reassign the contents of a module! Here is an extreme case,"
   ]
  },
  {
   "cell_type": "code",
   "execution_count": null,
   "metadata": {
    "collapsed": false
   },
   "outputs": [],
   "source": [
    "math.sqrt = 5\n",
    "\n",
    "math.sqrt(9.0)"
   ]
  },
  {
   "cell_type": "markdown",
   "metadata": {},
   "source": [
    "There is a way of restoring a module to its original form, but this is typically not done to \"undo\" bad programming (as we see above). Instead this is done as part of the development process when making your own module using iPython (see the `autoreload` iPython extension). Even this type of usage is typically avoided during the module development process and, instead, test scripts are used.\n",
    "\n",
    "Within the interactive notebook environment, we can accomplish this by restarting the underlying Python interpreter. Selecting the Kernel->Restart menu item does this."
   ]
  },
  {
   "cell_type": "code",
   "execution_count": null,
   "metadata": {
    "collapsed": false
   },
   "outputs": [],
   "source": [
    "# restart the interpreter before executing this code!\n",
    "import math\n",
    "\n",
    "print(math.pi)\n",
    "print(math.sqrt(9.0))"
   ]
  },
  {
   "cell_type": "markdown",
   "metadata": {},
   "source": [
    "Some modules are very large and frequently a program only requires a few functions or variables defined in a module. A second method for importing allows such cases to be handled efficiently: `from` module `import` function, variable, ..."
   ]
  },
  {
   "cell_type": "code",
   "execution_count": null,
   "metadata": {
    "collapsed": false
   },
   "outputs": [],
   "source": [
    "from math import sqrt,pi\n",
    "\n",
    "print(pi)\n",
    "print(sqrt(9.0))"
   ]
  },
  {
   "cell_type": "markdown",
   "metadata": {},
   "source": [
    "Notice that we did not need to use the `.` operators because this type of import does not create a new namespace for the module. Instead it imports the requested sub-set of module contents into the top-level namespace.\n",
    "\n",
    "\n",
    "\n",
    "This is both convenient and efficient for programs that use very limited functionality from a module, but should not be used in the extreme case. "
   ]
  },
  {
   "cell_type": "code",
   "execution_count": null,
   "metadata": {
    "collapsed": false
   },
   "outputs": [],
   "source": [
    "# this imports *all* module contents into the current namespace\n",
    "from math import *\n",
    "\n",
    "print(exp(1.0))\n",
    "print(e)"
   ]
  },
  {
   "cell_type": "markdown",
   "metadata": {},
   "source": [
    "This should *never* be used when developing programs, but is acceptable for interactive use of Python (to avoid needless typing). One of the reasons that this type of import should be avoided is that it reassigns the values of existing variables and functions with the same name. Such naming issues occur more frequently then you might image, but it only takes one of them to cause the beginner or experienced programming a significant headache,"
   ]
  },
  {
   "cell_type": "code",
   "execution_count": null,
   "metadata": {
    "collapsed": false
   },
   "outputs": [],
   "source": [
    "# a contrived example\n",
    "e = 1.4\n",
    "exp = \"exp\"\n",
    "\n",
    "# the import reassigns the values of `e` and `exp`\n",
    "from math import *\n",
    "\n",
    "print(e)\n",
    "print(exp)"
   ]
  },
  {
   "cell_type": "markdown",
   "metadata": {},
   "source": [
    "Now that you know how to use modules, the vast array of *standard modules* provided by Python are at your finger tips (literally). A few sample modules of interest are,\n",
    "\n",
    "* `cmath` -- mathematical functions for complex numbers.\n",
    "* `concurrent` -- execute computations concurrently using threads or processes.\n",
    "* `datetime` -- basic date and time types.\n",
    "* `html` -- helper functions for manipulating HTML.\n",
    "* `io` -- tools for working with input/output streams.\n",
    "* `pydoc` -- documentation generator and online help.\n",
    "* `tkinter` -- a basic graphical user interface (GUI) for Python.\n",
    "\n",
    "These are just a few of the standard modules ranging from relatively mundane functionality (`datetime`) to very advanced (`concurrent`, `tkinter`). For the full list see the Python module index: http://docs.python.org/release/3.3.0/py-modindex.html\n",
    "\n",
    "\n",
    "# Designing and creating your own modules\n",
    "\n",
    "\n",
    "We learned in a previous lecture that we can store and use Python code in a file with the `.py` suffix. In this section we will learn that creating a module is just as simple and we will do so inside and outside of the interactive lecture environment (iPython Notebook).\n",
    "\n",
    "Let's start with some sample code which defines two functions `convert_to_celsius()` and `above_freezing()`,"
   ]
  },
  {
   "cell_type": "code",
   "execution_count": null,
   "metadata": {
    "collapsed": false
   },
   "outputs": [],
   "source": [
    "def convert_to_celsius(fahrenheit):\n",
    "    \"\"\" (number) -> float\n",
    "    Return the number of Celsius degrees equivalent to fahrenheit degrees.\n",
    "\n",
    "    >>> convert_to_celsius(75)\n",
    "    23.88888888888889\n",
    "    \"\"\"\n",
    "    return (fahrenheit - 32.0) * 5.0 / 9.0\n",
    "\n",
    "def above_freezing(celsius):\n",
    "    \"\"\" (number) -> bool\n",
    "    \n",
    "    Return True iff temperature in celsius is above freezing.\n",
    "    \n",
    "    >>> above_freezing(5.2)\n",
    "    True\n",
    "    >>> above_freezing(-2.0)\n",
    "    False\n",
    "    \"\"\"\n",
    "    return(celsius > 0.0)"
   ]
  },
  {
   "cell_type": "markdown",
   "metadata": {},
   "source": [
    "Instead of executing this code within the interactive lecture environment, create a file `temperature.py` in the same directory as your lecture files and insert the code from above into it (maintaining the correct formatting). Once you have saved this file, you have created your first module!\n",
    "\n",
    "In order to use it, simply note that the name of the module is `temperature` and not `temperature.py` (the filename). The suffix is simply there to indicate that file contains Python code and not something else,"
   ]
  },
  {
   "cell_type": "code",
   "execution_count": null,
   "metadata": {
    "collapsed": false
   },
   "outputs": [],
   "source": [
    "import temperature\n",
    "\n",
    "celsius = temperature.convert_to_celsius(32.5)\n",
    "print(celsius)\n",
    "temperature.above_freezing(celsius)"
   ]
  },
  {
   "cell_type": "markdown",
   "metadata": {},
   "source": [
    "All of the things you have learned about importing modules applies to those that you write! Although we do have sufficient information to *use* existing modules, we need additional understanding to be able to write them (well). Specifically, we need to understand what happens when the Python interpreter imports a module.\n",
    "\n",
    "To illustrate this, let's make another module `experiment` by creating `experiment.py` in our current *working directory*. Cut-and-paste the code,\n",
    "\n",
    "`print(\"The panda's scientific name is \" + \"Ailuropoda melanoleuca\")`\n",
    "\n",
    "and import the module. What do you think will happen? No variables or functions are defined..."
   ]
  },
  {
   "cell_type": "code",
   "execution_count": null,
   "metadata": {
    "collapsed": false
   },
   "outputs": [],
   "source": [
    "import experiment"
   ]
  },
  {
   "cell_type": "markdown",
   "metadata": {},
   "source": [
    "The interpreter executes the code in the module when it is imported. You could include any code in the module and this would be executed on import. Try importing the module again,"
   ]
  },
  {
   "cell_type": "code",
   "execution_count": null,
   "metadata": {
    "collapsed": false
   },
   "outputs": [],
   "source": [
    "import experiment"
   ]
  },
  {
   "cell_type": "markdown",
   "metadata": {},
   "source": [
    "Nothing happens! The interpreter keeps track of what modules have been imported and does not re-execute the module's code as an optimization. This does not mean we cannot rerun the module's code?"
   ]
  },
  {
   "cell_type": "code",
   "execution_count": null,
   "metadata": {
    "collapsed": false
   },
   "outputs": [],
   "source": [
    "# restart the interpreter and re-import\n",
    "import experiment"
   ]
  },
  {
   "cell_type": "markdown",
   "metadata": {},
   "source": [
    "### Module versus script mode\n",
    "\n",
    "Many times we will want to write a program that can both be imported as a module or executed directly like a script (or application). In Python this functionality is achieved through the interpreter adding a built-in variable to the module namespace `__name__`. This variable is a `str` object and is assigned one of two values depending on how the module was imported:\n",
    "\n",
    "1. `__name__ = \"modulename\"` -- if the module was imported into its own namespace within an existing one (top-level or other), the `__name__` string is assigned the name of the module. For instance, in the previous example `__name__` would have the value `\"experiment\"`.\n",
    "2. `__name__ = \"__main__\"` -- if the module was executed directly such as in a script or application, the `__name__` variable is assigned a special value `\"__main__\"`.\n",
    "\n",
    "This allows the programmer to run different blocks of code depending on the context in which the module is being used,\n",
    "\n",
    "```python\n",
    "if __name__ == \"__main__\":\n",
    "    print(\"I am the main program.\")\n",
    "else:\n",
    "    print(\"Another module is importing me.\")\n",
    "```\n",
    "\n",
    "Try adding this code to the `experiment.py` file and executing it both within the interactive environment and directly through the Python interpreter,\n",
    "\n",
    "`# python experimental.py`"
   ]
  },
  {
   "cell_type": "code",
   "execution_count": null,
   "metadata": {
    "collapsed": false
   },
   "outputs": [],
   "source": [
    "# restart the interpeter/kernel\n",
    "import experiment\n",
    "\n",
    "print(experiment.__name__)"
   ]
  },
  {
   "cell_type": "markdown",
   "metadata": {},
   "source": [
    "Through this procedure we may develop Python modules that are also standalone applications or, more accurately, scripts. Let's bring all of these concepts together and add some functionality to the `temperature` module we began with. Add the following code to the end of the `temperature.py` file,\n",
    "\n",
    "```python\n",
    "if __name__ == \"__main__\":\n",
    "    fahrenheit_str = input(\"Enter the temperature in degrees Fahrenheit: \") \n",
    "    fahrenheit = float(fahrenheit_str)\n",
    "    \n",
    "    celsius = convert_to_celsius(fahrenheit)\n",
    "    \n",
    "    if above_freezing(celsius):\n",
    "        print(\"It is above freezing (rejoice!).\")\n",
    "    else:\n",
    "        print(\"It is at or below freezing (rejoice!?).\")\n",
    "```\n",
    "\n",
    "Now we may use the `temperature` module in two ways: (i) as before as a module for converting temperature values and (ii) as a standalone script which tells us whether or not a temperature value (in Fahrenheit) is above freezing.\n",
    "\n",
    "`# python temperature.py`"
   ]
  },
  {
   "cell_type": "code",
   "execution_count": null,
   "metadata": {
    "collapsed": false
   },
   "outputs": [],
   "source": [
    "# the `temperature` module is being imported with an existing top-level namespace\n",
    "# the code within the if statement block will not be executed\n",
    "import temperature\n",
    "\n",
    "celsius = temperature.convert_to_celsius(32.5)\n",
    "temperature.above_freezing(celsius)"
   ]
  },
  {
   "cell_type": "markdown",
   "metadata": {},
   "source": [
    "### Designing a module\n",
    "\n",
    "Finally, it is worthwhile to discuss how to *design* a module. Always spend as much or more time thinking about your program before you begin writing the code! There are no strict guidelines on how to create a module, but the functions, variables, and objects contained in a module all have some organizational relationship. Many times this relationship is too broad and the module will have too many functions etc. In this case you can break a module up into sub-modules, but programs of this level of complexity are far beyond the scope of this course.\n",
    "\n",
    "From the point of view of an engineer or scientist using programming for simple everyday tasks, a good rule-of-thumb is that you are able to describe the functionality of a module you have developed in a few sentences."
   ]
  },
  {
   "cell_type": "markdown",
   "metadata": {},
   "source": [
    "# Exercises"
   ]
  },
  {
   "cell_type": "markdown",
   "metadata": {},
   "source": [
    "**1.** Import the <i>math</i> module, and use its functions to complete the following exercises. (You can call dir(math) to get a listing of the items in <i>math</i>"
   ]
  },
  {
   "cell_type": "markdown",
   "metadata": {},
   "source": [
    "**a.**Write an expression that produces the floor of -2.8 ."
   ]
  },
  {
   "cell_type": "code",
   "execution_count": null,
   "metadata": {
    "collapsed": false
   },
   "outputs": [],
   "source": []
  },
  {
   "cell_type": "markdown",
   "metadata": {},
   "source": [
    "**b.** Write an expression that rounds the value of -4.3 and then produces\n",
    "the absolute value of that result."
   ]
  },
  {
   "cell_type": "code",
   "execution_count": null,
   "metadata": {
    "collapsed": false
   },
   "outputs": [],
   "source": []
  },
  {
   "cell_type": "markdown",
   "metadata": {},
   "source": [
    "**c.** Write an expression that produces the ceiling of the sine of 34.5."
   ]
  },
  {
   "cell_type": "code",
   "execution_count": null,
   "metadata": {
    "collapsed": false
   },
   "outputs": [],
   "source": []
  },
  {
   "cell_type": "markdown",
   "metadata": {},
   "source": [
    "**2.** In the following exercises, you will work with Python’s calendar module:"
   ]
  },
  {
   "cell_type": "markdown",
   "metadata": {},
   "source": [
    "**a.** Visit the Python documentation website at http://docs.python.org/release/\n",
    "3.3.0/py-modindex.html , and look at the documentation on the calendar\n",
    "module."
   ]
  },
  {
   "cell_type": "markdown",
   "metadata": {},
   "source": [
    "**b.** Import the <i>calendar</i> module."
   ]
  },
  {
   "cell_type": "code",
   "execution_count": null,
   "metadata": {
    "collapsed": false
   },
   "outputs": [],
   "source": []
  },
  {
   "cell_type": "markdown",
   "metadata": {},
   "source": [
    "**c.** Using the <i>help</i> function, read the description of the function <i>isleap</i>."
   ]
  },
  {
   "cell_type": "code",
   "execution_count": null,
   "metadata": {
    "collapsed": false
   },
   "outputs": [],
   "source": []
  },
  {
   "cell_type": "markdown",
   "metadata": {},
   "source": [
    "**d.** Use <i>isleap</i> to determine the next leap year."
   ]
  },
  {
   "cell_type": "code",
   "execution_count": null,
   "metadata": {
    "collapsed": false
   },
   "outputs": [],
   "source": []
  },
  {
   "cell_type": "markdown",
   "metadata": {},
   "source": [
    "**e.** Use <i>dir</i> to get a list of what calendar contains."
   ]
  },
  {
   "cell_type": "code",
   "execution_count": null,
   "metadata": {
    "collapsed": false
   },
   "outputs": [],
   "source": []
  },
  {
   "cell_type": "markdown",
   "metadata": {},
   "source": [
    "**f.** Find and use a function in the calendar module to determine how many\n",
    "leap years there will be between the years 2000 and 2050, inclusive."
   ]
  },
  {
   "cell_type": "code",
   "execution_count": null,
   "metadata": {
    "collapsed": false
   },
   "outputs": [],
   "source": []
  },
  {
   "cell_type": "markdown",
   "metadata": {},
   "source": [
    "**g.** Find and use a function in the calendar module to determine which day\n",
    "of the week July 29, 2016, will be."
   ]
  },
  {
   "cell_type": "code",
   "execution_count": null,
   "metadata": {
    "collapsed": false
   },
   "outputs": [],
   "source": []
  },
  {
   "cell_type": "markdown",
   "metadata": {},
   "source": [
    "**3.** In the following exercise, you will work with the doctest module to ensure that a function is working properly.\n",
    "\n",
    "***a.*** Run this code block defining the function <i>average</i>."
   ]
  },
  {
   "cell_type": "code",
   "execution_count": null,
   "metadata": {
    "collapsed": false
   },
   "outputs": [],
   "source": [
    "def average(num1, num2):\n",
    "    \"\"\" (number, number) -> number\n",
    "    Return the average of num1 and num2.\n",
    "    >>> average(10,20)\n",
    "    15.0\n",
    "    >>> average(2.5, 3.0)\n",
    "    2.75\n",
    "    \"\"\"\n",
    "    return num1 + num2 / 2"
   ]
  },
  {
   "cell_type": "markdown",
   "metadata": {},
   "source": [
    "***b.*** Import doctest and run doctest.testmod(). This will look through all docstrings in the current scope (i.e., in the same file, or in this case, code in the notebook that has already ran) and run any tests it finds."
   ]
  },
  {
   "cell_type": "code",
   "execution_count": null,
   "metadata": {
    "collapsed": false
   },
   "outputs": [],
   "source": []
  },
  {
   "cell_type": "markdown",
   "metadata": {},
   "source": [
    "***c.*** Both of the tests in the average function’s docstring fail. Fix the code\n",
    "and rerun the tests. Repeat this procedure until the tests pass."
   ]
  },
  {
   "cell_type": "code",
   "execution_count": null,
   "metadata": {
    "collapsed": false
   },
   "outputs": [],
   "source": []
  }
 ],
 "metadata": {
  "kernelspec": {
   "display_name": "Python 3",
   "language": "python",
   "name": "python3"
  },
  "language_info": {
   "codemirror_mode": {
    "name": "ipython",
    "version": 3
   },
   "file_extension": ".py",
   "mimetype": "text/x-python",
   "name": "python",
   "nbconvert_exporter": "python",
   "pygments_lexer": "ipython3",
   "version": "3.5.2"
  }
 },
 "nbformat": 4,
 "nbformat_minor": 1
}
