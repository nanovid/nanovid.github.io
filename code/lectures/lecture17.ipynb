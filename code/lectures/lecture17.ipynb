{
 "cells": [
  {
   "cell_type": "markdown",
   "metadata": {},
   "source": [
    "## Lecture 17\n",
    "\n",
    "The objectives of this lecture are to:\n",
    "\n",
    "1. Learn how to perform matrix operations with `NumPy`.\n",
    "2. File input/output for numerical data.\n",
    "\n",
    "*Much of the lecture is based on this tutorial: [http://wiki.scipy.org/Tentative_NumPy_Tutorial](http://wiki.scipy.org/Tentative_NumPy_Tutorial/)*"
   ]
  },
  {
   "cell_type": "markdown",
   "metadata": {},
   "source": [
    "# Linear Algebra\n",
    "\n",
    "As we learned in the previous lectures, arithmetic operations using arrays are element-wise. In order to perform matrix operations, NumPy implements a `matrix` object that is derived from the `array` object.\n",
    "\n",
    "### The `matrix` object\n",
    "\n",
    "In order to create a `matrix` object there are two general methods:\n",
    "\n",
    "1. *Copy* values from an existing `array` object.\n",
    "2. Create a `matrix` and initialize it as you would an array.\n",
    "\n",
    "NumPy provides some special conveniences for initializing `matrix` objects which you will find useful,"
   ]
  },
  {
   "cell_type": "code",
   "execution_count": null,
   "metadata": {
    "collapsed": false
   },
   "outputs": [],
   "source": [
    "from numpy import *\n",
    "\n",
    "\n",
    "# Method 1, *copy* data from an existing array\n",
    "A = array([[1.0, 2.0], [3.0, 4.0]])\n",
    "A = matrix(A)\n",
    "print(type(A))\n",
    "print(A)\n",
    "\n",
    "print(8*'-')\n",
    "\n",
    "# Method 2a, provide matrix element values in an array()-like syntax\n",
    "A = matrix([[1.0, 2.0], [3.0, 4.0]])\n",
    "print(A)\n",
    "\n",
    "print(8*'-')\n",
    "\n",
    "# Method 2b, provide matrix element values in a more compact format similar to MATLAB/Octave/Scilab etc\n",
    "A = matrix('1.0 2.0; 3.0 4.0')\n",
    "print(A)"
   ]
  },
  {
   "cell_type": "markdown",
   "metadata": {},
   "source": [
    "You will notice that displaying `matrix` data is exactly the same as a 2D array. For the most part, using Method 1 is inefficient if your objective is to use matrix algebra from the beginning. There is one case where Method 1 is useful; NumPy provides several built-in functions to generate special arrays,"
   ]
  },
  {
   "cell_type": "code",
   "execution_count": null,
   "metadata": {
    "collapsed": false
   },
   "outputs": [],
   "source": [
    "# the output of all of NumPy's built-in functions are arrays, they are more general than matrices\n",
    "B = ones((3,3))\n",
    "print(type(B))\n",
    "\n",
    "# instead of creating different built-in functions, you should instead initialize a matrix using the \n",
    "# array output\n",
    "B = matrix(B)\n",
    "print(type(B))\n",
    "print(B)"
   ]
  },
  {
   "cell_type": "markdown",
   "metadata": {},
   "source": [
    "One important NumPy function is `identity()` in that we frequently need to use the identity matrix in matrix algebra,"
   ]
  },
  {
   "cell_type": "code",
   "execution_count": null,
   "metadata": {
    "collapsed": false
   },
   "outputs": [],
   "source": [
    "I = identity(3)\n",
    "print(type(I))\n",
    "print(I)\n",
    "\n",
    "I = matrix(I)\n",
    "print(type(I))\n",
    "print(I)"
   ]
  },
  {
   "cell_type": "markdown",
   "metadata": {},
   "source": [
    "Sometimes you will run into a situation where you want to perform both elementwise and matrix operations on the same data. Method 1 is not ideal in that it copies data from an existing `array` to make a `matrix`,"
   ]
  },
  {
   "cell_type": "code",
   "execution_count": null,
   "metadata": {
    "collapsed": false
   },
   "outputs": [],
   "source": [
    "Aarr = array([[1.0, 2.0], [3.0, 4.0]])\n",
    "Amat = matrix(Aarr)\n",
    "\n",
    "# Aarr's data will *not* be changed\n",
    "Amat[0, 0] = 0.0\n",
    "\n",
    "print(Aarr)\n",
    "print(Amat)"
   ]
  },
  {
   "cell_type": "markdown",
   "metadata": {},
   "source": [
    "What solution to this problem would be consistent with past `array` methods? A *view*! NumPy provides two functions to create views of `array` and `matrix` objects for this exact purpose: `asmatrix()` and `asarray`,"
   ]
  },
  {
   "cell_type": "code",
   "execution_count": null,
   "metadata": {
    "collapsed": false
   },
   "outputs": [],
   "source": [
    "Aarr = array([[1.0, 2.0], [3.0, 4.0]])\n",
    "Amat = asmatrix(Aarr)\n",
    "\n",
    "# Aarr's data *will* be changed\n",
    "Amat[0,0] = 0.0\n",
    "\n",
    "print(Aarr)\n",
    "print(Amat)"
   ]
  },
  {
   "cell_type": "markdown",
   "metadata": {},
   "source": [
    "### Matrix operations and linear algebra\n",
    "\n",
    "Arithmetic operations with `matrix` objects results in matrix algebra operations that you are familiar with,"
   ]
  },
  {
   "cell_type": "code",
   "execution_count": null,
   "metadata": {
    "collapsed": false
   },
   "outputs": [],
   "source": [
    "A = matrix('1.0 2.0; 3.0 4.0')\n",
    "I = asmatrix(identity(2))\n",
    "\n",
    "print(A+I)\n",
    "print(8*'-')\n",
    "print(A-I)\n",
    "print(8*'-')\n",
    "print(A*I)\n",
    "print(8*'-')\n",
    "print(A**2)"
   ]
  },
  {
   "cell_type": "markdown",
   "metadata": {},
   "source": [
    "Additionally, there are many attributes of the `matrix` class that are defined for convenience,"
   ]
  },
  {
   "cell_type": "code",
   "execution_count": null,
   "metadata": {
    "collapsed": false
   },
   "outputs": [],
   "source": [
    "# the `T` attribute of a `matrix` is a *view* of its transpose\n",
    "print(A.T)\n",
    "\n",
    "print(8*'-')\n",
    "\n",
    "# the `I` attribute of a `matrix` is a its inverse, it is computed when needed (for obvious reasons)\n",
    "print(A*A.I)"
   ]
  },
  {
   "cell_type": "markdown",
   "metadata": {},
   "source": [
    "For extended functionality, such as factorizations and decompositions, the `linalg` module of NumPy provides linear algebra functionality,"
   ]
  },
  {
   "cell_type": "code",
   "execution_count": null,
   "metadata": {
    "collapsed": false
   },
   "outputs": [],
   "source": [
    "# find the determinant of a matrix\n",
    "linalg.det(A)"
   ]
  },
  {
   "cell_type": "code",
   "execution_count": null,
   "metadata": {
    "collapsed": false
   },
   "outputs": [],
   "source": [
    "# find the inverse of a matrix, equivalent to A.I\n",
    "linalg.inv(A)"
   ]
  },
  {
   "cell_type": "code",
   "execution_count": null,
   "metadata": {
    "collapsed": false
   },
   "outputs": [],
   "source": [
    "# eigendecomposition of a square matrix\n",
    "linalg.eig(A)"
   ]
  },
  {
   "cell_type": "code",
   "execution_count": null,
   "metadata": {
    "collapsed": false
   },
   "outputs": [],
   "source": [
    "# QR factorization, note that a more robust method is used than Gram-Schmit\n",
    "linalg.qr(A)"
   ]
  },
  {
   "cell_type": "code",
   "execution_count": null,
   "metadata": {
    "collapsed": false
   },
   "outputs": [],
   "source": [
    "# solving a linear system A*x = b, as you learned in your Linear Algebra course\n",
    "# this is more efficient than A.I*B\n",
    "b = matrix(\"1.0 ; 2.0\")\n",
    "linalg.solve(A,b)"
   ]
  },
  {
   "cell_type": "markdown",
   "metadata": {},
   "source": [
    "# File Input/Output in NumPy\n",
    "\n"
   ]
  },
  {
   "cell_type": "markdown",
   "metadata": {},
   "source": [
    "NumPy provides a relatively simple but powerful set of functions for reading and writing numerical data files:\n",
    "\n",
    "* `save(filename, array_like)`\n",
    "* `savez(filename, label1 = array_like1, label2 = array_like2, ...)`\n",
    "* `load(filename)`\n",
    "* `savetxt(filename, array_like, format)`\n",
    "* `loadtxt(filename)`\n",
    "\n",
    "You will learn about the basic usage of these functions and one intermediate-level concept, memory-mapped file access, that is useful for dealing with very large data-sets.\n",
    "\n",
    "### Saving and loading single NumPy arrays\n",
    "\n",
    "The most simple approach to saving numerical data with NumPy is to save each array in its own file,"
   ]
  },
  {
   "cell_type": "code",
   "execution_count": null,
   "metadata": {
    "collapsed": false
   },
   "outputs": [],
   "source": [
    "# let's create a relatively large array\n",
    "data = random.random((1000, 1000))\n",
    "\n",
    "# create a `string` object containing the desired file name\n",
    "filename = \"my_array\"\n",
    "\n",
    "# use the `save()` function\n",
    "save(filename, data)"
   ]
  },
  {
   "cell_type": "markdown",
   "metadata": {},
   "source": [
    "After executing this code, you will find a file \"my_array.npy\" is your current working directory. If you try and open the file, you will find that is it a raw binary file and is not directly readable. In many cases you might want to be able to read the data without opening a Python session; this can be accomplished with `savetxt()` but this convenience is not without a cost..."
   ]
  },
  {
   "cell_type": "code",
   "execution_count": null,
   "metadata": {
    "collapsed": false
   },
   "outputs": [],
   "source": [
    "# save the array data to a human-readable text file\n",
    "savetxt(filename+\".txt\", data)"
   ]
  },
  {
   "cell_type": "markdown",
   "metadata": {},
   "source": [
    "If you look in your working directory, there is a new file \"my_array.txt\". The `savetxt()` function does not add a filetype suffix so you may choose what is appropriate (.txt, .csv, etc). In this case I am using the default formatting to output the data, but there is quite a bit of flexibility in the formatting that you may configure. This option is especially useful for exporting data to another software package such as spreadsheet software.\n",
    "\n",
    "The cost for this readability is the size of the data file; in your working directory type `ls -lh my_array.*`,\n",
    "\n",
    "```bash\n",
    "$ ls -lh my_array.*\n",
    "-rw-rw-r-- 1 nasser nasser 7.7M Jun 20 15:47 my_array.npy\n",
    "-rw-rw-r-- 1 nasser nasser  24M Jun 20 16:08 my_array.txt\n",
    "\n",
    "```\n",
    "\n",
    "The size of the text file is almost three times that of the binary file. The text representation of each value in the array clearly requires more data than the direct binary representation and a delimiter (a space, comma, etc) is required in the text file for the reader to distinguish each value. Thus the vast majority of the time we will use the more efficient `save()` function.\n",
    "\n",
    "Loading saved files is a relatively simple task, if the file is in the binary \".npy\" format use `load()`,"
   ]
  },
  {
   "cell_type": "code",
   "execution_count": null,
   "metadata": {
    "collapsed": false
   },
   "outputs": [],
   "source": [
    "array1 = load(filename+\".npy\")\n",
    "\n",
    "print(array1.shape)"
   ]
  },
  {
   "cell_type": "markdown",
   "metadata": {},
   "source": [
    "Else if it is in a text format use `loadtxt()`,"
   ]
  },
  {
   "cell_type": "code",
   "execution_count": null,
   "metadata": {
    "collapsed": false
   },
   "outputs": [],
   "source": [
    "array2 = loadtxt(filename+\".txt\")\n",
    "\n",
    "print(array2.shape)"
   ]
  },
  {
   "cell_type": "markdown",
   "metadata": {},
   "source": [
    "In the previous examples we have chosen to use the `array` datatype, but any array-like data type is compatible with these functions such as `matrix`.\n",
    "\n",
    "As you have seen, single array input/output is very very simple, but frequently we wish to save many arrays and doing so in a single file would be convenient.\n",
    "\n",
    "\n",
    "### Saving a loading multiple NumPy arrays\n",
    "\n",
    "Saving and loading data files with multiple arrays is slightly more complicated and can be accomplished using `savez()` to save and `load()` (as before),"
   ]
  },
  {
   "cell_type": "code",
   "execution_count": null,
   "metadata": {
    "collapsed": false
   },
   "outputs": [],
   "source": [
    "# using array1 and array2 from the previous example\n",
    "savez(\"my_arrays\", large_array=array1, small_array=array1[::10, ::10])\n",
    "\n",
    "# an equivalent function call, but now the keyword for array1 will default to arr_0\n",
    "# and for array2 will default to arr_1\n",
    "#savez(\"my_arrays\", array1, array1[::10, ::10])"
   ]
  },
  {
   "cell_type": "markdown",
   "metadata": {},
   "source": [
    "As before, the initial argument is the file name, but now additional arguments require assigning the arrays you want to store to keywords. As many arrays as you wish may be assigned and the keywords are optional. If they are not provided a default label `arr_0`, `arr_1`, ... are assigned. Check your working directory and you will find a data file \"my_arrays.npz\", where the \".npz\" suffix denotes that this is a different format than \".npy\".\n",
    "\n",
    "This saves the array data in an uncompressed format, the variant `savez_compressed()` only differs in that it saves the data in a compressed format. Typically with numerical data, compression does not perform well unless there are many repeated values.\n",
    "\n",
    "To load the data, use the same syntax as before,"
   ]
  },
  {
   "cell_type": "code",
   "execution_count": null,
   "metadata": {
    "collapsed": false
   },
   "outputs": [],
   "source": [
    "arrays = load(\"my_arrays\"+\".npz\")\n",
    "\n",
    "type(arrays)"
   ]
  },
  {
   "cell_type": "markdown",
   "metadata": {},
   "source": [
    "Now the `load()` function returns a single `NpzFile` object which is derived from the `dict` object. The `NpzObject` behaves very similar to a dictionary where the keys are the keywords from the `savez()` call and the data associated with the keys are the arrays that were stored."
   ]
  },
  {
   "cell_type": "code",
   "execution_count": null,
   "metadata": {
    "collapsed": false
   },
   "outputs": [],
   "source": [
    "# the list of keys is useful\n",
    "keys = arrays.keys()\n",
    "print(keys)\n",
    "\n",
    "array1 = arrays[keys[0]]\n",
    "array2 = arrays[keys[1]]\n",
    "\n",
    "print(array1.shape)\n",
    "print(array2.shape)"
   ]
  },
  {
   "cell_type": "markdown",
   "metadata": {},
   "source": [
    "### Working with large arrays -- memory-mapped data access\n",
    "\n",
    "The `load()` function allows *memory-mapped* access to data files where only a small segment of a file on-disk is loaded into main memory. For large to very large files this results in significant speed-up of array manipulations. A simple example of this is an array containing time series data of the state of a system. We typically will need to manipulate one or a few snapshots at a time, so there is no need to load the whole array at once. The memory-mapping functionality of NumPy is transparent to the user; simply enable it through setting the keyword `mmap_mode` of the `load()` function to one of these four values, \n",
    "\n",
    "<table><tbody>\n",
    "<tr><td>`r`</td><td>Open existing file for reading only.</td></tr>\n",
    "<tr><td>`r+`</td><td>Open existing file for reading and writing.</td></tr>\n",
    "<tr><td>`w+`</td><td>Create or overwrite existing file for reading and writing.</td></tr>\n",
    "<tr><td>`c`</td><td>Copy-on-write: assignments affect data in memory, but changes are not saved to disk. The file on disk is read-only.</td></tr>\n",
    "</tbody></table>\n",
    "\n",
    "The purpose of \"r\" and \"r+\" are obvious, but \"w+\" and \"c\" require some explanation. The \"c\" option us useful when you want to manipulate and explore array data without affecting the data on-disk. Using this option frequently is good practice so that you do not accidentally change important data that you have stored. Consider removing filesystem write access for an extra measure of caution,\n",
    "\n",
    "```\n",
    "$ touch file\n",
    "$ ls -l file\n",
    "-rw-rw-r-- 1 nasser nasser 0 Jun 20 17:14 file\n",
    "$ chmod -w file\n",
    "$ rm file\n",
    "rm: remove write-protected regular empty file ‘file’? \n",
    "```\n",
    "\n",
    "The operating system will not allow you to modify this file and removing it requires an extra confirmation! The `w+` is similar to the `r+` option, except it overwrites the existing file, so it is rarely used.\n",
    "\n",
    "This functionality only works with single array \".npy\" files, so let's open the \"my_array.npy\" file from the previous example,"
   ]
  },
  {
   "cell_type": "code",
   "execution_count": null,
   "metadata": {
    "collapsed": false
   },
   "outputs": [],
   "source": [
    "# load the array stored in \"my_array.npy\" for read-only access the using memory-mapping mode\n",
    "arr_mmap = load(\"my_array.npy\", mmap_mode='r')\n",
    "\n",
    "type(arr_mmap)"
   ]
  },
  {
   "cell_type": "markdown",
   "metadata": {},
   "source": [
    "The `memmap` object is array-like, we may manipulate it directly but it is more understandable to use `asarray()` or `asmatrix()` to create a view of it that has a familiar type,"
   ]
  },
  {
   "cell_type": "code",
   "execution_count": null,
   "metadata": {
    "collapsed": false
   },
   "outputs": [],
   "source": [
    "arr = asarray(arr_mmap)\n",
    "print(type(arr))\n",
    "\n",
    "mat = asmatrix(arr_mmap)\n",
    "print(type(mat))"
   ]
  }
 ],
 "metadata": {
  "kernelspec": {
   "display_name": "Python 3",
   "language": "python",
   "name": "python3"
  },
  "language_info": {
   "codemirror_mode": {
    "name": "ipython",
    "version": 3
   },
   "file_extension": ".py",
   "mimetype": "text/x-python",
   "name": "python",
   "nbconvert_exporter": "python",
   "pygments_lexer": "ipython3",
   "version": "3.5.2"
  }
 },
 "nbformat": 4,
 "nbformat_minor": 1
}
