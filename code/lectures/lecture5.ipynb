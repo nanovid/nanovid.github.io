{
 "cells": [
  {
   "cell_type": "markdown",
   "metadata": {},
   "source": [
    "## Lecture 5\n",
    "\n",
    "The objectives of this lecture are:\n",
    "\n",
    "1. Introduction functions and *built-in* functions.\n",
    "2. Getting help with functions.\n",
    "3. Creating our own functions.\n",
    "4. Namespaces and local variables.\n",
    "\n"
   ]
  },
  {
   "cell_type": "markdown",
   "metadata": {},
   "source": [
    "# Introduction to Functions in Python\n",
    "\n",
    "\n",
    "Mathematicians create functions, for convenience, to represent frequently used calculations and operations. Programmers also use such a paradigm, but allow functions to represent anything from calculations (arithmetic, etc) to complex operations (sorting data, displaying text on-screen, sending data over the internet, etc.). In this lecture we will learn how functions are used in Python, how to use existing \"built-in\" functions, and how to create our own.\n",
    "\n",
    "In Python, functions require input (expressions) which are called function *arguments* and \"return\" *output*. In general, there are two methods for using a function:\n",
    "\n",
    "1. Assigning function output to a variable name:\n",
    "```\n",
    "function_output = function_name(argument1, argument2,...)\n",
    "```\n",
    "2. Ignoring function output: \n",
    "```\n",
    "function_name(argument1, argument2,...)\n",
    "```\n",
    "\n",
    "For functions that represent mathematical expressions, we will typically want to store and use the output, but for many other cases the function output is either irrelevant or trivial.\n",
    "\n",
    "Python provides a set of functions that are frequently used by default; these are called *built-in* functions. For example, the function `abs()` evaluates the absolute value of a variable and thus requires one numeric argument and returns a numeric output (of the same type)."
   ]
  },
  {
   "cell_type": "code",
   "execution_count": null,
   "metadata": {
    "collapsed": false
   },
   "outputs": [],
   "source": [
    "int_result = abs(-1)\n",
    "int_result"
   ]
  },
  {
   "cell_type": "code",
   "execution_count": null,
   "metadata": {
    "collapsed": false
   },
   "outputs": [],
   "source": [
    "float_result = abs(-1.0)\n",
    "float_result"
   ]
  },
  {
   "cell_type": "markdown",
   "metadata": {},
   "source": [
    "One of the conveniences of a high-level programming language such as Python is that most functions can be defined once for multiple types. In this case, the definition of the absolute value for integer and floating point values is quite similar, so there is one function that can handle both (and possible more numeric data-types). Additionally, in this example we assigned variables to the output of the function, but this is not required,"
   ]
  },
  {
   "cell_type": "code",
   "execution_count": null,
   "metadata": {
    "collapsed": false
   },
   "outputs": [],
   "source": [
    "abs(-1)"
   ]
  },
  {
   "cell_type": "code",
   "execution_count": null,
   "metadata": {
    "collapsed": false
   },
   "outputs": [],
   "source": [
    "abs(-1.0)"
   ]
  },
  {
   "cell_type": "markdown",
   "metadata": {},
   "source": [
    "In this case, the values that were returned were not assigned. While we can see and remember the result, from a programming prospective these values are lost and not able to be used in future expressions. In this case this does not make sense, but other cases it might.\n",
    "\n",
    "Just as we might use variables which store the output of functions, we will also want to use variables and expressions as the *input* arguments for functions,"
   ]
  },
  {
   "cell_type": "code",
   "execution_count": null,
   "metadata": {
    "collapsed": false
   },
   "outputs": [],
   "source": [
    "initial_altitude = 3000\n",
    "final_altitude = 1000\n",
    "\n",
    "# compute the magnitude of the change in altitude\n",
    "abs(final_altitude - initial_altitude)"
   ]
  },
  {
   "cell_type": "markdown",
   "metadata": {},
   "source": [
    "The interpreter evaluated the expression and used the result as the function argument, which implies that function calls can be arguments to other function calls. Using another built-in function which raises a numeric value to a power, `pow()`, and thus requires two arguments,"
   ]
  },
  {
   "cell_type": "code",
   "execution_count": null,
   "metadata": {
    "collapsed": false
   },
   "outputs": [],
   "source": [
    "result = pow(abs(-2), round(4.2))\n",
    "result"
   ]
  },
  {
   "cell_type": "markdown",
   "metadata": {},
   "source": [
    "We have introduced a new built-in function, `round`, which implements rounding of numerical values. It is apparent that *all* expressions occurring in *all* function arguments must be evaluated before evaluating a function call. In general, the interpreter follows a simple procedure for evaluating function calls:\n",
    "\n",
    "1. Evaluate each argument in sequence from left to right.\n",
    "2. Pass the resulting values and/or variables to the function.\n",
    "3. Execute the function and return a value.\n",
    "\n",
    "Remember this procedure; when we begin to write more complicated code, points 1-2 will have additional significance. This procedure may be illustrated as follows,\n",
    "\n",
    "<img src='files/./images/lecture5/lecture5-1.png'/>\n",
    "\n",
    "Sub-expressions are underlined and numbered in the order in which they are evaluated. Here is a list of several commonly used built-in functions for numerical values:\n",
    "\n",
    "|**Function Name**        |**Description**|\n",
    "|-------------------------|---------------|\n",
    "|`abs(x)`                 |Returns the absolute value of a number. The argument may be an integer or a floating point number. If the argument is a complex number, its magnitude is returned.|\n",
    "|`min(arg1,arg2,...)`     |Returns the smallest item the smallest of two or more arguments.|\n",
    "|`divmod(a, b)`           |Takes two numbers as arguments and returns a pair of numbers consisting of their quotient and remainder when using long division: `(a // b, a % b)`.|\n",
    "|`int(x=0)`               |Converts a number or string x to an integer, or return 0 if no arguments are given. If the argument is a floating point, the conversion truncates towards zero.|\n",
    "|`pow(x, y[, z])`         |Returns `x` to the power `y`. If `z` is present, return `x` to the power `y`, modulo `z` (computed more efficiently than `pow(x, y) % z`). The two-argument form `pow(x, y)` is equivalent to using the power operator: `x**y`.|\n",
    "|`float([x])`             |Converts a string or a number to floating point. If the argument is a string, it must contain a possibly signed decimal or floating point number. The argument may also be [+/-]nan<sup>1</sup> or [+/-]inf<sup>2</sup>. If no argument is given, returns 0.0.|\n",
    "|`type(object)`           |Returns the type of an object. The return value is a `type` object.|\n",
    "|`complex([real[,imag]])` |Creates a complex number with the value `real + imag*j` or converts a string or number to a complex number. If the first parameter is a string, it will be interpreted as a complex number and the function must be called without a second parameter. The second parameter can never be a string. Each argument may be any numeric type (including complex). If `imag` is omitted, it defaults to zero and the function serves as a numeric conversion function like `int()`, `long()` and `float()`. If both arguments are omitted, returns `0j`.|\n",
    "|`max(arg1,arg2,...)`     |Returns the largest of two or more arguments.|\n",
    "|`round(number[,ndigits])`|Returns the floating point value number rounded to `ndigits` digits after the decimal point. If `ndigits` is omitted, it defaults to zero. The result is a floating point number. Values are rounded to the closest multiple of 10 to the power minus `ndigits`; if two multiples are equally close, rounding is done away from `0`.|\n",
    "<sup>1</sup>NaN = Not a Number  \n",
    "<sup>2</sup>inf = infinity\n",
    "\n",
    "It might seem odd that there are functions that have the same names as numerical types, but these functions have an important purpose, they convert values from one type to another,"
   ]
  },
  {
   "cell_type": "code",
   "execution_count": null,
   "metadata": {
    "collapsed": false
   },
   "outputs": [],
   "source": [
    "i = 10 # an integer\n",
    "\n",
    "f = float(i) # a float with the same value as i\n",
    "f"
   ]
  },
  {
   "cell_type": "markdown",
   "metadata": {},
   "source": [
    "# Help with Functions\n",
    "\n",
    "Functions may represent very complex expressions and operations in programming. Documenting what a function does, what arguments are required, and other information about the usage of functions is extremely important both for writing your own functions and for using pre-existing ones. One particularly useful built-in function is `help()` which takes a function as an argument,"
   ]
  },
  {
   "cell_type": "code",
   "execution_count": null,
   "metadata": {
    "collapsed": false
   },
   "outputs": [],
   "source": [
    "help(abs)"
   ]
  },
  {
   "cell_type": "markdown",
   "metadata": {},
   "source": [
    "This highlights one of the *interactive* aspects of Python, the `help()` function exists to be used during an interactive Python programming session. It provides documentation and usage information about a function which saves you the trouble of searching through a reference or online.\n",
    "\n",
    "The output of the `help()` function does need some explanation. The first part indicates the function whose documentation is currently being displayed and where the function is located (will be discussed in later lectures). The second part describes the format of the input arguments and output required to use the function. Finally, a plain English explanation of what the function does is displayed.\n",
    "\n",
    "Let's look at the documentation for `round()`,"
   ]
  },
  {
   "cell_type": "code",
   "execution_count": null,
   "metadata": {
    "collapsed": false
   },
   "outputs": [],
   "source": [
    "help(round)"
   ]
  },
  {
   "cell_type": "markdown",
   "metadata": {},
   "source": [
    "It turns out that we were not using the full functionality of `round()`; by default it rounds to integer precision but we may specify an arbitrary precision to round the input numeric value,"
   ]
  },
  {
   "cell_type": "code",
   "execution_count": null,
   "metadata": {
    "collapsed": false
   },
   "outputs": [],
   "source": [
    "value = 2.333\n",
    "\n",
    "round(value, 1)"
   ]
  },
  {
   "cell_type": "code",
   "execution_count": null,
   "metadata": {
    "collapsed": false
   },
   "outputs": [],
   "source": [
    "round(value, 2)"
   ]
  },
  {
   "cell_type": "markdown",
   "metadata": {},
   "source": [
    "One useful feature of using an interaction-focused Python interpreter, `iPython`, is that there are simplified ways to access documentation. Instead of using the `help()` function, adding a '?' character to a function (or any object) will display documentation about it. Adding two question marks '??' will display the source code of the function, if available, although this is not available for most built-in functions."
   ]
  },
  {
   "cell_type": "code",
   "execution_count": null,
   "metadata": {
    "collapsed": false
   },
   "outputs": [],
   "source": [
    "# these convenience operations only work in the iPython terminal\n",
    "help? # try `help?` in the ipython terminal, displays the docstring\n",
    "help?? # try `help??` in the ipython terminal, displays the code"
   ]
  },
  {
   "cell_type": "markdown",
   "metadata": {},
   "source": [
    "# Creating your own functions\n",
    "\n"
   ]
  },
  {
   "cell_type": "markdown",
   "metadata": {},
   "source": [
    "### Function Declarations\n",
    "\n",
    "In a perfect world there would be a built-in function for all operations and tasks we need. Unfortunately, we do not live in a perfect world! Thus we frequently need to define our own functions as part of developing programs to solve engineering problems.\n",
    "\n",
    "A simple example of this is that there is no built-in function in Python to convert temperature values between units of Celsius and Fahrenheit. For Americans living in Canada (who are not engineers or scientists), this is a very useful function for interpreting weather reports! Here is an example of how to implements such a function in Python,"
   ]
  },
  {
   "cell_type": "code",
   "execution_count": null,
   "metadata": {
    "collapsed": false
   },
   "outputs": [],
   "source": [
    "def convert_to_celsius(fahrenheit):\n",
    "    celsius = (fahrenheit - 32.0) * 5.0 / 9.0\n",
    "    return celsius\n",
    "\n",
    "convert_to_celsius(70.0)"
   ]
  },
  {
   "cell_type": "markdown",
   "metadata": {},
   "source": [
    "The first part of the code above is called a *function definition*, specifically, the function definition for `convert_to_celsius()`. Before we formalize a function definition in Python, let's discuss some key features. The first part of the function definition communicates to the interpreter the function name (`convert_to_celsius`) and input arguments (a variable `fahrenheit`). The next part of the function definition describes the operations that need to be performed using the input variables. This first part is called the *function header* and the second part is the *function body*.\n",
    "\n",
    "In general, a function declaration can have two forms, one with a `return` statement:\n",
    "\n",
    "```python\n",
    "    def myfunction(variable1, variable2, ...):\n",
    "        'Documentation string'\n",
    "\n",
    "        statement1\n",
    "        statement2\n",
    "    \n",
    "        return(result)\n",
    "```\n",
    "\n",
    "and one without (to be introduced in the next lecture). A key aspect of Python is the use of indentation (four spaces, **not** a tab) to represent grouping of statements. Many other programming languages use explicit syntax such as brackets `{}`, but Python uses indentation with the intent of increasing code readability. As you see in the Python code above, the indented statements are associated with the function definition and follow a colon at the end of the function declaration.\n",
    "\n",
    "I have also included the optional \"doc string\" or *documentation string* which precedes the Python statements in a function declaration. The order in which the interpreter executes the code above is:\n",
    "\n",
    "1. The interpreter executes the function definition, which creates a function \"object\" named `convert_to_celsius`.\n",
    "2. The interpreter then executes the function call `convert_to_celsius(70.0)` which assigns the value of 70.0 to the variable `fahrenheit` and executes the function statements.\n",
    "3. The interpreter exits the function after the `return` which \"passes\" the value of celsius from inside the function to the workspace.\n",
    "4. Following function execution, the interpreter \"returns\" to the point at which the function was called to execute additional code.\n",
    "\n",
    "We will soon introduce the concept of *scope* to understand why the variables `fahrenheit` and `celsius` do not persist after the function call. Before this, let's discuss a few points about function declarations...\n",
    "\n",
    "First, just like a variable, redefining a function overrides the previous declaration: "
   ]
  },
  {
   "cell_type": "code",
   "execution_count": null,
   "metadata": {
    "collapsed": false
   },
   "outputs": [],
   "source": [
    "def myfunction(variable):\n",
    "    variable += 1\n",
    "    \n",
    "    return(variable)\n",
    "\n",
    "def myfunction(variable):\n",
    "    variable -= 1\n",
    "    \n",
    "    return(variable)\n",
    "\n",
    "myfunction(1)"
   ]
  },
  {
   "cell_type": "markdown",
   "metadata": {},
   "source": [
    "Second, a return statement is required to \"pass\" a value from within the function to the workspace (this is an oversimplification!)."
   ]
  },
  {
   "cell_type": "code",
   "execution_count": null,
   "metadata": {
    "collapsed": false
   },
   "outputs": [],
   "source": [
    "def myfunction(variable):\n",
    "    variable -= 1\n",
    "\n",
    "myfunction(1)"
   ]
  },
  {
   "cell_type": "markdown",
   "metadata": {},
   "source": [
    "Third, the inclusion of a `docstring` is very helpful for using a function later,"
   ]
  },
  {
   "cell_type": "code",
   "execution_count": null,
   "metadata": {
    "collapsed": false
   },
   "outputs": [],
   "source": [
    "def myfunction1(variable1, variable2):\n",
    "    return(variable1 + variable2)\n",
    "\n",
    "def myfunction2(variable1, variable2):\n",
    "    'Adds `variable1` and `variable2`'\n",
    "    \n",
    "    return(variable1 + variable2)\n",
    "\n",
    "myfunction2(1,2)"
   ]
  },
  {
   "cell_type": "code",
   "execution_count": null,
   "metadata": {
    "collapsed": false
   },
   "outputs": [],
   "source": [
    "# The `help()` function works with any object, but we did not provide documentation!\n",
    "help(myfunction1)"
   ]
  },
  {
   "cell_type": "code",
   "execution_count": null,
   "metadata": {
    "collapsed": false
   },
   "outputs": [],
   "source": [
    "# This is better!\n",
    "help(myfunction2)"
   ]
  },
  {
   "cell_type": "markdown",
   "metadata": {},
   "source": [
    "# Namespaces and local variables\n",
    "\n",
    "### Local variables and scope\n",
    "\n",
    "Now that we have some experience creating functions, we will learn about how the Python interpreter organizes variables and values. As you can imagine, many programs perform complicated sets of operations and organizing these operations into reusable functions makes the programmers job easier. Frequently we will find that defining *local variables* within function declaration increases the readability of the code. A motivating example is a function that evaluates a quadratic polynomial,\n",
    "\n",
    "$f(x; a, b, c) = a x^2 + b x + c$"
   ]
  },
  {
   "cell_type": "code",
   "execution_count": null,
   "metadata": {
    "collapsed": false
   },
   "outputs": [],
   "source": [
    "# one possible implementation of the function\n",
    "def quadratic(x, a, b, c):\n",
    "    'A function that evaluates a quadratic polynomial'\n",
    "    \n",
    "    return(a * x**2 + b * x + c)\n",
    "\n",
    "# another possible implementation of the function\n",
    "def quadratic(x, a, b, c):\n",
    "    'A function that evaluates a quadratic polynomial'\n",
    "    \n",
    "    first = a * x**2 \n",
    "    second = b * x\n",
    "    third = c\n",
    "    \n",
    "    return(first + second + third)"
   ]
  },
  {
   "cell_type": "markdown",
   "metadata": {},
   "source": [
    "For this simple function, the clarity of the second implementation compared to the first might not be significant, but you will encounter much more complex functions in which the difference will be magnified. The crux of this section is that the variables `first`, `second`, `third`, `a`, `b`, `c`, and `x` are all *local* to the function `quadratic()`. Furthermore, these local variables are created **each** time the function is called. Once the function returns these local variables are no longer accessible."
   ]
  },
  {
   "cell_type": "code",
   "execution_count": null,
   "metadata": {
    "collapsed": false
   },
   "outputs": [],
   "source": [
    "quadratic(1.0, 2.0, 3.0, 4.0)\n",
    "\n",
    "first"
   ]
  },
  {
   "cell_type": "markdown",
   "metadata": {},
   "source": [
    "The area (or section) of code in which a variable is accessible is called the variable *scope* or *context*. Python syntax is designed to enable a programmer to easily determine context through the use of indentation to organize code. Thus the scope of a variable within a scope begins with its initial assignment and ends with the last line of the same indentation (or a `return` statement).\n",
    "\n",
    "Given this knowledge, what is the scope of each of the function variables?"
   ]
  },
  {
   "cell_type": "code",
   "execution_count": null,
   "metadata": {
    "collapsed": false
   },
   "outputs": [],
   "source": [
    "x = 1.0\n",
    "\n",
    "f = quadratic(x, 2.0, 3.0, 4.0)\n",
    "f"
   ]
  },
  {
   "cell_type": "markdown",
   "metadata": {},
   "source": [
    "What about the scope of `x` and `f`? These variables were defined in the scope of the *shell*. They are not accessible by functions (unless assigned *prior* to the function declaration), unless we pass their values as arguments, but they will persist until we exit the shell.\n",
    "\n",
    "\n",
    "### Namespaces\n",
    "\n",
    "As a program is executed, the declaration and calling of functions can result in multiple scopes being generated, sometimes concurrently (call a function from within another function!). In order to elucidate these situations the textbook introduces extensions to the previously introduced graphical memory model.\n",
    "\n",
    "Let's use the following code as an example,"
   ]
  },
  {
   "cell_type": "code",
   "execution_count": null,
   "metadata": {
    "collapsed": false
   },
   "outputs": [],
   "source": [
    "def f(x):\n",
    "    x = 2 * x\n",
    "    \n",
    "    return x\n",
    "\n",
    "x = 1\n",
    "x = f(x + 1) + f(x + 2)\n",
    "\n",
    "# try to determine the value of x, then uncomment the following line and evaluate!\n",
    "x"
   ]
  },
  {
   "cell_type": "markdown",
   "metadata": {},
   "source": [
    "Even though this is a very simple piece of code, many of you will have trouble evaluating it because of the reuse of variable names (`x` in this case) and the existing of multiple variable scopes. One way to avoid this confusion is to avoid the reuse of variable names, for example,"
   ]
  },
  {
   "cell_type": "code",
   "execution_count": null,
   "metadata": {
    "collapsed": false
   },
   "outputs": [],
   "source": [
    "def f(x):\n",
    "    x = 2 * x\n",
    "    \n",
    "    return x\n",
    "\n",
    "y = 1\n",
    "z = f(y + 1) + f(y + 2)\n",
    "z"
   ]
  },
  {
   "cell_type": "markdown",
   "metadata": {},
   "source": [
    "But in many cases this is not feasible or actually decreases the readability of the code. A perfect example of this is the use of index variables `i`, `j`, and `k` which you are familiar with using in a certain way from your algebra courses. Once we introduce loops and iterators we will frequently use these variables over and over again in the same context. This actually increases the readability of the code!\n",
    "\n",
    "The Python interpreter uses a simple approach to keeping track of the scope of variables, it defines a *namespace* for each **function call**. At the shell level, a \"top-level\" namespace is created when you first enter the Python shell. Thus a more accurate procedure that the interpreter follows when executing a function is,\n",
    "\n",
    "1. Evaluate each argument in sequence from left to right.\n",
    "2. Create a namespace associated with the function call.\n",
    "3. Create local variables for each of the function arguments and assign values from each of the arguments.\n",
    "4. Execute the function and return a value to the scope in which the function was originally called.\n",
    "\n",
    "The enhanced memory model now has two sections segregated by a dotted line,\n",
    "\n",
    "<img src='files/./images/lecture5/lecture5-2.svg' style=\"width: 500px\">\n",
    "\n",
    "the left side (\"Frames\") will be used to keep track of namespaces and the right side (\"Objects\") will be used to keep track of values. Now we may revisit the original code from above and step through it line-by-line while simultaneously updating the memory state. We will \"step\" through the code by indicating the latest executed line with a **&rarr;**,\n",
    "\n",
    "<div style=\"font-size: 30px; margin-top: -3px; float: left; color: #c64815\">&rarr;</div>\n",
    "```python\n",
    "    def f(x):\n",
    "        x = 2 * x\n",
    "        return x\n",
    "\n",
    "    x = 1\n",
    "    x = f(x + 1) + f(x + 2)\n",
    "```\n",
    "\n",
    "The interpreter executes the function declaration and creates a variable `f` in the top-level namespace that refers to the newly created function object.\n",
    "\n",
    "<img src='files/./images/lecture5/lecture5-3.svg' style=\"width: 500px\">\n",
    "\n",
    "The interpreter will not execute the body of the function until there is a function call, but it does parse the function body for syntax errors.\n",
    "\n",
    "<div style=\"font-size: 30px; margin-top: 78px; float: left; color: #c64815\">&rarr;</div>\n",
    "```python\n",
    "    def f(x): \n",
    "        x = 2 * x\n",
    "        return x\n",
    "\n",
    "    x = 1\n",
    "    x = f(x + 1) + f(x + 2)\n",
    "```\n",
    "\n",
    "The first assignment statement creates an `int` object with value `1` and a variable `x` in the top-level scope that references to that object.\n",
    "\n",
    "<img src='files/./images/lecture5/lecture5-4.png' style=\"width: 500px\">\n",
    "\n",
    "Finally, we execute the last statement,\n",
    "\n",
    "<div style=\"font-size: 30px; margin-top: 98px; float: left; color: #c64815\">&rarr;</div>\n",
    "```python\n",
    "    def f(x): \n",
    "        x = 2 * x\n",
    "        return x\n",
    "\n",
    "    x = 1\n",
    "    x = f(x + 1) + f(x + 2)\n",
    "```\n",
    "\n",
    "\n",
    "Following the rules for executing an assignment statement, the expression on the left side is evaluated following the order of operations. Thus the first expression in the addition operation `f(x + 1)` is evaluated, which is a function call.\n",
    "\n",
    "Following the rules for a function call from above, the arguments are evaluated *using the namespace in which the function was called*. Thus the expression `x + 1` will use the top-level variable `x`. A new namespace is created for the function call `f(x + 1)` and, subsequently, a variable `x` is created and referenced to a newly created `int` object which is assigned the value `2`.\n",
    "\n",
    "<img src='files/./images/lecture5/lecture5-5.svg' style=\"width: 500px\">\n",
    "\n",
    "Now the function body is executed using this new namespace,\n",
    "\n",
    "<div style=\"font-size: 30px; margin-top: 18px; float: left; color: #c64815\">&rarr;</div>\n",
    "```python\n",
    "    def f(x): \n",
    "        x = 2 * x\n",
    "        return x\n",
    "\n",
    "    x = 1\n",
    "    x = f(x + 1) + f(x + 2)\n",
    "```\n",
    "\n",
    "In the current namespace, the variable `x` refers to the `int` object with value `2`; thus the assignment expression reassigns the local variable `x` to a new `int` object with a value of `4`. The next line of the function body is executed, which returns the value of `x`, which is `4`, to the namespace in which the function was called,\n",
    "\n",
    "<div style=\"font-size: 30px; margin-top: 38px; float: left; color: #c64815\">&rarr;</div>\n",
    "```python\n",
    "    def f(x): \n",
    "        x = 2 * x \n",
    "        return x\n",
    "\n",
    "    x = 1\n",
    "    x = f(x + 1) + f(x + 2)\n",
    "```\n",
    "\n",
    "<img src='files/./images/lecture5/lecture5-6.png' style=\"width: 500px\">\n",
    "\n",
    "Now that the first expression was evaluated,\n",
    "\n",
    "<div style=\"font-size: 30px; margin-top: 98px; float: left; color: #c64815\">&rarr;</div>\n",
    "```python\n",
    "    def f(x): \n",
    "        x = 2 * x \n",
    "        return x\n",
    "\n",
    "    x = 1\n",
    "    x = f(x + 1) + f(x + 2)\n",
    "```\n",
    "\n",
    "The second expression is evaluated in the exact same way. A **new namespace** is created for the `f(x + 2)` function call is created, but what value of `x` is used? The value from the top-level namespace, which has not changed! The assignment statement has not been completely evaluated, so all references to `x` in that statement will refer to the value `1`. The second expression will thus evaluate to `6` and the sum of the two values will be `10`. The final memory state after `x` (top-level) is reassigned is,\n",
    "\n",
    "<img src='files/./images/lecture5/lecture5-7.svg' style=\"width: 500px\">\n",
    "\n",
    "Even this simple piece of code involved a relatively complex set of operations by the Python interpreter. This is one of the reasons we use functions, they allow us to create compact operations and namespaces small enough for the average human mind to keep track of."
   ]
  },
  {
   "cell_type": "markdown",
   "metadata": {},
   "source": [
    "## Practice Exercises"
   ]
  },
  {
   "cell_type": "markdown",
   "metadata": {},
   "source": [
    "### PragProg Section 3.11"
   ]
  },
  {
   "cell_type": "markdown",
   "metadata": {},
   "source": [
    "**1.** Two of Python's built-in functions are `min` and `max`. Execute the following function calls:"
   ]
  },
  {
   "cell_type": "code",
   "execution_count": null,
   "metadata": {
    "collapsed": false
   },
   "outputs": [],
   "source": [
    "min(2, 3, 4)"
   ]
  },
  {
   "cell_type": "code",
   "execution_count": null,
   "metadata": {
    "collapsed": false
   },
   "outputs": [],
   "source": [
    "max(2, -3, 4, 7, -5)"
   ]
  },
  {
   "cell_type": "code",
   "execution_count": null,
   "metadata": {
    "collapsed": false
   },
   "outputs": [],
   "source": [
    "max(2, -3, min(4, 7), -5)"
   ]
  },
  {
   "cell_type": "markdown",
   "metadata": {},
   "source": [
    "**2.** For the following function calls, in what order are the subexpressions evaluated?"
   ]
  },
  {
   "cell_type": "code",
   "execution_count": null,
   "metadata": {
    "collapsed": false
   },
   "outputs": [],
   "source": [
    "min(max(3, 4), abs(-5))"
   ]
  },
  {
   "cell_type": "code",
   "execution_count": null,
   "metadata": {
    "collapsed": false
   },
   "outputs": [],
   "source": [
    "abs(min(4, 6, max(2, 8)))"
   ]
  },
  {
   "cell_type": "code",
   "execution_count": null,
   "metadata": {
    "collapsed": false
   },
   "outputs": [],
   "source": [
    "round(max(5.572, 3.258), abs(-2))"
   ]
  },
  {
   "cell_type": "markdown",
   "metadata": {},
   "source": [
    "**3.** Following the function design recipe, define a function that has one parameter,  a number, and returns that number tripled."
   ]
  },
  {
   "cell_type": "code",
   "execution_count": null,
   "metadata": {
    "collapsed": false
   },
   "outputs": [],
   "source": []
  },
  {
   "cell_type": "markdown",
   "metadata": {},
   "source": [
    "**4.** Following the function design recipe, define a function that has two\n",
    "parameters, both numbers, and returns the absolute value of the difference\n",
    "of the two. Hint: Call the built-in <i>abs</i> function."
   ]
  },
  {
   "cell_type": "code",
   "execution_count": null,
   "metadata": {
    "collapsed": false
   },
   "outputs": [],
   "source": []
  },
  {
   "cell_type": "markdown",
   "metadata": {},
   "source": [
    "**5.** Following the function design recipe, define a function that has one\n",
    "parameter, a distance in kilometers, and returns the distance in miles.\n",
    "(There are 1.6 kilometers per mile.)"
   ]
  },
  {
   "cell_type": "code",
   "execution_count": null,
   "metadata": {
    "collapsed": false
   },
   "outputs": [],
   "source": []
  }
 ],
 "metadata": {
  "kernelspec": {
   "display_name": "Python 3",
   "language": "python",
   "name": "python3"
  },
  "language_info": {
   "codemirror_mode": {
    "name": "ipython",
    "version": 3
   },
   "file_extension": ".py",
   "mimetype": "text/x-python",
   "name": "python",
   "nbconvert_exporter": "python",
   "pygments_lexer": "ipython3",
   "version": "3.5.2"
  }
 },
 "nbformat": 4,
 "nbformat_minor": 1
}
