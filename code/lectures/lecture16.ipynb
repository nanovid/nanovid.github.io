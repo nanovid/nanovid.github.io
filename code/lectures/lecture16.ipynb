{
 "cells": [
  {
   "cell_type": "markdown",
   "metadata": {},
   "source": [
    "## Lecture 16\n",
    "\n",
    "The objectives of this lecture are:\n",
    "\n",
    "1. Indexing, slicing and iterating over NumPy arrays.\n",
    "2. \"Shallow\" and \"deep\" copies of arrays.\n",
    "3. Manipulating array shape -- reshaping.\n",
    "\n",
    "*Much of the lecture is based on this tutorial: [http://wiki.scipy.org/Tentative_NumPy_Tutorial](http://wiki.scipy.org/Tentative_NumPy_Tutorial/)*"
   ]
  },
  {
   "cell_type": "markdown",
   "metadata": {},
   "source": [
    "# Indexing, Slicing and Iterating\n",
    "\n",
    "As with the `list` object and other collections in Python, 1D arrays can be indexed, sliced, and iterated over. The same indexing paradigm is used, the first entry has index `0` and last entry index `len-1`,"
   ]
  },
  {
   "cell_type": "code",
   "execution_count": null,
   "metadata": {
    "collapsed": false
   },
   "outputs": [],
   "source": [
    "from numpy import *\n",
    "\n",
    "A = arange(10)\n",
    "\n",
    "# the 3rd entry in the array\n",
    "print(A)\n",
    "A[0]"
   ]
  },
  {
   "cell_type": "code",
   "execution_count": null,
   "metadata": {
    "collapsed": false
   },
   "outputs": [],
   "source": [
    "# slicing the array into a sub-array from the 3rd element up to (but not including) the\n",
    "# 6th element\n",
    "A[2:5]"
   ]
  },
  {
   "cell_type": "code",
   "execution_count": null,
   "metadata": {
    "collapsed": false
   },
   "outputs": [],
   "source": [
    "# slicing the array into a sub-array from the 1st to 7th element, incrementing by 2 elements\n",
    "A[0:6:2]"
   ]
  },
  {
   "cell_type": "code",
   "execution_count": null,
   "metadata": {
    "collapsed": false
   },
   "outputs": [],
   "source": [
    "# slicing the array in reverse\n",
    "A[6:0:-1]"
   ]
  },
  {
   "cell_type": "markdown",
   "metadata": {},
   "source": [
    "Omitting one or both of the index values results in NumPy inferring to start/end at the beginning or end of the array. This is quite convenient in that you do not need to explicitly know the length of the array."
   ]
  },
  {
   "cell_type": "code",
   "execution_count": null,
   "metadata": {
    "collapsed": false
   },
   "outputs": [],
   "source": [
    "A[:6] # NumPy infers A[0:6]"
   ]
  },
  {
   "cell_type": "code",
   "execution_count": null,
   "metadata": {
    "collapsed": false
   },
   "outputs": [],
   "source": [
    "A[2:] # NumPy infers A[2:10]"
   ]
  },
  {
   "cell_type": "code",
   "execution_count": null,
   "metadata": {
    "collapsed": false
   },
   "outputs": [],
   "source": [
    "A[::2] # NumPy infers A[0:10:2]"
   ]
  },
  {
   "cell_type": "markdown",
   "metadata": {},
   "source": [
    "The syntax for indexing into multidimensional arrays is not equivalent to indexing into nested listed or other nested sequences. These indexing operations require a tuple separated by commas of the index value in each axis:"
   ]
  },
  {
   "cell_type": "code",
   "execution_count": null,
   "metadata": {
    "collapsed": false
   },
   "outputs": [],
   "source": [
    "B = arange(15).reshape(3,5)\n",
    "\n",
    "B"
   ]
  },
  {
   "cell_type": "code",
   "execution_count": null,
   "metadata": {
    "collapsed": false
   },
   "outputs": [],
   "source": [
    "B[(1,4)] # index into array to find the value of the 2nd row 5th column\n",
    "B[1,4] # equivalent but more compact syntax"
   ]
  },
  {
   "cell_type": "code",
   "execution_count": null,
   "metadata": {
    "collapsed": false
   },
   "outputs": [],
   "source": [
    "B[:, 1] # slice corresponding to each row, second column of B"
   ]
  },
  {
   "cell_type": "code",
   "execution_count": null,
   "metadata": {
    "collapsed": false
   },
   "outputs": [],
   "source": [
    "B[1:3,:] # each column in the second and third row of B"
   ]
  },
  {
   "cell_type": "markdown",
   "metadata": {},
   "source": [
    "Thus all of the previous syntax may be used in multidimensional array, but must be specified for each axis. When the slice contains index expressions for fewer indices than are present in the array, NumPy infers that the the missing indices are complete slices of the remaining axes:"
   ]
  },
  {
   "cell_type": "code",
   "execution_count": null,
   "metadata": {
    "collapsed": false
   },
   "outputs": [],
   "source": [
    "B[1] # the second row, NumPy infers B[1,:]\n",
    "B[-1] # an equivalent expression since the second row is the last row"
   ]
  },
  {
   "cell_type": "markdown",
   "metadata": {},
   "source": [
    "There are many ways to iterate over multidimensional arrays, but the best way is through elementwise operations as we have already learned. Explicit iteration using `for` loops should be avoided due to performance issues,"
   ]
  },
  {
   "cell_type": "code",
   "execution_count": null,
   "metadata": {
    "collapsed": false
   },
   "outputs": [],
   "source": [
    "import time\n",
    "\n",
    "A = linspace(0., 1., 1000).reshape(10,100)\n",
    "\n",
    "# square every element in an array in different ways\n",
    "\n",
    "start = time.clock()\n",
    "A = A**2 # create a new array and assign values of A**2, then reassign A to new array, fast but not ideal\n",
    "print(time.clock() - start, 'sec')\n",
    "\n",
    "start = time.clock()\n",
    "A **= 2 # performs augmented assignment, fastest approach\n",
    "print(time.clock() - start, 'sec')\n",
    "\n",
    "# use nested for loops to iterate over each element and reassign, slowest\n",
    "start = time.clock()\n",
    "(m, n) = A.shape\n",
    "for i in range(m):\n",
    "    for j in range(n):\n",
    "        A[i,j] **= 2\n",
    "    \n",
    "print(time.clock() - start, 'sec')"
   ]
  },
  {
   "cell_type": "markdown",
   "metadata": {},
   "source": [
    "The difference between using augmented assignment versus not is non-negligible, but small. The difference between using NumPy arithmetic operations and standard Python `for` loops, however, is an order of magnitude. As the size of the array increases this difference in efficiency will increase substantially; try increasing the array size to 10000...\n",
    "\n",
    "The reason for this is that most NumPy code is written in a low-level language, typically `C`, and not Python. The overhead of the interpreter is quite substantial, thus using a high-level language such as Python to \"manage\" low-level code pays significant dividends!"
   ]
  },
  {
   "cell_type": "markdown",
   "metadata": {},
   "source": [
    "# Copies and Views\n",
    "\n",
    "One of the most significant differences between other high-level computing languages (`MATLAB`, `Octave`, `SciLab`, etc) and Python (using NumPy) is that Python+NumPy allows greater control over whether or not an arithmetic operation creates a new array or uses an existing one. This is extremely important when dealing with very large data-sets which motivates many scientists and engineers to use NumPy, but there is additional complexity in writing programs using NumPy because of this.\n",
    "\n",
    "This attribute of NumPy is almost always a source of confusion for beginners. There are three different possible scenarios that involve copying arrays:\n",
    "\n",
    "\n",
    "### No Copy at All\n",
    "\n",
    "Normal assignments do not result in the creation of a new array! Instead a new variable is created that *references* the same array object as the first,"
   ]
  },
  {
   "cell_type": "code",
   "execution_count": null,
   "metadata": {
    "collapsed": false
   },
   "outputs": [],
   "source": [
    "A = arange(12)\n",
    "\n",
    "B = A            # no new object is created\n",
    "\n",
    "B is A           # A and B are two variables that reference the same ndarray object"
   ]
  },
  {
   "cell_type": "code",
   "execution_count": null,
   "metadata": {
    "collapsed": false
   },
   "outputs": [],
   "source": [
    "B[3] = -1. # changes the value of the 4 element of B, what will happen to A[3]?\n",
    "\n",
    "print(B[3], A[3])"
   ]
  },
  {
   "cell_type": "code",
   "execution_count": null,
   "metadata": {
    "collapsed": false
   },
   "outputs": [],
   "source": [
    "A = ones((2, 3)) # what happens to the array referenced by B?\n",
    "\n",
    "print(A)\n",
    "print(8*'-')\n",
    "print(B)"
   ]
  },
  {
   "cell_type": "markdown",
   "metadata": {},
   "source": [
    "As long as you are aware of this behaviour, it will not cause too much confusion. In fact, we see in the next section that being able to reference the same array in different ways is extremely convenient!"
   ]
  },
  {
   "cell_type": "markdown",
   "metadata": {},
   "source": [
    "### Views or Shallow Copy\n",
    "\n",
    "In the previous case, creating a new reference to the same data has some limitations. One of the main limitations is this method does not allow us to view the same array data in a different array shape or view a sub-array of an array."
   ]
  },
  {
   "cell_type": "code",
   "execution_count": null,
   "metadata": {
    "collapsed": false
   },
   "outputs": [],
   "source": [
    "A = arange(12)\n",
    "\n",
    "B = A            # no new object is created, A and B refer to the same array object\n",
    "\n",
    "B.shape = (3,4) # this reassigns the shape of the array that A also references\n",
    "\n",
    "print (B is A)\n",
    "print(8*'-')\n",
    "print(A)\n",
    "print(8*'-')\n",
    "print(B)"
   ]
  },
  {
   "cell_type": "markdown",
   "metadata": {},
   "source": [
    "Thankfully, we may \"view\" array data in different ways using the `view()` method. The view method creates a new array object that looks at the same data and many array methods return arrays that are views of the same array data."
   ]
  },
  {
   "cell_type": "code",
   "execution_count": null,
   "metadata": {
    "collapsed": false
   },
   "outputs": [],
   "source": [
    "C = A.view() # create a *new* array that references the same data\n",
    "\n",
    "C is A"
   ]
  },
  {
   "cell_type": "code",
   "execution_count": null,
   "metadata": {
    "collapsed": false
   },
   "outputs": [],
   "source": [
    "C.base is A # the `base` of a NumPy array is the array which originally referred to the data"
   ]
  },
  {
   "cell_type": "code",
   "execution_count": null,
   "metadata": {
    "collapsed": false
   },
   "outputs": [],
   "source": [
    "C.shape = (2, 6) # A's shape doesn't change, they are not the same object anymore\n",
    "\n",
    "print(A.shape)"
   ]
  },
  {
   "cell_type": "code",
   "execution_count": null,
   "metadata": {
    "collapsed": false
   },
   "outputs": [],
   "source": [
    "C[0,4] = 1234 # A's data changes!\n",
    "\n",
    "A"
   ]
  },
  {
   "cell_type": "markdown",
   "metadata": {},
   "source": [
    "Now we have the basis to truly understand the results of many of the array manipulations we have already been using. For example, slicing an array returns a view of that array,"
   ]
  },
  {
   "cell_type": "code",
   "execution_count": null,
   "metadata": {
    "collapsed": false
   },
   "outputs": [],
   "source": [
    "S = A[:, 1:3] # create a view of a sub-array of A, the second through fourth element of all rows of A\n",
    "S[:] = 10 # assign the value 10 to all elements in the view\n",
    "\n",
    "print(S)\n",
    "print(8*'-')\n",
    "print(A)"
   ]
  },
  {
   "cell_type": "markdown",
   "metadata": {},
   "source": [
    "Using the `reshape()` method returns a view of the array data with a different shape,"
   ]
  },
  {
   "cell_type": "code",
   "execution_count": null,
   "metadata": {
    "collapsed": false
   },
   "outputs": [],
   "source": [
    "D = A.reshape(2,6) # the shape of A is not affected\n",
    "\n",
    "print(A.shape)\n",
    "print(D.shape)"
   ]
  },
  {
   "cell_type": "markdown",
   "metadata": {},
   "source": [
    "One frequently used view of an array has its own special method, `flatten()`, which returns a 1D view of the array, "
   ]
  },
  {
   "cell_type": "code",
   "execution_count": null,
   "metadata": {
    "collapsed": false
   },
   "outputs": [],
   "source": [
    "E = A.flatten()\n",
    "\n",
    "print(A)\n",
    "print(8*'-')\n",
    "print(E)"
   ]
  },
  {
   "cell_type": "markdown",
   "metadata": {},
   "source": [
    "### Deep Copy\n",
    "\n",
    "If you want a true copy of an array that creates a new object and data, this is called a \"deep\" copy and can be accomplished with the `copy()` method of the source array,"
   ]
  },
  {
   "cell_type": "code",
   "execution_count": null,
   "metadata": {
    "collapsed": false
   },
   "outputs": [],
   "source": [
    "F = A.copy() # a new array object with new data (with the same values) is created\n",
    "F is A"
   ]
  },
  {
   "cell_type": "code",
   "execution_count": null,
   "metadata": {
    "collapsed": false
   },
   "outputs": [],
   "source": [
    "F.base is A # even though the values are equal, these are completely different arrays"
   ]
  },
  {
   "cell_type": "code",
   "execution_count": null,
   "metadata": {
    "collapsed": false
   },
   "outputs": [],
   "source": [
    "F[0, 0] = -1 # has no affect on the values of A\n",
    "\n",
    "print(A)\n",
    "print(8*'-')\n",
    "print(F)"
   ]
  },
  {
   "cell_type": "markdown",
   "metadata": {},
   "source": [
    "### Shape Manipulation\n",
    "\n",
    "At this point, it should be clear that the shape of an array is a tuple with the number of elements along each axis. Let's finish-up this lecture with methods for changing the shape of an array, as opposed to creating views of the array with different shapes."
   ]
  },
  {
   "cell_type": "code",
   "execution_count": null,
   "metadata": {
    "collapsed": false
   },
   "outputs": [],
   "source": [
    "A = floor(10*random.random((3,4)))\n",
    "print(A, A.shape)"
   ]
  },
  {
   "cell_type": "markdown",
   "metadata": {},
   "source": [
    "The shape of an array can be changed by changing the value of its `shape` object,"
   ]
  },
  {
   "cell_type": "code",
   "execution_count": null,
   "metadata": {
    "collapsed": false
   },
   "outputs": [],
   "source": [
    "A.shape = (2, 6) # flatten a multidimensional array\n",
    "\n",
    "print(A, A.shape)"
   ]
  },
  {
   "cell_type": "markdown",
   "metadata": {},
   "source": [
    "Almost all other methods of an array that manipulate its shape return views,"
   ]
  },
  {
   "cell_type": "code",
   "execution_count": null,
   "metadata": {
    "collapsed": false
   },
   "outputs": [],
   "source": [
    "print(A.ravel())\n",
    "print(A.transpose())\n",
    "print(A.flatten())\n",
    "\n",
    "print(A.shape) # the shape is unaffected"
   ]
  },
  {
   "cell_type": "markdown",
   "metadata": {},
   "source": [
    "The only remaining method that does not return a view is `resize`, which can be used to both modify the shape of the array (no view) and/or resize the array data,"
   ]
  },
  {
   "cell_type": "code",
   "execution_count": null,
   "metadata": {
    "collapsed": false
   },
   "outputs": [],
   "source": [
    "A.resize((3, 4)) # no view is returned, this is equivalent to `A.shape = (3, 4)`\n",
    "print(A)"
   ]
  },
  {
   "cell_type": "code",
   "execution_count": null,
   "metadata": {
    "collapsed": false
   },
   "outputs": [],
   "source": [
    "A.resize((4, 4)) # the array data is resized *in-place* (if possible) and additional array entries are initialized to 0\n",
    "print(A)\n",
    "print(8*'-')\n",
    "A.resize((4, 1)) # the array data is resized *in-place* (if possible) and additional array entries are initialized to 0\n",
    "print(A)"
   ]
  }
 ],
 "metadata": {
  "kernelspec": {
   "display_name": "Python 3",
   "language": "python",
   "name": "python3"
  },
  "language_info": {
   "codemirror_mode": {
    "name": "ipython",
    "version": 3
   },
   "file_extension": ".py",
   "mimetype": "text/x-python",
   "name": "python",
   "nbconvert_exporter": "python",
   "pygments_lexer": "ipython3",
   "version": "3.5.2"
  }
 },
 "nbformat": 4,
 "nbformat_minor": 1
}
