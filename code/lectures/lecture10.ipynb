{
 "cells": [
  {
   "cell_type": "markdown",
   "metadata": {},
   "source": [
    "## Lecture 10\n",
    "\n",
    "The objectives of this lecture are to:\n",
    "\n",
    "1. Introduction to classes and methods.\n",
    "2. Using methods by example with the `string` class.\n",
    "3. Special methods and operators."
   ]
  },
  {
   "cell_type": "markdown",
   "metadata": {},
   "source": [
    "# Introduction to classes and methods\n",
    "\n",
    "Several times up until now I have alluded to the fact everything in Python is an *object*. Python uses a programming paradigm called *object-oriented programming* as opposed to many other languages which use *imperative programming*. We will not learn about these two paradigms in detail, but a basic understanding is required for you use Python \"well\".\n",
    "\n",
    "* *Object-oriented programming* -- operations and manipulations on data are achieved through the use of objects which have a type, data, and special functions called *methods* associated with them. Methods are functions that associated with a specific type and require, as their first argument, an object of that type to operate on. Examples of programming languages which support this programming paradigm are `Python`, `Java`, `C++`, etc.\n",
    "* *Imperative programming* -- operations and manipulations on data are achieved through the use of functions whose arguments are values which have type, but these functions are not associated directly with the values. All object-oriented programming languages support this programming paradigm, in addition to `FORTRAN`, `C`, etc.\n",
    "\n",
    "An object in Python has a type, for instance the type of a string object is `str`,"
   ]
  },
  {
   "cell_type": "code",
   "execution_count": null,
   "metadata": {
    "collapsed": false
   },
   "outputs": [],
   "source": [
    "string = \"a string\"\n",
    "print(type(string))\n",
    "print(type(type(string)))"
   ]
  },
  {
   "cell_type": "markdown",
   "metadata": {},
   "source": [
    "The type of the `str` object is indicated to be something called a *class* with a unique type identifier \"type\". In Python the type of an object is called a class which provides the programmer with syntax for defining the features of an object. We may make our own classes, but this is beyond the scope of the course. Instead, we will learn the basic concepts associated with using them.\n",
    "\n",
    "A class has, essentially, two types of features: *members* and *methods*. The members of a class define the data associated with that class. The methods of a class define the operations and manipulations that can be performed on the class data. Python provides many *base classes* such as `int`, `str`, and many others. This is necessary in that to define your own class with data, you need to specify members which must pre-exist!\n",
    "\n",
    "In order to access the members and methods of an object, you must use the `.` operator. This should be a familiar concept, we used this to access functions and objects within a module's namespace...what does this imply about a module? It is an object which has type!"
   ]
  },
  {
   "cell_type": "code",
   "execution_count": null,
   "metadata": {
    "collapsed": false
   },
   "outputs": [],
   "source": [
    "# you should have this module in your working directory from the previous lecture\n",
    "import temperature\n",
    "\n",
    "print(type(temperature))\n",
    "print(type(type(temperature)))"
   ]
  },
  {
   "cell_type": "markdown",
   "metadata": {},
   "source": [
    "Let's look at a few of the functions in the module's namespace,"
   ]
  },
  {
   "cell_type": "code",
   "execution_count": null,
   "metadata": {
    "collapsed": false
   },
   "outputs": [],
   "source": [
    "# a function that you created in the module\n",
    "help(temperature.convert_to_celsius)\n",
    "\n",
    "# a special function, a method of the module class\n",
    "help(temperature.__str__)"
   ]
  },
  {
   "cell_type": "code",
   "execution_count": null,
   "metadata": {
    "collapsed": false
   },
   "outputs": [],
   "source": [
    "# a member of the module class\n",
    "temperature.__name__"
   ]
  },
  {
   "cell_type": "markdown",
   "metadata": {},
   "source": [
    "If you are interested in how to create your own objects through class definitions and an intermediate-level understanding of the object-oriented programming paradigm, see Chapter 14 in the textbook.\n",
    "\n",
    "\n",
    "# Using methods by example\n",
    "\n",
    "Now that we have a basic understanding of objects and classes in Python, let's use them. We will focus our examples on the `str` type because the methods associated with them are relatively intuitive. There are essentially two approaches to using a executing a method associated with a given object:\n",
    "\n",
    "* Explicit -- access the method directly from the type object,\n",
    "\n",
    "`type_object.method_name(instance_object, ...)`\n",
    "\n",
    "this approach uses the method directly, and thus the first argument must always be an object of type `type_object`. This approach is less commonly used, except for in expressions where an object is created from a value.\n",
    "\n",
    "* Implicit -- access the method implicitly from the object itself,\n",
    "\n",
    "`object.method_name(...)`\n",
    "\n",
    "this approach uses a shorthand that Python and most object-oriented programming languages provide. The first argument of the method does not seem to be the object itself, but the interpreter implicitly assumes this is the case and executes the expression shown in method 1.\n",
    "\n",
    "Before we go through some examples, let's study the `docstring` for the `str` type to see what methods (and members) are available,"
   ]
  },
  {
   "cell_type": "code",
   "execution_count": null,
   "metadata": {
    "collapsed": false
   },
   "outputs": [],
   "source": [
    "help(str)"
   ]
  },
  {
   "cell_type": "markdown",
   "metadata": {},
   "source": [
    "We see that there are many many methods associated with the `str` type, but there seem to be two groups:\n",
    "1. Those which look like normal functions, like `str.count()`.\n",
    "2. Those which have sets of underscores in the member name, like `str.__ge__`\n",
    "\n",
    "We will learn about the second group in the next section. First, let's get some hand-ons practice using the normal-looking methods,"
   ]
  },
  {
   "cell_type": "code",
   "execution_count": null,
   "metadata": {
    "collapsed": false
   },
   "outputs": [],
   "source": [
    "# create a string with your name\n",
    "name = \"nasser\"\n",
    "\n",
    "# using the str.capitalize() method explicitly, \n",
    "# create a new string with the first letter capitalized\n",
    "str.capitalize(name)"
   ]
  },
  {
   "cell_type": "code",
   "execution_count": null,
   "metadata": {
    "collapsed": false
   },
   "outputs": [],
   "source": [
    "# an equivalent expression using str.capitalize() implicitly\n",
    "name.capitalize()"
   ]
  },
  {
   "cell_type": "markdown",
   "metadata": {},
   "source": [
    "Clearly the implicit approach is more compact and there is no loss of readability of the code. Let's try another example that is a bit more complicated,"
   ]
  },
  {
   "cell_type": "code",
   "execution_count": null,
   "metadata": {
    "collapsed": false
   },
   "outputs": [],
   "source": [
    "string = \"METALLICA \" * 10\n",
    "\n",
    "# using the str.count() function to count how many times a sub-string appears in the string\n",
    "str.count(string, \"METALLICA\")"
   ]
  },
  {
   "cell_type": "code",
   "execution_count": null,
   "metadata": {
    "collapsed": false
   },
   "outputs": [],
   "source": [
    "# an equivalent expression\n",
    "string.count(\"METALLICA\")"
   ]
  },
  {
   "cell_type": "markdown",
   "metadata": {},
   "source": [
    "Unfortunately, things do get a little more complicated. Starting with the explicit approach what would happen if we instead made the first argument an expression which *evaluates* to the correct type:\n",
    "\n",
    "`type_object.method_name(expression, ...)`"
   ]
  },
  {
   "cell_type": "code",
   "execution_count": null,
   "metadata": {
    "collapsed": false
   },
   "outputs": [],
   "source": [
    "str.count(\"METALLICA \" * 10, \"METALLICA \")"
   ]
  },
  {
   "cell_type": "markdown",
   "metadata": {},
   "source": [
    "This worked as we expected, the argument to a function (including a method) may be an expression. The output will be as expected as long as we obey the type contract. Where things get complicated, at least from the readability point-of-view, when we use the implicit approach in this way,\n",
    "\n",
    "`object.method_name(...)`"
   ]
  },
  {
   "cell_type": "code",
   "execution_count": null,
   "metadata": {
    "collapsed": false
   },
   "outputs": [],
   "source": [
    "(\"METALLICA \" * 10).count(\"METALLICA\")"
   ]
  },
  {
   "cell_type": "markdown",
   "metadata": {},
   "source": [
    "The parenthesis were required to make sure that the `.` operator was applied to the result of the multiplication expression. As long as the expression evaluates to the correct type (for the method being used), this is perfectly valid syntax and one of the high-level features of Python.\n",
    "\n",
    "We may even chain these method calls,"
   ]
  },
  {
   "cell_type": "code",
   "execution_count": null,
   "metadata": {
    "collapsed": false
   },
   "outputs": [],
   "source": [
    "(\"mETALLICA\" * 3).swapcase().count(\"Metallica\")\n",
    "\n",
    "# Equivalent expression\n",
    "((\"mETALLICA\" * 3).swapcase()).count(\"Metallica\")\n",
    "\n",
    "string1 = (\"mETALLICA\" * 3)\n",
    "string2 = string1.swapcase()\n",
    "string2.count(\"Metallica\")"
   ]
  },
  {
   "cell_type": "markdown",
   "metadata": {},
   "source": [
    "Clearly this approach to calling an object method is difficult to read, although it is compact. In this course and your future Python programming exploits, I suggest you not worry about compactness in that readability is far more important.\n",
    "\n",
    "If you are interested in learning more about the many methods available for the `str` object, see Section 7.3 in the textbook.\n",
    "\n",
    "\n",
    "# Special methods, members, and operators\n",
    "\n",
    "As you noticed in the `docstring` for the `str` object, there are many methods and members that start and end with double underscores `__`. These are *special* methods and members associated with the object and are almost never used explicitly. Let's see why,"
   ]
  },
  {
   "cell_type": "code",
   "execution_count": null,
   "metadata": {
    "collapsed": false
   },
   "outputs": [],
   "source": [
    "i = 1\n",
    "j = 2\n",
    "\n",
    "# equivalent expressions\n",
    "int.__add__(i, j)\n",
    "i.__add__(j)\n",
    "i + j"
   ]
  },
  {
   "cell_type": "markdown",
   "metadata": {},
   "source": [
    "The `int.__add__()` method is associated with the operator `+`. Even though we can use the special method both explicitly and implicitly, because it is associated with an operator that is the most compact way to use it. Furthermore, readability is not affected, in fact, it is improved!"
   ]
  },
  {
   "cell_type": "code",
   "execution_count": null,
   "metadata": {
    "collapsed": false
   },
   "outputs": [],
   "source": [
    "# equivalent expressions\n",
    "int.__mul__(int.__add__(i, j), j)\n",
    "(i.__add__(j)).__mul__(j)\n",
    "(i + j) * j"
   ]
  },
  {
   "cell_type": "markdown",
   "metadata": {},
   "source": [
    "Clearly the use of operators instead of explicit/implicit method calls is optimal. This is why operator syntax exists, to increase the readability and convenience of Python code. The operator syntax adds no functionality, in fact, all expressions involving operators could be rewritten using the corresponding special methods.\n",
    "\n",
    "The existence of an equivalent operator is not the only reason for a method being \"special\", there are a few other special cases, one of which deserves a bit of discussion. All classes have a special method called an *initializer* which is used to create an object of a given type. Since the object does not already exist, there is special syntax associated with this special method.\n",
    "\n",
    "In Python, the initializer method is labelled `type.__init__(value,...)` and base types (`int`, `str`, etc) have additional special syntax for the initialization. You may access the initializer for any class (in addition to base classes) using the syntax `type(value)`, but you cannot call it explicitly (for reasons out of the scope of the course). For example,"
   ]
  },
  {
   "cell_type": "code",
   "execution_count": null,
   "metadata": {
    "collapsed": false
   },
   "outputs": [],
   "source": [
    "i = int(1)\n",
    "j = int(2)\n",
    "\n",
    "print(i, j)"
   ]
  },
  {
   "cell_type": "code",
   "execution_count": null,
   "metadata": {
    "collapsed": false
   },
   "outputs": [],
   "source": [
    "string = str(\"Hello World!\")\n",
    "\n",
    "print(string)"
   ]
  },
  {
   "cell_type": "markdown",
   "metadata": {},
   "source": [
    "These two simple cases are base or built-in types, so there is special syntax (should be familiar!) to create them in addition to calling their initializer through `type(value)`,"
   ]
  },
  {
   "cell_type": "code",
   "execution_count": null,
   "metadata": {
    "collapsed": false
   },
   "outputs": [],
   "source": [
    "i = 1\n",
    "j = 2\n",
    "string = \"Hello World!\"\n",
    "\n",
    "print(i, j, string)"
   ]
  },
  {
   "cell_type": "markdown",
   "metadata": {},
   "source": [
    "For many objects that are either not built-in or have data that is easily represented using existing built-in objects, the general syntax must be used `type(value1, value2, ...)`. In order to provide an example of this, I will define my own class, which is not material that is required for the course,"
   ]
  },
  {
   "cell_type": "code",
   "execution_count": null,
   "metadata": {
    "collapsed": false
   },
   "outputs": [],
   "source": [
    "# class definition\n",
    "class MyClass(object):\n",
    "\n",
    "    member_int = 0\n",
    "    member_string = \"string\"\n",
    "\n",
    "    def __init__(self, int_object, string_object):\n",
    "        self.member_int = int_object\n",
    "        self.member_string = string_object\n",
    "        \n",
    "    def displayMemberData(self):\n",
    "        print(self.member_int, self.member_string)\n",
    "\n",
    "        \n",
    "# initialize an object of type MyClass\n",
    "myclass_obj = MyClass(1, \"one\")\n",
    "\n",
    "print(type(myclass_obj))\n",
    "\n",
    "MyClass.displayMemberData(myclass_obj)\n",
    "myclass_obj.displayMemberData()"
   ]
  },
  {
   "cell_type": "markdown",
   "metadata": {},
   "source": [
    "# Exercises"
   ]
  },
  {
   "cell_type": "markdown",
   "metadata": {},
   "source": [
    "**1.** Execute the following method calls:"
   ]
  },
  {
   "cell_type": "markdown",
   "metadata": {},
   "source": [
    "**a.** 'hello'.upper()"
   ]
  },
  {
   "cell_type": "code",
   "execution_count": null,
   "metadata": {
    "collapsed": false
   },
   "outputs": [],
   "source": []
  },
  {
   "cell_type": "markdown",
   "metadata": {},
   "source": [
    "**b.** 'Happy Birthday!'.lower()"
   ]
  },
  {
   "cell_type": "code",
   "execution_count": null,
   "metadata": {
    "collapsed": false
   },
   "outputs": [],
   "source": []
  },
  {
   "cell_type": "markdown",
   "metadata": {},
   "source": [
    "**c.** WeeeEEEEeeeEEEEeee'.swapcase()"
   ]
  },
  {
   "cell_type": "code",
   "execution_count": null,
   "metadata": {
    "collapsed": false
   },
   "outputs": [],
   "source": []
  },
  {
   "cell_type": "markdown",
   "metadata": {},
   "source": [
    "**d.** 'ABC123'.isupper()"
   ]
  },
  {
   "cell_type": "code",
   "execution_count": null,
   "metadata": {
    "collapsed": false
   },
   "outputs": [],
   "source": []
  },
  {
   "cell_type": "markdown",
   "metadata": {},
   "source": [
    "**e.** 'aeiouAEIOU'.count('a')"
   ]
  },
  {
   "cell_type": "code",
   "execution_count": null,
   "metadata": {
    "collapsed": false
   },
   "outputs": [],
   "source": []
  },
  {
   "cell_type": "markdown",
   "metadata": {},
   "source": [
    "**f.** 'hello'.endswith('o')"
   ]
  },
  {
   "cell_type": "code",
   "execution_count": null,
   "metadata": {
    "collapsed": false
   },
   "outputs": [],
   "source": []
  },
  {
   "cell_type": "markdown",
   "metadata": {},
   "source": [
    "**g.** 'hello'.startswith('H')"
   ]
  },
  {
   "cell_type": "code",
   "execution_count": null,
   "metadata": {
    "collapsed": false
   },
   "outputs": [],
   "source": []
  },
  {
   "cell_type": "markdown",
   "metadata": {},
   "source": [
    "**h.** 'Hello {0}'.format('Python')"
   ]
  },
  {
   "cell_type": "code",
   "execution_count": null,
   "metadata": {
    "collapsed": false
   },
   "outputs": [],
   "source": []
  },
  {
   "cell_type": "markdown",
   "metadata": {},
   "source": [
    "**i.** 'Hello {0}! Hello {1}!'.format('Python', 'World')"
   ]
  },
  {
   "cell_type": "code",
   "execution_count": null,
   "metadata": {
    "collapsed": false
   },
   "outputs": [],
   "source": []
  },
  {
   "cell_type": "markdown",
   "metadata": {},
   "source": [
    "**2.** Using the string method <i>count</i>, write an expression that produces the\n",
    "number of o ’s in 'tomato' ."
   ]
  },
  {
   "cell_type": "code",
   "execution_count": null,
   "metadata": {
    "collapsed": false
   },
   "outputs": [],
   "source": []
  },
  {
   "cell_type": "markdown",
   "metadata": {},
   "source": [
    "**3.** Using the string method find , write an expression that produces the index\n",
    "of the first occurrence of o in 'tomato' ."
   ]
  },
  {
   "cell_type": "code",
   "execution_count": null,
   "metadata": {
    "collapsed": false
   },
   "outputs": [],
   "source": []
  },
  {
   "cell_type": "markdown",
   "metadata": {},
   "source": [
    "**4.** Using the string method find , write a single expression that produces the\n",
    "index of the second occurrence of o in 'tomato' . Hint: Call find twice."
   ]
  },
  {
   "cell_type": "code",
   "execution_count": null,
   "metadata": {
    "collapsed": false
   },
   "outputs": [],
   "source": []
  },
  {
   "cell_type": "markdown",
   "metadata": {},
   "source": [
    "**5.** Using your expression from the previous question, find the second o in\n",
    "'avocado' . If you don’t get the result you expect, revise the expression and\n",
    "try again."
   ]
  },
  {
   "cell_type": "code",
   "execution_count": null,
   "metadata": {
    "collapsed": false
   },
   "outputs": [],
   "source": []
  },
  {
   "cell_type": "markdown",
   "metadata": {},
   "source": [
    "**6.** Using the string method replace , write an expression that produces a string\n",
    "based on 'runner' with the n ’s replaced by b ’s."
   ]
  },
  {
   "cell_type": "code",
   "execution_count": null,
   "metadata": {
    "collapsed": false
   },
   "outputs": [],
   "source": []
  },
  {
   "cell_type": "markdown",
   "metadata": {},
   "source": [
    "**7.**The variable s refers to ' yes ' . When a string method is called with s as its\n",
    "argument, the string 'yes' is produced. Which string method was called?"
   ]
  },
  {
   "cell_type": "markdown",
   "metadata": {},
   "source": [
    "**8.** The variable fruit refers to 'pineapple' . For the following function calls, in\n",
    "what order are the subexpressions evaluated?\n",
    "\n",
    "a. fruit.find('p', fruit.count('p'))\n",
    "\n",
    "b. fruit.count(fruit.upper().swapcase())\n",
    "\n",
    "c.fruit.replace(fruit.swapcase(), fruit.lower())"
   ]
  },
  {
   "cell_type": "markdown",
   "metadata": {},
   "source": [
    "**9.** The variable season refers to 'summer' . Using the string method format and\n",
    "the variable season , write an expression that produces 'I love summer!'"
   ]
  },
  {
   "cell_type": "code",
   "execution_count": null,
   "metadata": {
    "collapsed": false
   },
   "outputs": [],
   "source": []
  },
  {
   "cell_type": "markdown",
   "metadata": {},
   "source": [
    "**10.** The variables <i>side1</i> , <i>side2</i> , and <i>side3</i> refer to 3 , 4 , and 5 , respectively. Using\n",
    "the format string method and those three variables, write an expression\n",
    "that produces 'The sides have lengths 3, 4, and 5.'"
   ]
  },
  {
   "cell_type": "code",
   "execution_count": null,
   "metadata": {
    "collapsed": false
   },
   "outputs": [],
   "source": [
    "side1=3\n",
    "side2=4\n",
    "side3=5\n"
   ]
  },
  {
   "cell_type": "markdown",
   "metadata": {},
   "source": [
    "**11.** Using string methods, write expressions that produce the following:\n",
    "a. A copy of 'boolean' capitalized\n",
    "\n",
    "b. The first occurrence of '2' in 'C02 H20' \n",
    "\n",
    "c.The second occurrence of \"2\" in 'C02 H20'\n",
    "\n",
    "d. True if and only if 'Boolean' begins with a lowercase\n",
    "\n",
    "e. A copy of \"MoNDaY\" converted to lowercase and then capitalized\n",
    "\n",
    "f. A copy of \" Monday\" with the leading whitespace removed"
   ]
  },
  {
   "cell_type": "code",
   "execution_count": null,
   "metadata": {
    "collapsed": false
   },
   "outputs": [],
   "source": []
  },
  {
   "cell_type": "markdown",
   "metadata": {},
   "source": [
    "**12.** Complete the examples in the docstring and then write the body of the\n",
    "following function:"
   ]
  },
  {
   "cell_type": "code",
   "execution_count": null,
   "metadata": {
    "collapsed": false
   },
   "outputs": [],
   "source": [
    "def total_occurrences(s1, s2, ch):\n",
    "\"\"\" (str, str, str) -> int\n",
    "Precondition: len(ch) == 1\n",
    "Return the total number of times that ch occurs in s1 and s2.\n",
    ">>> total_occurrences('color', 'yellow', 'l')\n",
    "3\n",
    ">>> total_occurrences('red', 'blue', 'l')\n",
    ">>> total_occurrences('green', 'purple', 'b')\n",
    "\"\"\""
   ]
  }
 ],
 "metadata": {
  "kernelspec": {
   "display_name": "Python 3",
   "language": "python",
   "name": "python3"
  },
  "language_info": {
   "codemirror_mode": {
    "name": "ipython",
    "version": 3
   },
   "file_extension": ".py",
   "mimetype": "text/x-python",
   "name": "python",
   "nbconvert_exporter": "python",
   "pygments_lexer": "ipython3",
   "version": "3.5.2"
  }
 },
 "nbformat": 4,
 "nbformat_minor": 1
}
