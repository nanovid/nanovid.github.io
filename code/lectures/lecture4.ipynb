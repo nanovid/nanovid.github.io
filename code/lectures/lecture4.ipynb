{
 "cells": [
  {
   "cell_type": "markdown",
   "metadata": {},
   "source": [
    "## Lecture 4\n",
    "\n",
    "The objectives of this lecture are to:\n",
    "\n",
    "1. Learn how to interpret errors in Python.\n",
    "2. Introduce code comments and code \"readability\".\n",
    "3. *Keywords* in Python\n"
   ]
  },
  {
   "cell_type": "markdown",
   "metadata": {},
   "source": [
    "# I. Programming Errors\n",
    "\n",
    "We previously discussed programming *bugs* which are errors in the creation of a program. These are obviously errors resulting from a conceptual mistake or oversight made by the programmer. The Python interpreter, for the most part, cannot detect such errors and thus you need to take care to test and validate your code. However, there are two types of errors that the interpreter can detect:\n",
    "\n",
    "* *syntax errors* - errors resulting from a statement in the program that does not conform to Python syntax.\n",
    "* *semantic errors* - errors resulting from a statement in the program that cannot be executed.\n",
    "\n",
    "Let's look at a few examples of these errors and how the Python interpreter reports them,"
   ]
  },
  {
   "cell_type": "code",
   "execution_count": null,
   "metadata": {
    "collapsed": false
   },
   "outputs": [],
   "source": [
    "result = 1 / 0"
   ]
  },
  {
   "cell_type": "markdown",
   "metadata": {},
   "source": [
    "This is an example of a semantic error, the syntax is correct but what the statement *represents* has an error in its meaning. Note that how the interpreter communicates seems quite convoluted in that there is far more information than just outputting \"Semantic Error\" or some simple statement. Much of the information that is reported about the error is not understandable given your limited background; what information can you make out?\n",
    "\n",
    "1. `ZeroDivisionError` - the interpreter has explained what type of error has been detected.\n",
    "2. `<...> in <module>` - the interpreter has indicated where in the program this error occurred.\n",
    "3. `ZeroDivisionError: division by zero` - the interpreter has provided a short description of the error type.\n",
    "\n",
    "Much of this information is not needed for interactive use of the Python interpreter, but when you start writing more complex programs you will see the value in the interpreter providing all of this information.\n",
    "\n",
    "Let's try a syntax error,"
   ]
  },
  {
   "cell_type": "code",
   "execution_count": null,
   "metadata": {
    "collapsed": false
   },
   "outputs": [],
   "source": [
    "2 +"
   ]
  },
  {
   "cell_type": "markdown",
   "metadata": {},
   "source": [
    "Once again, the interpreter has provided useful information about the type of error and where in the code it occurred. A different type of error `SyntaxError` is indicated with a relatively vague description of the error \"invalid syntax\". In some cases more informative descriptions are provided, for example,"
   ]
  },
  {
   "cell_type": "code",
   "execution_count": null,
   "metadata": {
    "collapsed": false
   },
   "outputs": [],
   "source": [
    "12 = x"
   ]
  },
  {
   "cell_type": "code",
   "execution_count": null,
   "metadata": {
    "collapsed": false
   },
   "outputs": [],
   "source": [
    "12[1]"
   ]
  },
  {
   "cell_type": "markdown",
   "metadata": {},
   "source": [
    "There are many types of errors that the Python interpreter will recognize and the range of information provided in description strings is quite varied. A full list of the standard errors types in Python can be found [here](https://docs.python.org/3/library/exceptions.html) and are referred to as *exceptions* in Python. Those that you will commonly run into are summarized here,\n",
    "\n",
    "<table>\n",
    "    <tr>\n",
    "        <td>**Exception**</td>\n",
    "        <td colspan=2>**Description**</td>\n",
    "    </tr>\n",
    "    \n",
    "    <tr>\n",
    "        <td>`OverflowError`</td>\n",
    "        <td>Raised when the result of an arithmetic operation is too large to be represented. This cannot occur for long integers (which would rather raise `MemoryError` than give up) and for most operations with plain integers, which return a long integer instead.</td>\n",
    "        <td>\n",
    "            `from math import *`<br/>`exp(1000)`<br/><br/>`OverflowError: math range error`\n",
    "        </td>\n",
    "    </tr>\n",
    "    \n",
    "    <tr>\n",
    "        <td>`MemoryError`</td>\n",
    "        <td colspan=2>Raised when an operation runs out of memory but the situation may still be rescued (by deleting some objects). The associated value is a string indicating what kind of (internal) operation ran out of memory.</td>\n",
    "    </tr>\n",
    "\n",
    "    <tr>\n",
    "        <td>`ZeroDivisionError`</td>\n",
    "        <td>Raised when the second argument of a division or modulo operation is zero. The associated value is a string indicating the type of the operands and the operation.</td>\n",
    "        <td>`2 % 0`<br /><br />`ZeroDivisionError: integer division or modulo by zero`</td>\n",
    "    </tr>\n",
    "    \n",
    "    <tr>\n",
    "        <td>`FloatingPointError`</td>\n",
    "        <td colspan=2>Raised when a floating point operation fails.</td>\n",
    "    </tr>\n",
    "    \n",
    "    <tr>\n",
    "        <td>`IOError`</td>\n",
    "        <td>Raised when an I/O operation (such as a `print` statement, the built-in `open()` function or a method of a file object) fails for an I/O-related reason, e.g., “file not found” or “disk full”.</td>\n",
    "        <td>`open('some_file','r')`<br /><br />`IOError: [Errno 2] No such file or directory: 'some_file'`</td>\n",
    "    </tr>\n",
    "    \n",
    "    <tr>\n",
    "        <td>`NameError`</td>\n",
    "        <td>Raised when a local or global name is not found. The associated value is an error message that includes the name that could not be found.</td>\n",
    "        <td>`random_var`<br /><br />`NameError: name 'random_var' is not defined`</td>\n",
    "    </tr>\n",
    "    \n",
    "    <tr>\n",
    "        <td>`SyntaxError`</td>\n",
    "        <td>Raised when the parser__*__ encounters a syntax error. This may occur in an import statement, in an exec statement, in a call to the built-in function eval() or input(), or when reading the initial script or standard input (also interactively).</td>\n",
    "        <td>`1 = var`<br /><br />`SyntaxError: can't assign to literal`</td>\n",
    "    </tr>\n",
    "    \n",
    "    <tr>\n",
    "        <td>`Indentation Error`</td>\n",
    "        <td>Raised when the parser encounters syntax errors related to incorrect indentation.</td>\n",
    "        <td>We will see this when we encounter functions, `if`-statements, and `for` and `while` loops later on.</td>\n",
    "    </tr>\n",
    "    \n",
    "    <tr>\n",
    "        <td>`TypeError`</td>\n",
    "        <td>Raised when an operation or function is applied to an object of inappropriate type. The associated value is a string giving details about the type mismatch.</td>\n",
    "        <td>`\"str1\" - \"str2\"`<br /><br />`TypeError: unsupported operand type(s) for -: 'str' and 'str'`</td>\n",
    "    </tr>\n",
    "    \n",
    "    <tr>\n",
    "        <td>`ValueError`</td>\n",
    "        <td>Raised when a built-in operation or function receives an argument that has the right type but an inappropriate value, and the situation is not described by a more precise exception.</td>\n",
    "        <td>`float('hello')`<br /><br />`ValueError: could not convert string to float: hello`</td>\n",
    "    </tr>\n",
    "    \n",
    "</table>\n",
    "\n",
    "___*parser:___ a program that analyzes inputted code in accordance with the rules of a defined formal grammar (i.e. syntax).\n"
   ]
  },
  {
   "cell_type": "markdown",
   "metadata": {},
   "source": [
    "Let's try an example outside of the lecture environment to illustrate how to use the identifying information that the Python interpreter provides. Bring up a terminal and type `nano temp.py` which will run a very simple text editor in Linux and have it create a file called `temp.py`. Cut-and-paste the following code into that file and then type Control-X to exit.\n",
    "\n",
    "```python\n",
    "var1 = 1\n",
    "var2 = 2\n",
    "var3 = 3\n",
    "12 = var3\n",
    "```"
   ]
  },
  {
   "cell_type": "markdown",
   "metadata": {},
   "source": [
    "Now execute the code in the file `temp.py` by typing in the following command `python temp.py`. This will invoke a minimal version of the Python interpreter and have it run the code in the file `temp.py`. The output should like like this,\n",
    "\n",
    "```bash\n",
    "username@hostname:~$ python temp.py\n",
    "  File \"temp.py\", line 4\n",
    "  12 = var\n",
    "SyntaxError: can't assign to literal\n",
    "```\n",
    "\n",
    "\n",
    "Now that we are using the interpreter outside of the interactive environment, the interpreter provides information on the location of the offending statement in our code. Additionally, the usefulness of repeating this offending line should be more clear now, if our program was composed of hundreds of lines, being able to quickly see where the error occurred allows you to correct it faster!"
   ]
  },
  {
   "cell_type": "markdown",
   "metadata": {},
   "source": [
    "# Code Commenting and Readability\n",
    "\n",
    "As engineers, you will typically be writing small to medium-sized programs with anywhere ranging from hundreds to thousands of lines of code. Much of the code will be composed of simple Python expressions that can be understood intuitively, but when you concatenate many of these simple statements together, the algorithm they are describing can become convoluted. Good programmers provide human-readable *comments* within the code to describe what is being implemented.\n",
    "\n",
    "The combination of good code organization, thorough commenting, and conforming to a *programming style* results in increased *readability* of the code. In this case, readability does not refer to the Python interpreter, it refers to a human interpreter! This could be a group member in a group project or, typically, yourself several months after writing the code.\n",
    "\n",
    "\n",
    "### Code Commenting\n",
    "\n",
    "Commenting Python code is quite simple in principle; whenever the interpreter encounters a `#` character, it ignores the rest of the line of code, "
   ]
  },
  {
   "cell_type": "code",
   "execution_count": null,
   "metadata": {
    "collapsed": false
   },
   "outputs": [],
   "source": [
    "# The Python interpreter ignores this whole line"
   ]
  },
  {
   "cell_type": "code",
   "execution_count": null,
   "metadata": {
    "collapsed": false
   },
   "outputs": [],
   "source": [
    "temperature_f = 75.0 # The current temperature in Fahrenheit\n",
    "temperature_c = (temperature_f - 32.0) * 5.0 / 9.0 # Converting the current temperature from Fahrenheit to Celsius\n",
    "temperature_c"
   ]
  },
  {
   "cell_type": "markdown",
   "metadata": {},
   "source": [
    "Notice that you may add comments on their own line and after a statement. In some cases it is appropriate to use one or the other, in other cases you should use both. Typically commenting is taught by example which is the approach adopted in this course."
   ]
  },
  {
   "cell_type": "markdown",
   "metadata": {},
   "source": [
    "### Code Readability\n",
    "\n",
    "Commenting your code is an important aspect of increasing its *readability*, but there are some more basic attributes of your code that will also help. *Formatting* your code well is one of these basic attributes of readable code and Python enforces some basic formatting through its syntax. We will learn about these rules one we start writing our own functions, loops, etc. For now, we will follow a few simple conventions such as including single spaces between binary operators,"
   ]
  },
  {
   "cell_type": "code",
   "execution_count": null,
   "metadata": {
    "collapsed": false
   },
   "outputs": [],
   "source": [
    "a = 1+2*(5-3)/2 # example without spaces\n",
    "a = 1 + 2 * (5 - 3) / 2\n",
    "a"
   ]
  },
  {
   "cell_type": "markdown",
   "metadata": {},
   "source": [
    "Additionally, we will explicitly include the decimal point for all floating point values,"
   ]
  },
  {
   "cell_type": "code",
   "execution_count": null,
   "metadata": {
    "collapsed": false
   },
   "outputs": [],
   "source": [
    "a = 1.0 + 2.0 * (5.0 - 3.0) / 2.0\n",
    "a"
   ]
  },
  {
   "cell_type": "markdown",
   "metadata": {},
   "source": [
    "use descriptive variable names and avoid non-intuitive abbreviations (or just avoid them unless impractical),"
   ]
  },
  {
   "cell_type": "code",
   "execution_count": null,
   "metadata": {
    "collapsed": false
   },
   "outputs": [],
   "source": [
    "minimum_temperature_c = 18.0 # the minimum temperature at which a room is comfortable to occupy\n",
    "maximum_temperature_c = 23.0 # the maximum temperature at which a room is comfortable to occupy"
   ]
  },
  {
   "cell_type": "markdown",
   "metadata": {},
   "source": [
    "Typically programmers use agree upon and use a *style definition* or *style guide* in this course and your textbook we use the [standard Python style guide](http://legacy.python.org/dev/peps/pep-0008/). There is no need to go through it now and it includes style recommendations for most Python syntax, much of which you have not learned. Try to pay attention to the programming style conventions used in lecture examples and employ those in your own code."
   ]
  },
  {
   "cell_type": "markdown",
   "metadata": {},
   "source": [
    "One last useful piece of Python syntax is that you may enter multiline Python statements using the `\\` symbol. With all of the verbose variable names and possibly complex expressions, this becomes quite useful for increasing the readability of your code. For example,"
   ]
  },
  {
   "cell_type": "code",
   "execution_count": null,
   "metadata": {
    "collapsed": false
   },
   "outputs": [],
   "source": [
    "# An expression which converts the number of coins of each denomination to a total dollar amount is,\n",
    "number_of_nickles = 1\n",
    "number_of_dimes = 7\n",
    "number_of_quarters = 12\n",
    "number_of_loonies = 1\n",
    "number_of_toonies = 3\n",
    "\n",
    "# note that the interpreter will convert the integer values to floats\n",
    "dollar_value = number_of_nickles * 0.05 + number_of_dimes * 0.10 + number_of_quarters * 0.25 + number_of_loonies * 1.0 + number_of_toonies * 2. \n",
    "print(dollar_value)\n",
    "\n",
    "# do you see how much easier it is to read the code when it is broken up into multiple lines?\n",
    "dollar_value = number_of_nickles * 0.05 \\\n",
    "    + number_of_dimes * 0.10 \\\n",
    "    + number_of_quarters * 0.25 \\\n",
    "    + number_of_loonies * 1.0 \\\n",
    "    + number_of_toonies * 2.\n",
    "\n",
    "print(dollar_value)"
   ]
  },
  {
   "cell_type": "markdown",
   "metadata": {},
   "source": [
    "# *Keywords* in Python\n",
    "\n",
    "Python syntax defines a set of *keywords* that are reserved for use by the interpreter. We cannot use these keywords for anything other than what they are defined to mean in Python syntax. Many of these keywords we have not learned how to use yet, but they need to be constantly kept in mind in that misuse of them will result in a possibly confusing situation.\n",
    "\n",
    "The complete list of keywords in Python are:\n",
    "\n",
    "<div style=\"float: left; width: 33%;\">\n",
    "    <ul>\n",
    "        <li>`False`</li>\n",
    "        <li>`None`</li>\n",
    "        <li>`True`</li>\n",
    "        <li>`and`</li>\n",
    "        <li>`as`</li>\n",
    "        <li>`assert`</li>\n",
    "        <li>`break`</li>\n",
    "        <li>`class`</li>\n",
    "        <li>`continue`</li>\n",
    "        <li>`def`</li>\n",
    "        <li>`del`</li>\n",
    "    </ul>\n",
    "</div>\n",
    "<div style=\"float: left; width: 33%;\">\n",
    "    <ul>\n",
    "        <li>`elif`</li>\n",
    "        <li>`else`</li>\n",
    "        <li>`except`</li>\n",
    "        <li>`finally`</li>\n",
    "        <li>`for`</li>\n",
    "        <li>`from`</li>\n",
    "        <li>`global`</li>\n",
    "        <li>`if`</li>\n",
    "        <li>`import`</li>\n",
    "        <li>`in`</li>\n",
    "        <li>`is`</li>\n",
    "    </ul>\n",
    "</div>\n",
    "<div style=\"float: left; width: 33%;\">\n",
    "    <ul>\n",
    "        <li>`lambda`</li>\n",
    "        <li>`nonlocal`</li>\n",
    "        <li>`not`</li>\n",
    "        <li>`or`</li>\n",
    "        <li>`pass`</li>\n",
    "        <li>`raise`</li>\n",
    "        <li>`return`</li>\n",
    "        <li>`try`</li>\n",
    "        <li>`while`</li>\n",
    "        <li>`with`</li>\n",
    "        <li>`yield`</li>\n",
    "    </ul>\n",
    "</div>\n",
    "\n",
    "Here is a simple example of a confusing error that arises from trying to use a keyword,"
   ]
  },
  {
   "cell_type": "code",
   "execution_count": null,
   "metadata": {
    "collapsed": false
   },
   "outputs": [],
   "source": [
    "pass = 10 # note that `pass` is a Python keyword"
   ]
  },
  {
   "cell_type": "markdown",
   "metadata": {},
   "source": [
    "If we used any valid variable name other than a Python keyword, which `pass` is, this would be valid syntax. For many beginning programmers, the error returned by the interpreter would be very confusing in that `pass` fits all criteria for a valid Python variable name! There is no special error indicating that we are using a keyword improperly. Note that when using an interactive Python interpreter, keywords are highlighted to indicate their special significance. Syntax highlighting is a very useful feature for developing programs in any language. We will introduce a text editor which also provides this functionality later in the course."
   ]
  },
  {
   "cell_type": "markdown",
   "metadata": {},
   "source": [
    "## Practice Exercises"
   ]
  },
  {
   "cell_type": "markdown",
   "metadata": {},
   "source": [
    "### PragProg Section 2.10"
   ]
  },
  {
   "cell_type": "markdown",
   "metadata": {},
   "source": [
    "**1.** When a variable is used before it has been assigned a value, a `NameError` occurs. Write an expression that results in a `NameError`."
   ]
  },
  {
   "cell_type": "code",
   "execution_count": null,
   "metadata": {
    "collapsed": false
   },
   "outputs": [],
   "source": []
  },
  {
   "cell_type": "markdown",
   "metadata": {},
   "source": [
    "**2.** Which of the following expressions results in syntax errors?"
   ]
  },
  {
   "cell_type": "code",
   "execution_count": null,
   "metadata": {
    "collapsed": false
   },
   "outputs": [],
   "source": [
    "6 * -----------8"
   ]
  },
  {
   "cell_type": "code",
   "execution_count": null,
   "metadata": {
    "collapsed": false
   },
   "outputs": [],
   "source": [
    "8 = people"
   ]
  },
  {
   "cell_type": "code",
   "execution_count": null,
   "metadata": {
    "collapsed": false
   },
   "outputs": [],
   "source": [
    "((((4**3))))"
   ]
  },
  {
   "cell_type": "code",
   "execution_count": null,
   "metadata": {
    "collapsed": false
   },
   "outputs": [],
   "source": [
    "(-(-(-(-5))))"
   ]
  },
  {
   "cell_type": "code",
   "execution_count": null,
   "metadata": {
    "collapsed": false
   },
   "outputs": [],
   "source": [
    "4 += 7 / 2"
   ]
  },
  {
   "cell_type": "markdown",
   "metadata": {},
   "source": [
    "### Additional Questions"
   ]
  },
  {
   "cell_type": "markdown",
   "metadata": {},
   "source": [
    "**1.** The following statements result in the `SyntaxError` error message when they are run. Run the cell to see the error message, then make changes to the statements so that they run without error."
   ]
  },
  {
   "cell_type": "code",
   "execution_count": null,
   "metadata": {
    "collapsed": false
   },
   "outputs": [],
   "source": [
    "17 = temp"
   ]
  },
  {
   "cell_type": "code",
   "execution_count": null,
   "metadata": {
    "collapsed": false
   },
   "outputs": [],
   "source": [
    "counter: 0"
   ]
  },
  {
   "cell_type": "code",
   "execution_count": null,
   "metadata": {
    "collapsed": false
   },
   "outputs": [],
   "source": [
    "#Keep the numbers on separate lines.\n",
    "6 +\n",
    "3"
   ]
  },
  {
   "cell_type": "markdown",
   "metadata": {},
   "source": [
    "**2.** The following statement results in the `NameError` message when it is run. Make a change to the cell so that the cell runs without error."
   ]
  },
  {
   "cell_type": "code",
   "execution_count": null,
   "metadata": {
    "collapsed": false
   },
   "outputs": [],
   "source": [
    "counter += 1"
   ]
  }
 ],
 "metadata": {
  "kernelspec": {
   "display_name": "Python 3",
   "language": "python",
   "name": "python3"
  },
  "language_info": {
   "codemirror_mode": {
    "name": "ipython",
    "version": 3
   },
   "file_extension": ".py",
   "mimetype": "text/x-python",
   "name": "python",
   "nbconvert_exporter": "python",
   "pygments_lexer": "ipython3",
   "version": "3.5.2"
  }
 },
 "nbformat": 4,
 "nbformat_minor": 1
}
