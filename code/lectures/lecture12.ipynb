{
 "cells": [
  {
   "cell_type": "markdown",
   "metadata": {},
   "source": [
    "## Lecture 12\n",
    "\n",
    "The objectives of this lecture are to:\n",
    "\n",
    "1. Repeat the execution of code through *looping*.\n",
    "2. Nest loops within loops.\n",
    "3. Using `break` and `continue`."
   ]
  },
  {
   "cell_type": "markdown",
   "metadata": {},
   "source": [
    "# Repeating the executing of code -- looping\n",
    "\n",
    "In this chapter we return to learn about how to control the flow of a program. In past lectures we learned about `if` statements which enable a programmer to execute different blocks of code given a set of conditions. Now that we have learned about collection datastructures in Python, specifically the `list`, we will learn about another type of flow control -- looping.\n",
    "\n",
    "The ability to repeat blocks of code is very important for programmers. A motivating example involves performing an operation on each item in a list,"
   ]
  },
  {
   "cell_type": "code",
   "execution_count": null,
   "metadata": {
    "collapsed": false
   },
   "outputs": [],
   "source": [
    "# given a list of `float` items, we would like output each value to the user\n",
    "velocities = [0.0, 9.81, 19.62, 29.43]\n",
    "\n",
    "# Given our existing knowledge of programming, this involves a program with\n",
    "# as many print statements as there are items\n",
    "print('Metric:', velocities[0], 'm/sec')\n",
    "print('Metric:', velocities[1], 'm/sec')\n",
    "print('Metric:', velocities[2], 'm/sec')\n",
    "print('Metric:', velocities[3], 'm/sec')"
   ]
  },
  {
   "cell_type": "markdown",
   "metadata": {},
   "source": [
    "For this simple case, it is not especially tedious to write a program which accomplishes the goal, but what if the list is large or its length is not known *a priori*? In order to handle such scenarios, Python provides two different types of loops,\n",
    "\n",
    "* `for` loop -- this type of loop repeats or iterates the same block of code for each item in a *collection* (list, tuple, dictionary, etc).\n",
    "\n",
    "```python\n",
    "for item in collection:\n",
    "    statement1\n",
    "    statement2\n",
    "    ...\n",
    "```\n",
    "\n",
    "* `while` loop -- this type of loop repeats or iterates the same block of code while a certain condition is met.\n",
    "\n",
    "```python\n",
    "while condition:\n",
    "    statement1\n",
    "    statement2\n",
    "    ...\n",
    "```\n",
    "\n",
    "As with `if` statements, Python syntax uses indentation to indicate the beginning and end of the block of code. The `while` loop is a more simple method for looping, so we will start with it. In general, the `for` loop is a more natural form of looping for engineers and scientists because we typically know the size of our data beforehand. You will see examples of both being used interchangeably which will (hopefully) support the previous statement!\n",
    "\n",
    "\n",
    "### The `while` loop -- looping while a condition is met\n",
    "\n",
    "The syntax of `while` loops is relatively simple to understand, based upon the syntax template above we can write code which iterates over each item in the list from above and output it to the user,"
   ]
  },
  {
   "cell_type": "code",
   "execution_count": null,
   "metadata": {
    "collapsed": false
   },
   "outputs": [],
   "source": [
    "# we need two variables, a \"counter\" variable which is typically named `i`, `j`, or `k`\n",
    "i = 0\n",
    "\n",
    "# and a constant equal to the number of items in the list\n",
    "length = len(velocities)\n",
    "\n",
    "# now we need to iterate over every item in the list, why did I choose for i to equal zero?\n",
    "while (i < length):\n",
    "    # given the current value of `i` is a valid index in the list, print item i\n",
    "    print('Metric:', velocities[i], 'm/sec')\n",
    "    \n",
    "    # update `i` by one for the next iteration\n",
    "    i += 1"
   ]
  },
  {
   "cell_type": "markdown",
   "metadata": {},
   "source": [
    "Now we have code that will function correctly for any length of the list! Later we will see the `for` loop version of this code, which will be a bit more simple. To understand in more detail how the while loop works, let's look at another example,"
   ]
  },
  {
   "cell_type": "code",
   "execution_count": null,
   "metadata": {
    "collapsed": false
   },
   "outputs": [],
   "source": [
    "# count down the number of rabbits from greatest to least\n",
    "rabbits = 5\n",
    "\n",
    "# note that the parenthesis around the boolean expression is not needed\n",
    "while rabbits > 0:\n",
    "    print(\"There are \", rabbits, \" rabbits.\")\n",
    "    rabbits -= 1"
   ]
  },
  {
   "cell_type": "markdown",
   "metadata": {},
   "source": [
    "The control flow characterized by the `while` should be quite clear at this point, it repeats a block of code given that a condition is `True`. If the condition evaluates to `False` the while loop exits,\n",
    "\n",
    "\n",
    "<center>\n",
    "<img src='files/./images/lecture12/pg165.jpg'>\n",
    "</center>\n",
    "There is a drawback to using `while` loops that make it more desirable to use `for` loops. What happens if the condition is always met? In some cases this is due to a programming error, in other cases a usage error, either way the result will be an *infinite loop*. Clearly this is a bad thing, you computer has finite computational power and thus it will be working forever to execute the code in that situation.\n",
    "\n",
    "Let's try and example where this happens, but not in our interactive lecture environment. Open a terminal and start iPython, cut and paste the code above but now change the code block to increment `rabbits` by one. Remember to use the (iPython) keyword word `%paste` to retain the correct formatting when cutting-and-pasting code.\n",
    "\n",
    "At this point your terminal should be continuously printing \"There are X rabbits.\" Without user intervention, this will continue until the the computer hardware fails. Since we have other things to do, you will need to tell the operating system to \"interrupt\" the process by typing CTRL-C. The Python interpreter is aware of this interrupt and will gracefully stop running your block of code. I suggest you remember this key sequence, I suspect you will need it in the future.\n",
    "\n",
    "One of the main uses of `while` loops is to repeat code based upon user input,"
   ]
  },
  {
   "cell_type": "code",
   "execution_count": null,
   "metadata": {
    "collapsed": false
   },
   "outputs": [],
   "source": [
    "# looping over user input involves a string, we need to initialize\n",
    "# it to a value which meets the while loop condition\n",
    "text = \"\"\n",
    "\n",
    "# now we loop until the user enters an specified string, in this \n",
    "# case it is \"quit\"\n",
    "while text != \"quit\":\n",
    "    \n",
    "    text = input(\"Please enter a chemical formula (or 'quit' to exit): \")\n",
    "\n",
    "    if text == \"quit\":\n",
    "        print(\"...exiting program\")\n",
    "    elif text == \"H2O\":\n",
    "        print(\"Water\")\n",
    "    elif text == \"NH3\":\n",
    "        print(\"Ammonia\")\n",
    "    elif text == \"CH4\":\n",
    "        print(\"Methane\")\n",
    "    else:\n",
    "        print(\"Unknown compound\")"
   ]
  },
  {
   "cell_type": "markdown",
   "metadata": {},
   "source": [
    "This example combines many of the concepts you have learned thus far: string operations, user input/output, `if` statements, and `while` loops. Does it make sense why the `if` statement has a case for `text` equalling `\"quit\"`? Remember, the condition is checked before execution of each block of code. The user inputs the `\"quit\"` string after the condition has been checked and thus the `if` is executed. The next iteration is when the `while` loop exits!\n",
    "\n",
    "\n",
    "### The `for` loop -- looping over the items in a collection\n",
    "\n",
    "Now we will revisit our first example, outputting the items of a list to the user. We learned that this could be achieved using a `while` loop,"
   ]
  },
  {
   "cell_type": "code",
   "execution_count": null,
   "metadata": {
    "collapsed": false
   },
   "outputs": [],
   "source": [
    "i = 0\n",
    "\n",
    "length = len(velocities)\n",
    "\n",
    "while (i < length):\n",
    "    print('Metric:', velocities[i], 'm/sec')\n",
    "    i += 1"
   ]
  },
  {
   "cell_type": "markdown",
   "metadata": {},
   "source": [
    "Now we will learn how to do this with a `for` loop. As I mentioned earlier, the `for` loop syntax is more complicated than that of the `while` loop. The reason for this is that the `for` loop initializes a variable before executing each code block,"
   ]
  },
  {
   "cell_type": "code",
   "execution_count": null,
   "metadata": {
    "collapsed": false
   },
   "outputs": [],
   "source": [
    "# the velocity list already exists\n",
    "for speed in velocities:\n",
    "    print('Metric:', speed, 'm/sec')"
   ]
  },
  {
   "cell_type": "markdown",
   "metadata": {},
   "source": [
    "The collection in this case is a `list`, which governs the order in which the items are iterated over (lowest to highest index).  `for` loop the variable which references each item is created if it does not already exist and assigned before each execution of the code block. If the variable already exists, it is reassigned,"
   ]
  },
  {
   "cell_type": "code",
   "execution_count": null,
   "metadata": {
    "collapsed": false
   },
   "outputs": [],
   "source": [
    "# initial value of the variable\n",
    "speed = 0.0\n",
    "\n",
    "# the velocity list already exists\n",
    "for speed in velocities:\n",
    "    print('Metric:', speed, 'm/sec')\n",
    "\n",
    "print(\"Value of the item variable after exiting the loop: \", speed)"
   ]
  },
  {
   "cell_type": "markdown",
   "metadata": {},
   "source": [
    "After exiting the loop, the variable will either contain the value of or be an alias for the last item in the collection. Remember to take care distinguishing the case when the list items are mutable or immutable. If they are immutable, as in this case, the list item objects will not be affected because the item variable is a *new object* with *same value*. If they are mutable, the list item objects will be affected because the variable is an *alias* that references the *same object*,"
   ]
  },
  {
   "cell_type": "code",
   "execution_count": null,
   "metadata": {
    "collapsed": false
   },
   "outputs": [],
   "source": [
    "# let's use a list of lists as an example\n",
    "lists = [[1, 2, 3], [4, 5, 6], [7, 8, 9]]\n",
    "\n",
    "# now each item is a list!\n",
    "for sublist in lists:\n",
    "    # reassign the last item of the list to zero\n",
    "    sublist[2] = 0\n",
    "    \n",
    "lists"
   ]
  },
  {
   "cell_type": "markdown",
   "metadata": {},
   "source": [
    "### Looping over strings\n",
    "\n",
    "Strings are similar to collections in that they can be looped over using a `for` loop. Now the item corresponds to a character sub-string, which still has type `str`,"
   ]
  },
  {
   "cell_type": "code",
   "execution_count": null,
   "metadata": {
    "collapsed": false
   },
   "outputs": [],
   "source": [
    "string = \"Not In My Back Yard!\"\n",
    "\n",
    "for ch in string:\n",
    "    # check if the substring is uppercase\n",
    "    if ch.isupper():\n",
    "        print(ch, end=\"\")\n",
    "\n",
    "print(string)"
   ]
  },
  {
   "cell_type": "markdown",
   "metadata": {},
   "source": [
    "The loop iterates `len(string)` times and, as we discussed above, any manipulations of the loop variable `ch` will have no effect on the string!\n",
    "\n",
    "\n",
    "### Looping over ranges of numbers and enumerating\n",
    "\n",
    "Frequently we want to create a `for` loop which iterates a block of code a known number of times, but do not have a collection to iterate over. In this case, the built-in function `range()` is useful for creating a datastructure that is collection-like to iterate over,"
   ]
  },
  {
   "cell_type": "code",
   "execution_count": null,
   "metadata": {
    "collapsed": false
   },
   "outputs": [],
   "source": [
    "help(range)"
   ]
  },
  {
   "cell_type": "markdown",
   "metadata": {},
   "source": [
    "It has three different options for creating `range` data structures,"
   ]
  },
  {
   "cell_type": "code",
   "execution_count": null,
   "metadata": {
    "collapsed": false
   },
   "outputs": [],
   "source": [
    "# equivalent expressions\n",
    "range(10)\n",
    "range(0, 10)\n",
    "range(0, 10, 1)"
   ]
  },
  {
   "cell_type": "markdown",
   "metadata": {},
   "source": [
    "As with slicing, and this is no coincidence, the function creates a range of values up until, *but not including*, the `end` value."
   ]
  },
  {
   "cell_type": "code",
   "execution_count": null,
   "metadata": {
    "collapsed": false
   },
   "outputs": [],
   "source": [
    "r = range(10)\n",
    "\n",
    "# the `range` type only describes the range, for efficiency\n",
    "print(r)\n",
    "\n",
    "# to expand the range for all values it represents, use a \n",
    "# type conversion to a `list`\n",
    "print(list(r))"
   ]
  },
  {
   "cell_type": "markdown",
   "metadata": {},
   "source": [
    "Using this function we can write code which iterates a block of code a specified number of times,"
   ]
  },
  {
   "cell_type": "code",
   "execution_count": null,
   "metadata": {
    "collapsed": false
   },
   "outputs": [],
   "source": [
    "# print \"METALLICA!\" ten times\n",
    "for i in range(10):\n",
    "    print(i, \"METALLICA!\")"
   ]
  },
  {
   "cell_type": "markdown",
   "metadata": {},
   "source": [
    "Try changing the `end` value above to zero, what will happen? The `range()` function returns a range which contains no values and thus the for loop never executes the block of code. Note that this is perfectly valid syntax and not necessarily and programming error."
   ]
  },
  {
   "cell_type": "code",
   "execution_count": null,
   "metadata": {
    "collapsed": false
   },
   "outputs": [],
   "source": [
    "r1 = range(0)\n",
    "r2 = range(4, 2)\n",
    "r3 = range(5, 10, -1)\n",
    "\n",
    "# I will use a `for` loop instead of typing multiple print statements\n",
    "# for convenience\n",
    "l = [r1, r2, r3]\n",
    "\n",
    "for r in l:\n",
    "    print(r)\n",
    "    print(list(r))"
   ]
  },
  {
   "cell_type": "markdown",
   "metadata": {},
   "source": [
    "### Index-based manipulation of collections with the `for` loop\n",
    "\n",
    "Now we will learn two more methods for using a `for` loop on a collection. The first uses `range()` and indexing, the second is a variant on the previous method using a new function `enumerate()`,"
   ]
  },
  {
   "cell_type": "code",
   "execution_count": null,
   "metadata": {
    "collapsed": false
   },
   "outputs": [],
   "source": [
    "help(enumerate)"
   ]
  },
  {
   "cell_type": "markdown",
   "metadata": {},
   "source": [
    "Let's first use `range()` to create a third way to print out the items in a list,"
   ]
  },
  {
   "cell_type": "code",
   "execution_count": null,
   "metadata": {
    "collapsed": false
   },
   "outputs": [],
   "source": [
    "values = [4, 10, 3, 8, -6]\n",
    "\n",
    "# find the length of the list\n",
    "length = len(values)\n",
    "\n",
    "for i in range(length):\n",
    "    print(values[i])"
   ]
  },
  {
   "cell_type": "markdown",
   "metadata": {},
   "source": [
    "The `range()` function was designed for this purpose, but default it provides a range of indices that loop itemwise through the list\n",
    "\n"
   ]
  },
  {
   "cell_type": "code",
   "execution_count": null,
   "metadata": {
    "collapsed": false
   },
   "outputs": [],
   "source": [
    "list(range(length))"
   ]
  },
  {
   "cell_type": "markdown",
   "metadata": {},
   "source": [
    "Can you think of any reason why we might want to use this method instead of the previous one? The answer is yes, when you want to manipulate the items in the list! "
   ]
  },
  {
   "cell_type": "code",
   "execution_count": null,
   "metadata": {
    "collapsed": false
   },
   "outputs": [],
   "source": [
    "# the previous method does not allow use to mutate the list\n",
    "for num in values:\n",
    "    num = 0\n",
    "    \n",
    "# the list was not mutated\n",
    "print(values)\n",
    "\n",
    "for i in range(length):\n",
    "    values[i] = 0\n",
    "    \n",
    "# the list was mutated!\n",
    "print(values)"
   ]
  },
  {
   "cell_type": "markdown",
   "metadata": {},
   "source": [
    "We will briefly discuss one last method using the `enumerate()` function, but this involves syntax that you have not learned yet. I will show you a simple example of it now and we will revisit it once we learn about another type of collection, the tuple."
   ]
  },
  {
   "cell_type": "code",
   "execution_count": null,
   "metadata": {
    "collapsed": false
   },
   "outputs": [],
   "source": [
    "# make a list of strings\n",
    "strings = [\"First\", \"Second\", \"Third\", \"Fourth\", \"Fifth\"]\n",
    "\n",
    "#  given a collection `enumerate` returns a data structure\n",
    "# that contains an order set of pairs of values: (index, item)\n",
    "for (i, value) in enumerate(strings):\n",
    "    print(strings[i], value)"
   ]
  },
  {
   "cell_type": "markdown",
   "metadata": {},
   "source": [
    "This approach is very useful for collections that are unordered and/or not indexable. For numerical data we will almost always use the `range()` method in that we typically want to manipulate/mutate our data. In other cases, we will use the itemwise or `enumerate()` approach.\n",
    "\n",
    "\n",
    "### Manipulate lists in parallel\n",
    "\n",
    "To conclude this section, we will see one more frequently encountered scenario where index-based looping is useful: parallel lists. In this case we have multiple lists that contain items that are related,"
   ]
  },
  {
   "cell_type": "code",
   "execution_count": null,
   "metadata": {
    "collapsed": false
   },
   "outputs": [],
   "source": [
    "# two lists whose items are related, the contain information about\n",
    "# different metals\n",
    "metal_names = ['Li', 'Na', 'K']\n",
    "metal_weights = [6.941, 22.98976928, 39.0983]\n",
    "\n",
    "# these lists must be the same length, this is logical in that they\n",
    "# contain different types of information about the same set of things\n",
    "length = len(metal_names)\n",
    "\n",
    "# loop over each index in the lists, access them as needed in the code\n",
    "# block\n",
    "for i in range(length):\n",
    "    print(metal_names[i], metal_weights[i])"
   ]
  },
  {
   "cell_type": "markdown",
   "metadata": {},
   "source": [
    "Using the itemwise approach would not be possible, in this case (without further manipulations).\n",
    "\n",
    "\n",
    "# Nested loops\n",
    "\n",
    "Just as with `if` statements, code blocks in `for` and `while` loops can contain *nested loops*. We will heavily use nested loops in numerical computing to manipulate arrays of data that are multidimensional. Until we reach that point in the course, we will learn how to apply nested loops to manipulating multiple lists and nested lists. Starting with multiple lists, here is an example which uses lists of metals and halides to output to the user several metal halides,"
   ]
  },
  {
   "cell_type": "code",
   "execution_count": null,
   "metadata": {
    "collapsed": false
   },
   "outputs": [],
   "source": [
    "# create two lists, their lengths do not need to be equal!\n",
    "outer = ['Li', 'Na', 'K']\n",
    "inner = ['F', 'Cl', 'Br']\n",
    "\n",
    "for metal in outer:\n",
    "    # outer loop, this code block is executed 3 times\n",
    "    for halogen in inner:\n",
    "        # inner loop, this code block is executed 3 times in series for each outer loop  \n",
    "        print(metal + halogen)"
   ]
  },
  {
   "cell_type": "markdown",
   "metadata": {},
   "source": [
    "The number of times the inner loop is executed is `len(outer)*len(inner)`. Make sense? We should not need to spend much time on nested loops in that it is conceptually similar to nested `if` statements. Here is another example that only involves one list,"
   ]
  },
  {
   "cell_type": "code",
   "execution_count": null,
   "metadata": {
    "collapsed": false
   },
   "outputs": [],
   "source": [
    "def print_table(n):\n",
    "    \"\"\" (int) -> None\n",
    "    \n",
    "    Print the multiplication table for numbers 1 through n inclusive.\n",
    "    \n",
    "    >>> print_table(5)\n",
    "        1\t2\t3\t4\t5\n",
    "    1\t1\t2\t3\t4\t5\n",
    "    2\t2\t4\t6\t8\t10\n",
    "    3\t3\t6\t9\t12\t15\n",
    "    4\t4\t8\t12\t16\t20\n",
    "    5\t5\t10\t15\t20\t25   \n",
    "    \"\"\"\n",
    "    \n",
    "    # The numbers to include in the table.\n",
    "    numbers = list(range(1, n + 1))\n",
    "    \n",
    "    # Print the header row.\n",
    "    for i in numbers:\n",
    "        print('\\t' + str(i), end='')\n",
    "    \n",
    "    # End the header row.\n",
    "    print()\n",
    "    \n",
    "    # Print each row number and the contents of each row.\n",
    "    for i in numbers:\n",
    "        # outer loop\n",
    "        \n",
    "        # print the header column entry first\n",
    "        print (i, end='')\n",
    "    \n",
    "        # now print the row index times the column index\n",
    "        for j in numbers:\n",
    "            # inner loop\n",
    "            print('\\t' + str(i * j), end='')\n",
    "    \n",
    "        # End the current row.\n",
    "        print()\n",
    "        \n",
    "print_table(10)"
   ]
  },
  {
   "cell_type": "markdown",
   "metadata": {},
   "source": [
    "This example is a bit more complicated because it combines `for` looping using indices with more complex code blocks. The use of the `print()` function is also relatively complicated, but after some analysis the code should make sense.\n",
    "\n",
    "Another example of nested `for` loops comes from the natural structure of the list. Iterating over nested lists is most naturally done using nested loops!"
   ]
  },
  {
   "cell_type": "code",
   "execution_count": null,
   "metadata": {
    "collapsed": false
   },
   "outputs": [],
   "source": [
    "# create a nested list which happens to be homogeneous\n",
    "elements = [['Li', 'Na', 'K'], ['F', 'Cl', 'Br']]\n",
    "\n",
    "for sublist in elements:\n",
    "    for item in sublist:\n",
    "        print(item)"
   ]
  },
  {
   "cell_type": "markdown",
   "metadata": {},
   "source": [
    "One of the benefits of using the itemwise approach is that heterogeneous nest lists or *ragged lists* are transparently handled with the same code,"
   ]
  },
  {
   "cell_type": "code",
   "execution_count": null,
   "metadata": {
    "collapsed": false
   },
   "outputs": [],
   "source": [
    "# create a nested list of data for famous scientists,\n",
    "# note that Turing had an email address while Newton and \n",
    "# Darwin did not (for obvious reasons!)\n",
    "info = [['Isaac Newton', 1643, 1727], ['Charles Darwin', 1809, 1882], ['Alan Turing', 1912, 1954, 'alan@bletchley.uk']]\n",
    "\n",
    "for scientist in info:\n",
    "    for datum in scientist:\n",
    "        print(datum, \", \", sep=\"\", end=\"\")\n",
    "    \n",
    "    # create a new line for each scientist\n",
    "    print()"
   ]
  },
  {
   "cell_type": "markdown",
   "metadata": {},
   "source": [
    "As you may have realized looping syntax using `for` and `while` loops is consistent with and builds upon previous concepts you have learned about Python programming. Because of this the best way to learn is through hands-on examples and exercises, which you can access at the end of the lecture!\n",
    "\n",
    "\n",
    "# Using `break` and `continue`\n",
    "\n",
    "The vast majority of our code which uses loops will involve all of the code in the block needing to be executed. Sometimes this is not the case and Python provides two ways to prematurely end the executing of the code block in a loop,\n",
    "\n",
    "* `break` -- the `break` statement simply exits from the loop no matter what the condition (`while` loop) or number of remaining items (`for` loop).\n",
    "* `continue` -- the `continue` statement exits from the *current iteration* of the code block and continues at the beginning of the loop. For `while` loops this means that the condition is evaluated before the next iteration is executed. For `for` loops, the block is continued using the next item (if it exists).\n",
    "\n",
    "Let's learn how to use these two statements by example. First, here is an example of a `for` loop that could be simplified using `break`,"
   ]
  },
  {
   "cell_type": "code",
   "execution_count": null,
   "metadata": {
    "collapsed": false
   },
   "outputs": [],
   "source": [
    "# this code determines if at least one digit is present in a string\n",
    "string = 'C3H7'\n",
    "\n",
    "# This will be -1 until we find a digit.\n",
    "index = -1 \n",
    "\n",
    "# iterate over each character in the string\n",
    "for i in range(len(string)):\n",
    "    # If we haven't found a digit, and s[i] is a digit\n",
    "    if index == -1 and string[i].isdigit():\n",
    "        index = i\n",
    "\n",
    "print(\"Found a digit in the string:\", string[index])"
   ]
  },
  {
   "cell_type": "markdown",
   "metadata": {},
   "source": [
    "This code is a relatively inefficient solution to the problem; after the first digit is found the code block is still executed for all characters following it. Here is an implementation using `break`,"
   ]
  },
  {
   "cell_type": "code",
   "execution_count": null,
   "metadata": {
    "collapsed": false
   },
   "outputs": [],
   "source": [
    "index = -1\n",
    "\n",
    "# iterate over each character in the string\n",
    "for i in range(len(string)):\n",
    "    # If we haven't found a digit, and s[i] is a digit\n",
    "    if string[i].isdigit():\n",
    "        index = i\n",
    "        break\n",
    "\n",
    "print(\"Found a digit in the string:\", string[index])"
   ]
  },
  {
   "cell_type": "markdown",
   "metadata": {},
   "source": [
    "Once the `break` statement is reached, the interpreter exits the loop execution immediately and continues executing the next top-level statement. This has resulted in both simplification of the code and an increase it the efficiency of its execution. The `if` statement condition within the code block does not need to account for the case where a digit has already been found. Additionally, the loop no longer iterates over all characters in the string, just the up to the first digit!\n",
    "\n",
    "\n",
    "<img src='files/./images/lecture12/pg170.jpg'>\n",
    "\n",
    "Also, the `break` statement only affects the innermost loop in the case of nested loops,"
   ]
  },
  {
   "cell_type": "markdown",
   "metadata": {},
   "source": [
    "# Exercises"
   ]
  },
  {
   "cell_type": "markdown",
   "metadata": {},
   "source": [
    "**1.** a. Create a nested list where each element of the outer list contains the\n",
    "atomic number and atomic weight for an alkaline earth metal. The\n",
    "values are beryllium (4 and 9.012), magnesium (12 and 24.305), cal-\n",
    "cium (20 and 40.078), strontium (38 and 87.62), barium (56 and\n",
    "137.327), and radium (88 and 226). Assign the list to the variable\n",
    "alkaline_earth_metals ."
   ]
  },
  {
   "cell_type": "code",
   "execution_count": null,
   "metadata": {
    "collapsed": false
   },
   "outputs": [],
   "source": []
  },
  {
   "cell_type": "markdown",
   "metadata": {},
   "source": [
    "b. Write a for loop to print all the values in alkaline_earth_metals , with the\n",
    "atomic number and atomic weight for each alkaline earth metal on a\n",
    "different line."
   ]
  },
  {
   "cell_type": "code",
   "execution_count": null,
   "metadata": {
    "collapsed": false
   },
   "outputs": [],
   "source": []
  },
  {
   "cell_type": "markdown",
   "metadata": {},
   "source": [
    "c.Write a for loop to create a new list called number_and_weight that contains\n",
    "the elements of alkaline_earth_metals in the same order but not nested."
   ]
  },
  {
   "cell_type": "code",
   "execution_count": null,
   "metadata": {
    "collapsed": false
   },
   "outputs": [],
   "source": []
  },
  {
   "cell_type": "markdown",
   "metadata": {},
   "source": [
    "***2.*** Consider the following statement, which creates a list of populations of\n",
    "countries in eastern Asia (China, DPR Korea, Hong Kong, Mongolia,\n",
    "Republic of Korea, and Taiwan) in millions: country_populations = [1295, 23, 7,\n",
    "3, 47, 21] . Write a for loop that adds up all the values and stores them in\n",
    "the <i>total</i> variable. "
   ]
  },
  {
   "cell_type": "code",
   "execution_count": null,
   "metadata": {
    "collapsed": false
   },
   "outputs": [],
   "source": []
  },
  {
   "cell_type": "markdown",
   "metadata": {},
   "source": [
    "***3.*** You are given two lists, rat_1 and rat_2 , that contain the daily weights of\n",
    "two rats over a period of ten days. Write statements to do the following:"
   ]
  },
  {
   "cell_type": "markdown",
   "metadata": {},
   "source": [
    "a. If the weight of rat 1 is greater than that of rat 2 on day 1, print \"Rat\n",
    "1 weighed more than rat 2 on day 1.\" ; otherwise, print \"Rat 1 weighed less than rat\n",
    "2 on day 1.\""
   ]
  },
  {
   "cell_type": "code",
   "execution_count": null,
   "metadata": {
    "collapsed": false
   },
   "outputs": [],
   "source": []
  },
  {
   "cell_type": "markdown",
   "metadata": {},
   "source": [
    "b. If rat 1 weighed more than rat 2 on day 1 and if rat 1 weighs more\n",
    "than rat 2 on the last day, print \"Rat 1 remained heavier than Rat 2.\" ; other-\n",
    "wise, print \"Rat 2 became heavier than Rat 1.\""
   ]
  },
  {
   "cell_type": "code",
   "execution_count": null,
   "metadata": {
    "collapsed": false
   },
   "outputs": [],
   "source": []
  },
  {
   "cell_type": "markdown",
   "metadata": {},
   "source": [
    "c. If your solution to the previous question used nested if statements,\n",
    "then do it without nesting, or vice versa."
   ]
  },
  {
   "cell_type": "code",
   "execution_count": null,
   "metadata": {
    "collapsed": false
   },
   "outputs": [],
   "source": []
  },
  {
   "cell_type": "markdown",
   "metadata": {},
   "source": [
    "***4.*** Sum numbers in the range 2 to 22 using a loop to find the total, and then\n",
    "calculate the average."
   ]
  },
  {
   "cell_type": "code",
   "execution_count": null,
   "metadata": {
    "collapsed": false
   },
   "outputs": [],
   "source": []
  },
  {
   "cell_type": "markdown",
   "metadata": {},
   "source": [
    "***5.*** Using a loop print the numbers in the range 33 to 49 (inclusive)."
   ]
  },
  {
   "cell_type": "code",
   "execution_count": null,
   "metadata": {
    "collapsed": false
   },
   "outputs": [],
   "source": []
  },
  {
   "cell_type": "markdown",
   "metadata": {},
   "source": [
    "***6.*** Print the numbers from 1 to 10 in descending order, all on one line."
   ]
  },
  {
   "cell_type": "code",
   "execution_count": null,
   "metadata": {
    "collapsed": false
   },
   "outputs": [],
   "source": []
  },
  {
   "cell_type": "markdown",
   "metadata": {},
   "source": [
    "***7.*** Consider this code:"
   ]
  },
  {
   "cell_type": "code",
   "execution_count": null,
   "metadata": {
    "collapsed": false
   },
   "outputs": [],
   "source": [
    "def remove_neg(num_list):\n",
    "    \"\"\" (list of number) -> NoneType\n",
    "    Remove the negative numbers from the list num_list.\n",
    "    >>> numbers = [-5, 1, -3, 2]\n",
    "    >>> remove_neg(numbers)\n",
    "    >>> numbers\n",
    "    [1, 2]\n",
    "    \"\"\"\n",
    "    for item in num_list:\n",
    "        if item < 0:\n",
    "            num_list.remove(item)"
   ]
  },
  {
   "cell_type": "markdown",
   "metadata": {},
   "source": [
    "When remove_neg([1, 2, 3, -3, 6, -1, -3, 1]) is executed, it modifies that list to become [1, 2, 3, 6, -3, 1] .\n",
    "The for loop traverses the elements of the list, and when a negative value\n",
    "(like -3 at position 3) is reached, it is removed, shifting the subsequent\n",
    "values one position earlier in the list (so 6 moves into position 3). The\n",
    "loop then continues on to process the next item, skipping over the value\n",
    "that moved into the removed item’s position. If there are two negative\n",
    "numbers in a row (like -1 and -3), then the second one won’t be removed.\n",
    "Rewrite the code to avoid this problem."
   ]
  },
  {
   "cell_type": "code",
   "execution_count": null,
   "metadata": {
    "collapsed": false
   },
   "outputs": [],
   "source": []
  },
  {
   "cell_type": "markdown",
   "metadata": {},
   "source": [
    "***8.*** Using `for` loops, print a right triangle of the character T on the\n",
    "screen where the triangle is one character wide at its narrowest point and\n",
    "seven characters wide at its widest point:\n",
    "\n",
    "T\n",
    "\n",
    "TT\n",
    "\n",
    "TTT\n",
    "\n",
    "TTTT\n",
    "\n",
    "TTTTT\n",
    "\n",
    "TTTTTT\n",
    "\n",
    "TTTTTTT"
   ]
  },
  {
   "cell_type": "code",
   "execution_count": null,
   "metadata": {
    "collapsed": false
   },
   "outputs": [],
   "source": []
  },
  {
   "cell_type": "markdown",
   "metadata": {},
   "source": [
    "**9.** Using `for` loops, print the triangle described in the previous question\n",
    "with its hypotenuse on the left side:"
   ]
  },
  {
   "cell_type": "code",
   "execution_count": null,
   "metadata": {
    "collapsed": false
   },
   "outputs": [],
   "source": []
  },
  {
   "cell_type": "markdown",
   "metadata": {},
   "source": [
    "**10.** Redo the previous two questions using while loops instead of for loops."
   ]
  },
  {
   "cell_type": "code",
   "execution_count": null,
   "metadata": {
    "collapsed": false
   },
   "outputs": [],
   "source": []
  },
  {
   "cell_type": "markdown",
   "metadata": {},
   "source": [
    "**11.** The variables <i>rat_1_weight</i> and <i>rat_2_weight</i> store the weights of two rats at\n",
    "the beginning of an experiment. The variables <i>rat_1_rate</i> and <i>rat_2_rate</i> are\n",
    "the rate that the rats’ weights are expected to increase each week (for\n",
    "example, 4 percent per week)."
   ]
  },
  {
   "cell_type": "code",
   "execution_count": null,
   "metadata": {
    "collapsed": false
   },
   "outputs": [],
   "source": []
  },
  {
   "cell_type": "markdown",
   "metadata": {},
   "source": [
    "a. Using a while loop, calculate how many weeks it would take for the\n",
    "weight of the first rat to become 25 percent heavier than it was origi-\n",
    "nally."
   ]
  },
  {
   "cell_type": "code",
   "execution_count": null,
   "metadata": {
    "collapsed": false
   },
   "outputs": [],
   "source": []
  },
  {
   "cell_type": "markdown",
   "metadata": {},
   "source": [
    "b. Assume that the two rats have the same initial weight, but rat 1 is\n",
    "expected to gain weight at a faster rate than rat 2. Using a while loop,\n",
    "calculate how many weeks it would take for rat 1 to be 10 percent\n",
    "heavier than rat 2."
   ]
  },
  {
   "cell_type": "code",
   "execution_count": null,
   "metadata": {
    "collapsed": false
   },
   "outputs": [],
   "source": []
  }
 ],
 "metadata": {
  "kernelspec": {
   "display_name": "Python 3",
   "language": "python",
   "name": "python3"
  },
  "language_info": {
   "codemirror_mode": {
    "name": "ipython",
    "version": 3
   },
   "file_extension": ".py",
   "mimetype": "text/x-python",
   "name": "python",
   "nbconvert_exporter": "python",
   "pygments_lexer": "ipython3",
   "version": "3.5.2"
  }
 },
 "nbformat": 4,
 "nbformat_minor": 1
}
