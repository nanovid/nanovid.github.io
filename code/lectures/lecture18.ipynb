{
 "cells": [
  {
   "cell_type": "markdown",
   "metadata": {},
   "source": [
    "## Lecture 18\n",
    "\n",
    "The objectives of this lecture are to:\n",
    "\n",
    "1. Introduce a plotting package for Python+NumPy -- `Matplotlib`.\n",
    "2. Creating figures with multiple plots -- sub-plots.\n",
    "3. Course conclusion -- applying what you have learned!"
   ]
  },
  {
   "cell_type": "markdown",
   "metadata": {},
   "source": [
    "# Plotting functionality for Python -- Matplotlib\n"
   ]
  },
  {
   "cell_type": "markdown",
   "metadata": {},
   "source": [
    "Matplotlib is the most popular plotting library for Python and can be used to create a vast array of very high quality plots. See the Matplotlib development website's [gallery](http://matplotlib.org/gallery.html) for many examples. This flexibility incurs complexity which is far beyond the scope of an introductory course. We will learn about three modules that Matplotlib provides:\n",
    "\n",
    "* `pyplot` -- this module contains a user interface, similar to that of MATLAB(TM), for 2D plotting.\n",
    "* `pylab` -- this module is provided for convenience when using Matplotlib interactively and contains both `numpy` and `pyplot` namespaces.\n",
    "* `mplot3` -- this module contains a user interface for 3D plotting.\n",
    "\n",
    "The typical work-flow using these modules is,\n",
    "\n",
    "1. Generate data to plot, post-process if necessary.\n",
    "2. \"Describe\" the desired plot through a series of function calls (`plot()`, `histogram()`, etc).\n",
    "3. If not in interactive mode, render the plot to screen using `show()`.\n",
    "4. Make minor corrections, if needed, and export graphics file to disk.\n",
    "\n",
    "Before we go through a simple example of this workflow, let's take a brief aside to discuss different types of graphics file formats. A basic understanding of this is vital for the generation of high-quality images. There are two general types of graphics file formats:\n",
    "\n",
    "* *bitmap* -- this type of format is most common and stores images as two-dimensional arrays of pixels. Specific implementations include the JPG and PNG formats.\n",
    "* *vector* -- this type of format is less common and stores images as either sets of vectors describing objects (curves, surfaces, etc) and/or bitmaps. Specific implementations include the SVG and PDF formats.\n",
    "\n",
    "Your display is (likely) composed of a two-dimensional array of pixels which is the motivation for bitmap-type formats, but there is a significant problem with such formats when resizing/rescaling images. Bitmap images are excellent at approximating continuous images well, but are not adequate for discrete objects. For example, look what happens when you rescale a bitmap image containing text:\n",
    "\n",
    "<img src='files/./images/lecture18/lecture18-1.png'; width=1000px>\n",
    "\n",
    "As you zoom into the image, the discrete objects (letters in this case), become grainy. Vector-type formats address this by explicitly storing text, curves, and other discrete objects. The drawback is that these vector formats must be rendered into a bitmap to be displayed to screen, but rendering at different scales does not result in coarsening of the image:\n",
    "\n",
    "<img src='files/./images/lecture18/lecture18-1.svg'; width=1000px>\n",
    "\n",
    "Keep this knowledge in-mind when exporting graphics files!\n",
    "\n",
    "Let's now try and representative example using Matplotlib -- plotting a 1D function,"
   ]
  },
  {
   "cell_type": "code",
   "execution_count": null,
   "metadata": {
    "collapsed": false
   },
   "outputs": [],
   "source": [
    "# this is required for *interactive* use with iPython or the iPython Notebook,\n",
    "# otherwise it is not needed\n",
    "%pylab --no-import-all\n",
    "\n",
    "# these imports are needed to both generate data to plot and use Matplotlib's\n",
    "# user interface\n",
    "from numpy import *\n",
    "from matplotlib.pyplot import *\n",
    "\n",
    "# let's plot sin(x) and cos(x) over one period\n",
    "x = linspace(-pi, pi, 10)\n",
    "f1 = sin(x)\n",
    "\n",
    "plot(x, f1)"
   ]
  },
  {
   "cell_type": "markdown",
   "metadata": {},
   "source": [
    "After executing the code above a plot will appear, but the number of points we have evaluated results in a coarse plot. Let's remedy this,"
   ]
  },
  {
   "cell_type": "code",
   "execution_count": null,
   "metadata": {
    "collapsed": false
   },
   "outputs": [],
   "source": [
    "x = linspace(-pi, pi, 100)\n",
    "f1 = sin(x)\n",
    "\n",
    "plot(x, f1)"
   ]
  },
  {
   "cell_type": "markdown",
   "metadata": {},
   "source": [
    "This plot looks much better, but it is missing some key features such as a title, axis labels, and a legend,"
   ]
  },
  {
   "cell_type": "code",
   "execution_count": null,
   "metadata": {
    "collapsed": false
   },
   "outputs": [],
   "source": [
    "# we need to add a label string for legend() to work\n",
    "plot(x, f1, label=\"sin(x)\")\n",
    "\n",
    "xlabel('x')\n",
    "ylabel('f(x)')\n",
    "title('My First Plot')\n",
    "legend()"
   ]
  },
  {
   "cell_type": "markdown",
   "metadata": {},
   "source": [
    "We are not restricted to plotting only one function,"
   ]
  },
  {
   "cell_type": "code",
   "execution_count": null,
   "metadata": {
    "collapsed": false
   },
   "outputs": [],
   "source": [
    "f2 = cos(x)\n",
    "\n",
    "plot(x, f1)\n",
    "plot(x, f2)\n",
    "# ...\n",
    "\n",
    "xlabel('x')\n",
    "ylabel('f(x)')\n",
    "title('My First Plot')\n",
    "legend([\"sin(x)\", \"cos(x)\"]) # equivalent to label=\"\" in the plot() function"
   ]
  },
  {
   "cell_type": "markdown",
   "metadata": {},
   "source": [
    "Let's override the default behaviour of `pyplot` to add padding to the horizontal axis and specify legend placement,"
   ]
  },
  {
   "cell_type": "code",
   "execution_count": null,
   "metadata": {
    "collapsed": false
   },
   "outputs": [],
   "source": [
    "plot(x, f1, label=\"sin(x)\")\n",
    "plot(x, f2, label=\"cos(x)\")\n",
    "# ...\n",
    "\n",
    "xlim((-pi, pi))\n",
    "legend?\n",
    "xlabel('x')\n",
    "ylabel('f(x)')\n",
    "title('My First Plot')\n",
    "legend(loc=\"upper left\")"
   ]
  },
  {
   "cell_type": "markdown",
   "metadata": {},
   "source": [
    "To conclude this example, using the `figure()` function allows you to create several plots simultaneously,"
   ]
  },
  {
   "cell_type": "code",
   "execution_count": null,
   "metadata": {
    "collapsed": false
   },
   "outputs": [],
   "source": [
    "# create a new figure, all following functions affect the new figure\n",
    "figure()\n",
    "plot(x, f1, label=\"sin(x)\")\n",
    "plot(x, f2, label=\"cos(x)\")\n",
    "\n",
    "xlim((-pi,pi))\n",
    "\n",
    "title('My First Plot')\n",
    "legend(loc=\"upper left\")\n",
    "\n",
    "# create a new figure, all following functions affect the new figure\n",
    "figure()\n",
    "plot(x, f1**2, label=\"sin(x)*sin(x)\")\n",
    "plot(x, f2**2, label=\"cos(x)*cos(x)\")\n",
    "plot(x, f1*f2, label=\"sin(x)*cos(x)\")\n",
    "\n",
    "xlim((-pi, pi))\n",
    "ylim((-0.5, 1.0))\n",
    "\n",
    "title('My Second Plot')\n",
    "legend(loc=\"lower left\")\n"
   ]
  },
  {
   "cell_type": "markdown",
   "metadata": {},
   "source": [
    "In the previous example we had to import both the `numpy` and `pyplot` modules, for convenience Matplotlib provides the `pylab` module which simultaneously imports them,"
   ]
  },
  {
   "cell_type": "code",
   "execution_count": null,
   "metadata": {
    "collapsed": false
   },
   "outputs": [],
   "source": [
    "from matplotlib.pylab import *\n",
    "\n",
    "array"
   ]
  },
  {
   "cell_type": "markdown",
   "metadata": {},
   "source": [
    "### Different types of plots for 1D functions\n",
    "\n",
    "Matplotlib provides *many* different types of plots for 1D functions, but we will introduce just a handful of frequently used plots\n",
    "\n",
    "* `plot(x, y, format, label)` -- plot a 1D function at a set of discrete points.\n",
    "* `loglog(x, y, format, label)` -- similar to plot, but using logarithmic scales for both axes.\n",
    "* `semilogx(x, y, format, label)`/`semilogy(x, y, format, label)` -- similar to plot, but using logarithmic scales for one axis.\n",
    "* `hist(x, bins, range)` - plot a histogram from a set of data.\n",
    "\n",
    "See Matplotlib's [gallery](http://matplotlib.org/gallery.html) for a relatively comprehensive set of examples with source code!\n",
    "\n",
    "The previous example provided a quick introduction to `plot()` (and its derivatives), so we only need to understand what the format parameter is and how to use it.\n",
    "\n",
    "The format string is composed of a color descriptor,\n",
    "\n",
    "|**character**|**colour**|\n",
    "|-------------|----------|\n",
    "|`'b'`        |blue      |\n",
    "|`'g'`        |green     |\n",
    "|`'r'`        |red       |\n",
    "|`'c'`        |cyan      |\n",
    "|`'m'`        |magenta   |\n",
    "|`'y'`        |yellow    |\n",
    "|`'k'`        |black     |\n",
    "|`'w'`        |white     |\n",
    "\n",
    "and a line/marker style,\n",
    "\n",
    "|**character**|**description**    |\n",
    "|-------------|-------------------|\n",
    "|`'-'`        |solid line style   |\n",
    "|`'--'`       |dashed line style  |\n",
    "|`'-.'`       |dash-dot line style|\n",
    "|`':'`        |dotted line style  |\n",
    "|`'.'`        |point marker       |\n",
    "|`','`        |pixel marker       |\n",
    "|`'o'`        |circle marker      |\n",
    "\n",
    "To create a format string simply concatenate the color descriptor and line/marker style together,\n",
    "\n",
    "|**format string**|**description**                        |\n",
    "|-----------------|---------------------------------------|\n",
    "|`'b-'`           |blue, solid line style                 |\n",
    "|`'k--'`          |black, dashed line style               |\n",
    "|`'y.'`           |yellow, point marker                   |\n",
    "|`'r--.'`         |red, dashed line style and point marker|\n",
    "\n",
    "Depending on the fineness or coarseness of your data you might use markers (coarse), lines (fine) or a combination of the two (intermediate),"
   ]
  },
  {
   "cell_type": "code",
   "execution_count": null,
   "metadata": {
    "collapsed": false
   },
   "outputs": [],
   "source": [
    "x1 = linspace(-pi, pi, 10)\n",
    "f1 = sin(x1)\n",
    "\n",
    "x2 = linspace(-pi, pi, 100)\n",
    "f2 = cos(x2)\n",
    "\n",
    "x3 = linspace(-pi, pi, 20)\n",
    "f3 = sin(x3)*cos(x3)\n",
    "\n",
    "figure()\n",
    "plot(x1, f1, \"ro\", label=\"sin(x), coarse\")\n",
    "plot(x2, f2, \"g-\", label=\"cos(x), fine\")\n",
    "plot(x3, f3, \"b-o\", label=\"sin(x)*cos(), intermediate\")"
   ]
  },
  {
   "cell_type": "markdown",
   "metadata": {},
   "source": [
    "Plots on logarithmic scales are useful when there is significant variation in either or both dimensions,"
   ]
  },
  {
   "cell_type": "code",
   "execution_count": null,
   "metadata": {
    "collapsed": false
   },
   "outputs": [],
   "source": [
    "t = logspace(0.0, 1.0,1000)\n",
    "f = exp(t)*sin(pi*t)**2\n",
    "\n",
    "figure()\n",
    "plot(t, f)\n",
    "\n",
    "figure()\n",
    "loglog(t, f)\n"
   ]
  },
  {
   "cell_type": "markdown",
   "metadata": {},
   "source": [
    "Comparing the two plots, the significance of the logarithmic-scale on the x-axis is minor, but on the y-axis the logarithmic scale  is vital so that the reader observes the short-time oscillations that are not discernible in the linear-scale plot. Using `semilogy()` might be useful so that the time scale is linear (a more familiar scale) and the dependent variable scale is logarithmic (a more informative scale),"
   ]
  },
  {
   "cell_type": "code",
   "execution_count": null,
   "metadata": {
    "collapsed": false
   },
   "outputs": [],
   "source": [
    "figure()\n",
    "semilogy(t, f)"
   ]
  },
  {
   "cell_type": "markdown",
   "metadata": {},
   "source": [
    "Another frequently used 1D plot is a histogram. The `hist()` provides this functionality and a ?perfect? example is to plot a grade distribution,"
   ]
  },
  {
   "cell_type": "code",
   "execution_count": null,
   "metadata": {
    "collapsed": false
   },
   "outputs": [],
   "source": [
    "# pylab does not import all sub-modules of numpy!\n",
    "from numpy import random\n",
    "\n",
    "# generate two sets of grades sampled from uniform and normal distributions\n",
    "uniform_grades = 100.*random.uniform(size=(100,))\n",
    "normal_grades = 100.*random.normal(size=(100,))\n",
    "\n",
    "figure()\n",
    "hist(uniform_grades, bins=10)\n",
    "xlabel(\"Grades\")\n",
    "ylabel(\"Number of Students\")\n",
    "title(\"Histogram Plot of a Uniform Distribution of Grades\")\n",
    "\n",
    "figure()\n",
    "hist(normal_grades, bins=10)\n",
    "xlabel(\"Grades\")\n",
    "ylabel(\"Number of Students\")\n",
    "title(\"Histogram Plot of a Normal Distribution of Grades\")\n"
   ]
  },
  {
   "cell_type": "markdown",
   "metadata": {},
   "source": [
    "### Creating figures with multiple plots -- sub-plots\n",
    "\n",
    "So far we have learned how to plot multiple data-sets in the same figure and create multiple figures. Frequently we would like to create *multiple plots* in a *single figure*. This can be done in a very simple and intuitive way with Matplotlib using `subplot()`,"
   ]
  },
  {
   "cell_type": "code",
   "execution_count": null,
   "metadata": {
    "collapsed": false
   },
   "outputs": [],
   "source": [
    "# create a new figure\n",
    "figure()\n",
    "\n",
    "# first determine the number of plots N, and how they will be arranged in a grid\n",
    "# the grid has R rows and C columns\n",
    "\n",
    "# now call `subplot(R, C, n)` where n is the number of the plot (row-major) that\n",
    "# you want to create/manipulate\n",
    "subplot(3, 1, 1)\n",
    "plot(x1, f1, \"ro\", label=\"$\\sin(x)$, coarse\")\n",
    "xlabel(\"$x$\")\n",
    "ylabel(\"$f_1(x)$\")\n",
    "ylim((-0.5, 1.0))\n",
    "\n",
    "subplot(3, 1, 2)\n",
    "plot(x2, f2, \"g-\", label=\"$\\cos(x)$, fine\")\n",
    "xlabel(\"$x$\")\n",
    "ylabel(\"$f_2(x)$\")\n",
    "ylim((-0.5, 1.0))\n",
    "\n",
    "subplot(3, 1, 3)\n",
    "plot(x3, f3, \"b-o\", label=\"$\\sin(x)\\cos()$, intermediate\")\n",
    "xlabel(\"$x$\")\n",
    "ylabel(\"$f_3(x)$\")\n",
    "ylim((-0.5, 1.0))\n",
    "legend()\n"
   ]
  },
  {
   "cell_type": "markdown",
   "metadata": {},
   "source": [
    "For this example I used Latex for typesetting the labels, a nice feature of Matplotlib that you will hopefully be able to use in the future."
   ]
  },
  {
   "cell_type": "markdown",
   "metadata": {},
   "source": [
    "### Plotting 2D functions\n",
    "\n",
    "Visualizing higher dimensional functions poses significant problems and powerful (and complex) Python libraries exist that are devoted to this (see [Mayavi](http://code.enthought.com/projects/mayavi/)). Matplotlib does provide basic 3D plotting of 2D functions in the `mplot3d` module, but its usage is relatively complex and not as intuitive (or fully featured) as Mayavi."
   ]
  },
  {
   "cell_type": "markdown",
   "metadata": {},
   "source": [
    "# Course Conclusion -- Let's end where we started!\n",
    "\n",
    "If you remember back at the beginning of the course I presented several applications-oriented problems and Python code to solve them as motivation for learning programming. Let's revisit each of these examples now that **you** have the skills and background to solve them on your own!\n",
    "\n",
    "\n",
    "### Matrix Algebra (using Python and NumPy)\n",
    "\n",
    "Engineers frequently use matrix algebra to compactly represent and manipulate systems of equations. A simple example of a linear system of equations is a discrete dynamical system, as follows (Hardy, Illustration 2.8):\n",
    "\n",
    "$$\n",
    "\\begin{eqnarray}\n",
    "a_{k+1} =  0.6 a_k + 0.1 d_k + 0.2 s_k\\\\\\\n",
    "d_{k+1} =  0.1 a_k + 0.7 d_k + 0.1 s_k\\\\\\\n",
    "s_{k+1} =  0.1 a_k + 0.1 d_k + 0.6 s_k\\\\\\\n",
    "\\end{eqnarray}\n",
    "$$\n",
    "where $a_k$, $d_k$, $s_k$ are the number of cars at time $t_k$ at the three locations (airport, downtown, and suburbs) of a car rental agency. This system of linear equations represents the evolution of the number of cars at each location over time. It may be compactly represented in matrix form as follows:\n",
    "$$\n",
    "\\begin{equation}\n",
    "\\left[\n",
    "\\begin{array}{c}\n",
    "a_{k+1}\\\\\\\n",
    "d_{k+1}\\\\\\\n",
    "s_{k+1}\\\\\\\n",
    "\\end{array}\n",
    "\\right]\n",
    "=\\left[\n",
    "\\begin{array}{c c c}\n",
    "0.6 & 0.1 & 0.2 \\\\\\\n",
    "0.1 & 0.7 & 0.1 \\\\\\\n",
    "0.1 & 0.1 & 0.6 \\\\\\\n",
    "\\end{array}\n",
    "\\right]\n",
    "\\left[\n",
    "\\begin{array}{c}\n",
    "a_{k}\\\\\\\n",
    "d_{k}\\\\\\\n",
    "s_{k}\\\\\\\n",
    "\\end{array}\n",
    "\\right]\n",
    "\\end{equation}\n",
    "$$\n",
    "\n",
    "Determine the distribution of cars at $t_{15}$ using Python and NumPy then compare to my solution in Lecture 1.\n",
    "\n",
    "\n",
    "### Solving a linear system (using NumPy)\n",
    "\n",
    "Another application of computer programming, also focusing on linear algebra, involves solving a system of linear equations:\n",
    "$$\n",
    "\\mathbf{Ax} = \\mathbf{b}\n",
    "$$\n",
    "which typically represents, approximately, a system we wish to analyze. In this example we will form an interpolant function by \"fitting\" $n$ observed data points (in time) to a polynomial function of time:\n",
    "$$\n",
    "p(t) = \\sum_{i=0}^{n-1} a_i t^i\n",
    "$$\n",
    "In this example, we measure the altitude of an airplane $f(t)$ at $5$ different points in time:\n",
    "$$\n",
    "\\begin{align}\n",
    "f(0) = 10\\\\\\\n",
    "f(0.5) = 15\\\\\\\n",
    "f(1.5) = 18\\\\\\\n",
    "f(2) = 20\\\\\\\n",
    "f(4) = 21\\\\\\\n",
    "\\end{align}\n",
    "$$\n",
    "and wish to fit this to a $4^{th}$ order polynomial. This results in a system of $5$ equations:\n",
    "$$\n",
    "\\begin{align}\n",
    "10 &=& (0)^4 a_4  &+& (0)^3 a_3& &+& (0)^2 a_2 &+& (0)^1 a_1 &+& (0)^0 a_0\\\\\\\n",
    "15 &=& (0.5)^4 a_4 &+& (0.5)^3 a_3& &+& (0.5)^2 a_2 &+& (0.5)^1 a_1 &+& (0.5)^0 a_0\\\\\\\n",
    "18 &=& (1.5)^4 a_4 &+& (1.5)^3 a_3& &+& (1.5)^2 a_2 &+& (1.5)^1 a_1 &+& (1.5)^0 a_0\\\\\\\n",
    "20 &=& (2)^4 a_4 &+& (2)^3 a_3& &+& (2)^2 a_2 &+& (2)^1 a_1 &+& (2)^0 a_0\\\\\\\n",
    "21 &=& (4)^4 a_4 &+& (4)^3 a_3& &+& (4)^2 a_2 &+& (4)^1 a_1 &+& (4)^0 a_0\\\\\\\n",
    "\\end{align}\n",
    "$$\n",
    "which is in matrix form:\n",
    "$$\n",
    "\\begin{equation}\n",
    "\\left[\n",
    "\\begin{array}{c c c c c}\n",
    "(0)^4 & (0)^3 & (0)^2 & (0)^1 & (0)^0\\\\\\\n",
    "(0.5)^4 & (0.5)^3 & (0.5)^2 & (0.5)^1 & (0.5)^0\\\\\\\n",
    "(1.5)^4 & (1.5)^3 & (1.5)^2 & (1.5)^1 & (1.5)^0\\\\\\\n",
    "(2)^4 & (2)^3 & (2)^2 & (2)^1 & (2)^0\\\\\\\n",
    "(4)^4 & (4)^3 & (4)^2 & (4)^1 & (4)^0\\\\\\\n",
    "\\end{array}\n",
    "\\right]\n",
    "\\left[\n",
    "\\begin{array}{c}\n",
    "a_4\\\\\\\n",
    "a_3\\\\\\\n",
    "a_2\\\\\\\n",
    "a_1\\\\\\\n",
    "a_0\\\\\\\n",
    "\\end{array}\n",
    "\\right]\n",
    "=\\left[\n",
    "\\begin{array}{c}\n",
    "10\\\\\\\n",
    "15\\\\\\\n",
    "18\\\\\\\n",
    "20\\\\\\\n",
    "21\\\\\\\n",
    "\\end{array}\n",
    "\\right]\n",
    "\\end{equation}\n",
    "$$\n",
    "\n",
    "Solve using Python and NumPy and compare to my solution in Lecture 1.\n",
    "\n",
    "\n",
    "### Defining and Plotting a Function (using NumPy and PyLab)\n",
    "\n",
    "Visualizing data is a key, but often neglected, task where computer programming is useful. In the previous example we solved for an interpolating function $p(t)$ which approximates another function $f(t)$ of which we have only a few data points.\n",
    "\n",
    "Now we will definite a function and plot that function in order to interpret our fit; we are particularly interested in the altitude that the airplane approaches after a \"long\" time.\n",
    "\n",
    "```\n",
    "def fi(x):\n",
    "    return(polyval(p,x))\n",
    "```\n",
    "\n",
    "where `p` is the array of polynomial coefficients from the previous example.\n",
    "\n",
    "\n",
    "### Solving an Equation Symbolically (using SymPy)\n",
    "\n",
    "One of the most useful characteristics of Python and NumPy is that they have been the enablers for a massive and diverse set of scientific libraries and packages for almost any need. In this problem you will use a powerful open-source (and free!) symbolic mathematics library for Python called [SymPy](http://sympy.org/en/index.html). You have not been trained in the use of this package, so try to read and understand the documentation to solve this simple problem. This skill, which is challenging to teach, is likely the most important attribute of an effective programmer!\n",
    "\n",
    "Start with a fourth order polynomial $f(x)$:\n",
    "$$\n",
    "f(x) = (2 x - 1)(x - 3)(x + 1)(x + 3/2)\n",
    "$$\n",
    "which is in a convenient factored form. Frequently polynomials are found in expanded form, let's use SymPy to work with that tedious case."
   ]
  }
 ],
 "metadata": {
  "kernelspec": {
   "display_name": "Python 3",
   "language": "python",
   "name": "python3"
  },
  "language_info": {
   "codemirror_mode": {
    "name": "ipython",
    "version": 3
   },
   "file_extension": ".py",
   "mimetype": "text/x-python",
   "name": "python",
   "nbconvert_exporter": "python",
   "pygments_lexer": "ipython3",
   "version": "3.5.2"
  }
 },
 "nbformat": 4,
 "nbformat_minor": 1
}
