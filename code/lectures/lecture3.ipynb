{
 "cells": [
  {
   "cell_type": "markdown",
   "metadata": {},
   "source": [
    "## Lecture 3\n",
    "\n",
    "The objectives of this lecture are to:\n",
    "\n",
    "1. Complete our discussion about computer architecture - memory hierarchy.\n",
    "2. Describe how values and variables are stored in memory (include section 3.2).\n",
    "3. Learn how to the Python interpreter references memory.\n"
   ]
  },
  {
   "cell_type": "markdown",
   "metadata": {},
   "source": [
    "# I. Computer Architecture 2 - Memory Hierarchy\n",
    "\n",
    "In order to complete our introductory understanding of computer architecture, we need to understand memory in more detail. There are many types of memory which results from the fact that we currently have no single technology which simultaneously provides us with memory that has sufficiently high capacity, low latency, high throughput, and persistence (after power off). Thus there are three main classes of memory which satisfy some of these requirements individually, and all of them collectively:\n",
    "\n",
    "* internal memory (CPU registers and cache) - memory that resides on the CPU and is directly used by it to implement machine code. This memory is very expensive (thus very low capacity) but very fast (both very low latency and very high throughput) and does not persist after power-off.\n",
    "\n",
    "* main memory (system random-access memory/RAM) - memory that does not reside on the CPU and is used to temporarily store data that is too large to be stored in the CPU cache. This memory is expensive (thus low capacity) but very fast (both low latency and high throughput) and does not persist after power-off.\n",
    "\n",
    "* mass storage (hard drive) - memory that does not reside on the CPU and is used for long-term storage of data that is too large to be stored in both RAM and CPU cache. This memory is inexpensive (thus high capacity) but very slow (both high latency and low throughput) but does persist after power-off.\n",
    "<img src='files/./images/lecture3/memory.jpg'>\n",
    "\n",
    "It is not vital that you are aware of or try and accommodate for the specific registers and cache of the CPU in your computer. This is not the case for operations involving RAM and the hard drive! Later in the course when we manipulate, store, and read large numerical data sets your understanding of memory hierarchy will be very important.\n",
    "\n",
    "While we are not ready to get into the details yet, let's discuss two illustrative examples:\n",
    "\n",
    "1. You have many large three-dimensional images of a nano-structured material that you wish to structure-property relationships for. You have determined that the size of each image is 1GB and that you have sufficient RAM to store the image. When manipulating the image for analysis what restrictions and optimizations might be important?\n",
    "\n",
    "2. You have access to a new piece of imaging equipment which increases your resolution such that new images are 10GB in size. Your computer does not have sufficient RAM to store one of these images. Do you need to buy more RAM to process this image?\n"
   ]
  },
  {
   "cell_type": "markdown",
   "metadata": {},
   "source": [
    "# II. Values, Variables, and Memory\n",
    "\n",
    "Frequently you will want to form expressions that will be used many times and the results from those expressions will need to be stored for future use. Programming languages accomplish this through assigning *values* to *variables*. The value is stored somewhere in memory and the variable references that memory.\n",
    "\n",
    "In Python, variables are assigned names (by the programmer) that must conform to a certain format:\n",
    "\n",
    "1. They may contain letters, digits, and the underscore character '_'.\n",
    "2. They may not start with a digit.\n",
    "\n",
    "Some examples of valid variable names are: `x1`, `i`, `user_name`, `count1`.\n",
    "\n",
    "Some examples of invalid variable names are: `1x`, `question?`, `1234`.\n"
   ]
  },
  {
   "cell_type": "markdown",
   "metadata": {},
   "source": [
    "### Creation of and Assignment to a Variable\n",
    "\n",
    "In order to create a variable in Python, you need to use the assignment operator (`=`)"
   ]
  },
  {
   "cell_type": "code",
   "execution_count": null,
   "metadata": {
    "collapsed": false
   },
   "outputs": [],
   "source": [
    "degrees_celsius = 26.0\n",
    "degrees_celsius"
   ]
  },
  {
   "cell_type": "markdown",
   "metadata": {},
   "source": [
    "This is an *assignment statement* and because the variable name is not currently assigned, the Python interpreter creates a new variable and assigns the value of the expression on the righthand side of the assignment operator to that variable.\n",
    "\n",
    "`variable name = expression`\n",
    "\n",
    "This is the general form of an *assignment statement* and the Python interpreter evaluates it as follows,\n",
    "\n",
    "1. Evaluate the expression on the righthand side.\n",
    "2. Either (i) store the value in the memory referenced by the variable name or (ii) if the variable name is not already assigned, create/store the value in new memory and assign a reference to that memory to the variable name.\n",
    "\n",
    "This is an oversimplification of what the Python interpreter actually does, but it is sufficient for now. Before we explore this further, let's see some examples of how variables can be used."
   ]
  },
  {
   "cell_type": "code",
   "execution_count": null,
   "metadata": {
    "collapsed": false
   },
   "outputs": [],
   "source": [
    "degrees_celsius # the interpreter will look-up the value associated with the variable name"
   ]
  },
  {
   "cell_type": "code",
   "execution_count": null,
   "metadata": {
    "collapsed": false
   },
   "outputs": [],
   "source": [
    "9.0 / 5.0 * degrees_celsius + 32.0"
   ]
  },
  {
   "cell_type": "code",
   "execution_count": null,
   "metadata": {
    "collapsed": false
   },
   "outputs": [],
   "source": [
    "degrees_celsius / degrees_celsius"
   ]
  },
  {
   "cell_type": "markdown",
   "metadata": {},
   "source": [
    "Clearly, once a variable is assigned we may use it in any expression as if it is a value. The Python interpreter will look-up the value of the variable when evaluating each of the expressions. To illustrate the usefulness of variables, change the original value of the variable and reevaluate the three expressions above. \n",
    "\n",
    "When you assign a new value to an existing variable, this does not retroactively affect expressions involving this variable, which is why you needed to reevaluate the expressions above for their values to change.\n",
    "\n",
    "At this point, you should understand that `=` in Python (and most programming languages) does not represent equality as it does in mathematics. In Lecture 8 you will learn about *relational operators* such as equality."
   ]
  },
  {
   "cell_type": "markdown",
   "metadata": {},
   "source": [
    "### Variables and Memory\n",
    "\n",
    "As I mentioned in the previous section, variable names are associated with values stored in memory. This is quite a bit more complicated than you might imagine, but necessarily so. To illustrate this the textbook introduces a \"memory model\" to illustrate the step-by-step results of executing program statements on the memory context of the program.\n",
    "\n",
    "Every location in the memory of a computer has a unique *memory identifier* or *memory address*. This is represented as follows for the variable `degrees_celsius` from above:\n",
    "\n",
    "![alt text](files/images/lecture3/lecture3-1.svg)\n",
    "\n",
    "The memory identifier is `id1`, the type of the value stored in that location of memory is `float`, and the current value is `26`. A variable is associated with a memory identifier; this relationship is not necessarily one-to-one. When a variable name appears in an expression, the Python interpreter uses the value at the memory identifier associated with variable name. This complication may seem needless, why not just use the memory identifier instead? There are many reasons why, but the most simple is that memory identifiers can be quite complex in Python:"
   ]
  },
  {
   "cell_type": "code",
   "execution_count": null,
   "metadata": {
    "collapsed": false
   },
   "outputs": [],
   "source": [
    "id(degrees_celsius)"
   ]
  },
  {
   "cell_type": "markdown",
   "metadata": {},
   "source": [
    "As you saw above, we may reassign variables to new values, more precisely we are assigning a new memory identifier to the variable that stores the new value (at a different location in memory). Using the memory model we may now describe this process more precisely,"
   ]
  },
  {
   "cell_type": "code",
   "execution_count": null,
   "metadata": {
    "collapsed": false
   },
   "outputs": [],
   "source": [
    "difference = 20 # step 1, initialize the variable difference\n",
    "double = 2 * difference # step 2, initialize the variable double\n",
    "double"
   ]
  },
  {
   "cell_type": "code",
   "execution_count": null,
   "metadata": {
    "collapsed": false
   },
   "outputs": [],
   "source": [
    "difference = 5 # step 3, reassign the variable difference\n",
    "double # no affect on the value of double"
   ]
  },
  {
   "cell_type": "markdown",
   "metadata": {},
   "source": [
    "Using the graphical memory model:\n",
    "\n",
    "# 1. ![alt text](files/images/lecture3/lecture3-2.svg)\n",
    "Initialize (assign a value) the variable 'difference'\n",
    "# 2. ![alt text](files/images/lecture3/lecture3-3.svg)\n",
    "Reinitialize the variable 'difference'\n",
    "# 3. ![alt text](files/images/lecture3/lecture3-4.svg)\n",
    "\n",
    "Reassign the value of the variable 'difference'. No effect whatsoever on the value stored in the variable 'double'."
   ]
  },
  {
   "cell_type": "markdown",
   "metadata": {},
   "source": [
    "### Augmented Assignment\n",
    "\n",
    "If a variable has already been assigned, there are many cases where it is reassigned to an expression that involves its current value. For example,"
   ]
  },
  {
   "cell_type": "code",
   "execution_count": null,
   "metadata": {
    "collapsed": false
   },
   "outputs": [],
   "source": [
    "number = 3\n",
    "print(number)\n",
    "\n",
    "number = 2 * number\n",
    "print(number)\n",
    "\n",
    "number = number * number\n",
    "print(number)"
   ]
  },
  {
   "cell_type": "markdown",
   "metadata": {},
   "source": [
    "*Augmented assignment* is the combination of an assignment statement with an operator which, at first glance, provides a more compact syntax compared to above,"
   ]
  },
  {
   "cell_type": "code",
   "execution_count": null,
   "metadata": {
    "collapsed": false
   },
   "outputs": [],
   "source": [
    "number = 3\n",
    "print(number)\n",
    "\n",
    "number *= 2\n",
    "print(number)\n",
    "\n",
    "number *= number\n",
    "print(number)"
   ]
  },
  {
   "cell_type": "markdown",
   "metadata": {},
   "source": [
    "Here are a few more examples of augmented assignment using operators you have seen before,"
   ]
  },
  {
   "cell_type": "code",
   "execution_count": null,
   "metadata": {
    "collapsed": false
   },
   "outputs": [],
   "source": [
    "number = 3 + 2\n",
    "number += 2\n",
    "print(number)"
   ]
  },
  {
   "cell_type": "code",
   "execution_count": null,
   "metadata": {
    "collapsed": false
   },
   "outputs": [],
   "source": [
    "number = 10 * 3 - 15\n",
    "number **= 2\n",
    "print(number)"
   ]
  },
  {
   "cell_type": "code",
   "execution_count": null,
   "metadata": {
    "collapsed": false
   },
   "outputs": [],
   "source": [
    "number = 5\n",
    "number -= number\n",
    "print(number)"
   ]
  },
  {
   "cell_type": "markdown",
   "metadata": {},
   "source": [
    "Focusing on the statements in which the righthand side does not involve the variable being assigned, you can see that the expression is evaluated first, then the operator is applied, and finally the assignment is performed.\n",
    "\n",
    "Similarly, if the variable being assigned appears in the righthand side what is the implication of this? The first is obvious; the value of the variable prior to the operation is used. Otherwise evaluation of the statement would be quite confusing. The second implication is not obvious, compare equivalent statements with and without augmented assignment,"
   ]
  },
  {
   "cell_type": "code",
   "execution_count": null,
   "metadata": {
    "collapsed": false
   },
   "outputs": [],
   "source": [
    "number = 5\n",
    "number = number - 5\n",
    "print(number)"
   ]
  },
  {
   "cell_type": "code",
   "execution_count": null,
   "metadata": {
    "collapsed": false
   },
   "outputs": [],
   "source": [
    "number = 5\n",
    "number -= 5\n",
    "print(number)"
   ]
  },
  {
   "cell_type": "markdown",
   "metadata": {},
   "source": [
    "They are both equivalent in their result, but the Python interpreter can more efficiently evaluate the augmented assignment version of the statement. Why is this? In the first statement the variable `number` must be looked-up in memory twice: (i) first to evaluate the expression and (ii) second to perform the assignment.\n",
    "\n",
    "If we used augmented assignment syntax, the Python interpreter can perform the same operation with only one look-up in memory. Why this is the case should not be obvious, but this is very important behaviour for engineers. We sometimes deal with very large datasets where a single look-up in memory requires significant computation time. The difference between using and not using augmented assignment may sometimes be very very significant!\n",
    "\n",
    "Finally, the following is a complete listing of all augmented assignment operators (__NOTE:__ x = 7 initially):\n",
    "\n",
    "|**Symbol**|**Example**|**Result**     |\n",
    "|----------|-----------|---------------|\n",
    "|+=        |x += 2     |x refers to 9  |\n",
    "|-=        |x -= 2     |x refers to 5  |\n",
    "|*=        |x *= 2     |x refers to 14 |\n",
    "|/=        |x /= 2     |x refers to 3.5|\n",
    "|//=       |x //= 2    |x refers to 3  |\n",
    "|%=        |x %= 2     |x refers to 1  |\n",
    "|**=       |x **= 2    |x refers to 49 |\n"
   ]
  },
  {
   "cell_type": "markdown",
   "metadata": {},
   "source": [
    "### Memory Addresses\n",
    "\n",
    "Let's go into more detail about how the Python interpreter keeps track of variables in memory. In general, the Python interpreter classifies data structures stored in memory as *objects*. The variables you have been working with are objects, including regardless of their type. The Python interpreter uniquely identifies each object through an *object identifier*. The built-in function `id()` provides access to this identifier, "
   ]
  },
  {
   "cell_type": "code",
   "execution_count": null,
   "metadata": {
    "collapsed": false
   },
   "outputs": [],
   "source": [
    "id(-9)"
   ]
  },
  {
   "cell_type": "code",
   "execution_count": null,
   "metadata": {
    "collapsed": false
   },
   "outputs": [],
   "source": [
    "id(23.1)"
   ]
  },
  {
   "cell_type": "code",
   "execution_count": null,
   "metadata": {
    "collapsed": false
   },
   "outputs": [],
   "source": [
    "shoe_size = 15\n",
    "id(shoe_size)"
   ]
  },
  {
   "cell_type": "code",
   "execution_count": null,
   "metadata": {
    "collapsed": false
   },
   "outputs": [],
   "source": [
    "shoe_size = 10\n",
    "id(shoe_size)"
   ]
  },
  {
   "cell_type": "code",
   "execution_count": null,
   "metadata": {
    "collapsed": false
   },
   "outputs": [],
   "source": [
    "celsius = 25\n",
    "id(celsius)"
   ]
  },
  {
   "cell_type": "markdown",
   "metadata": {},
   "source": [
    "Memory identifiers are necessarily unique, in fact, they are derived from the actual address in memory that the operating system uses,"
   ]
  },
  {
   "cell_type": "code",
   "execution_count": null,
   "metadata": {
    "collapsed": false
   },
   "outputs": [],
   "source": [
    "help(id)"
   ]
  },
  {
   "cell_type": "markdown",
   "metadata": {},
   "source": [
    "Since all objects have unique identifiers, this includes functions,"
   ]
  },
  {
   "cell_type": "code",
   "execution_count": null,
   "metadata": {
    "collapsed": false
   },
   "outputs": [],
   "source": [
    "id(id)"
   ]
  },
  {
   "cell_type": "markdown",
   "metadata": {},
   "source": [
    "*Everything* in Python is an object!\n",
    "\n",
    "The Python interpreter manages memory for you which is one of the benefits of using a high-level programming language. How this is accomplished is quite complex and we will address this complexity incrementally over the duration of the course. One optimization that the interpreter implements is *caching* values. A *cache* is a collection of data that is stored because it is frequently used. Caching is pervasive in computing and the Python interpreter is no exception,"
   ]
  },
  {
   "cell_type": "code",
   "execution_count": null,
   "metadata": {
    "collapsed": false
   },
   "outputs": [],
   "source": [
    "i = 3\n",
    "j = 3\n",
    "k = 4 - 1\n",
    "print(id(i), id(j), id(k))"
   ]
  },
  {
   "cell_type": "markdown",
   "metadata": {},
   "source": [
    "Thus the value `3` is stored in only one place in memory! The interpreter does this for \"small\" integers since they are frequently used. What about caching of larger integers"
   ]
  },
  {
   "cell_type": "code",
   "execution_count": null,
   "metadata": {
    "collapsed": false
   },
   "outputs": [],
   "source": [
    "i = 1000\n",
    "j = 1000\n",
    "k = 1001 - 1\n",
    "print(id(i), id(j), id(k))"
   ]
  },
  {
   "cell_type": "markdown",
   "metadata": {},
   "source": [
    "The interpreter is configured to not cache integer values above a certain threshold. While this might, in some cases, speed up execution there is memory cost depending on the size of the cache. What is important to the programmer is that any caching and other optimizations the interpreter performs do not affect the output of your program!"
   ]
  },
  {
   "cell_type": "markdown",
   "metadata": {},
   "source": [
    "## Practice Exercises"
   ]
  },
  {
   "cell_type": "markdown",
   "metadata": {},
   "source": [
    "### PragProg Section 2.10"
   ]
  },
  {
   "cell_type": "markdown",
   "metadata": {},
   "source": [
    "**1.** For each of the following expressions, what value will the expression give?\n",
    "Verify your answers by typing the expressions into Python.\n",
    "\n",
    "a. 9 - 3\n",
    "\n",
    "b. 8 * 2.5\n",
    "\n",
    "c. 9/2\n",
    "\n",
    "d. 9 / -2\n",
    "\n",
    "e. 9 // -2\n",
    "\n",
    "f. 9%2\n",
    "\n",
    "g. 9.0 % 2\n",
    "\n",
    "h. 9 % 2.0\n",
    "\n",
    "i. 9 % -2\n",
    "\n",
    "j. -9 % 2\n",
    "\n",
    "k. 9 / -2.0\n",
    "l. 4+3*5\n"
   ]
  },
  {
   "cell_type": "markdown",
   "metadata": {},
   "source": [
    "**2.** Unary minus negates a number. Unary plus exists as well; for example,\n",
    "Python understands +5. If x has the value -17, what do you think +x\n",
    "should do? Should it leave the sign of the number alone? Should it act\n",
    "like absolute value, removing any negation? Use the Python shell to find\n",
    "out its behaviour."
   ]
  },
  {
   "cell_type": "markdown",
   "metadata": {},
   "source": [
    "**3.** \n",
    "\n",
    "   a. Create a new variable <i>temp</i> and assign it the value 24.\n",
    "   \n",
    "   b. Convert the value in <i> temp</i> from Celsius to Fahrenheit by multiplying\n",
    "by 1.8 and adding 32; make temp refer to the resulting value. What is\n",
    "temp ’s new value?"
   ]
  },
  {
   "cell_type": "markdown",
   "metadata": {},
   "source": [
    "**4.** For each of the following expressions, in which order are the sub-expressions evaluated?\n",
    "\n",
    "a. 6 \\* 3 + 7 \\* 4\n",
    "\n",
    "b. 5 + 3 / 4\n",
    "\n",
    "c. 5 - 2 \\* 3 \\** 4"
   ]
  },
  {
   "cell_type": "markdown",
   "metadata": {},
   "source": [
    "**5.**   \n",
    "a. Create a new variable `x`, and assign it the value `10.5`."
   ]
  },
  {
   "cell_type": "code",
   "execution_count": null,
   "metadata": {
    "collapsed": false
   },
   "outputs": [],
   "source": []
  },
  {
   "cell_type": "markdown",
   "metadata": {},
   "source": [
    "b. Create a new variable `y`, and assign it the value `4`."
   ]
  },
  {
   "cell_type": "code",
   "execution_count": null,
   "metadata": {
    "collapsed": false
   },
   "outputs": [],
   "source": []
  },
  {
   "cell_type": "markdown",
   "metadata": {},
   "source": [
    "c. Sum `x` and `y`, and make `x` refer to the resulting values."
   ]
  },
  {
   "cell_type": "code",
   "execution_count": null,
   "metadata": {
    "collapsed": false
   },
   "outputs": [],
   "source": []
  },
  {
   "cell_type": "markdown",
   "metadata": {},
   "source": [
    "d. What are `x` and `y`'s values once this statement has been executed?"
   ]
  },
  {
   "cell_type": "code",
   "execution_count": null,
   "metadata": {
    "collapsed": false
   },
   "outputs": [],
   "source": [
    "print x\n",
    "print y"
   ]
  },
  {
   "cell_type": "markdown",
   "metadata": {},
   "source": [
    "**6.** Write a bullet list description of what happens when Python evaluates the statement `x += x - x` when `x` has the value `3`."
   ]
  },
  {
   "cell_type": "markdown",
   "metadata": {},
   "source": [
    "### Additional Questions"
   ]
  },
  {
   "cell_type": "markdown",
   "metadata": {},
   "source": [
    "**1.** Change the following expressions so that they use augmented assignment. They should evaluate to the same result."
   ]
  },
  {
   "cell_type": "code",
   "execution_count": null,
   "metadata": {
    "collapsed": false
   },
   "outputs": [],
   "source": [
    "people = 3\n",
    "people = people + 5"
   ]
  }
 ],
 "metadata": {
  "kernelspec": {
   "display_name": "Python 3",
   "language": "python",
   "name": "python3"
  },
  "language_info": {
   "codemirror_mode": {
    "name": "ipython",
    "version": 3
   },
   "file_extension": ".py",
   "mimetype": "text/x-python",
   "name": "python",
   "nbconvert_exporter": "python",
   "pygments_lexer": "ipython3",
   "version": "3.5.2"
  }
 },
 "nbformat": 4,
 "nbformat_minor": 1
}
