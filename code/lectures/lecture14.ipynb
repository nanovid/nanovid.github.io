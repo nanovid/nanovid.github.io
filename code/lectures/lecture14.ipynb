{
 "cells": [
  {
   "cell_type": "markdown",
   "metadata": {},
   "source": [
    "## Lecture 14\n",
    "\n",
    "The objectives of this lecture are to:\n",
    "\n",
    "1. Learn how design an algorithm from the \"top down\".\n",
    "2. Timing your algorithm.\n"
   ]
  },
  {
   "cell_type": "markdown",
   "metadata": {},
   "source": [
    "# Designing algorithms from the \"top down\"\n",
    "\n",
    "In all of the previous lecture content you were taught the basic syntax and formalisms for programming in Python. In this chapter we will focus putting these concepts together through problem-solving. Typically when one is faced with solving the same or similar problems repeatedly, it is best-practice to develop an *algorithm* for solving these problems.\n",
    "\n",
    "An algorithm is \"a set of steps that are followed in order to solve a mathematical problem or to complete a computer process.\" Note that the definition does not mention anything about programming or a specific programming language. This is because an algorithm in its most general form results directly from a human thought process and is later \"translated\" into a specific programming language. Motivated by this observation, in this chapter we will learn (by example!) a method for developing an algorithm and implementing it in Python (or C, or Julia, or \\<insert programming language\\>) from the \"top down\".\n",
    "\n",
    "\"Top-down\" algorithm development is very intuitive but, ironically, scientists and engineers typically employ a more ad hoc \"code first, think later\" method. The top-down method involves first designing the algorithm in the most natural language for a human, human language. Try to use your first language and completely remove any thoughts of Python syntax or even computer architecture from your mind. The steps or algorithm (!) for my method for top-down algorithm development are as follows:\n",
    "\n",
    "1. Write, in plain language, how you would naturally solve the problem in a series of steps.\n",
    "2. Create a template for your program by inserting these human language steps as a series of code comments.\n",
    "3. Develop a set of particular examples of your problem.\n",
    "4. Sequentially implement each of the human language steps in Python (or whichever programming language your choose), adding sufficient comments when appropriate.\n",
    "5. Test that your code functions as expected using the examples from the previous step and correct it if needed. Try to think of any special cases and implement additional code to handle them, if you original design was incomplete.\n",
    "\n",
    "We will demonstrate this method using a relatively simple example problem, finding the smallest values in a list of numbers.\n",
    "\n",
    "\n",
    "### Searching for the Smallest Values\n",
    "\n",
    "This seemingly simple example adds an additional layer of complexity to our algorithm development method. What should you do if you can think of multiple different algorithms for solving the same problem? We will rigorously answer that in the next section, but for now we will simply use the top-down method for each one.\n",
    "\n",
    "This illustrative problem involves finding the indices of the smallest items in a list or other ordered collection. First we will do this for the simple problem of finding the index of the smallest value. Then we will increase the complexity of the problem and find the indices of the smallest and second smallest value.\n",
    "\n",
    "We will use hypothetical data representing the number of humpback whales sighted off the coast of British Columbia over the past ten years:\n",
    "\n",
    "809    834    477    478    307    122    96    102    324    476\n",
    "\n",
    "order from oldest to most recent. The first problem is a bit too simple for an actual full-blown top-down design process, but is a good warm up to the types of existing Python functionality we can employ to solve the problem, "
   ]
  },
  {
   "cell_type": "code",
   "execution_count": null,
   "metadata": {
    "collapsed": false
   },
   "outputs": [],
   "source": [
    "counts = [809, 834, 477, 478, 307, 122, 96, 102, 324, 476]\n",
    "\n",
    "# the built-in function `min()` provides the minimum value of a list\n",
    "min_item = min(counts)\n",
    "\n",
    "# the list method `list.index()` returns the index of the item value passed to it\n",
    "min_index = counts.index(min_item)\n",
    "print(min_index)"
   ]
  },
  {
   "cell_type": "markdown",
   "metadata": {},
   "source": [
    "That was simple enough, but what if our problem is instead to find the *two* smallest values. There is no built-in Python functionality for this, thus we need to resort to developing our own function/code. After some thought, step 1 from above might result in you developing three plain language solutions to the problem:\n",
    "\n",
    "* *Find, remove, find*. Find the index of the minimum, remove that item from the list, and find the index of the new minimum item in the list. After we have the second index, we need to put back the value we removed and, if necessary, adjust the second index to account for that reinsertion.\n",
    "* *Sort, identify minimums, get indices*. Sort the list, get the two smallest numbers, and then find their indices in the original list.\n",
    "* *Walk through the list*. Examine each value in the list in order, keep track of the two smallest values found so far, and update these values when a new smaller value is found.\n",
    "\n",
    "Some of you might have some concerns about the first and second algorithms. They require either mutating the list or making a copy of it. The third does not involve making any changes to the list and is sometimes called an *in-place* algorithm. It is typically not best-practice to develop algorithms that mutate input data, unless that is part of the problem statement. There are ways around it that are feasible for small input data, like making a copy of the list, but what happens when the list is large?\n",
    "\n",
    "Algorithm performance, including *computational complexity* and *memory allocation* are not introductory topics for algorithm development. Nonetheless, they are within the scope of knowledge that scientists and engineers should have and so we will spend a little bit of time on this in the next chapter. For now let's focus on our top-down method.\n",
    "\n",
    "\n",
    "### Find, remove, find\n",
    "\n",
    "Now that we have completed the first step, we will go through the rest of the steps for each algorithm. Starting with the *find, remove, find* algorithm, the Python code template looks like this,"
   ]
  },
  {
   "cell_type": "code",
   "execution_count": null,
   "metadata": {
    "collapsed": false
   },
   "outputs": [],
   "source": [
    "def find_two_smallest(L):\n",
    "    \"\"\" (list of float) -> tuple of (int, int)\n",
    "    \n",
    "    Return a tuple of the indices of the two smallest values in list L.\n",
    "    \n",
    "    >>> find_two_smallest([809, 834, 477, 478, 307, 122, 96, 102, 324, 476])\n",
    "    (6, 7)\n",
    "    \"\"\"\n",
    "    \n",
    "    # find the index of the minimum item in L\n",
    "    # remove that item from the list\n",
    "    # find the index of the new minimum item in the list\n",
    "    # put the smallest item back in the list\n",
    "    # if necessary, adjust the second index"
   ]
  },
  {
   "cell_type": "markdown",
   "metadata": {},
   "source": [
    "Most algorithm implementations will result in a function, so I took the time to create the `docstring` including the type contract, description, and a single example of usage. Next I simply added my human language description of the algorithm to the code as a sequence of comments.\n",
    "\n",
    "We would like each of the comments to correspond to a single Python statement or simple block of code. From our original example we know that the first step is not directly implemented in Python, so we can replace it with human language steps that are,"
   ]
  },
  {
   "cell_type": "code",
   "execution_count": null,
   "metadata": {
    "collapsed": false
   },
   "outputs": [],
   "source": [
    "def find_two_smallest(L):\n",
    "    \"\"\" (list of float) -> tuple of (int, int)\n",
    "    \n",
    "    Return a tuple of the indices of the two smallest values in list L.\n",
    "    \n",
    "    >>> find_two_smallest([809, 834, 477, 478, 307, 122, 96, 102, 324, 476])\n",
    "    (6, 7)\n",
    "    \"\"\"\n",
    "    \n",
    "    # get the minimum item in L           ********\n",
    "    # find the index of that minimum item ********\n",
    "    # remove that item from the list\n",
    "    # find the index of the new minimum item in the list\n",
    "    # put the smallest item back in the list\n",
    "    # if necessary, adjust the second index"
   ]
  },
  {
   "cell_type": "markdown",
   "metadata": {},
   "source": [
    "Now that we have thoroughly documented the algorithm, we can move on to step 3 and start writing code. The short example at the beginning of the lecture implements the first two parts of the algorithm and `list.remove()` handles the third. Now that the code is implemented for these three steps, we can condense them into a descriptive comment for what the code block does. Then we repeat this for the fourth and fifth step, but those following it are not detailed enough for an implementation in Python, yet. "
   ]
  },
  {
   "cell_type": "code",
   "execution_count": null,
   "metadata": {
    "collapsed": false
   },
   "outputs": [],
   "source": [
    "def find_two_smallest(L):\n",
    "    \"\"\" (list of float) -> tuple of (int, int)\n",
    "    \n",
    "    Return a tuple of the indices of the two smallest values in list L.\n",
    "\n",
    "    >>> find_two_smallest([809, 834, 477, 478, 307, 122, 96, 102, 324, 476])\n",
    "    (6, 7)\n",
    "    \"\"\"\n",
    "    \n",
    "    # Find the index of the minimum and remove that item.\n",
    "    smallest = min(L)\n",
    "    min1 = L.index(smallest)\n",
    "    L.remove(smallest)\n",
    "    \n",
    "    # Find the index of the new minimum.\n",
    "    next_smallest = min(L)\n",
    "    min2 = L.index(next_smallest)\n",
    "    \n",
    "    # put the smallest item back in the list\n",
    "    # if necessary, adjust the second index\n",
    "    # return the two indices"
   ]
  },
  {
   "cell_type": "markdown",
   "metadata": {},
   "source": [
    "There are two complications that we need to understand for the last three steps to be implemented:\n",
    "\n",
    "1. `min2` is the index of the second smallest number in the *mutated* list, not the original one.\n",
    "2. The list was mutated, `smallest` was removed, and it needs to be restored to its original state.\n",
    "\n",
    "After some though, point \\#1 can be implemented once we realize the after removing an item from the original list, all indices in the mutated list greater or equal to the original items index must be incremented by one. Point \\#2 is more simple to handle, we must insert `smallest` into its original index within the list, using `list.insert()` will achieve this.\n",
    "\n",
    "Before we write Python code, we should first expand our human language algorithm steps to include more detail,"
   ]
  },
  {
   "cell_type": "code",
   "execution_count": null,
   "metadata": {
    "collapsed": false
   },
   "outputs": [],
   "source": [
    "def find_two_smallest(L):\n",
    "    \"\"\" (list of float) -> tuple of (int, int)\n",
    "    \n",
    "    Return a tuple of the indices of the two smallest values in list L.\n",
    "\n",
    "    >>> find_two_smallest([809, 834, 477, 478, 307, 122, 96, 102, 324, 476])\n",
    "    (6, 7)\n",
    "    \"\"\"\n",
    "    \n",
    "    # Find the index of the minimum and remove that item.\n",
    "    smallest = min(L)\n",
    "    min1 = L.index(smallest)\n",
    "    L.remove(smallest)\n",
    "    \n",
    "    # Find the index of the new minimum.\n",
    "    next_smallest = min(L)\n",
    "    min2 = L.index(next_smallest)\n",
    "    \n",
    "    # put smallest back into L\n",
    "    # Fix min2 in case it was affected by the re-insertion:\n",
    "    # if min1 comes before min2, add 1 to min2\n",
    "    # return the two indices"
   ]
  },
  {
   "cell_type": "markdown",
   "metadata": {},
   "source": [
    "Finally, we can complete the Python \"translation\" of the human language algorithm using `list.insert()` and an `if` statement,"
   ]
  },
  {
   "cell_type": "code",
   "execution_count": null,
   "metadata": {
    "collapsed": false
   },
   "outputs": [],
   "source": [
    "def find_two_smallest(L):\n",
    "    \"\"\" (list of float) -> tuple of (int, int)\n",
    "    \n",
    "    Return a tuple of the indices of the two smallest values in list L.\n",
    "\n",
    "    >>> find_two_smallest([809, 834, 477, 478, 307, 122, 96, 102, 324, 476])\n",
    "    (6, 7)\n",
    "    \"\"\"\n",
    "    \n",
    "    # Find the index of the minimum and remove that item.\n",
    "    smallest = min(L)\n",
    "    min1 = L.index(smallest)\n",
    "    L.remove(smallest)\n",
    "    \n",
    "    # Find the index of the new minimum.\n",
    "    next_smallest = min(L)\n",
    "    min2 = L.index(next_smallest)\n",
    "\n",
    "    # Put smallest back into L.\n",
    "    L.insert(min1, smallest)\n",
    "    \n",
    "    # Fix min2 in case it was affected by the re-insertion.\n",
    "    if min1 <= min2:\n",
    "        min2 += 1\n",
    "        \n",
    "    return(min1, min2)"
   ]
  },
  {
   "cell_type": "markdown",
   "metadata": {},
   "source": [
    "Now that we have one of the three possible algorithms, let's get more practice implementing the other two.\n",
    "\n",
    "\n",
    "### Sort, Identify Minimums, Get Indices\n",
    "\n",
    "Starting with the step 2, the Python template for the second algorithm,"
   ]
  },
  {
   "cell_type": "code",
   "execution_count": null,
   "metadata": {
    "collapsed": false
   },
   "outputs": [],
   "source": [
    "def find_two_smallest(L):\n",
    "    \"\"\" (list of float) -> tuple of (int, int)\n",
    "    \n",
    "    Return a tuple of the indices of the two smallest values in list L.\n",
    "    \n",
    "    >>> find_two_smallest([809, 834, 477, 478, 307, 122, 96, 102, 324, 476])\n",
    "    (6, 7)\n",
    "    \"\"\"\n",
    "    \n",
    "    # sort a copy of L\n",
    "    # get the two smallest numbers\n",
    "    # find their indices in the original list L\n",
    "    # return the two indices"
   ]
  },
  {
   "cell_type": "markdown",
   "metadata": {},
   "source": [
    "This algorithm will be more simple to develop in that we can use the built-in `list.sort()` function to do most of the work. Note that we will sort a *copy* of the list as to not mutate it. The `list.sort()` method mutates the `list` object associated with it, so after some research we find the built-in function `sorted()` does what we want and makes a copy."
   ]
  },
  {
   "cell_type": "code",
   "execution_count": null,
   "metadata": {
    "collapsed": false
   },
   "outputs": [],
   "source": [
    "def find_two_smallest(L):\n",
    "    \"\"\" (list of float) -> tuple of (int, int)\n",
    "    \n",
    "    Return a tuple of the indices of the two smallest values in list L.\n",
    "    \n",
    "    >>> find_two_smallest([809, 834, 477, 478, 307, 122, 96, 102, 324, 476])\n",
    "    (6, 7)\n",
    "    \"\"\"\n",
    "    \n",
    "    # sort a copy of L and get the two smallest numbers\n",
    "    temp_list = sorted(L)\n",
    "    smallest = temp_list[0]\n",
    "    next_smallest = temp_list[1]\n",
    "    \n",
    "    # find their indices in the original list L\n",
    "    # return the two indices "
   ]
  },
  {
   "cell_type": "markdown",
   "metadata": {},
   "source": [
    "After using `sorted()` and finalizing the comments for the first code block, we can implement the second as in the previous example,"
   ]
  },
  {
   "cell_type": "code",
   "execution_count": null,
   "metadata": {
    "collapsed": false
   },
   "outputs": [],
   "source": [
    "def find_two_smallest(L):\n",
    "    \"\"\" (list of float) -> tuple of (int, int)\n",
    "    \n",
    "    Return a tuple of the indices of the two smallest values in list L.\n",
    "    \n",
    "    >>> find_two_smallest([809, 834, 477, 478, 307, 122, 96, 102, 324, 476])\n",
    "    (6, 7)\n",
    "    \"\"\"\n",
    "    \n",
    "    # sort a copy of L and  get the two smallest numbers\n",
    "    temp_list = sorted(L)\n",
    "    smallest = temp_list[0]\n",
    "    next_smallest = temp_list[1]\n",
    "    \n",
    "    # find their indices in the original list L\n",
    "    min1 = L.index(smallest)\n",
    "    min2 = L.index(next_smallest)\n",
    "    \n",
    "    return(min1, min2)"
   ]
  },
  {
   "cell_type": "markdown",
   "metadata": {},
   "source": [
    "### Walk through the list\n",
    "\n",
    "Since this is the third time, we can run through this example very quickly. Applying point \\#2,"
   ]
  },
  {
   "cell_type": "code",
   "execution_count": null,
   "metadata": {
    "collapsed": false
   },
   "outputs": [],
   "source": [
    "def find_two_smallest(L):\n",
    "    \"\"\" (list of float) -> tuple of (int, int)\n",
    "\n",
    "    Return a tuple of the indices of the two smallest values in list L.\n",
    "    \n",
    "    >>> find_two_smallest([809, 834, 477, 478, 307, 122, 96, 102, 324, 476])\n",
    "    (6, 7)\n",
    "    \"\"\"\n",
    "\n",
    "    # examine each value in the list in order\n",
    "    # keep track of the indices of the two smallest values found so far\n",
    "    # update these values when a new smaller value is found\n",
    "    # return the two indices"
   ]
  },
  {
   "cell_type": "markdown",
   "metadata": {},
   "source": [
    "After thinking about the human language steps more, it makes sense to switch the first and second steps. The second step summarized the whole algorithm, the first step explains a method for implementing the second. As we follow our design procedure, thinking critically about our design is very important. The design can evolve as you spend more time focusing on the problem solution.\n",
    "\n",
    "The second thing we notice is that the third step is part of the loop described by the first line, so we can indent it in the next version of the code to keep track of this,"
   ]
  },
  {
   "cell_type": "code",
   "execution_count": null,
   "metadata": {
    "collapsed": false
   },
   "outputs": [],
   "source": [
    "def find_two_smallest(L):\n",
    "    \"\"\" (list of float) -> tuple of (int, int)\n",
    "\n",
    "    Return a tuple of the indices of the two smallest values in list L.\n",
    "    \n",
    "    >>> find_two_smallest([809, 834, 477, 478, 307, 122, 96, 102, 324, 476])\n",
    "    (6, 7)\n",
    "    \"\"\"\n",
    "\n",
    "    # keep track of the indices of the two smallest values found so far\n",
    "    # examine each value in the list in order\n",
    "    #     update these values when a new smaller value is found\n",
    "    # return the two indices"
   ]
  },
  {
   "cell_type": "markdown",
   "metadata": {},
   "source": [
    "Now that we have determined that a loop is involved, we know that we need to initialize an variables in the loop, determine the loop type/condition, and develop a loop body. Let's make one more refinement to the human language description before we code. If we are looping from low to high index, initializing `min1` and `min2` using the first two items in the list is required,"
   ]
  },
  {
   "cell_type": "code",
   "execution_count": null,
   "metadata": {
    "collapsed": false
   },
   "outputs": [],
   "source": [
    "def find_two_smallest(L):\n",
    "    \"\"\" (list of float) -> tuple of (int, int)\n",
    "\n",
    "    Return a tuple of the indices of the two smallest values in list L.\n",
    "    \n",
    "    >>> find_two_smallest([809, 834, 477, 478, 307, 122, 96, 102, 324, 476])\n",
    "    (6, 7)\n",
    "    \"\"\"\n",
    "    \n",
    "    # set min1 and min2 to the indices of the smallest and next-smallest\n",
    "    # values at the beginning of L.\n",
    "\n",
    "    # examine each value in the list in order\n",
    "    #     update these values when a new smaller value is found\n",
    "    # return the two indices"
   ]
  },
  {
   "cell_type": "markdown",
   "metadata": {},
   "source": [
    "Now we can finally start to translate into Python code and refine our comments,"
   ]
  },
  {
   "cell_type": "code",
   "execution_count": null,
   "metadata": {
    "collapsed": false
   },
   "outputs": [],
   "source": [
    "def find_two_smallest(L):\n",
    "    \"\"\" (list of float) -> tuple of (int, int)\n",
    "\n",
    "    Return a tuple of the indices of the two smallest values in list L.\n",
    "    \n",
    "    >>> find_two_smallest([809, 834, 477, 478, 307, 122, 96, 102, 324, 476])\n",
    "    (6, 7)\n",
    "    \"\"\"\n",
    "    \n",
    "    # set min1 and min2 to the indices of the smallest and next-smallest\n",
    "    # values at the beginning of L\n",
    "    if L[0] < L[1]:\n",
    "        (min1, min2) = (0, 1)\n",
    "    else:\n",
    "        (min1, min2) = (1, 0)\n",
    "    \n",
    "    # examine each value in the list in order\n",
    "    #     update these values when a new smaller value is found\n",
    "    # return the two indices"
   ]
  },
  {
   "cell_type": "markdown",
   "metadata": {},
   "source": [
    "For the second block of code we need determine which kind of loop to use. The `for` loop is the obvious choice because we know the length of the list. For the code block we need more information, what possible cases exist for `L[i]` as we iterate through the loop?\n",
    "\n",
    "1. `L[i] < L[min1]` -- in this case `min2 = min1` and `min1 = i`.\n",
    "2. `L[min1] < L[i] < L[min2]` -- in this case `min2 = i`.\n",
    "3. `L[min2] < L[i]` -- do nothing!.\n",
    "\n",
    "We can now implement the `for` loop,"
   ]
  },
  {
   "cell_type": "code",
   "execution_count": null,
   "metadata": {
    "collapsed": false
   },
   "outputs": [],
   "source": [
    "def find_two_smallest(L):\n",
    "    \"\"\" (list of float) -> tuple of (int, int)\n",
    "\n",
    "    Return a tuple of the indices of the two smallest values in list L.\n",
    "    \n",
    "    >>> find_two_smallest([809, 834, 477, 478, 307, 122, 96, 102, 324, 476])\n",
    "    (6, 7)\n",
    "    \"\"\"\n",
    "    \n",
    "    # set min1 and min2 to the indices of the smallest and next-smallest\n",
    "    # values at the beginning of L\n",
    "    if L[0] < L[1]:\n",
    "        (min1, min2) = (0, 1)\n",
    "    else:\n",
    "        (min1, min2) = (1, 0)\n",
    "    \n",
    "    # examine each value in the list in order\n",
    "    for i in range(2, len(L)):\n",
    "        # L[i] is smaller than both min1 and min2, in between, or\n",
    "        # larger than both.\n",
    "        \n",
    "        # New smallest?\n",
    "        if L[i] < L[min1]:\n",
    "            min2 = min1\n",
    "            min1 = i\n",
    "        \n",
    "        # New second smallest?\n",
    "        elif L[i] < L[min2]:\n",
    "            min2 = i\n",
    "\n",
    "    return (min1, min2)"
   ]
  },
  {
   "cell_type": "markdown",
   "metadata": {},
   "source": [
    "We have now gone through three examples of top-down algorithm design applied to the solution of a problem. Now the challenge is to decide which one to provide to the user. A good metric to use to make this decision is time that each algorithm requires to solve the problem. The faster the better! This is within reason, if the implementation is extremely challenging to gain only increment speed-up using a slower but more simple algorithm is justified.\n",
    "\n",
    "\n",
    "# Timing your algorithm"
   ]
  },
  {
   "cell_type": "markdown",
   "metadata": {},
   "source": [
    "As was mentioned earlier in the lecture, algorithm performance includes two main considerations:\n",
    "\n",
    "* *computational complexity* -- roughly, how much time does it take for the algorithm to solve the problem?\n",
    "* *memory allocation* -- how much memory is required for the algorithm to solve the problem?\n",
    "\n",
    "These two attributes of an algorithm are very important for scientists and engineers to take into consideration. We use large datasets and perform complex algorithms on them to solve our problems. In this section we will learn the most basic way to quantify the *computational complexity* of our three algorithms for solving the same problem. This activity is called *profiling* when it is applied to complex programs with many functions/algorithms implemented. Python provides very powerful [built-in *profiling* functionality](https://docs.python.org/3/library/profile.html), but for simple programs we can use basic functionality in the `time` module.\n"
   ]
  },
  {
   "cell_type": "markdown",
   "metadata": {},
   "source": [
    "The method we will use to profile our code involves simply checking the time before and after the function is executed and computing the difference,\n",
    "\n",
    "```python\n",
    "import time\n",
    "\n",
    "t1 = time.perf_counter()\n",
    "\n",
    "# Code to time goes here.\n",
    "\n",
    "t2 = time.perf_counter()\n",
    "\n",
    "# the output is in seconds, convert to milliseconds\n",
    "print('The code took {:.2f}ms'.format((t2 - t1) * 1000.))\n",
    "```\n",
    "\n",
    "To simply our task, we will use concepts that we have learned about collections and looping to evaluate the timing of each of the three functions. Instead of repeating the same code three times, we will write a timing function that accepts and function and list as input arguments,"
   ]
  },
  {
   "cell_type": "code",
   "execution_count": null,
   "metadata": {
    "collapsed": false
   },
   "outputs": [],
   "source": [
    "import time\n",
    "\n",
    "def time_two_smallest(find_func, lst):\n",
    "    \"\"\" (function, list) -> float\n",
    "    \n",
    "    Return how many seconds find_func(lst) took to execute.\n",
    "    \"\"\"\n",
    "    \n",
    "    t1 = time.perf_counter()\n",
    "    find_func(lst)\n",
    "    t2 = time.perf_counter()\n",
    "    \n",
    "    return (t2 - t1) * 1000."
   ]
  },
  {
   "cell_type": "markdown",
   "metadata": {},
   "source": [
    "Now we will redeclare the three functions with distinct function names,"
   ]
  },
  {
   "cell_type": "code",
   "execution_count": null,
   "metadata": {
    "collapsed": false
   },
   "outputs": [],
   "source": [
    "def find_two_smallest_remove(L):\n",
    "    \"\"\" (list of float) -> tuple of (int, int)\n",
    "    \n",
    "    Return a tuple of the indices of the two smallest values in list L.\n",
    "\n",
    "    >>> find_two_smallest([809, 834, 477, 478, 307, 122, 96, 102, 324, 476])\n",
    "    (6, 7)\n",
    "    \"\"\"\n",
    "    \n",
    "    # Find the index of the minimum and remove that item.\n",
    "    smallest = min(L)\n",
    "    min1 = L.index(smallest)\n",
    "    L.remove(smallest)\n",
    "    \n",
    "    # Find the index of the new minimum.\n",
    "    next_smallest = min(L)\n",
    "    min2 = L.index(next_smallest)\n",
    "\n",
    "    # Put smallest back into L.\n",
    "    L.insert(min1, smallest)\n",
    "    # Fix min2 in case it was affected by the re-insertion.\n",
    "    if min1 <= min2:\n",
    "        min2 += 1\n",
    "        \n",
    "    return (min1, min2)\n",
    "\n",
    "def find_two_smallest_sort(L):\n",
    "    \"\"\" (list of float) -> tuple of (int, int)\n",
    "    \n",
    "    Return a tuple of the indices of the two smallest values in list L.\n",
    "    \n",
    "    >>> find_two_smallest([809, 834, 477, 478, 307, 122, 96, 102, 324, 476])\n",
    "    (6, 7)\n",
    "    \"\"\"\n",
    "    \n",
    "    # sort a copy of L and  get the two smallest numbers\n",
    "    temp_list = sorted(L)\n",
    "    smallest = temp_list[0]\n",
    "    next_smallest = temp_list[1]\n",
    "    \n",
    "    # find their indices in the original list L\n",
    "    min1 = L.index(smallest)\n",
    "    min2 = L.index(next_smallest)\n",
    "    \n",
    "    return (min1, min2)\n",
    "\n",
    "def find_two_smallest_walk(L):\n",
    "    \"\"\" (list of float) -> tuple of (int, int)\n",
    "\n",
    "    Return a tuple of the indices of the two smallest values in list L.\n",
    "    \n",
    "    >>> find_two_smallest([809, 834, 477, 478, 307, 122, 96, 102, 324, 476])\n",
    "    (6, 7)\n",
    "    \"\"\"\n",
    "    \n",
    "    # set min1 and min2 to the indices of the smallest and next-smallest\n",
    "    # values at the beginning of L\n",
    "    if L[0] < L[1]:\n",
    "        (min1, min2) = (0, 1)\n",
    "    else:\n",
    "        (min1, min2) = (1, 0)\n",
    "    \n",
    "    # examine each value in the list in order\n",
    "    for i in range(2, len(L)):\n",
    "        # L[i] is smaller than both min1 and min2, in between, or\n",
    "        # larger than both.\n",
    "        \n",
    "        # New smallest?\n",
    "        if L[i] < L[min1]:\n",
    "            min2 = min1\n",
    "            min1 = i\n",
    "        \n",
    "        # New second smallest?\n",
    "        elif L[i] < L[min2]:\n",
    "            min2 = i\n",
    "\n",
    "    return (min1, min2)"
   ]
  },
  {
   "cell_type": "markdown",
   "metadata": {},
   "source": [
    "Now we can create a list of the functions and iterate over each item in the list to automate the timing activity. To make this interesting, let's create a \"large\" set of data using concepts from the next lecture,"
   ]
  },
  {
   "cell_type": "code",
   "execution_count": null,
   "metadata": {
    "collapsed": false
   },
   "outputs": [],
   "source": [
    "# this code will make perfect sense after you have completed lecture 15!\n",
    "from numpy import random\n",
    "\n",
    "data = random.random(100000)*100\n",
    "data_list = list(data.round())"
   ]
  },
  {
   "cell_type": "markdown",
   "metadata": {},
   "source": [
    "Now that we have the data, the timing code involves creating another list and a loop,"
   ]
  },
  {
   "cell_type": "code",
   "execution_count": null,
   "metadata": {
    "collapsed": false
   },
   "outputs": [],
   "source": [
    "func_list = [find_two_smallest_remove, find_two_smallest_sort, find_two_smallest_walk]\n",
    "\n",
    "for func in func_list:\n",
    "    print(func.__name__+ \"()\", \"took\", time_two_smallest(func, data_list), \"ms to run.\")"
   ]
  },
  {
   "cell_type": "markdown",
   "metadata": {},
   "source": [
    "The differences in algorithm timing are small for even a \"large\" dataset, but they are significant nonetheless. Even for this simple code, the reason for the differences in execution time are not apparent. We could base our decision on the raw output and select the first algorithm as the best one, but the reason for this is very subtle (and not an introductory concept!)."
   ]
  },
  {
   "cell_type": "markdown",
   "metadata": {},
   "source": [
    "# Exercises\n"
   ]
  },
  {
   "cell_type": "markdown",
   "metadata": {},
   "source": [
    "**1.** A DNA sequence is a string made up of the letters A, T, G, and C. To find\n",
    "the complement of a DNA sequence, As are replaced by Ts, Ts by As, Gs\n",
    "by Cs, and Cs by Gs. For example, the complement of AATTGCCGT is\n",
    "TTAACGGCA.\n",
    "\n",
    "a. Write an outline in English of the algorithm you would use to find the\n",
    "complement.\n",
    "\n",
    "b. Review your algorithm. Will any characters be changed to their com-\n",
    "plement and then changed back to their original value? If so, rewrite\n",
    "your outline. Hint: Convert one character at a time, rather than all of\n",
    "the As, Ts, Gs, or Cs at once.\n",
    "\n",
    "c. Using the algorithm that you have developed, write a function named\n",
    "<i>complement</i> that takes a DNA sequence (a str ) and returns the comple-\n",
    "ment of it."
   ]
  },
  {
   "cell_type": "code",
   "execution_count": null,
   "metadata": {
    "collapsed": false
   },
   "outputs": [],
   "source": []
  },
  {
   "cell_type": "markdown",
   "metadata": {},
   "source": [
    "**2.** a. Write a loop (including initialization) to find both the minimum value\n",
    "in a list and that value’s index in one pass through the list."
   ]
  },
  {
   "cell_type": "code",
   "execution_count": null,
   "metadata": {
    "collapsed": false
   },
   "outputs": [],
   "source": []
  },
  {
   "cell_type": "markdown",
   "metadata": {},
   "source": [
    "b. Write a function named min_index that takes one parameter (a list ) and\n",
    "returns a tuple containing the minimum value in the list and that\n",
    "value’s index in the list."
   ]
  },
  {
   "cell_type": "code",
   "execution_count": null,
   "metadata": {
    "collapsed": false
   },
   "outputs": [],
   "source": []
  },
  {
   "cell_type": "markdown",
   "metadata": {},
   "source": [
    "c. You might also want to find the maximum value and its index. Write\n",
    "a function named min_or_max_index that has two parameters: a list and\n",
    "a bool . If the Boolean parameter refers to True , the function returns a\n",
    "tuple containing the minimum and its index; and if it refers to False ,\n",
    "it returns a tuple containing the maximum and its index."
   ]
  },
  {
   "cell_type": "code",
   "execution_count": null,
   "metadata": {
    "collapsed": false
   },
   "outputs": [],
   "source": []
  },
  {
   "cell_type": "markdown",
   "metadata": {},
   "source": [
    "**3.** Write a set of doctests for the find-two-smallest functions. Think about\n",
    "what kinds of data are interesting, long lists or short lists, and what order\n",
    "the items are in. Here is one list to test with: [1, 2] . What other interesting\n",
    "ones are there?"
   ]
  },
  {
   "cell_type": "code",
   "execution_count": null,
   "metadata": {
    "collapsed": false
   },
   "outputs": [],
   "source": []
  },
  {
   "cell_type": "markdown",
   "metadata": {},
   "source": [
    "**4.** What happens if the functions to find the two smallest values in a list are\n",
    "passed a list of length one? What should happen, and why? How about\n",
    "length zero? Modify one of the docstrings to describe what happens."
   ]
  },
  {
   "cell_type": "code",
   "execution_count": null,
   "metadata": {
    "collapsed": false
   },
   "outputs": [],
   "source": []
  },
  {
   "cell_type": "markdown",
   "metadata": {},
   "source": [
    "**5.** This one is a fun challenge.\n",
    "Edsgar Dijkstra is known for his work on programming languages. He\n",
    "came up with a neat problem that he called the Dutch National Flag\n",
    "problem: given a list of strings, each of which is either 'red' , 'green' , or 'blue'\n",
    "(each is repeated several times in the list), rearrange the list so that the\n",
    "strings are in the order of the Dutch national flag—all the 'red' strings\n",
    "first, then all the 'green' strings, then all the 'blue' strings.\n",
    "Write a function called dutch_flag that takes a list and solves this problem."
   ]
  },
  {
   "cell_type": "code",
   "execution_count": null,
   "metadata": {
    "collapsed": false
   },
   "outputs": [],
   "source": []
  }
 ],
 "metadata": {
  "kernelspec": {
   "display_name": "Python 3",
   "language": "python",
   "name": "python3"
  },
  "language_info": {
   "codemirror_mode": {
    "name": "ipython",
    "version": 3
   },
   "file_extension": ".py",
   "mimetype": "text/x-python",
   "name": "python",
   "nbconvert_exporter": "python",
   "pygments_lexer": "ipython3",
   "version": "3.5.2"
  }
 },
 "nbformat": 4,
 "nbformat_minor": 1
}
