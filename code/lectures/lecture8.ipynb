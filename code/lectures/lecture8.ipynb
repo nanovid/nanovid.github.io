{
 "cells": [
  {
   "cell_type": "markdown",
   "metadata": {},
   "source": [
    "## Lecture 8\n",
    "\n",
    "The objectives of this lecture are to:\n",
    "\n",
    "1. Logic in Python -- the `bool` type and operators.\n",
    "2. Comparing values using relational operators.\n",
    "3. Execute code based on a set of conditions using `if`/`else` statements."
   ]
  },
  {
   "cell_type": "markdown",
   "metadata": {},
   "source": [
    "### Logic and controlling the flow of your program\n",
    "\n",
    "Python provides logic functionality using a subset of *Boolean algebra*. Logic expressions are extremely useful for making decisions in that there are only two values *true* and *false* which characterize the state of a condition or decision. Furthermore, Python uses this logic functionality for program *control flow* which enables a program to execute different sets of statements depending on the state of a set of conditions.\n",
    "\n",
    "The `bool` type is the basis for logic in Python and has only two values: `True` and `False`,"
   ]
  },
  {
   "cell_type": "code",
   "execution_count": null,
   "metadata": {
    "collapsed": false
   },
   "outputs": [],
   "source": [
    "print(type(True), type(False))"
   ]
  },
  {
   "cell_type": "markdown",
   "metadata": {},
   "source": [
    "There are three basic operators for the `bool` type: `and`, `or`, and `not`. Their operations should be clear given your pre-existing understanding of logic, but let's illustrate via examples,"
   ]
  },
  {
   "cell_type": "code",
   "execution_count": null,
   "metadata": {
    "collapsed": false
   },
   "outputs": [],
   "source": [
    "# `not` is a unary operator\n",
    "bool1 = not True\n",
    "bool2 = not bool1\n",
    "\n",
    "print(bool1, bool2, sep=\", \")"
   ]
  },
  {
   "cell_type": "markdown",
   "metadata": {},
   "source": [
    "The `not` operator is useful when a decision is true only when another is false.\n",
    "\n",
    "The `and` operator is a binary operator which results evaluates whether or not a pair of `bool` values are either both `True` or not,"
   ]
  },
  {
   "cell_type": "code",
   "execution_count": null,
   "metadata": {
    "collapsed": false
   },
   "outputs": [],
   "source": [
    "print(\"True and True =\", True and True)\n",
    "print(\"True and False =\", True and False)\n",
    "print(\"False and True =\", False and True)\n",
    "print(\"False and False =\", False and False)"
   ]
  },
  {
   "cell_type": "markdown",
   "metadata": {},
   "source": [
    "Finally, the `or` operator is a binary operator which evaluates whether or one or both of a pair of values are `True` or not,"
   ]
  },
  {
   "cell_type": "code",
   "execution_count": null,
   "metadata": {
    "collapsed": false
   },
   "outputs": [],
   "source": [
    "print(\"True or True =\", True or True)\n",
    "print(\"True or False =\", True or False)\n",
    "print(\"False or True =\", False or True)\n",
    "print(\"False or False =\", False or False)"
   ]
  },
  {
   "cell_type": "markdown",
   "metadata": {},
   "source": [
    "There are actually two types of \"or\" operators in logic: *inclusive* and *exclusive*. The inclusive version is what Python implements and is `True` for the case when both values are `True`, while the exclusive is `False` in this case. Python does provide an operator with exclusive or-like functionality, which we will see later.\n",
    "\n",
    "Just like with numerical values, we may form expressions using `bool` values and operators. To illustrate this, let's create a Python statement which evaluates the statement \"It is not cold and windy\" where the states *cold* and *windy* are assumed to be boolean,"
   ]
  },
  {
   "cell_type": "code",
   "execution_count": null,
   "metadata": {
    "collapsed": false
   },
   "outputs": [],
   "source": [
    "cold = True\n",
    "windy = False\n",
    "\n",
    "not (cold and windy)"
   ]
  },
  {
   "cell_type": "markdown",
   "metadata": {},
   "source": [
    "Unlike numerical expressions, logical expressions frequently have a finite (and small) number of possible outcomes. We frequently use *truth tables* to quantify all possible outcomes of a logical statement with respect to all possible values of the boolean variables in the statement,\n",
    "\n",
    "\n",
    "\n",
    "<table>\n",
    "\n",
    "    <tr>\n",
    "        <td> <b>cold</b></td>\n",
    "        <td> <b>windy</b></td>\n",
    "        <td> <b>cold and windy</b></td>\n",
    "        <td> <b>cold or windy</b></td>\n",
    "        <td> <b>(not cold) and windy</b></td>\n",
    "        <td><b>not (cold and windy)</b></td>\n",
    "    </tr>\n",
    "    <tr>\n",
    "        <td><b> True</b></td>\n",
    "        <td><b> True</b></td>\n",
    "        <td> True</td>\n",
    "        <td> True</td>\n",
    "        <td> False</td>\n",
    "        <td> False</td>\n",
    "    </tr>\n",
    "    <tr>\n",
    "        <td><b>True</b></td>\n",
    "        <td><b>False</b></td>\n",
    "        <td> False</td>\n",
    "        <td>True</td>\n",
    "        <td>False</td>\n",
    "        <td> True</td>\n",
    "    </tr>\n",
    "    <tr>\n",
    "        <td><b>False</b></td>\n",
    "        <td><b>True</b></td>\n",
    "        <td> False</td>\n",
    "        <td>True</td>\n",
    "        <td>True</td>\n",
    "        <td>True</td>\n",
    "     </tr>\n",
    "     <tr>\n",
    "         <td><b>False</b></td>\n",
    "         <td><b>False</b></td>\n",
    "         <td>False</td>\n",
    "         <td>False</td>\n",
    "         <td>False</td>\n",
    "         <td>True</td>\n",
    "    </tr>\n",
    "      \n",
    "</table>"
   ]
  },
  {
   "cell_type": "markdown",
   "metadata": {},
   "source": [
    "# Comparing values using relational operators\n",
    "\n",
    "Before we learn how to control the flow of our programs, we need one more important concept in programming -- relational operators. These operators allow the comparison of the values of many Python objects, including numerical ones, and evaluate to boolean values (True or False!) depending on the relationship that actually exists. This sounds complicated, but your knowledge of algebra has already prepared you well. The relational operators in Python are defined as follows,\n",
    "\n",
    "**Symbol Operation**\n",
    "\n",
    "`>` Greater than\n",
    "\n",
    "`<` Less than\n",
    "\n",
    "`>=` Greater than or equal to\n",
    "\n",
    "`<=` Less than or equal to\n",
    "\n",
    "`==` Equal to\n",
    "\n",
    "`!=` Not equal to\n",
    "\n",
    "Take care not to leave space between those that are represented by a pair of characters, `>=` instead of `> =`. Additionally, remember that `=` is the *assignment* operator while `==` is the *equality* operator, this is a frequent programming error amongst beginners!\n",
    "\n",
    "Relational operators are all binary operators and evaluate to a `bool`,"
   ]
  },
  {
   "cell_type": "code",
   "execution_count": null,
   "metadata": {
    "collapsed": false
   },
   "outputs": [],
   "source": [
    "value1 = 20 > 15\n",
    "value2 = 20 < 15\n",
    "value3 = 20 == 15\n",
    "value4 = 20 != 15\n",
    "\n",
    "print(value1, value2, value3, value4, sep=\", \")"
   ]
  },
  {
   "cell_type": "markdown",
   "metadata": {},
   "source": [
    "Comparison operators allow you to compare values of different types, such as an `int` and a `float`. During the evaluation, the interpreter will perform type conversions to minimize the loss of information. Thus if you compare an `int` and a `float`, the integer value will be converted to a `float` before evaluating the comparison. What would happen when comparing a `float` and a `complex`? Why?"
   ]
  },
  {
   "cell_type": "code",
   "execution_count": null,
   "metadata": {
    "collapsed": false
   },
   "outputs": [],
   "source": [
    "12.1 >= 12"
   ]
  },
  {
   "cell_type": "code",
   "execution_count": null,
   "metadata": {
    "collapsed": false
   },
   "outputs": [],
   "source": [
    "12.0 == 12"
   ]
  },
  {
   "cell_type": "markdown",
   "metadata": {},
   "source": [
    "Moving along from these simple examples, here is an example of a function which uses relational operators,"
   ]
  },
  {
   "cell_type": "code",
   "execution_count": null,
   "metadata": {
    "collapsed": false
   },
   "outputs": [],
   "source": [
    "def is_positive(x):\n",
    "    \"\"\" (number) -> bool\n",
    "    Return True iff (if and only if) x is positive.\n",
    "    \n",
    "    >>> is_positive(3)\n",
    "    True\n",
    "    >>> is_positive(-4.6)\n",
    "    False\n",
    "    \"\"\"\n",
    "    return(x > 0)\n",
    "\n",
    "print(is_positive(3))\n",
    "print(is_positive(-3.1))\n",
    "print(is_positive(0))"
   ]
  },
  {
   "cell_type": "markdown",
   "metadata": {},
   "source": [
    "We mentioned previously that Python has exclusive or functionality, but not directly through the available binary operators. Instead, we may use a specific relational operator on pairs of binary values to emulate an exclusive or!"
   ]
  },
  {
   "cell_type": "code",
   "execution_count": null,
   "metadata": {
    "collapsed": false
   },
   "outputs": [],
   "source": [
    "# `xor` == exclusive or\n",
    "print(\"True xor True =\", True != True)\n",
    "print(\"True xor False =\", True != False)\n",
    "print(\"False xor True =\", False != True)\n",
    "print(\"False xor False =\", False != False)"
   ]
  },
  {
   "cell_type": "markdown",
   "metadata": {},
   "source": [
    "### Combining comparisons\n",
    "\n",
    "Up to this point, we have learned about three types of operators: arithmetic, boolean, and relational. Just as with arithmetic operators, when they are combined there are rules governing the *order* in which they are applied. The same is true when combining operators of different types:\n",
    "\n",
    "* Arithmetic operators have higher precedence than relational operators.\n",
    "* Relational operators have higher precedence than Boolean operators.\n",
    "* All relational operators have the same precedence.\n",
    "\n",
    "We will illustrate these rules with several examples,"
   ]
  },
  {
   "cell_type": "code",
   "execution_count": null,
   "metadata": {
    "collapsed": false
   },
   "outputs": [],
   "source": [
    "# equivalent expressions\n",
    "1 + 3 > 7\n",
    "(1 + 3) > 7"
   ]
  },
  {
   "cell_type": "code",
   "execution_count": null,
   "metadata": {
    "collapsed": false
   },
   "outputs": [],
   "source": [
    "x = 2\n",
    "y = 5\n",
    "z = 7\n",
    "\n",
    "# equivalent expressions\n",
    "x < y and y < z\n",
    "(x < y) and (y < z)"
   ]
  },
  {
   "cell_type": "code",
   "execution_count": null,
   "metadata": {
    "collapsed": false
   },
   "outputs": [],
   "source": [
    "# equivalent expressions\n",
    "0.5 * 3.2 + 1.0 > 1.0 and 5 != 6\n",
    "(((0.5 * 3.2) + 1.0) > 1.0) and (5 != 6)"
   ]
  },
  {
   "cell_type": "markdown",
   "metadata": {},
   "source": [
    "While the parenthesis are not needed unless you want to form an expression that does not conform to the order of operations, always including parenthesis is strongly recommended for code readability!\n",
    "\n",
    "Also, note in the previous example with `x`, `y`, and `z` that we are essentially checking whether or not $y$ is within the interval $(x, z)$. This is a frequent type of expression in programming and thus Python provides syntax to *chain* relational operators,"
   ]
  },
  {
   "cell_type": "code",
   "execution_count": null,
   "metadata": {
    "collapsed": false
   },
   "outputs": [],
   "source": [
    "# equivalent expressions, check for y in (x, z)\n",
    "(x < y) and (y < z)\n",
    "x < y < z\n",
    "\n",
    "# equivalent expressions, check for y in [x, z)\n",
    "(x <= y) and (y < z)\n",
    "x <= y < z\n",
    "\n",
    "# equivalent expressions, check for y in [x, z]\n",
    "(x <= y) and (y <= z)\n",
    "x <= y <= z"
   ]
  },
  {
   "cell_type": "markdown",
   "metadata": {},
   "source": [
    "One last point to note when combining comparison is that the Python interpreter uses *short circuit* evaluation with boolean operators. Specifically, with `and` and `or` it is not necessary to evaluate all of the sub-expressions to evaluate the value of the top-level expression. For example, "
   ]
  },
  {
   "cell_type": "code",
   "execution_count": null,
   "metadata": {
    "collapsed": false
   },
   "outputs": [],
   "source": [
    "(2 < 3) or (1 / 0)"
   ]
  },
  {
   "cell_type": "markdown",
   "metadata": {},
   "source": [
    "Clearly the evaluation of the expression `(1/0)` would result in an error, but the interpreter does not seem to mind in this case. Why is that? As an optimization, the sub-expressions are evaluated from left to right and for an `or` statement only one of the expressions must be `True` for the whole expression to evaluate to `True`.\n",
    "\n",
    "Let's test this with a slight modification to the previous example, "
   ]
  },
  {
   "cell_type": "code",
   "execution_count": null,
   "metadata": {
    "collapsed": false
   },
   "outputs": [],
   "source": [
    "(2 > 3) or (1 / 0)"
   ]
  },
  {
   "cell_type": "markdown",
   "metadata": {},
   "source": [
    "Now the first sub-expression evaluated to `False` and the interpreter required the second sub-expression to be evaluated, resulting in an error!\n",
    "\n",
    "### Comparing Strings\n",
    "\n",
    "Relational operators can also be applied to strings. This might seem odd at first, but the effect of relational operators on strings is quite intuitive...they evaluate dictionary or alphabetical ordering, "
   ]
  },
  {
   "cell_type": "code",
   "execution_count": null,
   "metadata": {
    "collapsed": false
   },
   "outputs": [],
   "source": [
    "# \"Fred\" precedes \"Harry\" alphabetically\n",
    "'Fred' < 'Harry'"
   ]
  },
  {
   "cell_type": "code",
   "execution_count": null,
   "metadata": {
    "collapsed": false
   },
   "outputs": [],
   "source": [
    "# \"Fred\" does not precede \"Fanny\" alphabetically\n",
    "'Fred' < 'Fanny'"
   ]
  },
  {
   "cell_type": "markdown",
   "metadata": {},
   "source": [
    "This type of ordering is also called *lexicographic ordering* and depends on case and length of strings,"
   ]
  },
  {
   "cell_type": "code",
   "execution_count": null,
   "metadata": {
    "collapsed": false
   },
   "outputs": [],
   "source": [
    "# uppercase A precedes lowercase a \n",
    "'A' < 'a'"
   ]
  },
  {
   "cell_type": "code",
   "execution_count": null,
   "metadata": {
    "collapsed": false
   },
   "outputs": [],
   "source": [
    "# in general, uppercase letters precede lowercase ones\n",
    "'Z' < 'a'"
   ]
  },
  {
   "cell_type": "code",
   "execution_count": null,
   "metadata": {
    "collapsed": false
   },
   "outputs": [],
   "source": [
    "# comparisons are evaluated character by character\n",
    "'abc' < 'abd'"
   ]
  },
  {
   "cell_type": "code",
   "execution_count": null,
   "metadata": {
    "collapsed": false
   },
   "outputs": [],
   "source": [
    "# string length also matters\n",
    "'abc' < 'abcd'"
   ]
  },
  {
   "cell_type": "markdown",
   "metadata": {},
   "source": [
    "Python also provides functionality to search for a string withing another string using the `in` operator, "
   ]
  },
  {
   "cell_type": "code",
   "execution_count": null,
   "metadata": {
    "collapsed": false
   },
   "outputs": [],
   "source": [
    "'abc' in 'abcd'"
   ]
  },
  {
   "cell_type": "code",
   "execution_count": null,
   "metadata": {
    "collapsed": false
   },
   "outputs": [],
   "source": [
    "'acb' in 'abcd'"
   ]
  },
  {
   "cell_type": "markdown",
   "metadata": {},
   "source": [
    "The empty string is always a substring of another string,"
   ]
  },
  {
   "cell_type": "code",
   "execution_count": null,
   "metadata": {
    "collapsed": false
   },
   "outputs": [],
   "source": [
    "'' in 'abc'"
   ]
  },
  {
   "cell_type": "markdown",
   "metadata": {},
   "source": [
    "# Program control flow using `if`/`else` statements\n",
    "\n",
    "As mentioned in the introduction to this lecture, we frequently want to execute statements or sets of statements based upon the value of a condition. The `if` statement and its variants provides this functionality in Python,\n",
    "\n",
    "```python\n",
    "if condition:\n",
    "    statement1\n",
    "    statement2\n",
    "    ...\n",
    "\n",
    "```\n",
    "\n",
    "where `condition` is a expression that evaluates to a `bool` (possibly through a type conversion). If `condition` is `True` all of the statements in the indented block are executed, else they are not and the interpreter continues at the first statement after the indentation ends. Note that no new namespace is created within the `if` statement.\n",
    "\n",
    "To illustrate the basic and more advanced use of `if` statements, let's write a small piece of code that queries the user for the pH of a solution and outputs a text statement about whether it is acidic, neutral or basic,\n",
    "\n",
    "\n",
    "<table>\n",
    "    <tr>\n",
    "        <td><b> pH Level</b></td>\n",
    "        <td><b>Solution Category</b></td>\n",
    "    </tr>\n",
    "    <tr>\n",
    "        <td>0-4</td>\n",
    "        <td>Strong Acid</td>\n",
    "    </tr>\n",
    "    <tr>\n",
    "        <td>5-6</td>\n",
    "        <td>Weak Acid</td>\n",
    "    </tr>\n",
    "    <tr>\n",
    "        <td>7</td>\n",
    "        <td>Neutral</td>\n",
    "    </tr>\n",
    "    <tr>\n",
    "        <td>8-9</td>\n",
    "        <td>Weak Base</td>\n",
    "    </tr>\n",
    "    <tr>\n",
    "        <td>10-14</td>\n",
    "        <td>Strong Base</td>\n",
    "    </tr>\n",
    "</table>"
   ]
  },
  {
   "cell_type": "code",
   "execution_count": null,
   "metadata": {
    "collapsed": false
   },
   "outputs": [],
   "source": [
    "ph_str = input('Enter the pH value: ')\n",
    "ph_value = float(ph_str)\n",
    "\n",
    "if ph_value < 7:\n",
    "    print(ph_value, end=\" \")\n",
    "    print(\" is acidic.\")"
   ]
  },
  {
   "cell_type": "code",
   "execution_count": null,
   "metadata": {
    "collapsed": false
   },
   "outputs": [],
   "source": [
    "ph_str = input('Enter the pH value: ')\n",
    "ph_value = float(ph_str)\n",
    "\n",
    "# what happens if we do not indent the second statement\n",
    "if ph_value < 7:\n",
    "    print(ph_value, end=\" \")\n",
    "print(\" is acidic.\")"
   ]
  },
  {
   "cell_type": "markdown",
   "metadata": {},
   "source": [
    "Let's implement a more functional example,"
   ]
  },
  {
   "cell_type": "code",
   "execution_count": null,
   "metadata": {
    "collapsed": false
   },
   "outputs": [],
   "source": [
    "ph_str = input('Enter the pH value: ')\n",
    "ph_value = float(ph_str)\n",
    "\n",
    "\n",
    "if ph_value < 7:\n",
    "    print(ph_value, \" is acidic.\")\n",
    "if ph_value > 7:\n",
    "    print(ph_value, \" is basic.\")"
   ]
  },
  {
   "cell_type": "markdown",
   "metadata": {},
   "source": [
    "The previous code functions correctly, but if we look at a flow chart of how the code is evaluated we see a possible optimization,\n",
    "<img src='files/./images/lecture3/pg93.jpg'>\n",
    "\n",
    "Both `if` statements are always evaluated, even though if one is known to be `True` the other must be `False`. For this reason Python provides the else-if syntax via `elif`,\n",
    "\n",
    "<img src='files/./images/lecture3/pg94.jpg'>"
   ]
  },
  {
   "cell_type": "code",
   "execution_count": null,
   "metadata": {
    "collapsed": false
   },
   "outputs": [],
   "source": [
    "ph_str = input('Enter the pH value: ')\n",
    "ph_value = float(ph_str)\n",
    "\n",
    "if ph_value < 7:\n",
    "    print(ph_value, \" is acidic.\")\n",
    "elif ph_value > 7:\n",
    "    print(ph_value, \" is basic.\")\n",
    "else:\n",
    "    print(ph_value, \"is neutral\")"
   ]
  },
  {
   "cell_type": "markdown",
   "metadata": {},
   "source": [
    "Each condition/code block is called a *clause* of the if/elif statement and they are evaluated sequentially until one is found to be `True`. Thus if the first condition is found to be `True`, the second condition is not evaluated,\n",
    "\n",
    "\n",
    "\n",
    "You would only use the `elif` syntax when conditions are related, that is, knowledge of the value of one condition provides knowledge of the values of others. This is not always the case,"
   ]
  },
  {
   "cell_type": "code",
   "execution_count": null,
   "metadata": {
    "collapsed": false
   },
   "outputs": [],
   "source": [
    "value = 8\n",
    "\n",
    "if (value % 2) == 0:\n",
    "    print(value, \"is even.\")\n",
    "    \n",
    "if (value % 4) == 0:\n",
    "    print(value, \"is divisible by 4.\")"
   ]
  },
  {
   "cell_type": "markdown",
   "metadata": {},
   "source": [
    "# Exercises"
   ]
  },
  {
   "cell_type": "markdown",
   "metadata": {},
   "source": [
    "### PragProg. Exercise 5.6"
   ]
  },
  {
   "cell_type": "markdown",
   "metadata": {},
   "source": [
    "**1.** What value does each expression produce? Verify your answers by typing\n",
    "the expressions into the interactive workspace.\n",
    "\n",
    "a. True and not False\n",
    "\n",
    "b. True and not false (Notice the capitalization.)\n",
    "\n",
    "c. True or True and False\n",
    "\n",
    "d. not True or not False\n",
    "\n",
    "e. True and not 0\n",
    "\n",
    "f. 52 < 52.3\n",
    "\n",
    "g. 1 + 52 < 52.3\n",
    "\n",
    "h. 4 != 4.0"
   ]
  },
  {
   "cell_type": "code",
   "execution_count": null,
   "metadata": {
    "collapsed": false
   },
   "outputs": [],
   "source": []
  },
  {
   "cell_type": "markdown",
   "metadata": {},
   "source": [
    "**2.** You want an automatic wildlife camera to switch on if the light level is\n",
    "less than 0.01 lux or if the temperature is above freezing, but not if both\n",
    "conditions are true. (You should assume that the function turn_camera_on\n",
    "has already been defined.)\n",
    "Your first attempt to write this is as follows:"
   ]
  },
  {
   "cell_type": "code",
   "execution_count": null,
   "metadata": {
    "collapsed": false
   },
   "outputs": [],
   "source": [
    "if (light < 0.01) or (temperature > 0.0):\n",
    "if not ((light < 0.01) and (temperature > 0.0)):\n",
    "turn_camera_on()"
   ]
  },
  {
   "cell_type": "markdown",
   "metadata": {},
   "source": [
    "A friend says that this is an exclusive or and that you could write it more\n",
    "simply as follows:"
   ]
  },
  {
   "cell_type": "code",
   "execution_count": null,
   "metadata": {
    "collapsed": false
   },
   "outputs": [],
   "source": [
    "if (light < 0.01) != (temperature > 0.0):\n",
    "turn_camera_on()"
   ]
  },
  {
   "cell_type": "markdown",
   "metadata": {},
   "source": [
    "Is your friend right? If so, explain why. If not, give values for <i>light</i> and\n",
    "<i>temperature</i> that will produce different results for the two fragments of code."
   ]
  },
  {
   "cell_type": "markdown",
   "metadata": {},
   "source": [
    "**3.** Write a function named <i>different</i> that has two parameters, a and b . The\n",
    "function should return True if a and b refer to different values and should\n",
    "return False otherwise."
   ]
  },
  {
   "cell_type": "code",
   "execution_count": null,
   "metadata": {
    "collapsed": false
   },
   "outputs": [],
   "source": []
  },
  {
   "cell_type": "markdown",
   "metadata": {},
   "source": [
    "**4.** The variables population and land_area refer to float s."
   ]
  },
  {
   "cell_type": "markdown",
   "metadata": {},
   "source": [
    "a. Write an if statement that will print the population if it is less than\n",
    "10,000,000."
   ]
  },
  {
   "cell_type": "code",
   "execution_count": null,
   "metadata": {
    "collapsed": false
   },
   "outputs": [],
   "source": []
  },
  {
   "cell_type": "markdown",
   "metadata": {},
   "source": [
    "b. Write an if statement that will print the population if it is between\n",
    "10,000,000 and 35,000,000."
   ]
  },
  {
   "cell_type": "code",
   "execution_count": null,
   "metadata": {
    "collapsed": false
   },
   "outputs": [],
   "source": []
  },
  {
   "cell_type": "markdown",
   "metadata": {},
   "source": [
    "c. Write an if statement that will print “Densely populated” if the land density\n",
    "(number of people per unit of area) is greater than 100."
   ]
  },
  {
   "cell_type": "code",
   "execution_count": null,
   "metadata": {
    "collapsed": false
   },
   "outputs": [],
   "source": []
  },
  {
   "cell_type": "markdown",
   "metadata": {},
   "source": [
    "d. Write an if statement that will print “Densely populated” if the land density\n",
    "(number of people per unit of area) is greater than 100, and “Sparsely\n",
    "populated” otherwise."
   ]
  },
  {
   "cell_type": "code",
   "execution_count": null,
   "metadata": {
    "collapsed": false
   },
   "outputs": [],
   "source": []
  },
  {
   "cell_type": "markdown",
   "metadata": {},
   "source": [
    "**5.** Assume we want to print a strong warning message if a pH value is below\n",
    "3.0 and otherwise simply report on the acidity. We try this if statement:"
   ]
  },
  {
   "cell_type": "code",
   "execution_count": null,
   "metadata": {
    "collapsed": false
   },
   "outputs": [],
   "source": [
    ">>> ph = 2\n",
    ">>> if ph < 7.0:\n",
    "...\n",
    "print(ph, \"is acidic.\")\n",
    "... elif ph < 3.0:\n",
    "...\n",
    "print(ph, \"is VERY acidic! Be careful.\")"
   ]
  },
  {
   "cell_type": "markdown",
   "metadata": {},
   "source": [
    "Check the output when a pH of 2 is entered. If it is incorrect, show how you would fix it."
   ]
  },
  {
   "cell_type": "code",
   "execution_count": null,
   "metadata": {
    "collapsed": false
   },
   "outputs": [],
   "source": []
  },
  {
   "cell_type": "markdown",
   "metadata": {},
   "source": [
    "**6.** The following code displays a message(s) about the acidity of a solution:"
   ]
  },
  {
   "cell_type": "code",
   "execution_count": null,
   "metadata": {
    "collapsed": false
   },
   "outputs": [],
   "source": [
    "ph = float(input(\"Enter the ph level: \"))\n",
    "if ph < 7.0:\n",
    "print(\"It's acidic!\")\n",
    "elif ph < 4.0:\n",
    "print(\"It's a strong acid!\")"
   ]
  },
  {
   "cell_type": "markdown",
   "metadata": {},
   "source": [
    "a. What message(s) are displayed when the user enters 6.4?\n",
    "\n",
    "b. What message(s) are displayed when the user enters 3.6?\n",
    "\n",
    "c. Make a small change to one line of the code so that both messages\n",
    "are displayed when a value less than 4 is entered."
   ]
  },
  {
   "cell_type": "code",
   "execution_count": null,
   "metadata": {
    "collapsed": false
   },
   "outputs": [],
   "source": []
  }
 ],
 "metadata": {
  "kernelspec": {
   "display_name": "Python 3",
   "language": "python",
   "name": "python3"
  },
  "language_info": {
   "codemirror_mode": {
    "name": "ipython",
    "version": 3
   },
   "file_extension": ".py",
   "mimetype": "text/x-python",
   "name": "python",
   "nbconvert_exporter": "python",
   "pygments_lexer": "ipython3",
   "version": "3.5.2"
  }
 },
 "nbformat": 4,
 "nbformat_minor": 1
}
