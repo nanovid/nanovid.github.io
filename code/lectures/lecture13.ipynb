{
 "cells": [
  {
   "cell_type": "markdown",
   "metadata": {},
   "source": [
    "## Lecture 13\n",
    "\n",
    "The objectives of this lecture are to:\n",
    "\n",
    "1. Creation and manipulation of collections (continued).\n",
    "2. Using the `in` operator.\n",
    "3. Multiple assignment using collections."
   ]
  },
  {
   "cell_type": "markdown",
   "metadata": {},
   "source": [
    "# Creation and manipulation of collections (continued)\n",
    "\n",
    "In previous lectures you learned about one of the many types of collections of objects that Python provides: strings and lists. In this lecture we will learn about the other collections in Python: sets, tuples, and dictionaries.\n",
    "\n",
    "Before we learn how to create and manipulate them, let's learn their general collection attributes: mutability and ordering.\n",
    "\n",
    " <b><u>Features of Python Collections</u></b>\n",
    "<table>\n",
    "    <tr>\n",
    "        <td><b>Collection</b></td>\n",
    "        <td><b>Mutable?</b></td>\n",
    "        <td><b>Ordered?</b></td>\n",
    "        <td><b>Use When...</b></td>\n",
    "    </tr>\n",
    "    <tr>\n",
    "        <td>str</td>\n",
    "        <td>No</td>\n",
    "        <td>Yes</td>\n",
    "        <td>You want to keep track of text</td>\n",
    "    </tr>\n",
    "    <tr>\n",
    "        <td>list</td>\n",
    "        <td>Yes</td>\n",
    "        <td>Yes</td>\n",
    "        <td>You want to keep track of an ordered sequence that you want to update</td>\n",
    "   </tr>\n",
    "   <tr>\n",
    "       <td>tuple</td>\n",
    "       <td>No</td>\n",
    "       <td>Yes</td>\n",
    "       <td>You want to build an ordered sequence that you know won't change or that you want to use as a key in a dictionary or as a value in a set</td>\n",
    "    </tr>\n",
    "    <tr>\n",
    "        <td>set</td>\n",
    "        <td>Yes</td>\n",
    "        <td>No</td>\n",
    "        <td>You want to keep track of values, but order\n",
    "doesn’t matter, and you don’t want to keep\n",
    "duplicates. The values must be immutable.</td>\n",
    "    </tr>\n",
    "    <tr>\n",
    "        <td>dictionary</td>\n",
    "        <td>Yes</td>\n",
    "        <td>No</td>\n",
    "        <td>You want to keep a mapping of keys to values.\n",
    "The keys must be immutable.</td>\n",
    "    </tr>\n",
    "    </table>\n",
    "   \n",
    "\n",
    "Each collection has provides different approaches to accessing and manipulating the objects stored within them. We go through examples of the creation and usage of each of the collections we have not already learned about: sets, tuples, and dictionaries.\n",
    "\n",
    "### Sets -- an unordered collection of distinct objects\n",
    "\n",
    "The `set` collection type very closely matches the attributes of a mathematical *set*. It is a mutable unordered collection of *distinct* objects. The syntax for creating a `set` is similar to that of a `list` but uses braces (`{ }`) instead of brackets (`[ ]`),"
   ]
  },
  {
   "cell_type": "code",
   "execution_count": null,
   "metadata": {
    "collapsed": false
   },
   "outputs": [],
   "source": [
    "# create a set of strings\n",
    "vowels = {'a', 'e', 'i', 'o', 'u'}\n",
    "\n",
    "print(vowels)"
   ]
  },
  {
   "cell_type": "markdown",
   "metadata": {},
   "source": [
    "Note that when we printed the `set` object the order was not the same as when it was initialized, the order of the objects used to initialize it or when it is displayed is arbitrary.\n",
    "\n",
    "What happens if we repeat the value of an object in the set initialization, "
   ]
  },
  {
   "cell_type": "code",
   "execution_count": null,
   "metadata": {
    "collapsed": false
   },
   "outputs": [],
   "source": [
    "vowels = {'a', 'e', 'a', 'a', 'i', 'o', 'u', 'u'}\n",
    "\n",
    "print(vowels)"
   ]
  },
  {
   "cell_type": "markdown",
   "metadata": {},
   "source": [
    "The Python interpreter did some processing during the initialization of the `set` in order to maintain the constraint that the set objects are distinct. This was done in the initializer method of the `set` class, but because it is a built-in or base class Python provides special syntax for creating an object of this type.\n",
    "\n",
    "If we use the initializer directly, we must pass a single argument that is a collection of objects. We only know about two other collections of objects (a string is a collection of characters), so let's try them out,"
   ]
  },
  {
   "cell_type": "code",
   "execution_count": null,
   "metadata": {
    "collapsed": false
   },
   "outputs": [],
   "source": [
    "# use the initializer implicitly with a list of objects\n",
    "vowels1 = set(['a', 'i', 'e', 'u', 'o'])\n",
    "\n",
    "print(vowels)"
   ]
  },
  {
   "cell_type": "code",
   "execution_count": null,
   "metadata": {
    "collapsed": false
   },
   "outputs": [],
   "source": [
    "# use the initializer implicitly with another set of objects\n",
    "vowels2 = set({'a', 'i', 'e', 'u', 'o'})\n",
    "\n",
    "print(vowels)"
   ]
  },
  {
   "cell_type": "code",
   "execution_count": null,
   "metadata": {
    "collapsed": false
   },
   "outputs": [],
   "source": [
    "# we can also create a set from a `range`, just as we did with\n",
    "# lists\n",
    "integers = set(range(1,10))\n",
    "\n",
    "print(integers)"
   ]
  },
  {
   "cell_type": "markdown",
   "metadata": {},
   "source": [
    "The variables refer to different `set` objects, they are not aliases,"
   ]
  },
  {
   "cell_type": "code",
   "execution_count": null,
   "metadata": {
    "collapsed": false
   },
   "outputs": [],
   "source": [
    "print(id(vowels1), id(vowels2))\n",
    "\n",
    "# create and alias of vowels1\n",
    "vowels = vowels1\n",
    "print(id(vowels1), id(vowels))"
   ]
  },
  {
   "cell_type": "markdown",
   "metadata": {},
   "source": [
    "There is one minor difference between `set` and `list` syntax, in order to create an empty set one *must* use the initializer without and argument or with an empty collection,"
   ]
  },
  {
   "cell_type": "code",
   "execution_count": null,
   "metadata": {
    "collapsed": false
   },
   "outputs": [],
   "source": [
    "# this will not initialize an empty set!\n",
    "s = {}\n",
    "\n",
    "type(s)"
   ]
  },
  {
   "cell_type": "code",
   "execution_count": null,
   "metadata": {
    "collapsed": false
   },
   "outputs": [],
   "source": [
    "# equivalent expressions\n",
    "s = set()\n",
    "s = set([])\n",
    "s = set(range(0))\n",
    "\n",
    "print(type(s), s)"
   ]
  },
  {
   "cell_type": "markdown",
   "metadata": {},
   "source": [
    "The reason for the first initialization statement not evaluating the the empty set is because the syntax for creating a `set` and a `dict` (dictionary) is equivalent for empty objects. The Python core developers decided to have it evaluate to an empty dictionary because that type is more commonly used. \n",
    "\n",
    "The `set` class has many methods that allow us to manipulate and compare sets.\n",
    "\n",
    "\n",
    "<b><u>Set Operations</u></b>\n",
    "<table>\n",
    "    <tr>\n",
    "        <td><b>Method</b></td>\n",
    "        <td><b>Description</b></td>\n",
    "    </tr>\n",
    "    <tr>\n",
    "        <td>S.add(v)</td>\n",
    "        <td>Adds item v to a set S; this has no effect if v is already in S</td>\n",
    "    </tr>\n",
    "    <tr>\n",
    "        <td>S.clear()</td>\n",
    "        <td>Removes all items from set S</td>\n",
    "    </tr>\n",
    "    <tr>\n",
    "        <td>S.difference(other)</td>\n",
    "        <td>Returns a set with items that occur in set S but not\n",
    "in set other</td>\n",
    "   </tr>\n",
    "   <tr>\n",
    "       <td>S.intersection(other)</td>\n",
    "       <td>Returns a set with items that occur both in sets S\n",
    "and other</td>\n",
    "   </tr>\n",
    "   <tr>\n",
    "       <td>S.issubset(other)</td>\n",
    "       <td>Returns True if and only if all of set S s items are also\n",
    "in set other</td>\n",
    "   </tr>\n",
    "   <tr>\n",
    "       <td>S.issuperset(other)</td>\n",
    "       <td>Returns True if and only if set S contains all of set\n",
    "other ’s items</td>\n",
    "   </tr>\n",
    "   <tr>\n",
    "       <td>S.remove(v)</td>\n",
    "       <td>Removes item v from set S</td>\n",
    "   </tr>\n",
    "   <tr>\n",
    "       <td>S.symmetric_difference(other)</td>\n",
    "       <td>Returns a set with items that are in exactly one of\n",
    "sets S and other ; any items that are in both sets are\n",
    "not included in the result.</td>\n",
    "   </tr>\n",
    "   <tr>\n",
    "       <td>S.union(other)</td>\n",
    "       <td>Returns a set with items that are either in set S or\n",
    "other (or in both)</td>\n",
    "   </tr>\n",
    " </table>\n",
    "\n",
    "These methods closely represent mathematical operations on sets. Let's explore of the methods that manipulate a set,"
   ]
  },
  {
   "cell_type": "code",
   "execution_count": null,
   "metadata": {
    "collapsed": false
   },
   "outputs": [],
   "source": [
    "print(vowels)\n",
    "\n",
    "# sometimes 'y' is considered a vowel\n",
    "vowels.add('y')\n",
    "\n",
    "print(vowels)"
   ]
  },
  {
   "cell_type": "code",
   "execution_count": null,
   "metadata": {
    "collapsed": false
   },
   "outputs": [],
   "source": [
    "# set difference, intersection, and union all function as \n",
    "# defined mathematically\n",
    "integers1 = {1, 2, 3, 4, 5}\n",
    "integers2 = {4, 5, 6 ,7 ,8}\n",
    "\n",
    "# equivalent expressions, method and operator\n",
    "diff = integers1.difference(integers2)\n",
    "diff = integers1 - integers2\n",
    "print(\"Difference: \", diff)\n",
    "\n",
    "# equivalent expressions, method and operator\n",
    "inter = integers1.intersection(integers2)\n",
    "inter = integers1 & integers2\n",
    "print(\"Difference: \", inter)\n",
    "\n",
    "# equivalent expressions, method and operator\n",
    "union = integers1.union(integers2)\n",
    "union = integers1 | integers2\n",
    "print(\"Difference: \", union)"
   ]
  },
  {
   "cell_type": "markdown",
   "metadata": {},
   "source": [
    "All set operators and their corresponding methods are,\n",
    "\n",
    "<b><u>Set Operators</u></b>\n",
    "<table>\n",
    "    <tr>\n",
    "        <td><b>Method Call</b></td>\n",
    "        <td><b>Operator</b></td>\n",
    "    </tr>\n",
    "    <tr>\n",
    "        <td>set1.difference(set2)</td>\n",
    "        <td>set1 - set2</td>\n",
    "    </tr>\n",
    "    <tr>\n",
    "        <td>set1.intersection(set2)</td>\n",
    "        <td>set1 & set2</td>\n",
    "    </tr>\n",
    "    <tr>\n",
    "        <td>set1.issubset(set2)</td>\n",
    "        <td>set1 <= set2</td>\n",
    "    </tr>\n",
    "    <tr>\n",
    "        <td>set1.issuperset(set2)</td>\n",
    "        <td>set1 >= set2 </td>\n",
    "    </tr>\n",
    "    <tr>\n",
    "        <td>set1.union(set2)</td>\n",
    "        <td>set1 | set2</td>\n",
    "    </tr>\n",
    "    <tr>\n",
    "        <td>set1.symmetric_difference(set2)</td>\n",
    "        <td>set1 ^ set2</td>\n",
    "    </tr>\n",
    " </table>\n",
    "\n",
    "Finally, all of the looping *itemwise* looping syntax we learned for lists also works for sets,"
   ]
  },
  {
   "cell_type": "code",
   "execution_count": null,
   "metadata": {
    "collapsed": false
   },
   "outputs": [],
   "source": [
    "for ch in vowels:\n",
    "    print(ch)"
   ]
  },
  {
   "cell_type": "markdown",
   "metadata": {},
   "source": [
    "### Tuples -- an ordered immutable collection of objects\n",
    "\n",
    "Tuples are much like strings but instead of being restricted to characters tuples are collections of any objects. Like strings, they are immutable, once created the *references* to the objects in the tuple cannot be mutated. Otherwise they may be used just as strings and lists are -- indexed, sliced, and looped over.\n",
    "\n",
    "A `tuple` object is initialized using either parenthesis `( )` or the class initializer `tuple()` (which requires another collection). There is no issue with using the `()` syntax to create an empty `tuple`, but to create a `tuple` with a single object does require the addition of a `,`."
   ]
  },
  {
   "cell_type": "code",
   "execution_count": null,
   "metadata": {
    "collapsed": false
   },
   "outputs": [],
   "source": [
    "# this will not result in the creation of a tuple, parenthesis\n",
    "# are also used in arithmetic which takes precedence\n",
    "tup = (1)\n",
    "\n",
    "type(tup)"
   ]
  },
  {
   "cell_type": "code",
   "execution_count": null,
   "metadata": {
    "collapsed": false
   },
   "outputs": [],
   "source": [
    "# instead we must add a comma at the end for tuples of \n",
    "# length one\n",
    "tup = (1,)\n",
    "\n",
    "type(tup)"
   ]
  },
  {
   "cell_type": "markdown",
   "metadata": {},
   "source": [
    "Otherwise, tuples behave almost exactly the same as lists, except for them being immutable,"
   ]
  },
  {
   "cell_type": "code",
   "execution_count": null,
   "metadata": {
    "collapsed": false
   },
   "outputs": [],
   "source": [
    "# creating a tuple of lists, a nested *collection*\n",
    "life = ([\"Canada\", 76.5], ['United States', 75.5], ['Mexico', 72.0])\n",
    "\n",
    "# in order to correct the first entry, we cannot reassign\n",
    "# the object reference\n",
    "life[0] = [\"Canada\", 76.5]"
   ]
  },
  {
   "cell_type": "code",
   "execution_count": null,
   "metadata": {
    "collapsed": false
   },
   "outputs": [],
   "source": [
    "# in this case, since the items themselves are mutable,\n",
    "# we can change the value of the one of the sub-items\n",
    "life[0][0] = \"Norway\"\n",
    "\n",
    "print(life)"
   ]
  },
  {
   "cell_type": "markdown",
   "metadata": {},
   "source": [
    "This example shows the main difference between a list and a tuple, but for a more exhaustive example see Section 11.2 in the textbook."
   ]
  },
  {
   "cell_type": "code",
   "execution_count": null,
   "metadata": {
    "collapsed": false
   },
   "outputs": [],
   "source": [
    "# another example of using a tuple, like a list, but unlike\n",
    "# a set, we can use both itemwise and indexing to loop\n",
    "\n",
    "for country in life:\n",
    "    print(country)\n",
    "    \n",
    "for i in range(len(life)):\n",
    "    print(life[i])"
   ]
  },
  {
   "cell_type": "markdown",
   "metadata": {},
   "source": [
    "Thus when a tuple's items are not mutable, than both the references and values of the tuple are not mutable (as opposed to the previous case),"
   ]
  },
  {
   "cell_type": "code",
   "execution_count": null,
   "metadata": {
    "collapsed": false
   },
   "outputs": [],
   "source": [
    "integers = tuple(range(10))\n",
    "print(integers)\n",
    "\n",
    "integers[0] = 1"
   ]
  },
  {
   "cell_type": "markdown",
   "metadata": {},
   "source": [
    "### Dictionaries -- unordered mutable collections of mappings\n",
    "\n",
    "A dictionary is an unordered mutable collection of objects and *distinct* keys which map to each object. This type of collection is frequently used for reasons that will become obvious shortly.\n",
    "\n",
    "The syntax for creating a `dict` object is similar to that of a `set` in that braces `{ }` are used. Instead of commas separating each object, as in all other collections, commas separate key/object pairs,\n",
    "\n",
    "`{key1 : object1, key2 : object2, key3 : object3, ...}`\n",
    "\n",
    "A *key* is an object, but it must be immutable unlike the object that it maps to. For example, let's use a dictionary to store data about the number of observations of different birds somewhere in Canada,"
   ]
  },
  {
   "cell_type": "code",
   "execution_count": null,
   "metadata": {
    "collapsed": false
   },
   "outputs": [],
   "source": [
    "birds = {'canada goose' : 3, 'northern fulmar': 1}\n",
    "\n",
    "print(birds)"
   ]
  },
  {
   "cell_type": "markdown",
   "metadata": {},
   "source": [
    "The memory map after creating the dictionary looks like this,\n",
    "\n",
    "\n",
    "<img src='files/./images/lecture13/pg218.jpg'>\n",
    "\n",
    "Manipulation of a dictionary is the same as with lists and tuples, except indices are no longer restricted to integers,"
   ]
  },
  {
   "cell_type": "code",
   "execution_count": null,
   "metadata": {
    "collapsed": false
   },
   "outputs": [],
   "source": [
    "# indexing using an existing key will return the object mapped to it\n",
    "print(birds[\"canada goose\"])\n",
    "print(birds[\"northern fulmar\"])"
   ]
  },
  {
   "cell_type": "code",
   "execution_count": null,
   "metadata": {
    "collapsed": false
   },
   "outputs": [],
   "source": [
    "# indexing to a key that is not present results in an error\n",
    "print(birds[\"baltimore oriole\"])"
   ]
  },
  {
   "cell_type": "markdown",
   "metadata": {},
   "source": [
    "Once a `dict` is created, adding and updating *entries* (key/object pairs) can be done through assignment statements,"
   ]
  },
  {
   "cell_type": "code",
   "execution_count": null,
   "metadata": {
    "collapsed": false
   },
   "outputs": [],
   "source": [
    "# this key doesn't exist, but the assignment statement adds it along with the value resulting from the RHS expression\n",
    "birds[\"baltimore oriole\"] = 0\n",
    "        \n",
    "print(birds)"
   ]
  },
  {
   "cell_type": "code",
   "execution_count": null,
   "metadata": {
    "collapsed": false
   },
   "outputs": [],
   "source": [
    "# if the key does exist, the object it maps to is reassigned\n",
    "birds[\"canada goose\"] = 2\n",
    "\n",
    "print(birds)"
   ]
  },
  {
   "cell_type": "code",
   "execution_count": null,
   "metadata": {
    "collapsed": false
   },
   "outputs": [],
   "source": [
    "# to remove a key use the `del` operator\n",
    "del(birds[\"baltimore oriole\"])\n",
    "\n",
    "print(birds)"
   ]
  },
  {
   "cell_type": "markdown",
   "metadata": {},
   "source": [
    "Looping over dictionaries is slightly different than all other collections,"
   ]
  },
  {
   "cell_type": "code",
   "execution_count": null,
   "metadata": {
    "collapsed": false
   },
   "outputs": [],
   "source": [
    "observations = {'canada goose': 183, 'long-tailed jaeger': 71, 'snow goose': 63, 'northern fulmar': 1}\n",
    "\n",
    "# the `for` loop syntax assigns each key as the items to iterate over\n",
    "for key in observations:\n",
    "    print(key, end=\" : \")\n",
    "    \n",
    "    # the only way to get access to the objects in the dictionary is to index\n",
    "    # using the keys\n",
    "    print(observations[key])"
   ]
  },
  {
   "cell_type": "markdown",
   "metadata": {},
   "source": [
    "Remember that the dictionary is an *unordered* collection, you cannot rely on any particular order of the keys to be iterated over! A complete list of the `dict` classes methods are,\n",
    "\n",
    "\n",
    "<b><u>Dictionary Methods</u></b>\n",
    "<table>\n",
    "    <tr>\n",
    "        <td><b>Method</b></td>\n",
    "        <td><b>Description</b></td>\n",
    "    </tr>\n",
    "    <tr>\n",
    "        <td>D.clear()</td>\n",
    "        <td>Removes all key/value pairs from dictionary D</td>\n",
    "    </tr>\n",
    "    <tr>\n",
    "        <td>D.get(k)</td>\n",
    "        <td>Returns the value associated with key k , or None if the key\n",
    "isn’t present (Usually you’ll want to use D[k] instead.)</td>\n",
    "    </tr>\n",
    "    <tr>\n",
    "        <td>D.get(k, v)</td>\n",
    "        <td>Returns the value associated with key k , or a default value\n",
    "v if the key isn’t present</td>\n",
    "    </tr>\n",
    "    <tr>\n",
    "        <td>D.keys()</td>\n",
    "        <td>Returns dictionary D ’s keys as a set-like object; entries are\n",
    "guaranteed to be unique</td>\n",
    "    </tr>\n",
    "    <tr>\n",
    "        <td>D.items()</td>\n",
    "        <td>Returns dictionary D ’s (key, value) pairs as set-like objects</td>\n",
    "    </tr>\n",
    "    <tr>\n",
    "        <td>D.pop(k)</td>\n",
    "        <td>Removes key k from dictionary D and returns the value that\n",
    "was associated with k —if k isn’t in D , an error is raised.</td>\n",
    "    </tr>\n",
    "    <tr>\n",
    "        <td>D.pop(k, v)</td>\n",
    "        <td>Removes key k from dictionary D and returns the value that\n",
    "was associated with k ; if k isn’t in D , returns v</td>\n",
    "    </tr>\n",
    "    <tr>\n",
    "        <td>D.setdefault(k)</td>\n",
    "        <td>Returns the value associated with key k in D</td>\n",
    "    </tr>\n",
    "    <tr>\n",
    "        <td>D.setdefault(k, v)</td>\n",
    "        <td>Returns the value associated with key k in D; if k isn’t a key\n",
    "in D , adds the key k with the value v to D and returns v</td>\n",
    "    </tr>\n",
    "    <tr>\n",
    "        <td>D.values()</td>\n",
    "        <td>Returns dictionary D ’s values as a set-like object—entries\n",
    "may or may not be unique.</td>\n",
    "    </tr>\n",
    "    <tr>\n",
    "        <td>D.update(other)</td>\n",
    "        <td>Updates dictionary D with the contents of dictionary other ;\n",
    "for each key in other , if it is also a key in D , replaces that key\n",
    "in D ’s value with the value from other ; for each key in other , if\n",
    "that key isn’t in D , adds that key/value pair to D</td>\n",
    "    </tr>\n",
    "    \n",
    "</table>\n",
    "\n",
    "Some examples of the usage of these methods are,"
   ]
  },
  {
   "cell_type": "code",
   "execution_count": null,
   "metadata": {
    "collapsed": false
   },
   "outputs": [],
   "source": [
    "# naming dictionaries this way is good for code readability\n",
    "scientist_to_birthdate = {'Newton' : 1642, 'Darwin' : 1809, 'Turing' : 1912}\n",
    "\n",
    "# return a list of keys in the dictionary\n",
    "scientist_to_birthdate.keys()"
   ]
  },
  {
   "cell_type": "code",
   "execution_count": null,
   "metadata": {
    "collapsed": false
   },
   "outputs": [],
   "source": [
    "# return a list of values/objects in the dictionary\n",
    "scientist_to_birthdate.values()"
   ]
  },
  {
   "cell_type": "code",
   "execution_count": null,
   "metadata": {
    "collapsed": false
   },
   "outputs": [],
   "source": [
    "# return a list of key/values pairs as tuples in the dictionary\n",
    "scientist_to_birthdate.items()"
   ]
  },
  {
   "cell_type": "code",
   "execution_count": null,
   "metadata": {
    "collapsed": false
   },
   "outputs": [],
   "source": [
    "# add key/value pairs to the dictionary from another one\n",
    "scientist_to_birthdate.update({'Curie' : 1867, 'Hopper' : 1906, 'Franklin' : 1920})\n",
    "\n",
    "# remember, it mutates the `dict` object and thus returns None\n",
    "print(scientist_to_birthdate)"
   ]
  },
  {
   "cell_type": "markdown",
   "metadata": {},
   "source": [
    "The `dict.items()` method can be used for looping over the dictionary when both the key and object are needed,"
   ]
  },
  {
   "cell_type": "code",
   "execution_count": null,
   "metadata": {
    "collapsed": false
   },
   "outputs": [],
   "source": [
    "for (scientist, birthdate) in scientist_to_birthdate.items():\n",
    "    print(scientist, 'was born in', birthdate)"
   ]
  },
  {
   "cell_type": "markdown",
   "metadata": {},
   "source": [
    "This involved syntax similar to what we saw with `enumerate()` -- this is called *multiple assignment* and we will learn about it thoroughly at the end of the lecture.\n",
    "\n",
    "\n",
    "# Using the `in` operator with collections\n",
    "\n"
   ]
  },
  {
   "cell_type": "markdown",
   "metadata": {},
   "source": [
    "Now that we have seen the breadth of Python built-in collection objects, the utility of the `in` operator should have new significance to you. We can us the in operator on all collections as follows:\n",
    "\n",
    "1. `str` -- the `in` operator will evaluate to `True` if the LHS string is a sub-string of RHS string, else `False`.\n",
    "2. `list`, `set`, `tuple` -- the `in` operator will evaluate to `True` if the LHS object is present in the RHS list, set, or tuple.\n",
    "3. `dict` -- the `in` operator will evaluate to `True` if the LHS key (immutable object) is present in the RHS dictionary. The values in the dictionary *are not* considered.\n",
    "\n",
    "We'll go through a few illustrative examples before moving on to the last section of the lecture."
   ]
  },
  {
   "cell_type": "code",
   "execution_count": null,
   "metadata": {
    "collapsed": false
   },
   "outputs": [],
   "source": [
    "odds = set([1, 3, 5, 7, 9])\n",
    "\n",
    "9 in odds"
   ]
  },
  {
   "cell_type": "code",
   "execution_count": null,
   "metadata": {
    "collapsed": false
   },
   "outputs": [],
   "source": [
    "8 in odds"
   ]
  },
  {
   "cell_type": "code",
   "execution_count": null,
   "metadata": {
    "collapsed": false
   },
   "outputs": [],
   "source": [
    "odds_string = str(odds)\n",
    "\n",
    "odds_string"
   ]
  },
  {
   "cell_type": "code",
   "execution_count": null,
   "metadata": {
    "collapsed": false
   },
   "outputs": [],
   "source": [
    "'9' in odds_string"
   ]
  },
  {
   "cell_type": "code",
   "execution_count": null,
   "metadata": {
    "collapsed": false
   },
   "outputs": [],
   "source": [
    "'8' in odds_string"
   ]
  },
  {
   "cell_type": "code",
   "execution_count": null,
   "metadata": {
    "collapsed": false
   },
   "outputs": [],
   "source": [
    "bird_to_observations = {'canada goose': 183, 'long-tailed jaeger': 71, 'snow goose': 63, 'northern fulmar': 1}\n",
    "\n",
    "# `in` searches for keys, not values\n",
    "'snow goose' in bird_to_observations"
   ]
  },
  {
   "cell_type": "code",
   "execution_count": null,
   "metadata": {
    "collapsed": false
   },
   "outputs": [],
   "source": [
    "# even though an `int` is a valid type to be a key, it is not present in the dictionary\n",
    "# except for as a value, which is not considered by `in`\n",
    "183 in bird_to_observations"
   ]
  },
  {
   "cell_type": "markdown",
   "metadata": {},
   "source": [
    "# Multiple assignment using collections\n",
    "\n",
    "This last section is a \"catch-all\" for a few convenient Python constructs. *Multiple assignment* is an assignment statement which uses collections on *both* sides of the assignment operator. Before I explain this, let's look at an example to clarify what I mean,"
   ]
  },
  {
   "cell_type": "code",
   "execution_count": null,
   "metadata": {
    "collapsed": false
   },
   "outputs": [],
   "source": [
    "# multiple assignment is a compact form of an assignment statement which assigns values\n",
    "# to multiple variables\n",
    "(x, y) = (10, 20)\n",
    "\n",
    "print(x, y)"
   ]
  },
  {
   "cell_type": "code",
   "execution_count": null,
   "metadata": {
    "collapsed": false
   },
   "outputs": [],
   "source": [
    "# more complicated example\n",
    "[[w, x], [[y], z]] = [{10, 20}, [(30,), 40]]\n",
    "\n",
    "print(w, x, y, z)"
   ]
  },
  {
   "cell_type": "markdown",
   "metadata": {},
   "source": [
    "If you have a collection, including a nested collection, this is a convenient way to extract the objects it contains for use later in your program. Here is an example of a nested list of tuples,"
   ]
  },
  {
   "cell_type": "code",
   "execution_count": null,
   "metadata": {
    "collapsed": false
   },
   "outputs": [],
   "source": [
    "# this is a simple nested list of tuples where the index in the top-level\n",
    "# list corresponds to the dimension of a Cartesian domain and the tuple\n",
    "# of that index contains the domain boundaries\n",
    "boundaries = [(0.0, 1.0), (0.0, 2.0), (-0.5, 0.5)]\n",
    "\n",
    "# while the `boundaries` object is easily passed as an argument to a function\n",
    "# using the values it contains through indexing is not very readable, instead...\n",
    "((xmin, xmax), (ymin, ymax), (zmin, zmax)) = boundaries\n",
    "\n",
    "print(xmin, xmax)\n",
    "print(ymin, ymax)\n",
    "print(zmin, zmax)"
   ]
  },
  {
   "cell_type": "markdown",
   "metadata": {},
   "source": [
    "One related syntax is that tuples need not include the `( )` parenthesis, a collection of objects separated by commas is assumed by Python to be an initializer of a tuple,"
   ]
  },
  {
   "cell_type": "code",
   "execution_count": null,
   "metadata": {
    "collapsed": false
   },
   "outputs": [],
   "source": [
    "x, y = 1, 2\n",
    "\n",
    "print(x, y)"
   ]
  },
  {
   "cell_type": "code",
   "execution_count": null,
   "metadata": {
    "collapsed": false
   },
   "outputs": [],
   "source": [
    "tup = 1,\n",
    "\n",
    "type(tup)"
   ]
  },
  {
   "cell_type": "markdown",
   "metadata": {},
   "source": [
    "My evaluation of this particular convenience syntax is that it actually decreases readability. Thus, I do not use it and recommend that you do not either, although I teach it so that you recognize and understand such syntax when it is used in others' code.\n",
    "\n",
    "At this point you have an beginners-level understanding of programming (in Python). Writing programs is not as simple as understanding programming syntax, constructs, and concepts. One must have a story in mind before writing a book, the same is true for writing a program.\n",
    "\n",
    "In the next lecture we will take a break from programming syntax and see examples of algorithm development. This is a key precondition to writing a program, given a problem you must develop a procedure for solving it, *then* write a program implementing this procedure."
   ]
  },
  {
   "cell_type": "markdown",
   "metadata": {},
   "source": [
    "# Exercises"
   ]
  },
  {
   "cell_type": "markdown",
   "metadata": {},
   "source": [
    "***1.*** Write a function called find_dups that takes a list of integers as its input\n",
    "argument and returns a set of those integers that occur two or more times\n",
    "in the list."
   ]
  },
  {
   "cell_type": "code",
   "execution_count": null,
   "metadata": {
    "collapsed": false
   },
   "outputs": [],
   "source": []
  },
  {
   "cell_type": "markdown",
   "metadata": {},
   "source": [
    "***2.*** Python’s set objects have a method called pop that removes and returns\n",
    "an arbitrary element from the set. If the set gerbils contains five cuddly\n",
    "little animals, for example, calling gerbils.pop() five times will return those animals one by one, leaving the set empty at the end. Use this to write a function called mating_pairs that takes two equal-sized sets called males and\n",
    "females as input and returns a set of pairs; each pair must be a tuple containing one male and one female. (The elements of males and females may be strings containing gerbil names or gerbil ID numbers—your function must work with both.)"
   ]
  },
  {
   "cell_type": "code",
   "execution_count": null,
   "metadata": {
    "collapsed": false
   },
   "outputs": [],
   "source": []
  },
  {
   "cell_type": "markdown",
   "metadata": {},
   "source": [
    "***3.*** The PDB file format is often used to store information about molecules.\n",
    "A PDB file may contain zero or more lines that begin with the word AUTHOR\n",
    "(which may be in uppercase, lowercase, or mixed case), followed by spaces\n",
    "or tabs, followed by the name of the person who created the file. Write a\n",
    "function that takes a list of filenames as an input argument and returns\n",
    "the set of all author names found in those files."
   ]
  },
  {
   "cell_type": "code",
   "execution_count": null,
   "metadata": {
    "collapsed": false
   },
   "outputs": [],
   "source": []
  },
  {
   "cell_type": "markdown",
   "metadata": {},
   "source": [
    "***4.*** The keys in a dictionary are guaranteed to be unique, but the values are\n",
    "not. Write a function called count_values that takes a single dictionary as\n",
    "an argument and returns the number of distinct values it contains. Given\n",
    "the input {'red': 1, 'green': 1, 'blue': 2} , for example, it should return 2 ."
   ]
  },
  {
   "cell_type": "code",
   "execution_count": null,
   "metadata": {
    "collapsed": false
   },
   "outputs": [],
   "source": []
  },
  {
   "cell_type": "markdown",
   "metadata": {},
   "source": [
    "***5.*** After doing a series of experiments, you have compiled a dictionary\n",
    "showing the probability of detecting certain kinds of subatomic particles.\n",
    "The particles’ names are the dictionary’s keys, and the probabilities are\n",
    "the values: {'neutron': 0.55, 'proton': 0.21, 'meson': 0.03, 'muon': 0.07, 'neutrino': 0.14} .\n",
    "Write a function that takes a single dictionary of this kind as input and\n",
    "returns the particle that is least likely to be observed. Given the dictionary\n",
    "shown earlier, for example, the function would return 'meson' ."
   ]
  },
  {
   "cell_type": "code",
   "execution_count": null,
   "metadata": {
    "collapsed": false
   },
   "outputs": [],
   "source": []
  },
  {
   "cell_type": "markdown",
   "metadata": {},
   "source": [
    "***6.*** Write a function called count_duplicates that takes a dictionary as an argu-\n",
    "ment and returns the number of values that appear two or more times."
   ]
  },
  {
   "cell_type": "code",
   "execution_count": null,
   "metadata": {
    "collapsed": false
   },
   "outputs": [],
   "source": []
  },
  {
   "cell_type": "markdown",
   "metadata": {},
   "source": [
    "***7.*** A balanced color is one whose red, green, and blue values add up to 1.0.\n",
    "Write a function called is_balanced that takes a dictionary whose keys are\n",
    "'R' , 'G' , and 'B' as input and returns True if they represent a balanced color."
   ]
  },
  {
   "cell_type": "code",
   "execution_count": null,
   "metadata": {
    "collapsed": false
   },
   "outputs": [],
   "source": []
  },
  {
   "cell_type": "markdown",
   "metadata": {},
   "source": [
    "***8.*** Write a function called dict_intersect that takes two dictionaries as arguments\n",
    "and returns a dictionary that contains only the key/value pairs found in\n",
    "both of the original dictionaries."
   ]
  },
  {
   "cell_type": "code",
   "execution_count": null,
   "metadata": {
    "collapsed": false
   },
   "outputs": [],
   "source": []
  },
  {
   "cell_type": "markdown",
   "metadata": {},
   "source": [
    "***9.*** Programmers sometimes use a dictionary of dictionaries as a simple\n",
    "database. For example, to keep track of information about famous scien-\n",
    "tists, you might have a dictionary where the keys are strings and the\n",
    "values are dictionaries, like this:"
   ]
  },
  {
   "cell_type": "code",
   "execution_count": null,
   "metadata": {
    "collapsed": false
   },
   "outputs": [],
   "source": [
    "{'jgoodall':{'surname':'Goodall',\n",
    "             'forename':'Jane',\n",
    "             'born':1934,\n",
    "             'died':None,\n",
    "             'notes':'Primate Researcher',\n",
    "             'author':['In the shadows of man','The chimpanzees of Gombe']},\n",
    "  'rfranklin':{'surname':'Franklin',\n",
    "               'forename':'Rosalind',\n",
    "               'born':1920,\n",
    "               'died':1957,\n",
    "               'notes':'contributed to the discovery of DNA'},\n",
    "  'rcarson':{'surname':'Carson',\n",
    "              'forename':'Rachel',\n",
    "              'born':1907,\n",
    "              'died':1964,\n",
    "              'notes':'raised awareness about effects of DDT',\n",
    "              'author':['Silent Spring']}}\n"
   ]
  },
  {
   "cell_type": "markdown",
   "metadata": {},
   "source": [
    "Write a function called db_headings that returns the set of keys used in any\n",
    "of the inner dictionaries. In this example, the function should return\n",
    "set('author', 'forename', 'surname', 'notes', 'born', 'died') ."
   ]
  },
  {
   "cell_type": "code",
   "execution_count": null,
   "metadata": {
    "collapsed": false
   },
   "outputs": [],
   "source": []
  },
  {
   "cell_type": "markdown",
   "metadata": {},
   "source": [
    "***10.*** Write another function called db_consistent that takes a dictionary of dictio-\n",
    "naries in the format described in the previous question and returns True\n",
    "if and only if every one of the inner dictionaries has exactly the same keys.\n",
    "(This function would return False for the previous example, since Rosalind\n",
    "Franklin’s entry doesn’t contain the 'author' key.)"
   ]
  },
  {
   "cell_type": "code",
   "execution_count": null,
   "metadata": {
    "collapsed": false
   },
   "outputs": [],
   "source": []
  },
  {
   "cell_type": "markdown",
   "metadata": {},
   "source": [
    "**11.** A sparse vector is a vector whose entries are almost all zero, like [1, 0, 0, 0,\n",
    "0, 0, 3, 0, 0, 0] . Storing all those zeros in a list wastes memory, so program-\n",
    "mers often use dictionaries instead to keep track of just the nonzero\n",
    "entries. For example, the vector shown earlier would be represented as\n",
    "{0:1, 6:3} , because the vector it is meant to represent has the value 1 at\n",
    "index 0 and the value 3 at index 6."
   ]
  },
  {
   "cell_type": "markdown",
   "metadata": {},
   "source": [
    "a. The sum of two vectors is just the element-wise sum of their elements.\n",
    "For example, the sum of [1, 2, 3] and [4, 5, 6] is [5, 7, 9] . Write a function\n",
    "called sparse_add that takes two sparse vectors stored as dictionaries\n",
    "and returns a new dictionary representing their sum."
   ]
  },
  {
   "cell_type": "code",
   "execution_count": null,
   "metadata": {
    "collapsed": false
   },
   "outputs": [],
   "source": []
  },
  {
   "cell_type": "markdown",
   "metadata": {},
   "source": [
    "b.The dot product of two vectors is the sum of the products of corresponding elements. For example, the dot product of [1, 2, 3] and [4, 5,6] is 4+10+18 , or 32. Write another function called sparse_dot that calcu-\n",
    "lates the dot product of two sparse vectors."
   ]
  },
  {
   "cell_type": "code",
   "execution_count": null,
   "metadata": {
    "collapsed": false
   },
   "outputs": [],
   "source": []
  },
  {
   "cell_type": "markdown",
   "metadata": {},
   "source": [
    "c.Your boss has asked you to write a function called sparse_len that will\n",
    "return the length of a sparse vector (just as Python’s len returns the\n",
    "length of a list). What do you need to ask her before you can start\n",
    "writing it?"
   ]
  },
  {
   "cell_type": "code",
   "execution_count": null,
   "metadata": {
    "collapsed": false
   },
   "outputs": [],
   "source": []
  }
 ],
 "metadata": {
  "kernelspec": {
   "display_name": "Python 3",
   "language": "python",
   "name": "python3"
  },
  "language_info": {
   "codemirror_mode": {
    "name": "ipython",
    "version": 3
   },
   "file_extension": ".py",
   "mimetype": "text/x-python",
   "name": "python",
   "nbconvert_exporter": "python",
   "pygments_lexer": "ipython3",
   "version": "3.5.2"
  }
 },
 "nbformat": 4,
 "nbformat_minor": 1
}
