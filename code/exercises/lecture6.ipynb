{
 "cells": [
  {
   "cell_type": "markdown",
   "metadata": {},
   "source": [
    "## Lecture 6\n",
    "\n",
    "The objectives of this lecture are to:\n",
    "\n",
    "1. Learn the basic concepts of function design.\n",
    "2. Create our first program!\n",
    "3. Learn how to handle conditions which you did not expect."
   ]
  },
  {
   "cell_type": "markdown",
   "metadata": {},
   "source": [
    "# Basic concepts of function design\n",
    "\n",
    "In the previous lecture we learned about how to use functions and the basic components of a *function definition* in Python,\n",
    "\n",
    "```python\n",
    "    def myfunction(variable1, variable2, ...):\n",
    "        'Documentation string'\n",
    "\n",
    "        statement1\n",
    "        statement2\n",
    "    \n",
    "        return result\n",
    "```\n",
    "\n",
    "Now we will learn a basic approach to the *design* of functions. Before you start writing code, the time you spend designing the code will directly determine how well that code functions, especially with unexpected or unintended cases.\n",
    "\n",
    "Documentation of your function (and all code) is extremely important, thus the presented function design recipe revolves around generating the *documentation string* or *docstring* for your function as part of its design! Using a simple example function which finds the maximum roots of a quadratic function $f(x) = a x^2 + b x + c$ as an example, the procedure is as follows,\n",
    "\n",
    "1. *Examples*. Create a set of representative examples of what the function would output given sufficient input parameters. Assuming a logical form of the function is `quadratic_root(a, b, c)` and it returns the correct value,\n",
    "```python\n",
    "    >>> quadratic_root(2., 3., 1.)\n",
    "    -1.0\n",
    "    >>> quadratic_root(1., -2., -3.)\n",
    "    3.0\n",
    "    >>> quadratic_root(1., 0., 1.)\n",
    "    -1j\n",
    "```\n",
    "2. *Type Contract*. Now that you have a general understanding of the function's desired behaviour, determine what type of values are acceptable as inputs and what the output type will be. In this example it makes sense to restrict the function inputs to be `float` values and the output will be `complex`. The type contract is typically written like this,\n",
    "```python\n",
    "(float, float, float) -> complex\n",
    "```\n",
    "It is called a *contract* because the function developer claims that the function will behave correctly if the user supplies input arguments of the specified types.\n",
    "3. *Function Header*. Now create the function header; if you made a reasonably good attempt at the previous steps, this should be simple,\n",
    "```python\n",
    "def quadratic_root(a, b, c):\n",
    "```\n",
    "Try to not use abbreviations in your function name, the longer and more detailed (within reason!) the better.\n",
    "4. *Docstring*. Now create the docstring by developing a description of the function's behaviour and the information from the previous steps,\n",
    "\n",
    "```python\n",
    "\"\"\"(float, float, float) -> complex\n",
    "\n",
    "Return the maximum root (absolute) of a quadratic function $f(x) = a x^2 + b x + c$ with real coefficients.\n",
    "\n",
    "\n",
    "    >>> quadratic_root(2., 3., 1.)\n",
    "    1.0\n",
    "    >>> quadratic_root(1., -2., -3.)\n",
    "    -3.0\n",
    "    >>> quadratic_root(1., 0., 1.)\n",
    "    -1j\n",
    "\"\"\"\n",
    "```\n",
    "5. *Body*. Write the body of the function; now is a good time to try to think of special cases of input parameters that the function will need to handle predictably.\n",
    "6. *Test*. Run the examples you developed in the first step to make sure that your function behaves correctly.\n",
    "\n",
    "The final result from this process is as follows,"
   ]
  },
  {
   "cell_type": "code",
   "execution_count": null,
   "metadata": {},
   "outputs": [],
   "source": [
    "def quadratic_root(a ,b ,c):\n",
    "    \"\"\"(float, float, float) -> complex\n",
    "    \n",
    "    Return the maximum root of a quadratic function $f(x) = a x^2 + b x + c$ with real coefficients.\n",
    "    The maximum root is determined from the absolute value or modulus of the values.\n",
    "    \n",
    "    \n",
    "        >>> quadratic_root(2., 3., 1.)\n",
    "        1.0\n",
    "        >>> quadratic_root(1., -2., -3.)\n",
    "        3.0\n",
    "        >>> quadratic_root(1., 0., 1.)\n",
    "        1j\n",
    "    \"\"\"\n",
    "    \n",
    "    # using the quadratic formula, compute the two roots of the\n",
    "    # polynomial\n",
    "    root1 = (-b + (b**2 - 4. * a * c)**0.5 )/(2. * a)\n",
    "    root2 = (-b - (b**2 - 4. * a * c)**0.5 )/(2. * a)\n",
    "    \n",
    "    # use the built-in function `abs()` to determine which is maximum, note:\n",
    "    # - `abs()` that this function computes the modulus of a complex number\n",
    "    # - this works for repeated roots, does not matter which is returned!\n",
    "    if abs(root1) > abs(root2):\n",
    "        return(root1)\n",
    "    else:\n",
    "        return(root2)"
   ]
  },
  {
   "cell_type": "markdown",
   "metadata": {},
   "source": [
    "Notice that as I wrote the function body I included comments explaining each line of code. A good programmer writes more comments than code! Now let's complete the function design exercise and run our test cases,"
   ]
  },
  {
   "cell_type": "code",
   "execution_count": null,
   "metadata": {},
   "outputs": [],
   "source": [
    "quadratic_root(2., 3., 1.)"
   ]
  },
  {
   "cell_type": "code",
   "execution_count": null,
   "metadata": {},
   "outputs": [],
   "source": [
    "quadratic_root(1., -2., -3.)"
   ]
  },
  {
   "cell_type": "code",
   "execution_count": null,
   "metadata": {},
   "outputs": [],
   "source": [
    "quadratic_root(1., 0., 1.)"
   ]
  },
  {
   "cell_type": "markdown",
   "metadata": {},
   "source": [
    "Our tests cases were successful, although the output for the last case is not what we expected, but within numerical precision of the computer. You will learn how to deal with these types of cases in NE113!\n",
    "\n",
    "The function design procedure is relatively straightforward, we will develop many functions over the next few lectures, but for additional simplified examples see Section 3.6 in the textbook.\n",
    "\n",
    "### Omitting the `return` statement\n",
    "\n",
    "Occasionally you will need to write a function that does not require a value to be returned. For example, a function that notifies the user of some condition\n",
    "\n"
   ]
  },
  {
   "cell_type": "code",
   "execution_count": null,
   "metadata": {},
   "outputs": [],
   "source": [
    "def print_warning(message):\n",
    "    print(\"WARNING: \" + message + \"!!!\")\n",
    "    \n",
    "print_warning(\"You have overslept\")"
   ]
  },
  {
   "cell_type": "markdown",
   "metadata": {},
   "source": [
    "Note that I did not assign the return value of the function to a variable, it is not needed. This is perfectly acceptable syntax, but what happens if I do store the value, what type of value is it?"
   ]
  },
  {
   "cell_type": "code",
   "execution_count": null,
   "metadata": {},
   "outputs": [],
   "source": [
    "result = print_warning(\"You have overslept\")\n",
    "\n",
    "type(result)"
   ]
  },
  {
   "cell_type": "markdown",
   "metadata": {},
   "source": [
    "The `NoneType` value in Python is a special type that is meant to represent nothing or null. It is typically used to indicate the absence of a value. Thus even though we omitted the return statement in the function definition above, Python interpreted it to be equivalent to,"
   ]
  },
  {
   "cell_type": "code",
   "execution_count": null,
   "metadata": {},
   "outputs": [],
   "source": [
    "def print_warning(message):\n",
    "    print(\"WARNING: \" + message + \"!!!\")\n",
    "    return(None)"
   ]
  },
  {
   "cell_type": "markdown",
   "metadata": {},
   "source": [
    "# Creating a Program\n",
    "\n",
    "At this point you should be relatively familiar with the interactive lecture environment, the iPython Notebook. While this environment is excellent for teaching and giving presentations, you will likely find using the Python interpreter and interactive Python interpreter more convenient for developing and running your code. \n",
    "\n",
    "For more complex programs, especially ones that include functions, you can create a file or multiple files that contain your code. Then you can instruct the Python interpreter to execute the code in those files. In this part of the lecture we will use the previous example to demonstrate these three usage cases:\n",
    "\n",
    "1. Using the Python interpreter directly -- interactive use of the Python interpreter is not convenient, typically it is used only to execute programs stored in files or scripts (item #3).\n",
    "2. Using the iPython interactive interpreter -- interactive use of Python is most convenient using iPython or the iPython notebook.\n",
    "3. Using the Python interpreter to execute Python code in a file -- we typically store code in a file or set of files to be executed using the interpreter.\n",
    "\n",
    "(switch to terminal for examples)\n",
    "\n",
    "\n",
    "# Handling conditions that you did not expect\n",
    "\n",
    "Typically the functions you design will have several input parameter values for which the output is not defined or not valid. These cases are frequently handled by Python through its reporting of *semantic errors* (see Lecture 4). For example,  "
   ]
  },
  {
   "cell_type": "code",
   "execution_count": null,
   "metadata": {},
   "outputs": [],
   "source": [
    "def pie_percent(n):\n",
    "    ''' (int) -> int\n",
    "    \n",
    "    Assuming there are n people who want to eat a pie, return the percentage\n",
    "    of the pie that each person gets to eat.\n",
    "    \n",
    "    >>> pie_percent(5)\n",
    "    20\n",
    "    >>> pie_percent(2)\n",
    "    50\n",
    "    >>> pie_percent(1)\n",
    "    100\n",
    "    '''\n",
    "    return int(100 * 1 / n)\n",
    "\n",
    "pie_percent(0.5)"
   ]
  },
  {
   "cell_type": "markdown",
   "metadata": {},
   "source": [
    "While the default error reporting of Python is correct, a good programmer should help avoid such situations by providing *preconditions* on the input arguments that further restrict the type contract,"
   ]
  },
  {
   "cell_type": "code",
   "execution_count": null,
   "metadata": {},
   "outputs": [],
   "source": [
    "def pie_percent(n):\n",
    "    ''' (int) -> int\n",
    "    \n",
    "    Precondition: n is a positive integer\n",
    "    \n",
    "    Assuming there are n people who want to eat a pie, return the percentage\n",
    "    of the pie that each person gets to eat.\n",
    "    \n",
    "    >>> pie_percent(5)\n",
    "    20\n",
    "    >>> pie_percent(2)\n",
    "    50\n",
    "    >>> pie_percent(1)\n",
    "    100\n",
    "    '''\n",
    "    return int(100 * 1 / n)\n",
    "\n",
    "pie_percent(0)"
   ]
  },
  {
   "cell_type": "markdown",
   "metadata": {},
   "source": [
    "As long as the user exercises due care in using your function, the error condition above will be avoided. For very complex function you may go one step further and enforce the preconditions while simultaneously providing information to the user about why you function is not valid with these input parameters,"
   ]
  },
  {
   "cell_type": "code",
   "execution_count": null,
   "metadata": {},
   "outputs": [],
   "source": [
    "def pie_percent(n):\n",
    "    ''' (int) -> int\n",
    "    \n",
    "    Precondition: n is a positive integer\n",
    "    \n",
    "    Assuming there are n people who want to eat a pie, return the percentage\n",
    "    of the pie that each person gets to eat.\n",
    "    \n",
    "    >>> pie_percent(5)\n",
    "    20\n",
    "    >>> pie_percent(2)\n",
    "    50\n",
    "    >>> pie_percent(1)\n",
    "    100\n",
    "    '''\n",
    "    if (type(n) != int) or (n <= 0):\n",
    "        print(\"Invalid input argument.\")\n",
    "        return(None)\n",
    "    \n",
    "    return int(100 * 1 / n)\n",
    "\n",
    "value = pie_percent(0)\n",
    "print(value)"
   ]
  },
  {
   "cell_type": "markdown",
   "metadata": {},
   "source": [
    "Although this necessitates the use of conditional statements which you will not learn for a few lectures!"
   ]
  },
  {
   "cell_type": "markdown",
   "metadata": {},
   "source": [
    "## Practice Exercises"
   ]
  },
  {
   "cell_type": "markdown",
   "metadata": {},
   "source": [
    "### PragProg Section 3.11"
   ]
  },
  {
   "cell_type": "markdown",
   "metadata": {},
   "source": [
    "**6.** Following the function design recipe, define a function that has three parameters, grades between 0 and 100 inclusive, and returns the average of those grades."
   ]
  },
  {
   "cell_type": "code",
   "execution_count": null,
   "metadata": {},
   "outputs": [],
   "source": []
  },
  {
   "cell_type": "markdown",
   "metadata": {},
   "source": [
    "**7.** Following the function design recipe, define a function that has four parameters, all of them grades between 0 and 100 inclusive, and returns the average of the _best 3_ of those grades. Hint: Call the function that you defined in the previous exercise."
   ]
  },
  {
   "cell_type": "code",
   "execution_count": null,
   "metadata": {},
   "outputs": [],
   "source": []
  },
  {
   "cell_type": "markdown",
   "metadata": {},
   "source": [
    "**8.** Complete the examples in the docstring then write the body of the following function:"
   ]
  },
  {
   "cell_type": "code",
   "execution_count": null,
   "metadata": {},
   "outputs": [],
   "source": [
    "def weeks_elapsed(day1, day2):\n",
    "    \"\"\" (int, int) -> int\n",
    "    \n",
    "    day1 and day2 are days in the same year. Return the number of full weeks that have elapsed between the two days.\n",
    "    \n",
    "    >>> weeks_elapsed(3, 20)\n",
    "    2\n",
    "    >>>weeks_elapsed(20, 3)\n",
    "    2\n",
    "    >>>weeks_elapsed(8, 5)\n",
    "    ???\n",
    "    >>>weeks_elapsed(40, 61)\n",
    "    ???\n",
    "    \"\"\"\n",
    "    "
   ]
  },
  {
   "cell_type": "markdown",
   "metadata": {},
   "source": [
    "**9.** Consider this code:"
   ]
  },
  {
   "cell_type": "code",
   "execution_count": null,
   "metadata": {},
   "outputs": [],
   "source": [
    "def square(num):\n",
    "    \"\"\" (number -> number\n",
    "    \n",
    "    Return the square of num.\n",
    "    \n",
    "    >>>square(3)\n",
    "    9\n",
    "    \"\"\""
   ]
  },
  {
   "cell_type": "markdown",
   "metadata": {},
   "source": [
    "Write `square`, `num`, `square(3)`, and `3` next to the appropriate description:\n",
    ">Parameter:  \n",
    ">Argument:  \n",
    ">Function name:  \n",
    ">Function call:"
   ]
  },
  {
   "cell_type": "markdown",
   "metadata": {},
   "source": [
    "**10.** Write the body of the `square()` function from question 9."
   ]
  },
  {
   "cell_type": "code",
   "execution_count": null,
   "metadata": {},
   "outputs": [],
   "source": []
  }
 ],
 "metadata": {
  "kernelspec": {
   "display_name": "Python 3",
   "language": "python",
   "name": "python3"
  },
  "language_info": {
   "codemirror_mode": {
    "name": "ipython",
    "version": 3
   },
   "file_extension": ".py",
   "mimetype": "text/x-python",
   "name": "python",
   "nbconvert_exporter": "python",
   "pygments_lexer": "ipython3",
   "version": "3.5.3"
  }
 },
 "nbformat": 4,
 "nbformat_minor": 1
}
