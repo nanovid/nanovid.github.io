{
 "cells": [
  {
   "cell_type": "markdown",
   "metadata": {},
   "source": [
    "# Exercise 3"
   ]
  },
  {
   "cell_type": "markdown",
   "metadata": {},
   "source": [
    "**IMPORTANT**: Do not confuse the letter `l` and the number `1`, which look similar in a monospace font: `l` is a lowercase L, `1` is the numeral 1. Mixing them up will cause you a lot of grief!\n",
    "\n",
    "In this exercise, we introduce problems where you must write functions (Problems 3, 4, 6). In order for function declarations to be syntactically correct, they must contain at least a single indented line of code. The statement `pass` is often used to denote an incomplete function. `pass` does nothing, so please replace it when writing your solution."
   ]
  },
  {
   "cell_type": "markdown",
   "metadata": {},
   "source": [
    "#### Problem 1\n",
    "\n",
    "Round `p1a` (float) to the decimal place `p1b` (integer) and assign the resulting value to `problem1`."
   ]
  },
  {
   "cell_type": "code",
   "execution_count": null,
   "metadata": {
    "collapsed": true
   },
   "outputs": [],
   "source": [
    "problem1 = None"
   ]
  },
  {
   "cell_type": "markdown",
   "metadata": {},
   "source": [
    "#### Problem 2\n",
    "\n",
    "Using built-in functions to assign a complex value with the real component equal to `p2r` and the imaginary component equal to `p2i`."
   ]
  },
  {
   "cell_type": "code",
   "execution_count": null,
   "metadata": {
    "collapsed": true
   },
   "outputs": [],
   "source": [
    "problem2 = None"
   ]
  },
  {
   "cell_type": "markdown",
   "metadata": {},
   "source": [
    "#### Problem 3\n",
    "\n",
    "Complete the partial function declaration below."
   ]
  },
  {
   "cell_type": "code",
   "execution_count": null,
   "metadata": {
    "collapsed": true
   },
   "outputs": [],
   "source": [
    "def problem3(m1, n1, m2, n2):\n",
    "    \"\"\"\n",
    "    (int, int, int, int) -> int\n",
    "    \n",
    "    Given four integers, determine the product of the maximum integer\n",
    "    and minimum integer.\n",
    "\n",
    "    >>> problem3(1, 2, 3, 4)\n",
    "    4\n",
    "    >>> problem3(1, -2, -3, 10)\n",
    "    -30\n",
    "    \"\"\"\n",
    "    pass"
   ]
  },
  {
   "cell_type": "markdown",
   "metadata": {},
   "source": [
    "#### Problem 4\n",
    "\n",
    "Which one of the following scenarios would *not* be an appropriate use of the `None` value:\n",
    "\n",
    "a) As the return value for a function that displays text to the screen.\n",
    "\n",
    "b) As the input value for the real argument for `complex()` to represent a number with a zero real component.\n",
    "\n",
    "c) The result of executing a function with invalid input arguments."
   ]
  },
  {
   "cell_type": "code",
   "execution_count": null,
   "metadata": {
    "collapsed": true
   },
   "outputs": [],
   "source": [
    "problem4 = '' # 'a', 'ac', etc"
   ]
  },
  {
   "cell_type": "markdown",
   "metadata": {},
   "source": [
    "#### Problem 5\n",
    "\n",
    "Following the function design recipe, define a function that finds the determinant of a square 2x2 matrix given entries `a`, `b`, `c`, `d` in order row-wise."
   ]
  },
  {
   "cell_type": "code",
   "execution_count": null,
   "metadata": {
    "collapsed": true
   },
   "outputs": [],
   "source": [
    "def problem5(a, b, c, d):\n",
    "    \"\"\"\n",
    "    \n",
    "    \"\"\"\n",
    "    pass"
   ]
  },
  {
   "cell_type": "markdown",
   "metadata": {},
   "source": [
    "#### Problem 6\n",
    "\n",
    "Following the function design recipe, define a function that returns the number of breaks to be taken on a trip of length `h` hours if a break is taken every `t` minutes."
   ]
  },
  {
   "cell_type": "code",
   "execution_count": null,
   "metadata": {
    "collapsed": true
   },
   "outputs": [],
   "source": [
    "def problem6(h, t):\n",
    "    \"\"\"\n",
    "    \n",
    "    \"\"\"\n",
    "    pass"
   ]
  }
 ],
 "metadata": {
  "kernelspec": {
   "display_name": "Python 3",
   "language": "python",
   "name": "python3"
  },
  "language_info": {
   "codemirror_mode": {
    "name": "ipython",
    "version": 3
   },
   "file_extension": ".py",
   "mimetype": "text/x-python",
   "name": "python",
   "nbconvert_exporter": "python",
   "pygments_lexer": "ipython3",
   "version": "3.5.3"
  }
 },
 "nbformat": 4,
 "nbformat_minor": 1
}
