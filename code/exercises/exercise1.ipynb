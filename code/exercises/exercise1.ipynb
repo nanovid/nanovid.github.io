{
 "cells": [
  {
   "cell_type": "markdown",
   "metadata": {},
   "source": [
    "# Exercise 1"
   ]
  },
  {
   "cell_type": "markdown",
   "metadata": {},
   "source": [
    "## How to complete these exercises: \n",
    "\n",
    "For multiple choice problems, you **must** enclose your answer with single or double quotation marks, as indicated in the comments following each line (indicated by the `#` symbol). \n",
    "\n",
    "For all other problems, you must replace `None` with your answer. Furthermore, for True/False problems, you must enter your answer as `True` or `False` **without** quotation marks.\n",
    "\n",
    "If a question states that you are **given** a variable (for example, in Problem 9), then you should *assume* that the variable exists. Note that this means you will encounter a `NameError` if you try to run the cell -- this is completely normal! \n",
    "\n",
    "If you would like to test your code (which is highly recommended), then you can define these variables explicitly (e.g. `c = 5`), but you must remove this definition before submitting your .py file on the NE111 grading website or your submission will be invalid."
   ]
  },
  {
   "cell_type": "markdown",
   "metadata": {},
   "source": [
    "#### Problem 1\n",
    "How does the computer execute a Python program?\n",
    "\n",
    "a. Executes a progam called a compiler which translates the Python program into machine code and executes that code on the CPU.\n",
    "\n",
    "b. Executes a program called an interpreter which inputs the Python code and indirectly executes it on the CPU.\n",
    "\n",
    "c. Python supports both compiled and interpreted execution modes."
   ]
  },
  {
   "cell_type": "code",
   "execution_count": null,
   "metadata": {
    "collapsed": true
   },
   "outputs": [],
   "source": [
    "problem1 = '' # 'a', 'b', or 'c'"
   ]
  },
  {
   "cell_type": "markdown",
   "metadata": {},
   "source": [
    "#### Problem 2\n",
    "\n",
    "Which of the following *is not* an attribute of computer memory?\n",
    "\n",
    "a. latency\n",
    "\n",
    "b. capacity\n",
    "\n",
    "c. quality\n",
    "\n",
    "d. persistence\n",
    "\n",
    "e. throughput"
   ]
  },
  {
   "cell_type": "code",
   "execution_count": null,
   "metadata": {
    "collapsed": true
   },
   "outputs": [],
   "source": [
    "problem2 = '' # 'a', 'b', 'c', ''d, or 'e'"
   ]
  },
  {
   "cell_type": "markdown",
   "metadata": {},
   "source": [
    "#### Problem 3\n",
    "\n",
    "Implement a single statement which assigns the remainder of dividing `a` by `b` to the variable `problem3`."
   ]
  },
  {
   "cell_type": "code",
   "execution_count": null,
   "metadata": {
    "collapsed": true
   },
   "outputs": [],
   "source": [
    "problem3 = None"
   ]
  },
  {
   "cell_type": "markdown",
   "metadata": {},
   "source": [
    "#### Problem 4\n",
    "\n",
    "Implement a single statement which assigns the value of type `float` resulting from multiplication of `a` by $2$ to `problem4`."
   ]
  },
  {
   "cell_type": "code",
   "execution_count": null,
   "metadata": {
    "collapsed": true
   },
   "outputs": [],
   "source": [
    "problem4 = None"
   ]
  },
  {
   "cell_type": "markdown",
   "metadata": {},
   "source": [
    "#### Problem 5\n",
    "\n",
    "Which of the following are examples of *programs* using human language:\n",
    "\n",
    "a. Instructions to assembly a piece of furniture.\n",
    "\n",
    "b. Sheet music for a piano.\n",
    "\n",
    "c. Driving directions from one point to another.\n",
    "\n",
    "d. all of the above"
   ]
  },
  {
   "cell_type": "code",
   "execution_count": null,
   "metadata": {
    "collapsed": true
   },
   "outputs": [],
   "source": [
    "problem5 = '' # 'a', 'b', 'c', or 'd'"
   ]
  },
  {
   "cell_type": "markdown",
   "metadata": {},
   "source": [
    "#### Problem 6\n",
    "\n",
    "(True or False) This is an example of a high-level programming language:\n",
    "\n",
    "```fortran\n",
    "      PROGRAM HELLO\n",
    "*     The PRINT statement is like WRITE,\n",
    "*     but prints to the standard output unit\n",
    "        PRINT '(A)', 'Hello, world'\n",
    "        STOP\n",
    "      END\n",
    "```"
   ]
  },
  {
   "cell_type": "code",
   "execution_count": null,
   "metadata": {
    "collapsed": true
   },
   "outputs": [],
   "source": [
    "problem6 = None # True or False"
   ]
  },
  {
   "cell_type": "markdown",
   "metadata": {},
   "source": [
    "#### Problem 7\n",
    "\n",
    "(True or False) An example of a conditional instruction in human language would be \"Repeat after me 7 times\"."
   ]
  },
  {
   "cell_type": "code",
   "execution_count": null,
   "metadata": {
    "collapsed": true
   },
   "outputs": [],
   "source": [
    "problem7 = None # True or False"
   ]
  },
  {
   "cell_type": "markdown",
   "metadata": {},
   "source": [
    "#### Problem 8\n",
    "\n",
    "(True or False) A program that returns the expected output does not have any programming bugs."
   ]
  },
  {
   "cell_type": "code",
   "execution_count": null,
   "metadata": {
    "collapsed": true
   },
   "outputs": [],
   "source": [
    "problem8 = None # True or False"
   ]
  },
  {
   "cell_type": "markdown",
   "metadata": {},
   "source": [
    "#### Problem 9\n",
    "\n",
    "Given the variable `c` create and expression that (1) negates the `c`, (2) raises the result to the power of `3`, and (3) assigns the result to `problem9`. "
   ]
  },
  {
   "cell_type": "code",
   "execution_count": null,
   "metadata": {
    "collapsed": true
   },
   "outputs": [],
   "source": [
    "problem9 = None"
   ]
  },
  {
   "cell_type": "markdown",
   "metadata": {},
   "source": [
    "#### Problem 10\n",
    "\n",
    "In the Python expression below, add parentheses where needed so that addition is performed before subtraction, without affecting the order of other operations."
   ]
  },
  {
   "cell_type": "code",
   "execution_count": null,
   "metadata": {
    "collapsed": true
   },
   "outputs": [],
   "source": [
    "problem10 = 10 - 3 + 2 * 4 - 1 + 3"
   ]
  },
  {
   "cell_type": "markdown",
   "metadata": {},
   "source": [
    "#### Problem 11\n",
    "\n",
    "Which of the following real values cannot be expressed exactly using a Python `float`?\n",
    "\n",
    "a. $\\frac{3}{4}$\n",
    "\n",
    "b. $\\frac{4}{3}$\n",
    "\n",
    "c. $10^{11} + 10^{-11}$\n",
    "\n",
    "d. $\\sqrt{2}$\n",
    "\n",
    "e. $5.33333333$"
   ]
  },
  {
   "cell_type": "code",
   "execution_count": null,
   "metadata": {
    "collapsed": true
   },
   "outputs": [],
   "source": [
    "problem11 = '' # 'a', 'b', etc or 'ab', 'ce', 'abe' for multiple choices"
   ]
  }
 ],
 "metadata": {
  "kernelspec": {
   "display_name": "Python 3",
   "language": "python",
   "name": "python3"
  },
  "language_info": {
   "codemirror_mode": {
    "name": "ipython",
    "version": 3
   },
   "file_extension": ".py",
   "mimetype": "text/x-python",
   "name": "python",
   "nbconvert_exporter": "python",
   "pygments_lexer": "ipython3",
   "version": "3.7.3"
  }
 },
 "nbformat": 4,
 "nbformat_minor": 1
}
