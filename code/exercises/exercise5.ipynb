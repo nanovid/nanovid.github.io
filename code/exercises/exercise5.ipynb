{
 "cells": [
  {
   "cell_type": "markdown",
   "metadata": {},
   "source": [
    "# Exercise 5\n",
    "\n",
    "Create a Python module `water.py` that contains the follow data:\n",
    "\n",
    "| Property Name | Value (SI) | Variable Name |     Property Name    | Value (SI) | Variable Name |\n",
    "|---------------|:----------:|---------------|:--------------------:|------------|---------------|\n",
    "| CAS Number    | 7732-18-5  | `cas_number`  | Melting Point        | 273.15     | `Tm`          |\n",
    "| Density       | 1000       | `rho`         | Boiling Point        | 373.13     | `Tb`          |\n",
    "| Viscosity     | 1          | `mu`          | Thermal Conductivity | 0.58           | `k`           |\n",
    " \n",
    "and the following functions:\n",
    "\n",
    "* `convert_to_kelvin(temperature, units)` -- returns the `temperature` in Kelvin where `temperature` is a numeric value (`float` or `int`) and `units` is a string of length 1 ('C' for Celsius, and 'F' for Fahrenheit).\n",
    "* `is_gas(temperature)` -- returns `True` if water is a gas at the specified `temperature`, else returns `False`, where `temperature` is a numeric value (`float` or `int`) and is assumed to be in Kelvin.\n",
    "* `is_liquid(temperature)` -- returns `True` if water is a liquid at the specified `temperature`, else `False`, where `temperature` is a numeric value (`float` or `int`) and is assumed to be in Kelvin.\n",
    "* `is_solid(temperature)` -- returns `True` if water is a solid at the specified `temperature`, else `False`, where `temperature` is a numeric value (`float` or `int`) and is assumed to be in Kelvin.\n",
    "\n",
    "where each function returns the `None` value if invalid input arguments were provided.\n",
    "\n",
    "Finally, develop the module such that if (and only if) it is executed as a script it does the following things, in sequential order:\n",
    "\n",
    "1. Queries the user for the desired units ('K' for Kelvin, 'C' for Celsius, and 'F' for Fahrenheit).\n",
    "\n",
    "2. Queries the user for a temperature value.\n",
    "\n",
    "3. Outputs a message corresponding to the phase of water at the specified temperature: \"solid\", \"liquid\", \"gas\", or \"Invalid input!\" (if invalid input was provided at any time in the execution)."
   ]
  }
 ],
 "metadata": {
  "kernelspec": {
   "display_name": "Python 3",
   "language": "python",
   "name": "python3"
  },
  "language_info": {
   "codemirror_mode": {
    "name": "ipython",
    "version": 3
   },
   "file_extension": ".py",
   "mimetype": "text/x-python",
   "name": "python",
   "nbconvert_exporter": "python",
   "pygments_lexer": "ipython3",
   "version": "3.6.7rc1"
  }
 },
 "nbformat": 4,
 "nbformat_minor": 1
}
