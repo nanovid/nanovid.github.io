{
 "cells": [
  {
   "cell_type": "markdown",
   "metadata": {},
   "source": [
    "# Exercise 10"
   ]
  },
  {
   "cell_type": "markdown",
   "metadata": {},
   "source": [
    "Remember that a discrete dynamical system involves an $N\\times N$ \"transition\" matrix $\\mathbf{A}$ and an $N\\times 1$ state vector $\\mathbf{u}_k$ at time $k$:\n",
    "$$\n",
    "\\begin{equation}\n",
    "\\mathbf{u}_k = \\mathbf{A}\\mathbf{u}_{k-1} = \\mathbf{A}^k\\mathbf{u}_{0}\n",
    "\\end{equation}\n",
    "$$\n",
    "given the $N^A \\le N$ eigenvalues $\\lambda_i$ and corresponding (orthonormal) eigenvectors $\\mathbf{x}_i$ of the matrix $\\mathbf{A}$, the initial state vector can be projected onto the eigenspace of $\\mathbf{A}$:\n",
    "$$\n",
    "\\begin{equation}\n",
    "\\mathbf{u}^A_0 = proj(\\mathbf{u}_0) = \\sum_{i=1}^{N^A} a_i\\mathbf{x}_{i}\n",
    "\\end{equation}\n",
    "$$\n",
    "where $a_i$ are a set of $N^A$ constants and the eigenvectors of $\\mathbf{A}$ do not necessarily need to span $\\mathbb{R}^N$. Substituting the decomposed $\\mathbf{u}_0$ into the original formulation:\n",
    "\n",
    "\\begin{equation}\n",
    "\\mathbf{u}_k =  \\mathbf{A}^k \\mathbf{u}_{0} = \\sum_{i=1}^{N^A} a_i\\lambda^k \\mathbf{x}_{i}\n",
    "\\end{equation}\n",
    "\n",
    "Create a Python module `dds.py` that uses the `numpy` and `matplotlib` modules to evaluate and visualize discrete dynamical systems. The module should contain the following functions:\n",
    "\n",
    "* `eigendecompose(A, u0)` -- returns a tuple `(evals, evecs, consts)` where `evals` is the `list` of eigenvalues and `evecs` is the `list` ([$\\mathbf{x}_1, \\ \\mathbf{x}_2, \\ ..., \\mathbf{x}_{N^A}$]) of eigenvectors of the `numpy` matrix `A` and `consts` is a `list` of constants $a_i$ from above for `u0`. Note that the eigenvectors should form an orthonormal set (if possible!).\n",
    "* `evaluate_decomposed(evals, evecs, consts, k)` -- *optimally* evaluates and returns an array $u_k$ given a list of eigenvalues, a list of eigenvectors, a list of constants, and $k$.\n",
    "* `evaluate(A, u0, k)` -- *optimally* evaluates and returns an array $u_k$ given an $N\\times N$ transition matrix and $N\\times 1$ initial state vector.\n",
    "* `evolution(A, u0, k)` -- returns an `numpy.ndarray` `U` with shape $(N, k+1)$ which contains each $u_k$ for $k=0\\rightarrow k$ given an $N\\times N$ transition matrix and $N\\times 1$ initial state vector.\n",
    "* `plot(U, labels=None)` -- returns a `figure` object representing a single plot including each of the components of the state vectors contained in `U` with respect to step number ($k$). If `labels` is a `list` of $N$ strings, the figure should contain a legend with labels from the list.\n",
    "\n",
    "All functions should check for valid input arguments and include appropriate doc-strings. If the input is invalid, the function should return `None`."
   ]
  },
  {
   "cell_type": "code",
   "execution_count": null,
   "metadata": {
    "collapsed": true
   },
   "outputs": [],
   "source": []
  }
 ],
 "metadata": {
  "kernelspec": {
   "display_name": "Python 3",
   "language": "python",
   "name": "python3"
  },
  "language_info": {
   "codemirror_mode": {
    "name": "ipython",
    "version": 3
   },
   "file_extension": ".py",
   "mimetype": "text/x-python",
   "name": "python",
   "nbconvert_exporter": "python",
   "pygments_lexer": "ipython3",
   "version": "3.6.7rc1"
  }
 },
 "nbformat": 4,
 "nbformat_minor": 1
}
