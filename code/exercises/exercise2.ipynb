{
 "cells": [
  {
   "cell_type": "markdown",
   "metadata": {},
   "source": [
    "# Exercise 2"
   ]
  },
  {
   "cell_type": "markdown",
   "metadata": {},
   "source": [
    "#### Problem 1\n",
    "\n",
    "Which of the following are valid Python variable names?\n",
    "\n",
    "a. `new_variable`\n",
    "\n",
    "b. `count`\n",
    "\n",
    "c. `keyword`\n",
    "\n",
    "d. `3l33t`\n",
    "\n",
    "e. `_slepc_`"
   ]
  },
  {
   "cell_type": "code",
   "execution_count": null,
   "metadata": {
    "collapsed": true
   },
   "outputs": [],
   "source": [
    "problem1 = '' # 'abe', 'a', etc"
   ]
  },
  {
   "cell_type": "markdown",
   "metadata": {},
   "source": [
    "#### Problem 2\n",
    "\n",
    "(True/False) Given a Python code,\n",
    "```python\n",
    "var = 3\n",
    "\n",
    "id1 = id(var)\n",
    "id2 = id(3)\n",
    "```\n",
    "the *values* of `id1` and `id2` are equal."
   ]
  },
  {
   "cell_type": "code",
   "execution_count": null,
   "metadata": {
    "collapsed": true
   },
   "outputs": [],
   "source": [
    "problem2 = None # True or Falses"
   ]
  },
  {
   "cell_type": "markdown",
   "metadata": {},
   "source": [
    "#### Problem 3\n",
    "\n",
    "(True/False) Given the Python code,\n",
    "```python\n",
    "two_int = 2\n",
    "two_float = 2.0\n",
    "\n",
    "value1 = two_int / two_float\n",
    "value2 = two_float // two_int\n",
    "\n",
    "value1 *= value2\n",
    "```\n",
    "the *values* of `value1` and `value2` are equal."
   ]
  },
  {
   "cell_type": "code",
   "execution_count": null,
   "metadata": {
    "collapsed": true
   },
   "outputs": [],
   "source": [
    "problem3 = None # True or False"
   ]
  },
  {
   "cell_type": "markdown",
   "metadata": {},
   "source": [
    "#### Problem 4\n",
    "\n",
    "(True/False) From evaluation of the Python code in the previous problem, `id(value1)` and `id(value2)` are equal."
   ]
  },
  {
   "cell_type": "code",
   "execution_count": null,
   "metadata": {
    "collapsed": true
   },
   "outputs": [],
   "source": [
    "problem4 = None # True or False"
   ]
  },
  {
   "cell_type": "markdown",
   "metadata": {},
   "source": [
    "#### Problem 5\n",
    "\n",
    "The following Python statement,\n",
    "\n",
    "`result = -3**0.5`\n",
    "\n",
    "is an example of a:\n",
    "\n",
    "a) Program Bug\n",
    "\n",
    "b) Syntax Error\n",
    "\n",
    "c) All of the Above\n",
    "\n",
    "d) None of the Above"
   ]
  },
  {
   "cell_type": "code",
   "execution_count": null,
   "metadata": {
    "collapsed": true
   },
   "outputs": [],
   "source": [
    "problem5 = '' # 'a', 'b', 'c', or 'd'"
   ]
  },
  {
   "cell_type": "markdown",
   "metadata": {},
   "source": [
    "#### Problem 6\n",
    "\n",
    "The following Python statement,\n",
    "\n",
    "`result = round(2./3.; -1)`\n",
    "\n",
    "is an example of a:\n",
    "\n",
    "a) Semantic Error\n",
    "\n",
    "b) Program Bug\n",
    "\n",
    "c) Syntax Error\n",
    "\n",
    "d) All of the Above\n",
    "\n",
    "e) None of the Above"
   ]
  },
  {
   "cell_type": "code",
   "execution_count": null,
   "metadata": {
    "collapsed": true
   },
   "outputs": [],
   "source": [
    "problem6 = '' # 'a', 'b', 'c', 'd', or 'e'"
   ]
  },
  {
   "cell_type": "markdown",
   "metadata": {},
   "source": [
    "#### Problem 7\n",
    "\n",
    "Which of the following types of memory are optimized for *capacity*:\n",
    "\n",
    "a) Internal Memory\n",
    "\n",
    "b) Main Memory\n",
    "\n",
    "c) Firmware\n",
    "\n",
    "d) Hard drive\n",
    "\n",
    "e) DVD-ROM"
   ]
  },
  {
   "cell_type": "code",
   "execution_count": null,
   "metadata": {
    "collapsed": true
   },
   "outputs": [],
   "source": [
    "problem7 = '' # 'abe', 'a', etc"
   ]
  },
  {
   "cell_type": "markdown",
   "metadata": {},
   "source": [
    "#### Problem 8\n",
    "\n",
    "Which of the following are *not* valid Python variable names:\n",
    "\n",
    "a) `alpha`\n",
    "\n",
    "b) `zeta`\n",
    "\n",
    "c) `sigma`\n",
    "\n",
    "d) `lambda`\n",
    "\n",
    "e) `epsilon`"
   ]
  },
  {
   "cell_type": "code",
   "execution_count": null,
   "metadata": {
    "collapsed": true
   },
   "outputs": [],
   "source": [
    "problem8 = '' # 'abe', 'a', etc"
   ]
  },
  {
   "cell_type": "markdown",
   "metadata": {},
   "source": [
    "#### Problem 9\n",
    "\n",
    "(True/False) Augmented assignment combines arithmetic binary operators and assignment."
   ]
  },
  {
   "cell_type": "code",
   "execution_count": null,
   "metadata": {
    "collapsed": true
   },
   "outputs": [],
   "source": [
    "problem9 = None # True or False"
   ]
  },
  {
   "cell_type": "markdown",
   "metadata": {},
   "source": [
    "#### Problem 10\n",
    "\n",
    "In lecture it was stated that memory identifiers in Python are *necessarily* unique. Which of the following is an equivalent statement?\n",
    "\n",
    "a) All variables can only refer to a single unique memory identifier.\n",
    "\n",
    "b) Each memory identifier refers to a single unique area in system memory.\n",
    "\n",
    "c) Repetition of memory identifiers would be unnecessary."
   ]
  },
  {
   "cell_type": "code",
   "execution_count": null,
   "metadata": {
    "collapsed": true
   },
   "outputs": [],
   "source": [
    "problem10 = '' # 'a', 'b', or 'c'"
   ]
  }
 ],
 "metadata": {
  "kernelspec": {
   "display_name": "Python 3",
   "language": "python",
   "name": "python3"
  },
  "language_info": {
   "codemirror_mode": {
    "name": "ipython",
    "version": 3
   },
   "file_extension": ".py",
   "mimetype": "text/x-python",
   "name": "python",
   "nbconvert_exporter": "python",
   "pygments_lexer": "ipython3",
   "version": "3.5.3"
  }
 },
 "nbformat": 4,
 "nbformat_minor": 1
}
