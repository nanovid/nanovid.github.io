{
 "cells": [
  {
   "cell_type": "markdown",
   "metadata": {},
   "source": [
    "# Exercise 7\n",
    "\n",
    "**It is highly recommended to read Sections 13.1 and 13.2 of the main course textbook before completing this exercise.**\n",
    "\n",
    "Create a Python module `searching.py` that contains the follow functions:\n",
    "\n",
    "* `linear_search(l, item, issorted=False)` -- where `l` is a list of numeric values, `item` is a numeric value to search for in the list, and `issorted` is `True` if list is sorted from least to greatest. The function returns the *index* into the list corresponding to value of `item` and `None` if the value is not present in the list. The *linear search* (Sec 13.1) method is to be used for searching for the value. \n",
    "* `binary_search(l, item, issorted=False)` -- where `l` is a list of numeric values, `item` is a numeric value to search for in the list, and `issorted` is `True` if list sorted from least to greatest. The function returns the *index* into the list corresponding to value of `item` and `None` if the value is not present in the list. The *binary search* (Sec 13.2) method is to be used for searching for the value.\n",
    "\n",
    "where each function returns the `None` value if invalid input arguments were provided. You may *only* use the following methods of the `list` class: `list.copy()` and `list.sort()`. "
   ]
  },
  {
   "cell_type": "code",
   "execution_count": null,
   "metadata": {},
   "outputs": [],
   "source": []
  }
 ],
 "metadata": {
  "kernelspec": {
   "display_name": "Python 3",
   "language": "python",
   "name": "python3"
  },
  "language_info": {
   "codemirror_mode": {
    "name": "ipython",
    "version": 3
   },
   "file_extension": ".py",
   "mimetype": "text/x-python",
   "name": "python",
   "nbconvert_exporter": "python",
   "pygments_lexer": "ipython3",
   "version": "3.6.7"
  }
 },
 "nbformat": 4,
 "nbformat_minor": 1
}
